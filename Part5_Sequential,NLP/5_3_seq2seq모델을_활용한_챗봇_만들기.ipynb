{
 "cells": [
  {
   "cell_type": "markdown",
   "metadata": {
    "id": "-ggNKq4cdxDr"
   },
   "source": [
    "# Seq2Seq 모델을 활용한 챗봇 생성"
   ]
  },
  {
   "cell_type": "markdown",
   "metadata": {
    "id": "Iay72EBedxDs"
   },
   "source": [
    "## STEP 1. Seq2Seq 모델의 개요"
   ]
  },
  {
   "cell_type": "markdown",
   "metadata": {
    "id": "A5OoHUgCgw2F"
   },
   "source": [
    "### 문제 01. seq2seq 모델의 구조에 대한 이해\n",
    "\n",
    "- encoder & decoder 구조\n",
    "- 데이터 셋의 구성\n",
    "- context vector"
   ]
  },
  {
   "cell_type": "code",
   "execution_count": 1,
   "metadata": {
    "colab": {
     "base_uri": "https://localhost:8080/",
     "height": 212
    },
    "executionInfo": {
     "elapsed": 1339,
     "status": "ok",
     "timestamp": 1630499957851,
     "user": {
      "displayName": "상혁",
      "photoUrl": "https://lh3.googleusercontent.com/a-/AOh14GhbIrRm98j_8TFO0cp-Q8R4GfLfDeQZml3g34kD=s64",
      "userId": "09602093014858836852"
     },
     "user_tz": -540
    },
    "id": "HTMGVydFdxDs",
    "outputId": "63a5767d-f4a2-4c0b-a517-53fdda582975"
   },
   "outputs": [
    {
     "data": {
      "image/png": "[encoded data removed]",
      "text/plain": [
       "<IPython.core.display.Image object>"
      ]
     },
     "execution_count": 1,
     "metadata": {},
     "output_type": "execute_result"
    }
   ],
   "source": [
    "from IPython.display import Image\n",
    "\n",
    "Image('https://wikidocs.net/images/page/24996/%EC%9D%B8%EC%BD%94%EB%8D%94%EB%94%94%EC%BD%94%EB%8D%94%EB%AA%A8%EB%8D%B8.PNG')"
   ]
  },
  {
   "cell_type": "markdown",
   "metadata": {
    "id": "UBwHP5uOdxDs"
   },
   "source": [
    "### 문제 02. 데이터셋에 필요한 라이브러리를 다운로드 받습니다."
   ]
  },
  {
   "cell_type": "markdown",
   "metadata": {
    "id": "ft3-FND8dxDt"
   },
   "source": [
    "`Korpora`는 한글 자연어처리 데이터)셋입니다.\n",
    "\n",
    "- [깃헙 주소 링크](https://github.com/ko-nlp/Korpora)\n",
    "- [공식 도큐먼트](https://pypi.org/project/Korpora/)"
   ]
  },
  {
   "cell_type": "markdown",
   "metadata": {
    "id": "_4abEgfIdxDt"
   },
   "source": [
    "설치 명령어"
   ]
  },
  {
   "cell_type": "markdown",
   "metadata": {
    "id": "HMa5kXSrdxDt"
   },
   "source": [
    "- 이 중 챗봇용 데이터셋인 `KoreanChatbotKorpus`를 다운로드 받습니다.\n",
    "- `KoreanChatbotKorpus` 데이터셋을 활용하여 챗봇 모델을 학습합니다.\n",
    "- text, pair로 구성되어 있습니다.\n",
    "- 질의는 **text**, 답변은 **pair**입니다."
   ]
  },
  {
   "cell_type": "markdown",
   "metadata": {
    "id": "BPdBMDJlwHOS"
   },
   "source": [
    "### 문제 03. Korpora의 챗봇 데이터를 import 합니다."
   ]
  },
  {
   "cell_type": "code",
   "execution_count": 2,
   "metadata": {
    "colab": {
     "base_uri": "https://localhost:8080/",
     "height": 754
    },
    "executionInfo": {
     "elapsed": 11,
     "status": "error",
     "timestamp": 1630499961845,
     "user": {
      "displayName": "상혁",
      "photoUrl": "https://lh3.googleusercontent.com/a-/AOh14GhbIrRm98j_8TFO0cp-Q8R4GfLfDeQZml3g34kD=s64",
      "userId": "09602093014858836852"
     },
     "user_tz": -540
    },
    "id": "EJ1yROOodxDu",
    "outputId": "232cbc3e-e8a0-4859-c655-862bb0cf3ad3"
   },
   "outputs": [
    {
     "name": "stdout",
     "output_type": "stream",
     "text": [
      "\n",
      "    Korpora 는 다른 분들이 연구 목적으로 공유해주신 말뭉치들을\n",
      "    손쉽게 다운로드, 사용할 수 있는 기능만을 제공합니다.\n",
      "\n",
      "    말뭉치들을 공유해 주신 분들에게 감사드리며, 각 말뭉치 별 설명과 라이센스를 공유 드립니다.\n",
      "    해당 말뭉치에 대해 자세히 알고 싶으신 분은 아래의 description 을 참고,\n",
      "    해당 말뭉치를 연구/상용의 목적으로 이용하실 때에는 아래의 라이센스를 참고해 주시기 바랍니다.\n",
      "\n",
      "    # Description\n",
      "    Author : songys@github\n",
      "    Repository : https://github.com/songys/Chatbot_data\n",
      "    References :\n",
      "\n",
      "    Chatbot_data_for_Korean v1.0\n",
      "      1. 챗봇 트레이닝용 문답 페어 11,876개\n",
      "      2. 일상다반사 0, 이별(부정) 1, 사랑(긍정) 2로 레이블링\n",
      "    자세한 내용은 위의 repository를 참고하세요.\n",
      "\n",
      "    # License\n",
      "    CC0 1.0 Universal (CC0 1.0) Public Domain Dedication\n",
      "    Details in https://creativecommons.org/publicdomain/zero/1.0/\n",
      "\n",
      "[Korpora] Corpus `korean_chatbot_data` is already installed at C:\\Users\\상혁\\Korpora\\korean_chatbot_data\\ChatbotData.csv\n"
     ]
    }
   ],
   "source": [
    "from Korpora import Korpora\n",
    "from Korpora import KoreanChatbotKorpus\n",
    "\n",
    "# 코드를 입력하세요\n",
    "Korpora.corpus_list()\n",
    "\n",
    "'''HTTP error Korpora 내 csv 경로 바꿔줘야 함'''\n",
    "# corpus = Korpora.load(\"korean_chatbot_data\") \n",
    "corpus = KoreanChatbotKorpus()               \n"
   ]
  },
  {
   "cell_type": "markdown",
   "metadata": {
    "id": "5opBY8yrdxDu"
   },
   "source": [
    "예시 텍스트를 보면 구어체로 구성되어 있습니다."
   ]
  },
  {
   "cell_type": "markdown",
   "metadata": {
    "id": "8F4CO4GnOLS0"
   },
   "source": [
    "데이터셋 확인"
   ]
  },
  {
   "cell_type": "code",
   "execution_count": 3,
   "metadata": {
    "id": "koQmrUxOPOmf"
   },
   "outputs": [
    {
     "data": {
      "text/plain": [
       "['12시 땡!', '1지망 학교 떨어졌어', '3박4일 놀러가고 싶다', '3박4일 정도 놀러가고 싶다', 'PPL 심하네']"
      ]
     },
     "execution_count": 3,
     "metadata": {},
     "output_type": "execute_result"
    }
   ],
   "source": [
    "# 질문\n",
    "corpus.get_all_texts()[:5]"
   ]
  },
  {
   "cell_type": "code",
   "execution_count": 4,
   "metadata": {
    "id": "CwscPmwgdxDu"
   },
   "outputs": [
    {
     "name": "stdout",
     "output_type": "stream",
     "text": [
      "('하루가 또 가네요.', '위로해 드립니다.', '여행은 언제나 좋죠.', '여행은 언제나 좋죠.', '눈살이 찌푸려지죠.')\n"
     ]
    },
    {
     "data": {
      "text/plain": [
       "tuple"
      ]
     },
     "execution_count": 4,
     "metadata": {},
     "output_type": "execute_result"
    }
   ],
   "source": [
    "# 답변\n",
    "print(corpus.get_all_pairs()[:5])\n",
    "type(corpus.get_all_pairs())\n"
   ]
  },
  {
   "cell_type": "markdown",
   "metadata": {
    "id": "0qkxF9uEdxDv"
   },
   "source": [
    "## STEP 2. 데이터 전처리"
   ]
  },
  {
   "cell_type": "markdown",
   "metadata": {
    "id": "A8ri7fDUwO8c"
   },
   "source": [
    "### 문제 04. quenstion 데이터셋과 answer 데이터셋 분리"
   ]
  },
  {
   "cell_type": "markdown",
   "metadata": {
    "id": "JKWVS48VdxDv"
   },
   "source": [
    "**question**과 **answer**를 분리합니다.\n",
    "\n",
    "**question**은 질의로 활용될 데이터셋, **answer**는 답변으로 활용될 데이터 셋입니다."
   ]
  },
  {
   "cell_type": "code",
   "execution_count": 5,
   "metadata": {
    "id": "Yne75jOgdxDv"
   },
   "outputs": [],
   "source": [
    "texts = []\n",
    "pairs = []\n",
    "\n",
    "# 코드를 입력하세요\n",
    "for text, pair in zip(corpus.get_all_texts(), corpus.get_all_pairs()):\n",
    "    texts.append(text)\n",
    "    pairs.append(pair)"
   ]
  },
  {
   "cell_type": "code",
   "execution_count": 6,
   "metadata": {
    "id": "fAKrBxD1dxDv"
   },
   "outputs": [
    {
     "data": {
      "text/plain": [
       "[('12시 땡!', '하루가 또 가네요.'),\n",
       " ('1지망 학교 떨어졌어', '위로해 드립니다.'),\n",
       " ('3박4일 놀러가고 싶다', '여행은 언제나 좋죠.'),\n",
       " ('3박4일 정도 놀러가고 싶다', '여행은 언제나 좋죠.'),\n",
       " ('PPL 심하네', '눈살이 찌푸려지죠.')]"
      ]
     },
     "execution_count": 6,
     "metadata": {},
     "output_type": "execute_result"
    }
   ],
   "source": [
    "list(zip(texts, pairs))[:5]"
   ]
  },
  {
   "cell_type": "markdown",
   "metadata": {
    "id": "lMqdaHg4dxDv"
   },
   "source": [
    "### 문제 05. 특수문자는 제거합니다."
   ]
  },
  {
   "cell_type": "markdown",
   "metadata": {
    "id": "fXxfmSf_dxDw"
   },
   "source": [
    "**한글과 숫자를 제외한 특수문자를 제거**하도록 합니다.\n",
    "\n",
    "\n",
    "[참고] 튜토리얼에서는 특수문자와 영문자를 제거하나, 실제 프로젝트에 적용해보기 위해서는 신중히 결정해야합니다\n",
    "\n",
    "*챗봇 대화에서 영어도 많이 사용되고, 특수문자도 굉장히 많이 사용됩니다. 따라서, 선택적으로 제거할 특수기호나 영문자를 정의한 후에 전처리를 진행하야합니다.*"
   ]
  },
  {
   "cell_type": "code",
   "execution_count": 7,
   "metadata": {
    "id": "HQGtKQL3dxDw"
   },
   "outputs": [],
   "source": [
    "# re 모듈은 regex expression을 적용하기 위하여 활용합니다.\n",
    "import re"
   ]
  },
  {
   "cell_type": "code",
   "execution_count": 8,
   "metadata": {
    "id": "ociO_uPCdxDw"
   },
   "outputs": [],
   "source": [
    "def clean_sentence(sentence):\n",
    "    # 한글, 숫자를 제외한 모든 문자는 제거합니다.\n",
    "    # 코드를 입력하세요\n",
    "    sentence = re.sub(r'[^0-9ㄱ-ㅎㅏ-ㅣ가-힣 ]',r'', sentence)\n",
    "    return sentence"
   ]
  },
  {
   "cell_type": "markdown",
   "metadata": {
    "id": "viW_yTWYdxDw"
   },
   "source": [
    "**적용한 예시**\n",
    "\n",
    "한글, 숫자 이외의 모든 문자를 전부 제거됨을 확인할 수 있습니다."
   ]
  },
  {
   "cell_type": "code",
   "execution_count": 9,
   "metadata": {
    "id": "8addNjEkdxDw"
   },
   "outputs": [
    {
     "data": {
      "text/plain": [
       "'12시 땡'"
      ]
     },
     "execution_count": 9,
     "metadata": {},
     "output_type": "execute_result"
    }
   ],
   "source": [
    "clean_sentence('12시 땡^^!??')"
   ]
  },
  {
   "cell_type": "code",
   "execution_count": 10,
   "metadata": {
    "id": "luGFOsVMdxDw"
   },
   "outputs": [
    {
     "data": {
      "text/plain": [
       "'가나다12시 땡'"
      ]
     },
     "execution_count": 10,
     "metadata": {},
     "output_type": "execute_result"
    }
   ],
   "source": [
    "clean_sentence('abcef가나다^^$%@12시 땡^^!??')"
   ]
  },
  {
   "cell_type": "markdown",
   "metadata": {
    "id": "4TYCMUC5dxDx"
   },
   "source": [
    "### 문제 06. 한글 형태소 분석기 (Konlpy)"
   ]
  },
  {
   "cell_type": "markdown",
   "metadata": {
    "id": "Q5jA0mZEdxDx"
   },
   "source": [
    "형태소 분석기를 활용하여 문장을 분리합니다."
   ]
  },
  {
   "cell_type": "markdown",
   "metadata": {
    "id": "owSMeXN3dxDx"
   },
   "source": [
    "```가방에 들어가신다 -> 가방/NNG + 에/JKM + 들어가/VV + 시/EPH + ㄴ다/EFN```\n",
    "\n",
    "- **형태소 분석** 이란 형태소를 비롯하여, 어근, 접두사/접미사, 품사(POS, part-of-speech) 등 다양한 언어적 속성의 구조를 파악하는 것입니다.\n",
    "- **konlpy 형태소 분석기를 활용**하여 한글 문장에 대한 토큰화처리를 보다 효율적으로 처리합니다.\n",
    "\n",
    "\n",
    "\n",
    "[공식 도큐먼트](https://konlpy-ko.readthedocs.io/ko/v0.4.3/morph/)"
   ]
  },
  {
   "cell_type": "markdown",
   "metadata": {
    "id": "az7bZjTmdxDx"
   },
   "source": [
    "**설치**"
   ]
  },
  {
   "cell_type": "markdown",
   "metadata": {
    "id": "64h11Yq2dxDx"
   },
   "source": [
    "konlpy 내부에는 Kkma, Okt, Twitter 등등의 형태소 분석기가 존재하지만, 이번 튜토리얼에서는 Okt를 활용하도록 하겠습니다.\n",
    "\n",
    "원 강의는 Okt지만 자바 이슈로 그냥 Mecab 사용했습니다."
   ]
  },
  {
   "cell_type": "code",
   "execution_count": 11,
   "metadata": {
    "id": "Otm0rw1HdxDy"
   },
   "outputs": [],
   "source": [
    "from konlpy.tag import Mecab"
   ]
  },
  {
   "cell_type": "code",
   "execution_count": 12,
   "metadata": {
    "id": "3YQyXtGNdxDy"
   },
   "outputs": [],
   "source": [
    "# Okt 토크나이저 객체를 생성합니다.\n",
    "# 코드를 입력하세요\n",
    "mecab = Mecab('C:\\mecab\\mecab-ko-dic')"
   ]
  },
  {
   "cell_type": "code",
   "execution_count": 13,
   "metadata": {
    "id": "Iab8xa-PdxDy"
   },
   "outputs": [],
   "source": [
    "# 형태소 변환에 활용하는 함수\n",
    "# morphs 함수 안에 변환한 한글 문장을 입력 합니다.\n",
    "def process_morph(sentence):\n",
    "    return ' '.join(mecab.morphs(sentence))"
   ]
  },
  {
   "cell_type": "code",
   "execution_count": 14,
   "metadata": {},
   "outputs": [
    {
     "data": {
      "text/plain": [
       "'한글 은 홀소리 와 닿소리 모두 소리틀 을 본떠 만든 음소 문자 [ 1 ] 로 한글 맞춤법 에서 는 닿소리 14 개 와 홀소리 10 개 , 모두 24 개 를 표준 으로 삼 는다 . \" 나 랏 말 이 중국 과 달라 \" 문제 를 느낀 조선 의 세종 대왕 이 한국어 는 물론 이웃 나라 말 까지 나타내 도록 1443 년 창제 하 여 1446 년 반포 하 였 다 .'"
      ]
     },
     "execution_count": 14,
     "metadata": {},
     "output_type": "execute_result"
    }
   ],
   "source": [
    "process_morph('한글은 홀소리와 닿소리 모두 소리틀을 본떠 만든 음소문자[1]로 한글 맞춤법에서는 닿소리 14개와 홀소리 10개, 모두 24개를 표준으로 삼는다. \"나랏말이 중국과 달라\" 문제를 느낀 조선의 세종대왕이 한국어는 물론 이웃나라 말까지 나타내도록 1443년 창제하여 1446년 반포하였다. ')"
   ]
  },
  {
   "cell_type": "markdown",
   "metadata": {
    "id": "jJiMmY55w7VK"
   },
   "source": [
    "## STEP 3. 데이터셋 구성"
   ]
  },
  {
   "cell_type": "markdown",
   "metadata": {
    "id": "0TSofap7xBuz"
   },
   "source": [
    "### 문제 07. Seq2Seq 학습을 위한 데이터셋 구성"
   ]
  },
  {
   "cell_type": "markdown",
   "metadata": {
    "id": "qfJ9TiNldxDy"
   },
   "source": [
    "**Seq2Seq** 모델이 학습하기 위한 데이터셋을 구성할 때, 다음과 같이 **3가지 데이터셋**을 구성합니다.\n",
    "\n",
    "- `question`: encoder input 데이터셋 (질의 전체)\n",
    "- `answer_input`: decoder input 데이터셋 (답변의 시작). START 토큰을 문장 처음에 추가 합니다.\n",
    "- `answer_output`: decoder output 데이터셋 (답변의 끝). END 토큰을 문장 마지막에 추가 합니다."
   ]
  },
  {
   "cell_type": "code",
   "execution_count": 15,
   "metadata": {
    "id": "ZFV7yQggdxDy"
   },
   "outputs": [],
   "source": [
    "def clean_and_morph(sentence, is_question=True):\n",
    "    # 한글 문장 전처리\n",
    "    # 코드를 입력하세요\n",
    "    sentence = clean_sentence(sentence)\n",
    "    # 형태소 변환\n",
    "    # 코드를 입력하세요\n",
    "    sentence = process_morph(sentence)\n",
    "    # Question 인 경우, Answer인 경우를 분기하여 처리합니다.\n",
    "    if is_question:\n",
    "        return sentence\n",
    "    else:\n",
    "        # START 토큰은 decoder input에 END 토큰은 decoder output에 추가합니다.\n",
    "        # 코드를 입력하세요\n",
    "        return ('<START> '+ sentence, sentence + ' <END>')"
   ]
  },
  {
   "cell_type": "markdown",
   "metadata": {
    "id": "1S_SjPQ5xOy6"
   },
   "source": [
    "### 문제 08. preprocess 함수에서는 `text`와 `pair`에 대한 데이터 셋 구성을 진행합니다."
   ]
  },
  {
   "cell_type": "code",
   "execution_count": 16,
   "metadata": {
    "id": "crgnFV1AdxDz"
   },
   "outputs": [],
   "source": [
    "def preprocess(texts, pairs):\n",
    "    questions = []\n",
    "    answer_in = []\n",
    "    answer_out = []\n",
    "\n",
    "    # 질의에 대한 전처리\n",
    "    for text in texts:\n",
    "        # 전처리와 morph 수행\n",
    "        # 코드를 입력하세요\n",
    "        question = clean_and_morph(text, is_question=True)\n",
    "        questions.append(question)\n",
    "\n",
    "    # 답변에 대한 전처리\n",
    "    for pair in pairs:\n",
    "        # 전처리와 morph 수행\n",
    "        # 코드를 입력하세요\n",
    "        in_, out_ = clean_and_morph(pair, is_question=False)\n",
    "        answer_in.append(in_)\n",
    "        answer_out.append(out_)\n",
    "    \n",
    "    return questions, answer_in, answer_out"
   ]
  },
  {
   "cell_type": "code",
   "execution_count": 17,
   "metadata": {
    "id": "NPQzKJnqdxDz"
   },
   "outputs": [],
   "source": [
    "texts = texts[:1000]\n",
    "pairs = pairs[:1000]\n",
    "questions, answer_in, answer_out = preprocess(texts, pairs)"
   ]
  },
  {
   "cell_type": "code",
   "execution_count": 18,
   "metadata": {
    "id": "6R1v4qThdxDz"
   },
   "outputs": [
    {
     "data": {
      "text/plain": [
       "['12 시 땡',\n",
       " '1 지망 학교 떨어졌 어',\n",
       " '3 박 4 일 놀 러 가 고 싶 다',\n",
       " '3 박 4 일 정도 놀 러 가 고 싶 다',\n",
       " '심하 네']"
      ]
     },
     "execution_count": 18,
     "metadata": {},
     "output_type": "execute_result"
    }
   ],
   "source": [
    "questions[:5]"
   ]
  },
  {
   "cell_type": "code",
   "execution_count": 19,
   "metadata": {
    "id": "4P-wlhGPdxDz"
   },
   "outputs": [
    {
     "data": {
      "text/plain": [
       "['<START> 하루 가 또 가 네요',\n",
       " '<START> 위로 해 드립니다',\n",
       " '<START> 여행 은 언제나 좋 죠',\n",
       " '<START> 여행 은 언제나 좋 죠',\n",
       " '<START> 눈살 이 찌푸려 지 죠']"
      ]
     },
     "execution_count": 19,
     "metadata": {},
     "output_type": "execute_result"
    }
   ],
   "source": [
    "answer_in[:5]"
   ]
  },
  {
   "cell_type": "code",
   "execution_count": 20,
   "metadata": {
    "id": "VAiUkA9OdxDz"
   },
   "outputs": [
    {
     "data": {
      "text/plain": [
       "['하루 가 또 가 네요 <END>',\n",
       " '위로 해 드립니다 <END>',\n",
       " '여행 은 언제나 좋 죠 <END>',\n",
       " '여행 은 언제나 좋 죠 <END>',\n",
       " '눈살 이 찌푸려 지 죠 <END>']"
      ]
     },
     "execution_count": 20,
     "metadata": {},
     "output_type": "execute_result"
    }
   ],
   "source": [
    "answer_out[:5]"
   ]
  },
  {
   "cell_type": "markdown",
   "metadata": {
    "id": "Xx6G3-32xc6w"
   },
   "source": [
    "### 문제 09. `all_sentences` 변수에 모든 데이터셋 문장을 합칩니다."
   ]
  },
  {
   "cell_type": "markdown",
   "metadata": {
    "id": "Zc3aTpP_xja-"
   },
   "source": [
    "합치는 이유는 모든 문장을 합쳐서 토큰화를 진행하기 위함입니다."
   ]
  },
  {
   "cell_type": "code",
   "execution_count": 21,
   "metadata": {
    "id": "PM0Z-lEAdxDz"
   },
   "outputs": [],
   "source": [
    "# 코드를 입력하세요\n",
    "all_sentences = questions + answer_in + answer_out"
   ]
  },
  {
   "cell_type": "code",
   "execution_count": 22,
   "metadata": {
    "id": "o6RirVQPdxDz"
   },
   "outputs": [
    {
     "data": {
      "text/plain": [
       "1756"
      ]
     },
     "execution_count": 22,
     "metadata": {},
     "output_type": "execute_result"
    }
   ],
   "source": [
    "# 코드를 입력하세요\n",
    "a = (' '.join(questions) + ' '.join(answer_in) + ' '.join(answer_out)).split()\n",
    "len(set(a))"
   ]
  },
  {
   "cell_type": "markdown",
   "metadata": {
    "id": "b9VrosgvdxD0"
   },
   "source": [
    "## STEP 4. 토큰화 (Tokenizer)"
   ]
  },
  {
   "cell_type": "code",
   "execution_count": 23,
   "metadata": {
    "id": "hxgX7BzSdxD0"
   },
   "outputs": [],
   "source": [
    "import numpy as np\n",
    "import warnings\n",
    "import tensorflow as tf\n",
    "\n",
    "from tensorflow.keras.preprocessing.text import Tokenizer\n",
    "from tensorflow.keras.preprocessing.sequence import pad_sequences\n",
    "\n",
    "# WARNING 무시\n",
    "warnings.filterwarnings('ignore')"
   ]
  },
  {
   "cell_type": "markdown",
   "metadata": {
    "id": "imZynPXTx7KX"
   },
   "source": [
    "### 문제 10. 토근의 option을 정의 합니다.\n",
    "\n",
    "- filter는 ''로 지정합니다. \n",
    "- lower는 False로 지정합니다.\n",
    "- oov_token은 '<OOV>'로 지정합니다."
   ]
  },
  {
   "cell_type": "markdown",
   "metadata": {
    "id": "WpHQZgXNdxD0"
   },
   "source": [
    "**토큰의 정의**"
   ]
  },
  {
   "cell_type": "code",
   "execution_count": 24,
   "metadata": {
    "id": "T64bShSydxD0"
   },
   "outputs": [],
   "source": [
    "# 코드를 입력하세요\n",
    "tokenizer = Tokenizer(filters='', lower=False, oov_token='<OOV>')"
   ]
  },
  {
   "cell_type": "markdown",
   "metadata": {
    "id": "WXX-jHRdyOP5"
   },
   "source": [
    "### 문제 11. 단어 사전을 만듭니다."
   ]
  },
  {
   "cell_type": "markdown",
   "metadata": {
    "id": "-SglFhzjdxD0"
   },
   "source": [
    "**Tokenizer**로 문장에 대한 Word-Index Vocabulary(단어 사전)을 만듭니다."
   ]
  },
  {
   "cell_type": "code",
   "execution_count": 25,
   "metadata": {
    "id": "5Jm3j8YadxD0"
   },
   "outputs": [],
   "source": [
    "# 코드를 입력하세요\n",
    "tokenizer.fit_on_texts(all_sentences)"
   ]
  },
  {
   "cell_type": "markdown",
   "metadata": {
    "id": "AZ5t4QKydxD0"
   },
   "source": [
    "**단어 사전 10개 출력**"
   ]
  },
  {
   "cell_type": "code",
   "execution_count": 26,
   "metadata": {
    "id": "h9e3ZjBudxD1"
   },
   "outputs": [
    {
     "name": "stdout",
     "output_type": "stream",
     "text": [
      "<OOV>\t\t => \t1\n",
      "<START>\t\t => \t2\n",
      "<END>\t\t => \t3\n",
      "하\t\t => \t4\n",
      "세요\t\t => \t5\n",
      "이\t\t => \t6\n",
      "는\t\t => \t7\n",
      "을\t\t => \t8\n",
      "나\t\t => \t9\n",
      "가\t\t => \t10\n",
      "거\t\t => \t11\n"
     ]
    }
   ],
   "source": [
    "for word, idx in tokenizer.word_index.items():\n",
    "    print(f'{word}\\t\\t => \\t{idx}')\n",
    "    if idx > 10:\n",
    "        break"
   ]
  },
  {
   "cell_type": "markdown",
   "metadata": {
    "id": "tKRMzy-y0GA8"
   },
   "source": [
    "### 문제 12. 토큰의 갯수 지정"
   ]
  },
  {
   "cell_type": "markdown",
   "metadata": {
    "id": "auMa_FfzdxD1"
   },
   "source": [
    "**토큰의 갯수 확인**"
   ]
  },
  {
   "cell_type": "code",
   "execution_count": 27,
   "metadata": {
    "id": "Nk7Rfl3AdxD1"
   },
   "outputs": [
    {
     "data": {
      "text/plain": [
       "1756"
      ]
     },
     "execution_count": 27,
     "metadata": {},
     "output_type": "execute_result"
    }
   ],
   "source": [
    "# VOCAB_SIZE 변수에 토큰의 단어 사전의 갯수를 입력합니다.\n",
    "# 코드를 입력하세요\n",
    "VOCAB_SIZE = len(tokenizer.word_index) + 1 # for padding\n",
    "VOCAB_SIZE"
   ]
  },
  {
   "cell_type": "markdown",
   "metadata": {
    "id": "Ybduw-HedxD1"
   },
   "source": [
    "### 문제 13. 치환: 텍스트를 시퀀스로 인코딩 (`texts_to_sequences`)"
   ]
  },
  {
   "cell_type": "code",
   "execution_count": 28,
   "metadata": {
    "id": "kV0p7p7VdxD1"
   },
   "outputs": [],
   "source": [
    "# 코드를 입력하세요\n",
    "question_sequence = tokenizer.texts_to_sequences(questions)\n",
    "answer_in_sequence = tokenizer.texts_to_sequences(answer_in)\n",
    "answer_out_sequence = tokenizer.texts_to_sequences(answer_out)"
   ]
  },
  {
   "cell_type": "code",
   "execution_count": 29,
   "metadata": {},
   "outputs": [
    {
     "data": {
      "text/plain": [
       "('12 시 땡', [1327, 86, 1328])"
      ]
     },
     "execution_count": 29,
     "metadata": {},
     "output_type": "execute_result"
    }
   ],
   "source": [
    "questions[0], question_sequence[0]"
   ]
  },
  {
   "cell_type": "code",
   "execution_count": 30,
   "metadata": {},
   "outputs": [
    {
     "data": {
      "text/plain": [
       "1328"
      ]
     },
     "execution_count": 30,
     "metadata": {},
     "output_type": "execute_result"
    }
   ],
   "source": [
    "tokenizer.word_index['땡']"
   ]
  },
  {
   "cell_type": "markdown",
   "metadata": {
    "id": "3Y1HNPGndxD1"
   },
   "source": [
    "### 문제 14. 문장의 길이 맞추기 (`pad_sequences`)"
   ]
  },
  {
   "cell_type": "markdown",
   "metadata": {
    "id": "xp3eupZgyliG"
   },
   "source": [
    "`pad_sequences`를 활용하여 문장의 길이를 맞춰 줍니다."
   ]
  },
  {
   "cell_type": "code",
   "execution_count": 31,
   "metadata": {
    "id": "OdhUgUc_dxD1"
   },
   "outputs": [],
   "source": [
    "# 최대 문자의 토큰 갯수는 30개로 지정합니다.\n",
    "MAX_LENGTH = 30\n",
    "TRUNCATING = 'post'\n",
    "PADDING = 'post'"
   ]
  },
  {
   "cell_type": "code",
   "execution_count": 32,
   "metadata": {
    "id": "o1VwlFM3dxD2"
   },
   "outputs": [],
   "source": [
    "# 코드를 입력 하세요\n",
    "question_padded = pad_sequences(question_sequence, maxlen=MAX_LENGTH, truncating=TRUNCATING, padding=PADDING)\n",
    "answer_in_padded = pad_sequences(answer_in_sequence, maxlen=MAX_LENGTH, truncating=TRUNCATING, padding=PADDING)\n",
    "answer_out_padded = pad_sequences(answer_out_sequence, maxlen=MAX_LENGTH, truncating=TRUNCATING, padding=PADDING)"
   ]
  },
  {
   "cell_type": "markdown",
   "metadata": {
    "id": "hL4SGOghy3gD"
   },
   "source": [
    "변환된 데이터 셋의 shape를 확인합니다."
   ]
  },
  {
   "cell_type": "code",
   "execution_count": 33,
   "metadata": {
    "id": "F01y9olHdxD2"
   },
   "outputs": [
    {
     "data": {
      "text/plain": [
       "(1000, 30)"
      ]
     },
     "execution_count": 33,
     "metadata": {},
     "output_type": "execute_result"
    }
   ],
   "source": [
    "question_padded.shape"
   ]
  },
  {
   "cell_type": "code",
   "execution_count": 34,
   "metadata": {
    "id": "x0siuIXzdxD2"
   },
   "outputs": [
    {
     "data": {
      "text/plain": [
       "((1000, 30), (1000, 30))"
      ]
     },
     "execution_count": 34,
     "metadata": {},
     "output_type": "execute_result"
    }
   ],
   "source": [
    "answer_in_padded.shape, answer_out_padded.shape"
   ]
  },
  {
   "cell_type": "code",
   "execution_count": 35,
   "metadata": {},
   "outputs": [
    {
     "data": {
      "text/plain": [
       "array([[1327,   86, 1328,    0,    0,    0,    0,    0,    0,    0,    0,\n",
       "           0,    0,    0,    0,    0,    0,    0,    0,    0,    0,    0,\n",
       "           0,    0,    0,    0,    0,    0,    0,    0],\n",
       "       [ 840, 1329, 1330,  918,   13,    0,    0,    0,    0,    0,    0,\n",
       "           0,    0,    0,    0,    0,    0,    0,    0,    0,    0,    0,\n",
       "           0,    0,    0,    0,    0,    0,    0,    0],\n",
       "       [ 391,  919,  920,   71,  147,  200,   10,   16,   39,   34,    0,\n",
       "           0,    0,    0,    0,    0,    0,    0,    0,    0,    0,    0,\n",
       "           0,    0,    0,    0,    0,    0,    0,    0],\n",
       "       [ 391,  919,  920,   71,  921,  147,  200,   10,   16,   39,   34,\n",
       "           0,    0,    0,    0,    0,    0,    0,    0,    0,    0,    0,\n",
       "           0,    0,    0,    0,    0,    0,    0,    0],\n",
       "       [1331,   93,    0,    0,    0,    0,    0,    0,    0,    0,    0,\n",
       "           0,    0,    0,    0,    0,    0,    0,    0,    0,    0,    0,\n",
       "           0,    0,    0,    0,    0,    0,    0,    0]])"
      ]
     },
     "execution_count": 35,
     "metadata": {},
     "output_type": "execute_result"
    }
   ],
   "source": [
    "question_padded[:5]"
   ]
  },
  {
   "cell_type": "markdown",
   "metadata": {
    "id": "iMY1xxFa0hUg"
   },
   "source": [
    "## STEP 5. 데이터셋 변환 함수 정의"
   ]
  },
  {
   "cell_type": "markdown",
   "metadata": {
    "id": "jv2MLohkdxD4"
   },
   "source": [
    "### 문제 15. 단어별 원핫인코딩 적용\n",
    "\n",
    "단어별 원핫인코딩을 적용하는 이유는 decoder의 output(출력)을 원핫인코딩 vector로 변환하기 위함"
   ]
  },
  {
   "cell_type": "code",
   "execution_count": 36,
   "metadata": {
    "id": "pe6My-e6dxD4"
   },
   "outputs": [],
   "source": [
    "def convert_to_one_hot(padded):\n",
    "    # 원핫인코딩 초기화\n",
    "    one_hot_vector = np.zeros((len(padded), MAX_LENGTH, VOCAB_SIZE))\n",
    "    # 디코더 목표를 원핫인코딩으로 변환\n",
    "    # 학습시 입력은 인덱스이지만, 출력은 원핫인코딩 형식임\n",
    "    for i, sequence in enumerate(padded):\n",
    "        for j, index in enumerate(sequence):\n",
    "            one_hot_vector[i, j, index] = 1\n",
    "\n",
    "    \n",
    "\n",
    "    return one_hot_vector"
   ]
  },
  {
   "cell_type": "code",
   "execution_count": 37,
   "metadata": {
    "id": "fWU_9by8dxD4"
   },
   "outputs": [],
   "source": [
    "# RAM 용량이 초과하는 경우 세션이 다운될 수 있습니다.\n",
    "# 그럴때는 학습 세트의 전체 사이즈를 줄여주세요.\n",
    "answer_in_one_hot = convert_to_one_hot(answer_in_padded)\n",
    "answer_out_one_hot = convert_to_one_hot(answer_out_padded)"
   ]
  },
  {
   "cell_type": "code",
   "execution_count": 38,
   "metadata": {
    "id": "FozfIPBTdxD4"
   },
   "outputs": [
    {
     "data": {
      "text/plain": [
       "((30, 1756), (30, 1756))"
      ]
     },
     "execution_count": 38,
     "metadata": {},
     "output_type": "execute_result"
    }
   ],
   "source": [
    "answer_in_one_hot[0].shape, answer_in_one_hot[0].shape"
   ]
  },
  {
   "cell_type": "markdown",
   "metadata": {
    "id": "-FpX53_MdxD5"
   },
   "source": [
    "### 문제 16. 변환된 index를 다시 단어로 변환"
   ]
  },
  {
   "cell_type": "code",
   "execution_count": 39,
   "metadata": {
    "id": "7Djs6RsadxD5"
   },
   "outputs": [],
   "source": [
    "def convert_index_to_text(indexs, end_token): \n",
    "    \n",
    "    sentence = ''\n",
    "    \n",
    "    # 모든 문장에 대해서 반복\n",
    "    for index in indexs:\n",
    "        if index == end_token:\n",
    "            # 끝 단어이므로 예측 중비\n",
    "            break;\n",
    "        # 사전에 존재하는 단어의 경우 단어 추가\n",
    "        if index > 0 and tokenizer.index_word[index] is not None:\n",
    "            sentence += tokenizer.index_word[index]\n",
    "        else:\n",
    "        # 사전에 없는 인덱스면 빈 문자열 추가\n",
    "            sentence += ''\n",
    "            \n",
    "        # 빈칸 추가\n",
    "        sentence += ' '\n",
    "    return sentence"
   ]
  },
  {
   "cell_type": "markdown",
   "metadata": {
    "id": "Pf_g3T1RdxD2"
   },
   "source": [
    "## STEP 6. 모델 생성"
   ]
  },
  {
   "cell_type": "markdown",
   "metadata": {
    "id": "3kY98vN5zCkl"
   },
   "source": [
    "모델 생성을 위한 필요한 모듈을 import 합니다."
   ]
  },
  {
   "cell_type": "code",
   "execution_count": 40,
   "metadata": {
    "id": "7A7JPC6OdxD2"
   },
   "outputs": [],
   "source": [
    "from tensorflow.keras.layers import Embedding, LSTM, Dense, Dropout\n",
    "from tensorflow.keras.models import Model\n",
    "from tensorflow.keras.callbacks import ModelCheckpoint"
   ]
  },
  {
   "cell_type": "markdown",
   "metadata": {
    "id": "a3XQHILadxD2"
   },
   "source": [
    "### 문제 17. 학습용 인코더 (Encoder)"
   ]
  },
  {
   "cell_type": "code",
   "execution_count": 41,
   "metadata": {
    "id": "x_UTWGaodxD2"
   },
   "outputs": [],
   "source": [
    "class Encoder(tf.keras.Model):\n",
    "    def __init__(self, units, vocab_size, embedding_dim, time_steps):\n",
    "        super(Encoder, self).__init__()\n",
    "        # 코드를 입력하세요\n",
    "        self.embedding = Embedding(vocab_size, embedding_dim, input_length=time_steps)\n",
    "        self.dropout = Dropout(0.2)\n",
    "        self.lstm = LSTM(units, return_state =True)\n",
    "        \n",
    "    def call(self, inputs):\n",
    "        # 코드를 입력하세요\n",
    "        x = self.embedding(inputs)\n",
    "        x = self.dropout(x)\n",
    "        x, hidden_state, cell_state = self.lstm(x)\n",
    "        return [hidden_state, cell_state]"
   ]
  },
  {
   "cell_type": "markdown",
   "metadata": {
    "id": "v4hFzCh-dxD3"
   },
   "source": [
    "### 문제 18. 학습용 디코더 (Decoder)"
   ]
  },
  {
   "cell_type": "code",
   "execution_count": 42,
   "metadata": {
    "id": "4WW_fADJdxD3"
   },
   "outputs": [],
   "source": [
    "class Decoder(tf.keras.Model):\n",
    "    def __init__(self, units, vocab_size, embedding_dim, time_steps):\n",
    "        super(Decoder, self).__init__()\n",
    "        # 코드를 입력하세요\n",
    "        self.embedding = Embedding(vocab_size, embedding_dim, input_length=time_steps)\n",
    "        self.dropout = Dropout(0.2)\n",
    "        self.lstm = LSTM(units,\n",
    "                        return_state=True,\n",
    "                        return_sequences=True)\n",
    "        self.dense = Dense(vocab_size, activation='softmax')\n",
    "    \n",
    "    def call(self, inputs, initial_state):\n",
    "        # 코드를 입력하세요\n",
    "        x = self.embedding(inputs)\n",
    "        x = self.dropout(x)\n",
    "        x, hidden_state, cell_state = self.lstm(x, initial_state=initial_state)\n",
    "        x = self.dense(x)\n",
    "\n",
    "        return x, hidden_state, cell_state"
   ]
  },
  {
   "cell_type": "markdown",
   "metadata": {
    "id": "cmXc7Jw8dxD3"
   },
   "source": [
    "### 문제 19. Seq2Seq 모델"
   ]
  },
  {
   "cell_type": "markdown",
   "metadata": {
    "id": "kcGmmcY_zUx3"
   },
   "source": [
    "Seq2Seq 모델은 사전 단계에서 만들어놓은 encoder와 decoder를 활용하여 생성합니다."
   ]
  },
  {
   "cell_type": "code",
   "execution_count": 43,
   "metadata": {
    "id": "lUx38fcsdxD3"
   },
   "outputs": [],
   "source": [
    "class Seq2Seq(tf.keras.Model):\n",
    "    def __init__(self, units, vocab_size, embedding_dim, time_steps, start_token, end_token):\n",
    "        super(Seq2Seq, self).__init__()\n",
    "        # 코드를 입력하세요\n",
    "        self.start_token = start_token\n",
    "        self.end_token = end_token\n",
    "        self.time_steps = time_steps\n",
    "        \n",
    "        self.encoder = Encoder(units, vocab_size, embedding_dim, time_steps)\n",
    "        self.decoder = Decoder(units, vocab_size, embedding_dim, time_steps)\n",
    "\n",
    "    def call(self, inputs, training=True):\n",
    "        if training:\n",
    "            # 코드를 입력하세요\n",
    "            encoder_inputs, decoder_inputs = inputs\n",
    "            context_vector = self.encoder(encoder_inputs)\n",
    "            decoder_outputs, _, _ = self.decoder(inputs=decoder_inputs, initial_state=context_vector)\n",
    "            \n",
    "            return decoder_outputs\n",
    "        else:\n",
    "            # 코드를 입력하세요\n",
    "            context_vector = self.encoder(inputs)\n",
    "            target_seq = tf.constant([[self.start_token]], dtype=tf.float32) \n",
    "            results = tf.TensorArray(tf.int32, self.time_steps)\n",
    "            \n",
    "            for i in tf.range(self.time_steps):\n",
    "                decoder_output, decoder_hidden, decoder_cell = self.decoder(target_seq, initial_state=context_vector)\n",
    "                decoder_output = tf.cast(tf.argmax(decoder_output, axis=-1), dtype=tf.int32)\n",
    "                decoder_output = tf.reshape(decoder_output, shape=(1, 1))\n",
    "                results = results.write(i, decoder_output)\n",
    "                \n",
    "                if decoder_output == self.end_token:\n",
    "                    break\n",
    "                    \n",
    "                target_seq = decoder_output\n",
    "                context_vector = [decoder_hidden, decoder_cell]\n",
    "                \n",
    "            return tf.reshape(results.stack(), shape=(1, self.time_steps))"
   ]
  },
  {
   "cell_type": "markdown",
   "metadata": {
    "id": "PFULTBxcdxD5"
   },
   "source": [
    "## STEP 7. 학습 (Training)"
   ]
  },
  {
   "cell_type": "markdown",
   "metadata": {
    "id": "uTFXrO2T06f4"
   },
   "source": [
    "### 문제 20. 학습을 위한 parameter를 정의하고 체크포인트를 생성합니다."
   ]
  },
  {
   "cell_type": "markdown",
   "metadata": {
    "id": "B_FzbsGvdxD6"
   },
   "source": [
    "**하이퍼 파라미터 정의**"
   ]
  },
  {
   "cell_type": "code",
   "execution_count": 44,
   "metadata": {
    "id": "noiy8uJ-dxD6"
   },
   "outputs": [],
   "source": [
    "BUFFER_SIZE = 1000\n",
    "BATCH_SIZE = 32\n",
    "EMBEDDING_DIM = 100\n",
    "TIME_STEPS = MAX_LENGTH\n",
    "\n",
    "# 코드를 입력하세요\n",
    "START_TOKEN = tokenizer.word_index['<START>']\n",
    "END_TOKEN = tokenizer.word_index['<END>']\n",
    "\n",
    "UNITS = 128\n",
    "\n",
    "# 코드를 입력하세요\n",
    "VOCAB_SIZE = len(tokenizer.word_index)+1\n",
    "DATA_LENGTH = len(questions)\n",
    "SAMPLE_SIZE = 3\n",
    "NUM_EPOCHS = 20"
   ]
  },
  {
   "cell_type": "markdown",
   "metadata": {
    "id": "K6jJEq-mdxD6"
   },
   "source": [
    "**체크포인트 생성**"
   ]
  },
  {
   "cell_type": "code",
   "execution_count": 45,
   "metadata": {
    "id": "dUMtSpCldxD6"
   },
   "outputs": [],
   "source": [
    "checkpoint_path = 'sample-checkpoint.h5'\n",
    "checkpoint = ModelCheckpoint(filepath=checkpoint_path, \n",
    "                             save_best_only=True, \n",
    "                             monitor='loss', \n",
    "                             verbose=1,\n",
    "                             save_weights_only=True\n",
    "                            )"
   ]
  },
  {
   "cell_type": "markdown",
   "metadata": {
    "id": "wQRNjsiCdxD6"
   },
   "source": [
    "### 문제 21. 모델 생성 & compile을 진행합니다."
   ]
  },
  {
   "cell_type": "markdown",
   "metadata": {
    "id": "ccl3jF-w1eQe"
   },
   "source": [
    "optimizer는 `adam`, loss는 `categorical_crossentropy`로 지정합니다."
   ]
  },
  {
   "cell_type": "code",
   "execution_count": 46,
   "metadata": {
    "id": "8DSNFivkdxD7"
   },
   "outputs": [],
   "source": [
    "# 코드를 입력하세요\n",
    "seq2seq = Seq2Seq(UNITS, VOCAB_SIZE, EMBEDDING_DIM, TIME_STEPS, START_TOKEN, END_TOKEN)\n",
    "seq2seq.compile(optimizer='adam', loss='categorical_crossentropy', metrics=['acc'])"
   ]
  },
  {
   "cell_type": "code",
   "execution_count": 47,
   "metadata": {
    "id": "KepR0JJOdxD7"
   },
   "outputs": [],
   "source": [
    "# (필요시) 연속하여 학습시 체크포인트를 로드하여 이어서 학습합니다.\n",
    "# seq2seq.load_weights(checkpoint_path)"
   ]
  },
  {
   "cell_type": "markdown",
   "metadata": {
    "id": "6GpyZ2SH1q_Q"
   },
   "source": [
    "### 문제 22. make_prediction 함수를 정의 합니다. 예측된 결과를 역 출력 해주기 위한 함수입니다."
   ]
  },
  {
   "cell_type": "code",
   "execution_count": 48,
   "metadata": {
    "id": "1YuyKYV3dxD7"
   },
   "outputs": [],
   "source": [
    "def make_prediction(model, question_inputs):\n",
    "    results = model(inputs=question_inputs, training=False)\n",
    "    # 변환된 인덱스를 문장으로 변환\n",
    "    results = np.asarray(results).reshape(-1)\n",
    "    return results"
   ]
  },
  {
   "cell_type": "code",
   "execution_count": 49,
   "metadata": {
    "id": "IE6aDbXMdxD7"
   },
   "outputs": [
    {
     "name": "stdout",
     "output_type": "stream",
     "text": [
      "processing epoch: 1...\n",
      "Epoch 1/10\n",
      "32/32 [==============================] - 5s 28ms/step - loss: 4.7711 - acc: 0.7168\n",
      "\n",
      "Epoch 00001: loss improved from inf to 4.77108, saving model to sample-checkpoint.h5\n",
      "Epoch 2/10\n",
      "32/32 [==============================] - 1s 27ms/step - loss: 1.6708 - acc: 0.7408\n",
      "\n",
      "Epoch 00002: loss improved from 4.77108 to 1.67079, saving model to sample-checkpoint.h5\n",
      "Epoch 3/10\n",
      "32/32 [==============================] - 1s 27ms/step - loss: 1.5588 - acc: 0.7408\n",
      "\n",
      "Epoch 00003: loss improved from 1.67079 to 1.55882, saving model to sample-checkpoint.h5\n",
      "Epoch 4/10\n",
      "32/32 [==============================] - 1s 27ms/step - loss: 1.5235 - acc: 0.7425\n",
      "\n",
      "Epoch 00004: loss improved from 1.55882 to 1.52351, saving model to sample-checkpoint.h5\n",
      "Epoch 5/10\n",
      "32/32 [==============================] - 1s 27ms/step - loss: 1.4657 - acc: 0.7455\n",
      "\n",
      "Epoch 00005: loss improved from 1.52351 to 1.46566, saving model to sample-checkpoint.h5\n",
      "Epoch 6/10\n",
      "32/32 [==============================] - 1s 27ms/step - loss: 1.3891 - acc: 0.7485\n",
      "\n",
      "Epoch 00006: loss improved from 1.46566 to 1.38908, saving model to sample-checkpoint.h5\n",
      "Epoch 7/10\n",
      "32/32 [==============================] - 1s 27ms/step - loss: 1.3422 - acc: 0.7550\n",
      "\n",
      "Epoch 00007: loss improved from 1.38908 to 1.34219, saving model to sample-checkpoint.h5\n",
      "Epoch 8/10\n",
      "32/32 [==============================] - 1s 28ms/step - loss: 1.3089 - acc: 0.7685\n",
      "\n",
      "Epoch 00008: loss improved from 1.34219 to 1.30885, saving model to sample-checkpoint.h5\n",
      "Epoch 9/10\n",
      "32/32 [==============================] - 1s 28ms/step - loss: 1.2817 - acc: 0.7756\n",
      "\n",
      "Epoch 00009: loss improved from 1.30885 to 1.28174, saving model to sample-checkpoint.h5\n",
      "Epoch 10/10\n",
      "32/32 [==============================] - 1s 27ms/step - loss: 1.2589 - acc: 0.7790\n",
      "\n",
      "Epoch 00010: loss improved from 1.28174 to 1.25893, saving model to sample-checkpoint.h5\n",
      "Q: 강아지 키우 고 싶 은데 역시 안 돼 겠지\n",
      "A: 저 하 하 세요 \n",
      "\n",
      "\n",
      "Q: 나 왕따 인 거 같 아\n",
      "A: 저 하 하 세요 \n",
      "\n",
      "\n",
      "Q: 나 오늘 개불 쌍\n",
      "A: 저 하 하 세요 \n",
      "\n",
      "\n",
      "processing epoch: 11...\n",
      "Epoch 1/10\n",
      "32/32 [==============================] - 1s 27ms/step - loss: 1.2375 - acc: 0.7803\n",
      "\n",
      "Epoch 00001: loss improved from 1.25893 to 1.23747, saving model to sample-checkpoint.h5\n",
      "Epoch 2/10\n",
      "32/32 [==============================] - 1s 27ms/step - loss: 1.2186 - acc: 0.7847\n",
      "\n",
      "Epoch 00002: loss improved from 1.23747 to 1.21859, saving model to sample-checkpoint.h5\n",
      "Epoch 3/10\n",
      "32/32 [==============================] - 1s 28ms/step - loss: 1.2012 - acc: 0.7892\n",
      "\n",
      "Epoch 00003: loss improved from 1.21859 to 1.20115, saving model to sample-checkpoint.h5\n",
      "Epoch 4/10\n",
      "32/32 [==============================] - 1s 27ms/step - loss: 1.1845 - acc: 0.7900\n",
      "\n",
      "Epoch 00004: loss improved from 1.20115 to 1.18449, saving model to sample-checkpoint.h5\n",
      "Epoch 5/10\n",
      "32/32 [==============================] - 1s 28ms/step - loss: 1.1690 - acc: 0.7924\n",
      "\n",
      "Epoch 00005: loss improved from 1.18449 to 1.16903, saving model to sample-checkpoint.h5\n",
      "Epoch 6/10\n",
      "32/32 [==============================] - 1s 27ms/step - loss: 1.1529 - acc: 0.7943\n",
      "\n",
      "Epoch 00006: loss improved from 1.16903 to 1.15294, saving model to sample-checkpoint.h5\n",
      "Epoch 7/10\n",
      "32/32 [==============================] - 1s 27ms/step - loss: 1.1388 - acc: 0.7948\n",
      "\n",
      "Epoch 00007: loss improved from 1.15294 to 1.13885, saving model to sample-checkpoint.h5\n",
      "Epoch 8/10\n",
      "32/32 [==============================] - 1s 27ms/step - loss: 1.1240 - acc: 0.7958\n",
      "\n",
      "Epoch 00008: loss improved from 1.13885 to 1.12398, saving model to sample-checkpoint.h5\n",
      "Epoch 9/10\n",
      "32/32 [==============================] - 1s 27ms/step - loss: 1.1091 - acc: 0.7982\n",
      "\n",
      "Epoch 00009: loss improved from 1.12398 to 1.10911, saving model to sample-checkpoint.h5\n",
      "Epoch 10/10\n",
      "32/32 [==============================] - 1s 25ms/step - loss: 1.0954 - acc: 0.7987\n",
      "\n",
      "Epoch 00010: loss improved from 1.10911 to 1.09543, saving model to sample-checkpoint.h5\n",
      "Q: 결혼 하 면 행복 해\n",
      "A: 저 은 좋 하 세요 \n",
      "\n",
      "\n",
      "Q: 궁금 해 알려줘\n",
      "A: 저 은 좋 하 세요 \n",
      "\n",
      "\n",
      "Q: 고집 하 고는\n",
      "A: 저 은 좋 하 세요 \n",
      "\n",
      "\n",
      "processing epoch: 21...\n",
      "Epoch 1/10\n",
      "32/32 [==============================] - 1s 35ms/step - loss: 1.0830 - acc: 0.8015\n",
      "\n",
      "Epoch 00001: loss improved from 1.09543 to 1.08295, saving model to sample-checkpoint.h5\n",
      "Epoch 2/10\n",
      "32/32 [==============================] - 1s 27ms/step - loss: 1.0696 - acc: 0.8026\n",
      "\n",
      "Epoch 00002: loss improved from 1.08295 to 1.06956, saving model to sample-checkpoint.h5\n",
      "Epoch 3/10\n",
      "32/32 [==============================] - 1s 26ms/step - loss: 1.0560 - acc: 0.8041\n",
      "\n",
      "Epoch 00003: loss improved from 1.06956 to 1.05604, saving model to sample-checkpoint.h5\n",
      "Epoch 4/10\n",
      "32/32 [==============================] - 1s 25ms/step - loss: 1.0436 - acc: 0.8063\n",
      "\n",
      "Epoch 00004: loss improved from 1.05604 to 1.04362, saving model to sample-checkpoint.h5\n",
      "Epoch 5/10\n",
      "32/32 [==============================] - 1s 25ms/step - loss: 1.0306 - acc: 0.8085\n",
      "\n",
      "Epoch 00005: loss improved from 1.04362 to 1.03058, saving model to sample-checkpoint.h5\n",
      "Epoch 6/10\n",
      "32/32 [==============================] - 1s 29ms/step - loss: 1.0181 - acc: 0.8105\n",
      "\n",
      "Epoch 00006: loss improved from 1.03058 to 1.01809, saving model to sample-checkpoint.h5\n",
      "Epoch 7/10\n",
      "32/32 [==============================] - 1s 32ms/step - loss: 1.0047 - acc: 0.8117\n",
      "\n",
      "Epoch 00007: loss improved from 1.01809 to 1.00473, saving model to sample-checkpoint.h5\n",
      "Epoch 8/10\n",
      "32/32 [==============================] - 1s 35ms/step - loss: 0.9918 - acc: 0.8137\n",
      "\n",
      "Epoch 00008: loss improved from 1.00473 to 0.99180, saving model to sample-checkpoint.h5\n",
      "Epoch 9/10\n",
      "32/32 [==============================] - 1s 27ms/step - loss: 0.9780 - acc: 0.8159\n",
      "\n",
      "Epoch 00009: loss improved from 0.99180 to 0.97801, saving model to sample-checkpoint.h5\n",
      "Epoch 10/10\n",
      "32/32 [==============================] - 1s 23ms/step - loss: 0.9651 - acc: 0.8194: 0s - loss: 0.9667 - acc: 0.819\n",
      "\n",
      "Epoch 00010: loss improved from 0.97801 to 0.96508, saving model to sample-checkpoint.h5\n",
      "Q: 내 의견 을 존중 해 줬 으면\n",
      "A: 저 도 좋 이 거 예요 \n",
      "\n",
      "\n",
      "Q: 내 사랑 은 어디 있 나\n",
      "A: 저 도 좋 이 거 예요 \n",
      "\n",
      "\n",
      "Q: 군대 기다릴 수 있 을까\n",
      "A: 저 도 좋 이 거 예요 \n",
      "\n",
      "\n",
      "processing epoch: 31...\n",
      "Epoch 1/10\n",
      "32/32 [==============================] - 1s 20ms/step - loss: 0.9510 - acc: 0.8220\n",
      "\n",
      "Epoch 00001: loss improved from 0.96508 to 0.95098, saving model to sample-checkpoint.h5\n",
      "Epoch 2/10\n",
      "32/32 [==============================] - 1s 29ms/step - loss: 0.9363 - acc: 0.8242\n",
      "\n",
      "Epoch 00002: loss improved from 0.95098 to 0.93630, saving model to sample-checkpoint.h5\n",
      "Epoch 3/10\n",
      "32/32 [==============================] - 1s 27ms/step - loss: 0.9230 - acc: 0.8267\n",
      "\n",
      "Epoch 00003: loss improved from 0.93630 to 0.92301, saving model to sample-checkpoint.h5\n",
      "Epoch 4/10\n",
      "32/32 [==============================] - 1s 24ms/step - loss: 0.9089 - acc: 0.8300\n",
      "\n",
      "Epoch 00004: loss improved from 0.92301 to 0.90894, saving model to sample-checkpoint.h5\n",
      "Epoch 5/10\n",
      "32/32 [==============================] - 1s 23ms/step - loss: 0.8945 - acc: 0.8313\n",
      "\n",
      "Epoch 00005: loss improved from 0.90894 to 0.89447, saving model to sample-checkpoint.h5\n",
      "Epoch 6/10\n",
      "32/32 [==============================] - 1s 23ms/step - loss: 0.8812 - acc: 0.8350\n",
      "\n",
      "Epoch 00006: loss improved from 0.89447 to 0.88116, saving model to sample-checkpoint.h5\n",
      "Epoch 7/10\n",
      "32/32 [==============================] - 1s 22ms/step - loss: 0.8708 - acc: 0.8354\n",
      "\n",
      "Epoch 00007: loss improved from 0.88116 to 0.87079, saving model to sample-checkpoint.h5\n",
      "Epoch 8/10\n",
      "32/32 [==============================] - 1s 23ms/step - loss: 0.8561 - acc: 0.8372\n",
      "\n",
      "Epoch 00008: loss improved from 0.87079 to 0.85610, saving model to sample-checkpoint.h5\n",
      "Epoch 9/10\n",
      "32/32 [==============================] - 1s 23ms/step - loss: 0.8416 - acc: 0.8383\n",
      "\n",
      "Epoch 00009: loss improved from 0.85610 to 0.84165, saving model to sample-checkpoint.h5\n",
      "Epoch 10/10\n",
      "32/32 [==============================] - 1s 22ms/step - loss: 0.8269 - acc: 0.8428\n",
      "\n",
      "Epoch 00010: loss improved from 0.84165 to 0.82689, saving model to sample-checkpoint.h5\n",
      "Q: 가끔 궁금 해\n",
      "A: 저 도 좋 을 거 예요 \n",
      "\n",
      "\n",
      "Q: 곱창 먹 고 싶 어\n",
      "A: 저 도 좋 을 거 예요 \n",
      "\n",
      "\n",
      "Q: 내 가 바보 지\n",
      "A: 저 도 좋 을 거 예요 \n",
      "\n",
      "\n",
      "processing epoch: 41...\n",
      "Epoch 1/10\n",
      "32/32 [==============================] - 1s 25ms/step - loss: 0.8135 - acc: 0.8444\n",
      "\n",
      "Epoch 00001: loss improved from 0.82689 to 0.81355, saving model to sample-checkpoint.h5\n",
      "Epoch 2/10\n",
      "32/32 [==============================] - 1s 29ms/step - loss: 0.8001 - acc: 0.8461\n",
      "\n",
      "Epoch 00002: loss improved from 0.81355 to 0.80007, saving model to sample-checkpoint.h5\n",
      "Epoch 3/10\n"
     ]
    },
    {
     "name": "stdout",
     "output_type": "stream",
     "text": [
      "32/32 [==============================] - 1s 30ms/step - loss: 0.7872 - acc: 0.8484\n",
      "\n",
      "Epoch 00003: loss improved from 0.80007 to 0.78724, saving model to sample-checkpoint.h5\n",
      "Epoch 4/10\n",
      "32/32 [==============================] - 1s 30ms/step - loss: 0.7734 - acc: 0.8497\n",
      "\n",
      "Epoch 00004: loss improved from 0.78724 to 0.77344, saving model to sample-checkpoint.h5\n",
      "Epoch 5/10\n",
      "32/32 [==============================] - 1s 31ms/step - loss: 0.7616 - acc: 0.8527\n",
      "\n",
      "Epoch 00005: loss improved from 0.77344 to 0.76158, saving model to sample-checkpoint.h5\n",
      "Epoch 6/10\n",
      "32/32 [==============================] - 1s 32ms/step - loss: 0.7498 - acc: 0.8534\n",
      "\n",
      "Epoch 00006: loss improved from 0.76158 to 0.74979, saving model to sample-checkpoint.h5\n",
      "Epoch 7/10\n",
      "32/32 [==============================] - 2s 50ms/step - loss: 0.7386 - acc: 0.8556\n",
      "\n",
      "Epoch 00007: loss improved from 0.74979 to 0.73862, saving model to sample-checkpoint.h5\n",
      "Epoch 8/10\n",
      "32/32 [==============================] - 1s 32ms/step - loss: 0.7263 - acc: 0.8575\n",
      "\n",
      "Epoch 00008: loss improved from 0.73862 to 0.72627, saving model to sample-checkpoint.h5\n",
      "Epoch 9/10\n",
      "32/32 [==============================] - 1s 28ms/step - loss: 0.7155 - acc: 0.8585\n",
      "\n",
      "Epoch 00009: loss improved from 0.72627 to 0.71552, saving model to sample-checkpoint.h5\n",
      "Epoch 10/10\n",
      "32/32 [==============================] - 1s 29ms/step - loss: 0.7033 - acc: 0.8604\n",
      "\n",
      "Epoch 00010: loss improved from 0.71552 to 0.70325, saving model to sample-checkpoint.h5\n",
      "Q: 길 에서 헌팅 당했 어\n",
      "A: 저 도 있 을 거 예요 \n",
      "\n",
      "\n",
      "Q: 너 누구 냐\n",
      "A: 저 도 좋 을 거 예요 \n",
      "\n",
      "\n",
      "Q: 내일 은 친구 들 랑 놀 까\n",
      "A: 저 도 있 을 거 예요 \n",
      "\n",
      "\n",
      "processing epoch: 51...\n",
      "Epoch 1/10\n",
      "32/32 [==============================] - 1s 27ms/step - loss: 0.6924 - acc: 0.8623\n",
      "\n",
      "Epoch 00001: loss improved from 0.70325 to 0.69239, saving model to sample-checkpoint.h5\n",
      "Epoch 2/10\n",
      "32/32 [==============================] - 1s 27ms/step - loss: 0.6818 - acc: 0.8650\n",
      "\n",
      "Epoch 00002: loss improved from 0.69239 to 0.68176, saving model to sample-checkpoint.h5\n",
      "Epoch 3/10\n",
      "32/32 [==============================] - 1s 27ms/step - loss: 0.6715 - acc: 0.8648\n",
      "\n",
      "Epoch 00003: loss improved from 0.68176 to 0.67152, saving model to sample-checkpoint.h5\n",
      "Epoch 4/10\n",
      "32/32 [==============================] - 1s 26ms/step - loss: 0.6619 - acc: 0.8682\n",
      "\n",
      "Epoch 00004: loss improved from 0.67152 to 0.66195, saving model to sample-checkpoint.h5\n",
      "Epoch 5/10\n",
      "32/32 [==============================] - 1s 28ms/step - loss: 0.6511 - acc: 0.8693\n",
      "\n",
      "Epoch 00005: loss improved from 0.66195 to 0.65112, saving model to sample-checkpoint.h5\n",
      "Epoch 6/10\n",
      "32/32 [==============================] - 1s 27ms/step - loss: 0.6398 - acc: 0.8711\n",
      "\n",
      "Epoch 00006: loss improved from 0.65112 to 0.63975, saving model to sample-checkpoint.h5\n",
      "Epoch 7/10\n",
      "32/32 [==============================] - 1s 27ms/step - loss: 0.6305 - acc: 0.8738\n",
      "\n",
      "Epoch 00007: loss improved from 0.63975 to 0.63049, saving model to sample-checkpoint.h5\n",
      "Epoch 8/10\n",
      "32/32 [==============================] - 1s 30ms/step - loss: 0.6214 - acc: 0.8761\n",
      "\n",
      "Epoch 00008: loss improved from 0.63049 to 0.62140, saving model to sample-checkpoint.h5\n",
      "Epoch 9/10\n",
      "32/32 [==============================] - 1s 46ms/step - loss: 0.6123 - acc: 0.8762\n",
      "\n",
      "Epoch 00009: loss improved from 0.62140 to 0.61235, saving model to sample-checkpoint.h5\n",
      "Epoch 10/10\n",
      "32/32 [==============================] - 1s 42ms/step - loss: 0.6023 - acc: 0.8790\n",
      "\n",
      "Epoch 00010: loss improved from 0.61235 to 0.60228, saving model to sample-checkpoint.h5\n",
      "Q: 남친 생일 선물 뭘 주 면 좋 을까\n",
      "A: 저 도 궁금 하 네요 \n",
      "\n",
      "\n",
      "Q: 나 한테 냄새 나 면 어쩌 지\n",
      "A: 저 도 궁금 하 네요 \n",
      "\n",
      "\n",
      "Q: 나 한테 냄새 나 면 어쩌 지\n",
      "A: 저 도 궁금 하 네요 \n",
      "\n",
      "\n",
      "processing epoch: 61...\n",
      "Epoch 1/10\n",
      "32/32 [==============================] - 1s 39ms/step - loss: 0.5926 - acc: 0.8803\n",
      "\n",
      "Epoch 00001: loss improved from 0.60228 to 0.59256, saving model to sample-checkpoint.h5\n",
      "Epoch 2/10\n",
      "32/32 [==============================] - 1s 32ms/step - loss: 0.5842 - acc: 0.8827\n",
      "\n",
      "Epoch 00002: loss improved from 0.59256 to 0.58423, saving model to sample-checkpoint.h5\n",
      "Epoch 3/10\n",
      "32/32 [==============================] - 1s 28ms/step - loss: 0.5755 - acc: 0.8848\n",
      "\n",
      "Epoch 00003: loss improved from 0.58423 to 0.57553, saving model to sample-checkpoint.h5\n",
      "Epoch 4/10\n",
      "32/32 [==============================] - 1s 29ms/step - loss: 0.5675 - acc: 0.8871\n",
      "\n",
      "Epoch 00004: loss improved from 0.57553 to 0.56749, saving model to sample-checkpoint.h5\n",
      "Epoch 5/10\n",
      "32/32 [==============================] - 1s 28ms/step - loss: 0.5578 - acc: 0.8889\n",
      "\n",
      "Epoch 00005: loss improved from 0.56749 to 0.55782, saving model to sample-checkpoint.h5\n",
      "Epoch 6/10\n",
      "32/32 [==============================] - 1s 26ms/step - loss: 0.5498 - acc: 0.8902\n",
      "\n",
      "Epoch 00006: loss improved from 0.55782 to 0.54980, saving model to sample-checkpoint.h5\n",
      "Epoch 7/10\n",
      "32/32 [==============================] - 1s 27ms/step - loss: 0.5412 - acc: 0.8923\n",
      "\n",
      "Epoch 00007: loss improved from 0.54980 to 0.54120, saving model to sample-checkpoint.h5\n",
      "Epoch 8/10\n",
      "32/32 [==============================] - 1s 28ms/step - loss: 0.5335 - acc: 0.8940\n",
      "\n",
      "Epoch 00008: loss improved from 0.54120 to 0.53351, saving model to sample-checkpoint.h5\n",
      "Epoch 9/10\n",
      "32/32 [==============================] - 1s 28ms/step - loss: 0.5251 - acc: 0.8967\n",
      "\n",
      "Epoch 00009: loss improved from 0.53351 to 0.52515, saving model to sample-checkpoint.h5\n",
      "Epoch 10/10\n",
      "32/32 [==============================] - 1s 28ms/step - loss: 0.5181 - acc: 0.8972\n",
      "\n",
      "Epoch 00010: loss improved from 0.52515 to 0.51808, saving model to sample-checkpoint.h5\n",
      "Q: 남자 친구 교회 데려가 고 싶 어\n",
      "A: 저 도 궁금 하 네요 \n",
      "\n",
      "\n",
      "Q: 3 박 4 일 놀 러 가 고 싶 다\n",
      "A: 저 도 궁금 하 네요 \n",
      "\n",
      "\n",
      "Q: 긴장 돼\n",
      "A: 저 도 궁금 하 네요 \n",
      "\n",
      "\n",
      "processing epoch: 71...\n",
      "Epoch 1/10\n",
      "32/32 [==============================] - 1s 28ms/step - loss: 0.5106 - acc: 0.8992\n",
      "\n",
      "Epoch 00001: loss improved from 0.51808 to 0.51057, saving model to sample-checkpoint.h5\n",
      "Epoch 2/10\n",
      "32/32 [==============================] - 1s 26ms/step - loss: 0.5034 - acc: 0.9017\n",
      "\n",
      "Epoch 00002: loss improved from 0.51057 to 0.50342, saving model to sample-checkpoint.h5\n",
      "Epoch 3/10\n",
      "32/32 [==============================] - 1s 27ms/step - loss: 0.4955 - acc: 0.9020\n",
      "\n",
      "Epoch 00003: loss improved from 0.50342 to 0.49547, saving model to sample-checkpoint.h5\n",
      "Epoch 4/10\n",
      "32/32 [==============================] - 1s 27ms/step - loss: 0.4885 - acc: 0.9049\n",
      "\n",
      "Epoch 00004: loss improved from 0.49547 to 0.48846, saving model to sample-checkpoint.h5\n",
      "Epoch 5/10\n",
      "32/32 [==============================] - 1s 27ms/step - loss: 0.4816 - acc: 0.9067\n",
      "\n",
      "Epoch 00005: loss improved from 0.48846 to 0.48156, saving model to sample-checkpoint.h5\n",
      "Epoch 6/10\n",
      "32/32 [==============================] - 1s 27ms/step - loss: 0.4744 - acc: 0.9081\n",
      "\n",
      "Epoch 00006: loss improved from 0.48156 to 0.47439, saving model to sample-checkpoint.h5\n",
      "Epoch 7/10\n",
      "32/32 [==============================] - 1s 28ms/step - loss: 0.4695 - acc: 0.9085\n",
      "\n",
      "Epoch 00007: loss improved from 0.47439 to 0.46950, saving model to sample-checkpoint.h5\n",
      "Epoch 8/10\n",
      "32/32 [==============================] - 1s 30ms/step - loss: 0.4637 - acc: 0.9099\n",
      "\n",
      "Epoch 00008: loss improved from 0.46950 to 0.46374, saving model to sample-checkpoint.h5\n",
      "Epoch 9/10\n",
      "32/32 [==============================] - 1s 25ms/step - loss: 0.4558 - acc: 0.9115\n",
      "\n",
      "Epoch 00009: loss improved from 0.46374 to 0.45575, saving model to sample-checkpoint.h5\n",
      "Epoch 10/10\n",
      "32/32 [==============================] - 1s 24ms/step - loss: 0.4505 - acc: 0.9132\n",
      "\n",
      "Epoch 00010: loss improved from 0.45575 to 0.45049, saving model to sample-checkpoint.h5\n",
      "Q: 기댈 수 있 는 사람\n",
      "A: 저 도 궁금 하 네요 \n",
      "\n",
      "\n",
      "Q: 너무 힘들 다 지쳤 어\n",
      "A: 저 도 궁금 하 네요 \n",
      "\n",
      "\n",
      "Q: 갈까 말 까 고민 돼\n",
      "A: 저 도 궁금 하 네요 \n",
      "\n",
      "\n",
      "processing epoch: 81...\n",
      "Epoch 1/10\n",
      "32/32 [==============================] - 1s 25ms/step - loss: 0.4426 - acc: 0.9158\n",
      "\n",
      "Epoch 00001: loss improved from 0.45049 to 0.44263, saving model to sample-checkpoint.h5\n",
      "Epoch 2/10\n",
      "32/32 [==============================] - 1s 25ms/step - loss: 0.4376 - acc: 0.9165\n",
      "\n",
      "Epoch 00002: loss improved from 0.44263 to 0.43762, saving model to sample-checkpoint.h5\n",
      "Epoch 3/10\n",
      "32/32 [==============================] - 1s 25ms/step - loss: 0.4321 - acc: 0.9161\n",
      "\n",
      "Epoch 00003: loss improved from 0.43762 to 0.43205, saving model to sample-checkpoint.h5\n",
      "Epoch 4/10\n",
      "32/32 [==============================] - 1s 25ms/step - loss: 0.4271 - acc: 0.9175\n",
      "\n",
      "Epoch 00004: loss improved from 0.43205 to 0.42710, saving model to sample-checkpoint.h5\n"
     ]
    },
    {
     "name": "stdout",
     "output_type": "stream",
     "text": [
      "Epoch 5/10\n",
      "32/32 [==============================] - 1s 26ms/step - loss: 0.4216 - acc: 0.9194\n",
      "\n",
      "Epoch 00005: loss improved from 0.42710 to 0.42164, saving model to sample-checkpoint.h5\n",
      "Epoch 6/10\n",
      "32/32 [==============================] - 1s 24ms/step - loss: 0.4170 - acc: 0.9206\n",
      "\n",
      "Epoch 00006: loss improved from 0.42164 to 0.41701, saving model to sample-checkpoint.h5\n",
      "Epoch 7/10\n",
      "32/32 [==============================] - 1s 25ms/step - loss: 0.4125 - acc: 0.9203\n",
      "\n",
      "Epoch 00007: loss improved from 0.41701 to 0.41247, saving model to sample-checkpoint.h5\n",
      "Epoch 8/10\n",
      "32/32 [==============================] - 1s 25ms/step - loss: 0.4059 - acc: 0.9228\n",
      "\n",
      "Epoch 00008: loss improved from 0.41247 to 0.40589, saving model to sample-checkpoint.h5\n",
      "Epoch 9/10\n",
      "32/32 [==============================] - 1s 26ms/step - loss: 0.4020 - acc: 0.9235\n",
      "\n",
      "Epoch 00009: loss improved from 0.40589 to 0.40197, saving model to sample-checkpoint.h5\n",
      "Epoch 10/10\n",
      "32/32 [==============================] - 1s 25ms/step - loss: 0.3975 - acc: 0.9247\n",
      "\n",
      "Epoch 00010: loss improved from 0.40197 to 0.39751, saving model to sample-checkpoint.h5\n",
      "Q: 나 교직이수 할 수 있 을까\n",
      "A: 잘 해 보 세요 \n",
      "\n",
      "\n",
      "Q: 난방 이 안 돼 나 추워\n",
      "A: 저 도 궁금 하 네요 \n",
      "\n",
      "\n",
      "Q: 남자 친구 가 이벤트 를 잘 안 해 줘\n",
      "A: 잘 해 보 세요 \n",
      "\n",
      "\n",
      "processing epoch: 91...\n",
      "Epoch 1/10\n",
      "32/32 [==============================] - 1s 25ms/step - loss: 0.3923 - acc: 0.9261\n",
      "\n",
      "Epoch 00001: loss improved from 0.39751 to 0.39227, saving model to sample-checkpoint.h5\n",
      "Epoch 2/10\n",
      "32/32 [==============================] - 1s 24ms/step - loss: 0.3877 - acc: 0.9268\n",
      "\n",
      "Epoch 00002: loss improved from 0.39227 to 0.38769, saving model to sample-checkpoint.h5\n",
      "Epoch 3/10\n",
      "32/32 [==============================] - 1s 25ms/step - loss: 0.3825 - acc: 0.9287\n",
      "\n",
      "Epoch 00003: loss improved from 0.38769 to 0.38252, saving model to sample-checkpoint.h5\n",
      "Epoch 4/10\n",
      "32/32 [==============================] - 1s 24ms/step - loss: 0.3782 - acc: 0.9293\n",
      "\n",
      "Epoch 00004: loss improved from 0.38252 to 0.37824, saving model to sample-checkpoint.h5\n",
      "Epoch 5/10\n",
      "32/32 [==============================] - 1s 24ms/step - loss: 0.3752 - acc: 0.9294\n",
      "\n",
      "Epoch 00005: loss improved from 0.37824 to 0.37517, saving model to sample-checkpoint.h5\n",
      "Epoch 6/10\n",
      "32/32 [==============================] - 1s 26ms/step - loss: 0.3706 - acc: 0.9305\n",
      "\n",
      "Epoch 00006: loss improved from 0.37517 to 0.37057, saving model to sample-checkpoint.h5\n",
      "Epoch 7/10\n",
      "32/32 [==============================] - 1s 26ms/step - loss: 0.3670 - acc: 0.9313\n",
      "\n",
      "Epoch 00007: loss improved from 0.37057 to 0.36704, saving model to sample-checkpoint.h5\n",
      "Epoch 8/10\n",
      "32/32 [==============================] - 1s 27ms/step - loss: 0.3630 - acc: 0.9326\n",
      "\n",
      "Epoch 00008: loss improved from 0.36704 to 0.36301, saving model to sample-checkpoint.h5\n",
      "Epoch 9/10\n",
      "32/32 [==============================] - 1s 23ms/step - loss: 0.3598 - acc: 0.9331\n",
      "\n",
      "Epoch 00009: loss improved from 0.36301 to 0.35985, saving model to sample-checkpoint.h5\n",
      "Epoch 10/10\n",
      "32/32 [==============================] - 1s 25ms/step - loss: 0.3561 - acc: 0.9337\n",
      "\n",
      "Epoch 00010: loss improved from 0.35985 to 0.35609, saving model to sample-checkpoint.h5\n",
      "Q: 나 한테 너무 많 은 걸 바라 는 듯\n",
      "A: 저 도 궁금 하 네요 \n",
      "\n",
      "\n",
      "Q: 너무 많이 먹 었 나 봐\n",
      "A: 저 도 궁금 하 네요 \n",
      "\n",
      "\n",
      "Q: 꽃 게 탕 맛있 다\n",
      "A: 저 도 궁금 하 네요 \n",
      "\n",
      "\n",
      "processing epoch: 101...\n",
      "Epoch 1/10\n",
      "32/32 [==============================] - 1s 24ms/step - loss: 0.3519 - acc: 0.9344\n",
      "\n",
      "Epoch 00001: loss improved from 0.35609 to 0.35193, saving model to sample-checkpoint.h5\n",
      "Epoch 2/10\n",
      "32/32 [==============================] - 1s 24ms/step - loss: 0.3474 - acc: 0.9359\n",
      "\n",
      "Epoch 00002: loss improved from 0.35193 to 0.34737, saving model to sample-checkpoint.h5\n",
      "Epoch 3/10\n",
      "32/32 [==============================] - 1s 24ms/step - loss: 0.3457 - acc: 0.9364\n",
      "\n",
      "Epoch 00003: loss improved from 0.34737 to 0.34566, saving model to sample-checkpoint.h5\n",
      "Epoch 4/10\n",
      "32/32 [==============================] - 1s 26ms/step - loss: 0.3405 - acc: 0.9363\n",
      "\n",
      "Epoch 00004: loss improved from 0.34566 to 0.34052, saving model to sample-checkpoint.h5\n",
      "Epoch 5/10\n",
      "32/32 [==============================] - 1s 25ms/step - loss: 0.3380 - acc: 0.9385\n",
      "\n",
      "Epoch 00005: loss improved from 0.34052 to 0.33801, saving model to sample-checkpoint.h5\n",
      "Epoch 6/10\n",
      "32/32 [==============================] - 1s 26ms/step - loss: 0.3358 - acc: 0.9378\n",
      "\n",
      "Epoch 00006: loss improved from 0.33801 to 0.33577, saving model to sample-checkpoint.h5\n",
      "Epoch 7/10\n",
      "32/32 [==============================] - 1s 26ms/step - loss: 0.3328 - acc: 0.9390\n",
      "\n",
      "Epoch 00007: loss improved from 0.33577 to 0.33277, saving model to sample-checkpoint.h5\n",
      "Epoch 8/10\n",
      "32/32 [==============================] - 1s 26ms/step - loss: 0.3284 - acc: 0.9395\n",
      "\n",
      "Epoch 00008: loss improved from 0.33277 to 0.32843, saving model to sample-checkpoint.h5\n",
      "Epoch 9/10\n",
      "32/32 [==============================] - 1s 24ms/step - loss: 0.3254 - acc: 0.9412\n",
      "\n",
      "Epoch 00009: loss improved from 0.32843 to 0.32543, saving model to sample-checkpoint.h5\n",
      "Epoch 10/10\n",
      "32/32 [==============================] - 1s 24ms/step - loss: 0.3228 - acc: 0.9408\n",
      "\n",
      "Epoch 00010: loss improved from 0.32543 to 0.32280, saving model to sample-checkpoint.h5\n",
      "Q: 내 가 희생양 이 됐 어\n",
      "A: 저 도 궁금 하 네요 \n",
      "\n",
      "\n",
      "Q: 그냥 선 볼까\n",
      "A: 잘 해 보 세요 \n",
      "\n",
      "\n",
      "Q: 길 에서 헌팅 당했 어\n",
      "A: 잘 해 보 세요 \n",
      "\n",
      "\n",
      "processing epoch: 111...\n",
      "Epoch 1/10\n",
      "32/32 [==============================] - 1s 26ms/step - loss: 0.3204 - acc: 0.9418\n",
      "\n",
      "Epoch 00001: loss improved from 0.32280 to 0.32042, saving model to sample-checkpoint.h5\n",
      "Epoch 2/10\n",
      "32/32 [==============================] - 1s 25ms/step - loss: 0.3171 - acc: 0.9424\n",
      "\n",
      "Epoch 00002: loss improved from 0.32042 to 0.31711, saving model to sample-checkpoint.h5\n",
      "Epoch 3/10\n",
      "32/32 [==============================] - 1s 25ms/step - loss: 0.3145 - acc: 0.9425\n",
      "\n",
      "Epoch 00003: loss improved from 0.31711 to 0.31448, saving model to sample-checkpoint.h5\n",
      "Epoch 4/10\n",
      "32/32 [==============================] - 1s 24ms/step - loss: 0.3123 - acc: 0.9437\n",
      "\n",
      "Epoch 00004: loss improved from 0.31448 to 0.31229, saving model to sample-checkpoint.h5\n",
      "Epoch 5/10\n",
      "32/32 [==============================] - 1s 25ms/step - loss: 0.3098 - acc: 0.9437\n",
      "\n",
      "Epoch 00005: loss improved from 0.31229 to 0.30976, saving model to sample-checkpoint.h5\n",
      "Epoch 6/10\n",
      "32/32 [==============================] - 1s 25ms/step - loss: 0.3094 - acc: 0.9431\n",
      "\n",
      "Epoch 00006: loss improved from 0.30976 to 0.30937, saving model to sample-checkpoint.h5\n",
      "Epoch 7/10\n",
      "32/32 [==============================] - 1s 23ms/step - loss: 0.3054 - acc: 0.9437\n",
      "\n",
      "Epoch 00007: loss improved from 0.30937 to 0.30543, saving model to sample-checkpoint.h5\n",
      "Epoch 8/10\n",
      "32/32 [==============================] - 1s 21ms/step - loss: 0.3025 - acc: 0.9451\n",
      "\n",
      "Epoch 00008: loss improved from 0.30543 to 0.30254, saving model to sample-checkpoint.h5\n",
      "Epoch 9/10\n",
      "32/32 [==============================] - 1s 22ms/step - loss: 0.2990 - acc: 0.9458\n",
      "\n",
      "Epoch 00009: loss improved from 0.30254 to 0.29897, saving model to sample-checkpoint.h5\n",
      "Epoch 10/10\n",
      "32/32 [==============================] - 1s 23ms/step - loss: 0.2980 - acc: 0.9461\n",
      "\n",
      "Epoch 00010: loss improved from 0.29897 to 0.29801, saving model to sample-checkpoint.h5\n",
      "Q: 고시원 답답 해\n",
      "A: 저 도 궁금 하 네요 \n",
      "\n",
      "\n",
      "Q: 너무 단순 한 것 만 하 는 거 아니 니\n",
      "A: 저 도 궁금 하 네요 \n",
      "\n",
      "\n",
      "Q: 남편 이 육아 에 무신경 해\n",
      "A: 저 도 궁금 하 네요 \n",
      "\n",
      "\n",
      "processing epoch: 121...\n",
      "Epoch 1/10\n",
      "32/32 [==============================] - 1s 23ms/step - loss: 0.2961 - acc: 0.9467\n",
      "\n",
      "Epoch 00001: loss improved from 0.29801 to 0.29611, saving model to sample-checkpoint.h5\n",
      "Epoch 2/10\n",
      "32/32 [==============================] - 1s 21ms/step - loss: 0.2928 - acc: 0.9475\n",
      "\n",
      "Epoch 00002: loss improved from 0.29611 to 0.29277, saving model to sample-checkpoint.h5\n",
      "Epoch 3/10\n",
      "32/32 [==============================] - 1s 20ms/step - loss: 0.2907 - acc: 0.9470\n",
      "\n",
      "Epoch 00003: loss improved from 0.29277 to 0.29075, saving model to sample-checkpoint.h5\n",
      "Epoch 4/10\n",
      "32/32 [==============================] - 1s 23ms/step - loss: 0.2900 - acc: 0.9474\n",
      "\n",
      "Epoch 00004: loss improved from 0.29075 to 0.28998, saving model to sample-checkpoint.h5\n",
      "Epoch 5/10\n",
      "32/32 [==============================] - 1s 21ms/step - loss: 0.2867 - acc: 0.9482\n",
      "\n",
      "Epoch 00005: loss improved from 0.28998 to 0.28672, saving model to sample-checkpoint.h5\n",
      "Epoch 6/10\n",
      "32/32 [==============================] - 1s 21ms/step - loss: 0.2845 - acc: 0.9485\n",
      "\n",
      "Epoch 00006: loss improved from 0.28672 to 0.28448, saving model to sample-checkpoint.h5\n"
     ]
    },
    {
     "name": "stdout",
     "output_type": "stream",
     "text": [
      "Epoch 7/10\n",
      "32/32 [==============================] - 1s 21ms/step - loss: 0.2832 - acc: 0.9484\n",
      "\n",
      "Epoch 00007: loss improved from 0.28448 to 0.28325, saving model to sample-checkpoint.h5\n",
      "Epoch 8/10\n",
      "32/32 [==============================] - 1s 21ms/step - loss: 0.2801 - acc: 0.9492\n",
      "\n",
      "Epoch 00008: loss improved from 0.28325 to 0.28012, saving model to sample-checkpoint.h5\n",
      "Epoch 9/10\n",
      "32/32 [==============================] - 1s 23ms/step - loss: 0.2779 - acc: 0.9504\n",
      "\n",
      "Epoch 00009: loss improved from 0.28012 to 0.27794, saving model to sample-checkpoint.h5\n",
      "Epoch 10/10\n",
      "32/32 [==============================] - 1s 20ms/step - loss: 0.2770 - acc: 0.9506\n",
      "\n",
      "Epoch 00010: loss improved from 0.27794 to 0.27701, saving model to sample-checkpoint.h5\n",
      "Q: 나 욕 먹 는 거 같 아\n",
      "A: 저 도 궁금 하 네요 \n",
      "\n",
      "\n",
      "Q: 3 박 4 일 정도 놀 러 가 고 싶 다\n",
      "A: 저 도 궁금 하 네요 \n",
      "\n",
      "\n",
      "Q: 나 두 잘 할 거 야\n",
      "A: 잘 하 실 거 예요 \n",
      "\n",
      "\n",
      "processing epoch: 131...\n",
      "Epoch 1/10\n",
      "32/32 [==============================] - 1s 19ms/step - loss: 0.2745 - acc: 0.9505\n",
      "\n",
      "Epoch 00001: loss improved from 0.27701 to 0.27448, saving model to sample-checkpoint.h5\n",
      "Epoch 2/10\n",
      "32/32 [==============================] - 1s 24ms/step - loss: 0.2736 - acc: 0.9503\n",
      "\n",
      "Epoch 00002: loss improved from 0.27448 to 0.27364, saving model to sample-checkpoint.h5\n",
      "Epoch 3/10\n",
      "32/32 [==============================] - 1s 22ms/step - loss: 0.2712 - acc: 0.9508\n",
      "\n",
      "Epoch 00003: loss improved from 0.27364 to 0.27122, saving model to sample-checkpoint.h5\n",
      "Epoch 4/10\n",
      "32/32 [==============================] - 1s 25ms/step - loss: 0.2704 - acc: 0.9516\n",
      "\n",
      "Epoch 00004: loss improved from 0.27122 to 0.27036, saving model to sample-checkpoint.h5\n",
      "Epoch 5/10\n",
      "32/32 [==============================] - 1s 24ms/step - loss: 0.2674 - acc: 0.9531\n",
      "\n",
      "Epoch 00005: loss improved from 0.27036 to 0.26736, saving model to sample-checkpoint.h5\n",
      "Epoch 6/10\n",
      "32/32 [==============================] - 1s 24ms/step - loss: 0.2678 - acc: 0.9512\n",
      "\n",
      "Epoch 00006: loss did not improve from 0.26736\n",
      "Epoch 7/10\n",
      "32/32 [==============================] - 1s 25ms/step - loss: 0.2650 - acc: 0.9523\n",
      "\n",
      "Epoch 00007: loss improved from 0.26736 to 0.26497, saving model to sample-checkpoint.h5\n",
      "Epoch 8/10\n",
      "32/32 [==============================] - 1s 23ms/step - loss: 0.2630 - acc: 0.9528\n",
      "\n",
      "Epoch 00008: loss improved from 0.26497 to 0.26301, saving model to sample-checkpoint.h5\n",
      "Epoch 9/10\n",
      "32/32 [==============================] - 1s 24ms/step - loss: 0.2610 - acc: 0.9533\n",
      "\n",
      "Epoch 00009: loss improved from 0.26301 to 0.26101, saving model to sample-checkpoint.h5\n",
      "Epoch 10/10\n",
      "32/32 [==============================] - 1s 25ms/step - loss: 0.2599 - acc: 0.9536\n",
      "\n",
      "Epoch 00010: loss improved from 0.26101 to 0.25993, saving model to sample-checkpoint.h5\n",
      "Q: 관심 좀 안 가졌 으면\n",
      "A: 저 도 궁금 하 네요 \n",
      "\n",
      "\n",
      "Q: 가족 여행 가야지\n",
      "A: 저 도 궁금 하 네요 \n",
      "\n",
      "\n",
      "Q: 너 누구 니\n",
      "A: 저 도 궁금 하 네요 \n",
      "\n",
      "\n",
      "processing epoch: 141...\n",
      "Epoch 1/10\n",
      "32/32 [==============================] - 1s 21ms/step - loss: 0.2585 - acc: 0.9536\n",
      "\n",
      "Epoch 00001: loss improved from 0.25993 to 0.25845, saving model to sample-checkpoint.h5\n",
      "Epoch 2/10\n",
      "32/32 [==============================] - 1s 21ms/step - loss: 0.2559 - acc: 0.9542\n",
      "\n",
      "Epoch 00002: loss improved from 0.25845 to 0.25587, saving model to sample-checkpoint.h5\n",
      "Epoch 3/10\n",
      "32/32 [==============================] - 1s 20ms/step - loss: 0.2545 - acc: 0.9538\n",
      "\n",
      "Epoch 00003: loss improved from 0.25587 to 0.25451, saving model to sample-checkpoint.h5\n",
      "Epoch 4/10\n",
      "32/32 [==============================] - 1s 20ms/step - loss: 0.2542 - acc: 0.9544\n",
      "\n",
      "Epoch 00004: loss improved from 0.25451 to 0.25423, saving model to sample-checkpoint.h5\n",
      "Epoch 5/10\n",
      "32/32 [==============================] - 1s 24ms/step - loss: 0.2544 - acc: 0.9536\n",
      "\n",
      "Epoch 00005: loss did not improve from 0.25423\n",
      "Epoch 6/10\n",
      "32/32 [==============================] - 1s 23ms/step - loss: 0.2567 - acc: 0.9537\n",
      "\n",
      "Epoch 00006: loss did not improve from 0.25423\n",
      "Epoch 7/10\n",
      "32/32 [==============================] - 1s 24ms/step - loss: 0.2520 - acc: 0.9542\n",
      "\n",
      "Epoch 00007: loss improved from 0.25423 to 0.25205, saving model to sample-checkpoint.h5\n",
      "Epoch 8/10\n",
      "32/32 [==============================] - 1s 20ms/step - loss: 0.2507 - acc: 0.9548\n",
      "\n",
      "Epoch 00008: loss improved from 0.25205 to 0.25066, saving model to sample-checkpoint.h5\n",
      "Epoch 9/10\n",
      "32/32 [==============================] - 1s 20ms/step - loss: 0.2489 - acc: 0.9548\n",
      "\n",
      "Epoch 00009: loss improved from 0.25066 to 0.24894, saving model to sample-checkpoint.h5\n",
      "Epoch 10/10\n",
      "32/32 [==============================] - 1s 20ms/step - loss: 0.2472 - acc: 0.9551\n",
      "\n",
      "Epoch 00010: loss improved from 0.24894 to 0.24723, saving model to sample-checkpoint.h5\n",
      "Q: 감미 로운 목소리 좋 아\n",
      "A: 저 도 궁금 하 네요 \n",
      "\n",
      "\n",
      "Q: 귀농 어때\n",
      "A: 잘 하 실 거 예요 \n",
      "\n",
      "\n",
      "Q: 가족 이 누구 야\n",
      "A: 저 도 궁금 하 네요 \n",
      "\n",
      "\n",
      "processing epoch: 151...\n",
      "Epoch 1/10\n",
      "32/32 [==============================] - 1s 21ms/step - loss: 0.2463 - acc: 0.9550\n",
      "\n",
      "Epoch 00001: loss improved from 0.24723 to 0.24632, saving model to sample-checkpoint.h5\n",
      "Epoch 2/10\n",
      "32/32 [==============================] - 1s 20ms/step - loss: 0.2460 - acc: 0.9551\n",
      "\n",
      "Epoch 00002: loss improved from 0.24632 to 0.24597, saving model to sample-checkpoint.h5\n",
      "Epoch 3/10\n",
      "32/32 [==============================] - 1s 20ms/step - loss: 0.2446 - acc: 0.9557\n",
      "\n",
      "Epoch 00003: loss improved from 0.24597 to 0.24461, saving model to sample-checkpoint.h5\n",
      "Epoch 4/10\n",
      "32/32 [==============================] - 1s 19ms/step - loss: 0.2432 - acc: 0.9557\n",
      "\n",
      "Epoch 00004: loss improved from 0.24461 to 0.24323, saving model to sample-checkpoint.h5\n",
      "Epoch 5/10\n",
      "32/32 [==============================] - 1s 20ms/step - loss: 0.2417 - acc: 0.9560\n",
      "\n",
      "Epoch 00005: loss improved from 0.24323 to 0.24166, saving model to sample-checkpoint.h5\n",
      "Epoch 6/10\n",
      "32/32 [==============================] - 1s 19ms/step - loss: 0.2401 - acc: 0.9561\n",
      "\n",
      "Epoch 00006: loss improved from 0.24166 to 0.24010, saving model to sample-checkpoint.h5\n",
      "Epoch 7/10\n",
      "32/32 [==============================] - 1s 20ms/step - loss: 0.2390 - acc: 0.9562\n",
      "\n",
      "Epoch 00007: loss improved from 0.24010 to 0.23896, saving model to sample-checkpoint.h5\n",
      "Epoch 8/10\n",
      "32/32 [==============================] - 1s 19ms/step - loss: 0.2375 - acc: 0.9564\n",
      "\n",
      "Epoch 00008: loss improved from 0.23896 to 0.23746, saving model to sample-checkpoint.h5\n",
      "Epoch 9/10\n",
      "32/32 [==============================] - 1s 19ms/step - loss: 0.2367 - acc: 0.9567\n",
      "\n",
      "Epoch 00009: loss improved from 0.23746 to 0.23672, saving model to sample-checkpoint.h5\n",
      "Epoch 10/10\n",
      "32/32 [==============================] - 1s 19ms/step - loss: 0.2358 - acc: 0.9568\n",
      "\n",
      "Epoch 00010: loss improved from 0.23672 to 0.23584, saving model to sample-checkpoint.h5\n",
      "Q: 고기 먹 고 싶 어\n",
      "A: 저 도 궁금 하 네요 \n",
      "\n",
      "\n",
      "Q: 나 놀려먹 기 쉬운가\n",
      "A: 저 도 궁금 하 네요 \n",
      "\n",
      "\n",
      "Q: 공황 장애 생겼 어\n",
      "A: 저 도 궁금 하 네요 \n",
      "\n",
      "\n",
      "processing epoch: 161...\n",
      "Epoch 1/10\n",
      "32/32 [==============================] - 1s 20ms/step - loss: 0.2348 - acc: 0.9565\n",
      "\n",
      "Epoch 00001: loss improved from 0.23584 to 0.23481, saving model to sample-checkpoint.h5\n",
      "Epoch 2/10\n",
      "32/32 [==============================] - 1s 18ms/step - loss: 0.2336 - acc: 0.9573\n",
      "\n",
      "Epoch 00002: loss improved from 0.23481 to 0.23362, saving model to sample-checkpoint.h5\n",
      "Epoch 3/10\n",
      "32/32 [==============================] - 1s 19ms/step - loss: 0.2329 - acc: 0.9567\n",
      "\n",
      "Epoch 00003: loss improved from 0.23362 to 0.23289, saving model to sample-checkpoint.h5\n",
      "Epoch 4/10\n",
      "32/32 [==============================] - 1s 19ms/step - loss: 0.2324 - acc: 0.9573\n",
      "\n",
      "Epoch 00004: loss improved from 0.23289 to 0.23235, saving model to sample-checkpoint.h5\n",
      "Epoch 5/10\n",
      "32/32 [==============================] - 1s 19ms/step - loss: 0.2302 - acc: 0.9574\n",
      "\n",
      "Epoch 00005: loss improved from 0.23235 to 0.23019, saving model to sample-checkpoint.h5\n",
      "Epoch 6/10\n",
      "32/32 [==============================] - 1s 18ms/step - loss: 0.2300 - acc: 0.9576\n",
      "\n",
      "Epoch 00006: loss improved from 0.23019 to 0.22998, saving model to sample-checkpoint.h5\n",
      "Epoch 7/10\n",
      "32/32 [==============================] - 1s 19ms/step - loss: 0.2290 - acc: 0.9583\n",
      "\n",
      "Epoch 00007: loss improved from 0.22998 to 0.22896, saving model to sample-checkpoint.h5\n",
      "Epoch 8/10\n",
      "32/32 [==============================] - 1s 19ms/step - loss: 0.2287 - acc: 0.9575\n",
      "\n",
      "Epoch 00008: loss improved from 0.22896 to 0.22867, saving model to sample-checkpoint.h5\n",
      "Epoch 9/10\n",
      "32/32 [==============================] - 1s 19ms/step - loss: 0.2282 - acc: 0.9579\n"
     ]
    },
    {
     "name": "stdout",
     "output_type": "stream",
     "text": [
      "\n",
      "Epoch 00009: loss improved from 0.22867 to 0.22815, saving model to sample-checkpoint.h5\n",
      "Epoch 10/10\n",
      "32/32 [==============================] - 1s 19ms/step - loss: 0.2263 - acc: 0.9579\n",
      "\n",
      "Epoch 00010: loss improved from 0.22815 to 0.22631, saving model to sample-checkpoint.h5\n",
      "Q: 심하 네\n",
      "A: 잘 해결 되 길 바랄 게요 \n",
      "\n",
      "\n",
      "Q: 그만 두 고 나오 고 싶 어\n",
      "A: 잘 하 실 거 예요 \n",
      "\n",
      "\n",
      "Q: 시간 낭비 인데 자꾸 보 게 됨\n",
      "A: 저 도 궁금 하 네요 \n",
      "\n",
      "\n",
      "processing epoch: 171...\n",
      "Epoch 1/10\n",
      "32/32 [==============================] - 1s 19ms/step - loss: 0.2260 - acc: 0.9582\n",
      "\n",
      "Epoch 00001: loss improved from 0.22631 to 0.22596, saving model to sample-checkpoint.h5\n",
      "Epoch 2/10\n",
      "32/32 [==============================] - 1s 19ms/step - loss: 0.2254 - acc: 0.9585\n",
      "\n",
      "Epoch 00002: loss improved from 0.22596 to 0.22544, saving model to sample-checkpoint.h5\n",
      "Epoch 3/10\n",
      "32/32 [==============================] - 1s 19ms/step - loss: 0.2244 - acc: 0.9582\n",
      "\n",
      "Epoch 00003: loss improved from 0.22544 to 0.22439, saving model to sample-checkpoint.h5\n",
      "Epoch 4/10\n",
      "32/32 [==============================] - 1s 19ms/step - loss: 0.2230 - acc: 0.9589\n",
      "\n",
      "Epoch 00004: loss improved from 0.22439 to 0.22301, saving model to sample-checkpoint.h5\n",
      "Epoch 5/10\n",
      "32/32 [==============================] - 1s 19ms/step - loss: 0.2233 - acc: 0.9584\n",
      "\n",
      "Epoch 00005: loss did not improve from 0.22301\n",
      "Epoch 6/10\n",
      "32/32 [==============================] - 1s 19ms/step - loss: 0.2218 - acc: 0.9587\n",
      "\n",
      "Epoch 00006: loss improved from 0.22301 to 0.22178, saving model to sample-checkpoint.h5\n",
      "Epoch 7/10\n",
      "32/32 [==============================] - 1s 18ms/step - loss: 0.2212 - acc: 0.9589\n",
      "\n",
      "Epoch 00007: loss improved from 0.22178 to 0.22121, saving model to sample-checkpoint.h5\n",
      "Epoch 8/10\n",
      "32/32 [==============================] - 1s 19ms/step - loss: 0.2200 - acc: 0.9590\n",
      "\n",
      "Epoch 00008: loss improved from 0.22121 to 0.22005, saving model to sample-checkpoint.h5\n",
      "Epoch 9/10\n",
      "32/32 [==============================] - 1s 18ms/step - loss: 0.2190 - acc: 0.9596\n",
      "\n",
      "Epoch 00009: loss improved from 0.22005 to 0.21903, saving model to sample-checkpoint.h5\n",
      "Epoch 10/10\n",
      "32/32 [==============================] - 1s 19ms/step - loss: 0.2178 - acc: 0.9594\n",
      "\n",
      "Epoch 00010: loss improved from 0.21903 to 0.21782, saving model to sample-checkpoint.h5\n",
      "Q: 가만 있 어도 땀 난다\n",
      "A: 저 도 궁금 하 네요 \n",
      "\n",
      "\n",
      "Q: 고시원 너무 답답 해\n",
      "A: 저 도 궁금 하 네요 \n",
      "\n",
      "\n",
      "Q: 남자 친구 가 자꾸 잔소리 해\n",
      "A: 저 도 궁금 하 네요 \n",
      "\n",
      "\n",
      "processing epoch: 181...\n",
      "Epoch 1/10\n",
      "32/32 [==============================] - 1s 21ms/step - loss: 0.2181 - acc: 0.9594\n",
      "\n",
      "Epoch 00001: loss did not improve from 0.21782\n",
      "Epoch 2/10\n",
      "32/32 [==============================] - 1s 20ms/step - loss: 0.2178 - acc: 0.9589\n",
      "\n",
      "Epoch 00002: loss did not improve from 0.21782\n",
      "Epoch 3/10\n",
      "32/32 [==============================] - 1s 19ms/step - loss: 0.2163 - acc: 0.9589\n",
      "\n",
      "Epoch 00003: loss improved from 0.21782 to 0.21630, saving model to sample-checkpoint.h5\n",
      "Epoch 4/10\n",
      "32/32 [==============================] - 1s 21ms/step - loss: 0.2161 - acc: 0.9601\n",
      "\n",
      "Epoch 00004: loss improved from 0.21630 to 0.21610, saving model to sample-checkpoint.h5\n",
      "Epoch 5/10\n",
      "32/32 [==============================] - 1s 20ms/step - loss: 0.2166 - acc: 0.9590\n",
      "\n",
      "Epoch 00005: loss did not improve from 0.21610\n",
      "Epoch 6/10\n",
      "32/32 [==============================] - 1s 21ms/step - loss: 0.2147 - acc: 0.9603\n",
      "\n",
      "Epoch 00006: loss improved from 0.21610 to 0.21469, saving model to sample-checkpoint.h5\n",
      "Epoch 7/10\n",
      "32/32 [==============================] - 1s 21ms/step - loss: 0.2134 - acc: 0.9599\n",
      "\n",
      "Epoch 00007: loss improved from 0.21469 to 0.21336, saving model to sample-checkpoint.h5\n",
      "Epoch 8/10\n",
      "32/32 [==============================] - 1s 20ms/step - loss: 0.2137 - acc: 0.9603\n",
      "\n",
      "Epoch 00008: loss did not improve from 0.21336\n",
      "Epoch 9/10\n",
      "32/32 [==============================] - 1s 20ms/step - loss: 0.2123 - acc: 0.9600\n",
      "\n",
      "Epoch 00009: loss improved from 0.21336 to 0.21228, saving model to sample-checkpoint.h5\n",
      "Epoch 10/10\n",
      "32/32 [==============================] - 1s 20ms/step - loss: 0.2117 - acc: 0.9602\n",
      "\n",
      "Epoch 00010: loss improved from 0.21228 to 0.21169, saving model to sample-checkpoint.h5\n",
      "Q: 긴 시간 이 걸렸 지만 괜찮 아\n",
      "A: 저 도 궁금 하 네요 \n",
      "\n",
      "\n",
      "Q: 구박 하 면서 엄청 일 시켜\n",
      "A: 저 도 궁금 하 네요 \n",
      "\n",
      "\n",
      "Q: 내 가 다른 무슨 말 을 하 겠 어\n",
      "A: 좋 겠 어요 \n",
      "\n",
      "\n",
      "processing epoch: 191...\n",
      "Epoch 1/10\n",
      "32/32 [==============================] - 1s 20ms/step - loss: 0.2114 - acc: 0.9604\n",
      "\n",
      "Epoch 00001: loss improved from 0.21169 to 0.21139, saving model to sample-checkpoint.h5\n",
      "Epoch 2/10\n",
      "32/32 [==============================] - 1s 20ms/step - loss: 0.2107 - acc: 0.9607\n",
      "\n",
      "Epoch 00002: loss improved from 0.21139 to 0.21068, saving model to sample-checkpoint.h5\n",
      "Epoch 3/10\n",
      "32/32 [==============================] - 1s 19ms/step - loss: 0.2101 - acc: 0.9605\n",
      "\n",
      "Epoch 00003: loss improved from 0.21068 to 0.21008, saving model to sample-checkpoint.h5\n",
      "Epoch 4/10\n",
      "32/32 [==============================] - 1s 20ms/step - loss: 0.2095 - acc: 0.9604\n",
      "\n",
      "Epoch 00004: loss improved from 0.21008 to 0.20949, saving model to sample-checkpoint.h5\n",
      "Epoch 5/10\n",
      "32/32 [==============================] - 1s 20ms/step - loss: 0.2094 - acc: 0.9608\n",
      "\n",
      "Epoch 00005: loss improved from 0.20949 to 0.20942, saving model to sample-checkpoint.h5\n",
      "Epoch 6/10\n",
      "32/32 [==============================] - 1s 19ms/step - loss: 0.2094 - acc: 0.9603\n",
      "\n",
      "Epoch 00006: loss improved from 0.20942 to 0.20940, saving model to sample-checkpoint.h5\n",
      "Epoch 7/10\n",
      "32/32 [==============================] - 1s 19ms/step - loss: 0.2086 - acc: 0.9606\n",
      "\n",
      "Epoch 00007: loss improved from 0.20940 to 0.20857, saving model to sample-checkpoint.h5\n",
      "Epoch 8/10\n",
      "32/32 [==============================] - 1s 19ms/step - loss: 0.2083 - acc: 0.9604\n",
      "\n",
      "Epoch 00008: loss improved from 0.20857 to 0.20833, saving model to sample-checkpoint.h5\n",
      "Epoch 9/10\n",
      "32/32 [==============================] - 1s 20ms/step - loss: 0.2082 - acc: 0.9607\n",
      "\n",
      "Epoch 00009: loss improved from 0.20833 to 0.20819, saving model to sample-checkpoint.h5\n",
      "Epoch 10/10\n",
      "32/32 [==============================] - 1s 19ms/step - loss: 0.2072 - acc: 0.9611\n",
      "\n",
      "Epoch 00010: loss improved from 0.20819 to 0.20716, saving model to sample-checkpoint.h5\n",
      "Q: 내 가 너무 방심 했 어\n",
      "A: 저 도 궁금 하 네요 \n",
      "\n",
      "\n",
      "Q: 나 좋 아 하 는 것 같 아\n",
      "A: 저 도 궁금 하 네요 \n",
      "\n",
      "\n",
      "Q: 감미 로운 목소리 좋 아\n",
      "A: 저 도 궁금 하 네요 \n",
      "\n",
      "\n"
     ]
    }
   ],
   "source": [
    "for epoch in range(NUM_EPOCHS):\n",
    "    print(f'processing epoch: {epoch * 10 + 1}...')\n",
    "    # model.fit(): 학습\n",
    "    # 코드를 입력하세요\n",
    "    seq2seq.fit([question_padded, answer_in_padded],\n",
    "                answer_out_one_hot,\n",
    "                epochs=10,\n",
    "                batch_size=BATCH_SIZE,\n",
    "                callbacks = [checkpoint]\n",
    "               )\n",
    "    \n",
    "    \n",
    "    # 랜덤한 샘플 번호 추출\n",
    "    samples = np.random.randint(DATA_LENGTH, size=SAMPLE_SIZE)\n",
    "\n",
    "    # 예측 성능 테스트\n",
    "    for idx in samples:\n",
    "        question_inputs = question_padded[idx]\n",
    "        # 문장 예측\n",
    "        results = make_prediction(seq2seq, np.expand_dims(question_inputs, 0))\n",
    "        \n",
    "        # 변환된 인덱스를 문장으로 변환\n",
    "        results = convert_index_to_text(results, END_TOKEN)\n",
    "        \n",
    "        print(f'Q: {questions[idx]}')\n",
    "        print(f'A: {results}\\n')\n",
    "        print()"
   ]
  },
  {
   "cell_type": "markdown",
   "metadata": {
    "id": "dENxB9VmdxD7"
   },
   "source": [
    "## STEP 8. 예측 (prediction)"
   ]
  },
  {
   "cell_type": "markdown",
   "metadata": {
    "id": "ibcTUOIj1_Mc"
   },
   "source": [
    "### 문제 23. `make_question` 함수 정의: 자연어 입력을 데이터 전처리 파이프라인 수행 후 전처리 진행하는 함수를 정의합니다."
   ]
  },
  {
   "cell_type": "code",
   "execution_count": 50,
   "metadata": {
    "id": "BuZ3q1NxdxD8"
   },
   "outputs": [],
   "source": [
    "# 자연어 (질문 입력) 대한 전처리 함수\n",
    "def make_question(sentence):\n",
    "    # 코드를 입력하세요\n",
    "    sentence = clean_and_morph(sentence)\n",
    "    question_sequence = tokenizer.texts_to_sequences([sentence])\n",
    "    question_padded = pad_sequences(question_sequence, maxlen=MAX_LENGTH, truncating=TRUNCATING, padding=PADDING)\n",
    "    return question_padded"
   ]
  },
  {
   "cell_type": "code",
   "execution_count": 51,
   "metadata": {
    "id": "KQKCJwtGdxD8"
   },
   "outputs": [
    {
     "data": {
      "text/plain": [
       "array([[391, 919, 920,  71, 147, 200,  10,  16,  39,  34,   0,   0,   0,\n",
       "          0,   0,   0,   0,   0,   0,   0,   0,   0,   0,   0,   0,   0,\n",
       "          0,   0,   0,   0]])"
      ]
     },
     "execution_count": 51,
     "metadata": {},
     "output_type": "execute_result"
    }
   ],
   "source": [
    "make_question('3박4일 놀러가고 싶다.')"
   ]
  },
  {
   "cell_type": "code",
   "execution_count": 52,
   "metadata": {
    "id": "zA1iY9q0dxD8"
   },
   "outputs": [
    {
     "data": {
      "text/plain": [
       "array([[ 1,  1, 16, 39, 34,  0,  0,  0,  0,  0,  0,  0,  0,  0,  0,  0,\n",
       "         0,  0,  0,  0,  0,  0,  0,  0,  0,  0,  0,  0,  0,  0]])"
      ]
     },
     "execution_count": 52,
     "metadata": {},
     "output_type": "execute_result"
    }
   ],
   "source": [
    "make_question('커피 마시고 싶다.')"
   ]
  },
  {
   "cell_type": "markdown",
   "metadata": {
    "id": "AijEFgfF2Mty"
   },
   "source": [
    "### 문제 24. `run_chatbot`함수를 정의합니다. 질문을 `make_question` 함수 전처리 수행후 모델 예측하여 결과를 다시 자연어로 변환하는 작업을 거치게 됩니다."
   ]
  },
  {
   "cell_type": "code",
   "execution_count": 53,
   "metadata": {
    "id": "_Q9NlZ8qdxD8"
   },
   "outputs": [],
   "source": [
    "def run_chatbot(question):\n",
    "    # 코드를 입력하세요\n",
    "    question_inputs = make_question(question)\n",
    "    results = make_prediction(seq2seq, question_inputs)\n",
    "    results = convert_index_to_text(results, END_TOKEN)\n",
    "    return results"
   ]
  },
  {
   "cell_type": "markdown",
   "metadata": {
    "id": "ZREkyB-mdxD8"
   },
   "source": [
    "## STEP 9. 테스트"
   ]
  },
  {
   "cell_type": "markdown",
   "metadata": {
    "id": "QLcypsmo2eiI"
   },
   "source": [
    "### 문제 25. 사용자의 입력을 받아 대답을 출력해 주는 프로그램을 완성합니다.\n",
    "\n",
    "유저로부터 Text 입력 값을 받아 답변을 출력합니다."
   ]
  },
  {
   "cell_type": "code",
   "execution_count": 54,
   "metadata": {
    "id": "zAW5tIHNdxD8"
   },
   "outputs": [
    {
     "name": "stdout",
     "output_type": "stream",
     "text": [
      "말을 걸어 주세요 : 날씨가 참 좋네요\n",
      "챗봇 : 저 도 궁금 하 네요 \n",
      "\n",
      "말을 걸어 주세요 : 학습은 망했어요\n",
      "챗봇 : 저 랑 함께 해요 \n",
      "\n",
      "말을 걸어 주세요 : 망했으니 말 걸지 말아주세요\n",
      "챗봇 : 저 도 궁금 하 네요 \n",
      "\n",
      "말을 걸어 주세요 : 그만하죠\n",
      "챗봇 : 잘 해결 되 길 바랄 게요 \n",
      "\n",
      "말을 걸어 주세요 : q\n"
     ]
    }
   ],
   "source": [
    "# 코드를 입력하세요\n",
    "while True:\n",
    "    user_input= input('말을 걸어 주세요 : ')\n",
    "    if user_input == 'q':\n",
    "        break\n",
    "    answer = run_chatbot(user_input)\n",
    "    print(f'챗봇 : {answer}\\n')\n",
    "\n"
   ]
  },
  {
   "cell_type": "code",
   "execution_count": null,
   "metadata": {
    "id": "yTUSy78GdxD8"
   },
   "outputs": [],
   "source": []
  }
 ],
 "metadata": {
  "accelerator": "GPU",
  "colab": {
   "collapsed_sections": [],
   "name": "[문제]_seq2seq모델을_활용한_챗봇_만들기.ipynb",
   "provenance": []
  },
  "kernelspec": {
   "display_name": "Python 3 (ipykernel)",
   "language": "python",
   "name": "python3"
  },
  "language_info": {
   "codemirror_mode": {
    "name": "ipython",
    "version": 3
   },
   "file_extension": ".py",
   "mimetype": "text/x-python",
   "name": "python",
   "nbconvert_exporter": "python",
   "pygments_lexer": "ipython3",
   "version": "3.7.3"
  }
 },
 "nbformat": 4,
 "nbformat_minor": 1
}
