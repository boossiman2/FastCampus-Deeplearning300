{
  "nbformat": 4,
  "nbformat_minor": 0,
  "metadata": {
    "accelerator": "GPU",
    "colab": {
      "name": "[문제] LSTM을 활용해 주가 예측 모델 구현하기",
      "provenance": [],
      "collapsed_sections": []
    },
    "kernelspec": {
      "display_name": "Python 3",
      "language": "python",
      "name": "python3"
    },
    "language_info": {
      "codemirror_mode": {
        "name": "ipython",
        "version": 3
      },
      "file_extension": ".py",
      "mimetype": "text/x-python",
      "name": "python",
      "nbconvert_exporter": "python",
      "pygments_lexer": "ipython3",
      "version": "3.6.10"
    }
  },
  "cells": [
    {
      "cell_type": "markdown",
      "metadata": {
        "id": "OF9lUuqwBudU"
      },
      "source": [
        "# 주제 : LSTM을 활용해 주가 예측 모델 구현하기"
      ]
    },
    {
      "cell_type": "markdown",
      "metadata": {
        "id": "G-rOVLn7Budf"
      },
      "source": [
        "이번 튜토리얼 에서는 다음과 같은 **프로세스 파이프라인**으로 주가 예측을 진행합니다.\n",
        "\n",
        "- FinanceDataReader를 활용하여 주가 데이터 받아오기\n",
        "- TensorFlow Dataset 클래스를 활용하여 주가 데이터 구축\n",
        "- LSTM 을 활용한 주가 예측 모델 구축"
      ]
    },
    {
      "cell_type": "markdown",
      "metadata": {
        "id": "UshzfuK6CJX4"
      },
      "source": [
        "## Step 1. 데이터 불러오기 및 EDA"
      ]
    },
    {
      "cell_type": "markdown",
      "metadata": {
        "id": "EZFBO9GwBudh"
      },
      "source": [
        "### 문제 01. 필요한 모듈 import"
      ]
    },
    {
      "cell_type": "code",
      "metadata": {
        "id": "pYEgcrR1Budi"
      },
      "source": [
        "import pandas as pd\n",
        "import numpy as np\n",
        "import matplotlib.pyplot as plt\n",
        "import seaborn as sns\n",
        "import warnings\n",
        "import os\n",
        "\n",
        "%matplotlib inline\n",
        "warnings.filterwarnings('ignore')\n",
        "\n",
        "plt.rcParams['font.family'] = 'NanumGothic'"
      ],
      "execution_count": null,
      "outputs": []
    },
    {
      "cell_type": "markdown",
      "metadata": {
        "id": "5N-NMRFVBudi"
      },
      "source": [
        "### 문제 02. FinanceDataReader import"
      ]
    },
    {
      "cell_type": "markdown",
      "metadata": {
        "id": "a7FGN9gGBudj"
      },
      "source": [
        "**FinanceDataReader**는 주가 데이터를 편리하게 가져올 수 있는 파이썬 패키지입니다.\n",
        "\n",
        "- [GitHub Repo](https://github.com/FinanceData/FinanceDataReader)"
      ]
    },
    {
      "cell_type": "markdown",
      "metadata": {
        "id": "o6_RB59yBudj"
      },
      "source": [
        "**FinanceDataReader**가 아직 설치 되지 않으신 분들은 아래의 주석을 해제한 후 명령어로 설치해 주시기 바랍니다."
      ]
    },
    {
      "cell_type": "code",
      "metadata": {
        "id": "99EggRzTBudk"
      },
      "source": [
        "!pip install finance-datareader"
      ],
      "execution_count": null,
      "outputs": []
    },
    {
      "cell_type": "code",
      "metadata": {
        "id": "4vkRR9dQBudk"
      },
      "source": [
        "import FinanceDataReader as fdr"
      ],
      "execution_count": null,
      "outputs": []
    },
    {
      "cell_type": "markdown",
      "metadata": {
        "id": "x4C9neevEYYr"
      },
      "source": [
        "### 문제 03. 삼성전자 데이터 불러오기"
      ]
    },
    {
      "cell_type": "code",
      "metadata": {
        "id": "9IqphMM7Budl"
      },
      "source": [
        "# fdr 라이브러리를 활용해 삼성전자 주가 데이터를 불러오세요.\n",
        "# 대상 : 삼성전자(005930) 전체 (1996-11-05 ~ 현재)\n",
        "samsung = "
      ],
      "execution_count": null,
      "outputs": []
    },
    {
      "cell_type": "markdown",
      "metadata": {
        "id": "T-WOxATwBudl"
      },
      "source": [
        "매우 편리하게 삼성전자 주가 데이터를 `DataFrame`형식으로 받아옵니다.\n",
        "\n",
        "기본 **오름차순 정렬**이 된 데이터임을 알 수 있습니다.\n",
        "\n",
        "### 컬럼 설명\n",
        "\n",
        "- `Open`:   시가\n",
        "- `High`:   고가\n",
        "- `Low`:    저가\n",
        "- `Close`:  종가\n",
        "- `Volume`: 거래량\n",
        "- `Change`: 대비"
      ]
    },
    {
      "cell_type": "markdown",
      "metadata": {
        "id": "K9w60KnkEeqW"
      },
      "source": [
        "### 문제 04. 삼성전자 데이터 EDA"
      ]
    },
    {
      "cell_type": "code",
      "metadata": {
        "id": "WfLJ5zHXBudl"
      },
      "source": [
        ""
      ],
      "execution_count": null,
      "outputs": []
    },
    {
      "cell_type": "markdown",
      "metadata": {
        "id": "C0i4k1S-Budn"
      },
      "source": [
        "**미국 주식 데이터**도 가져올 수 있습니다."
      ]
    },
    {
      "cell_type": "markdown",
      "metadata": {
        "id": "ubGAbVaxEjGG"
      },
      "source": [
        "### 문제 05. 애플 데이터 불러오기"
      ]
    },
    {
      "cell_type": "code",
      "metadata": {
        "id": "_4isQ8KTBudn"
      },
      "source": [
        "# fdr 라이브러리를 활용해 Apple(AAPL) 데이터를 불러오세요.\n",
        "apple = "
      ],
      "execution_count": null,
      "outputs": []
    },
    {
      "cell_type": "markdown",
      "metadata": {
        "id": "addJd0MGE6RD"
      },
      "source": [
        "### 문제 06. 애플 데이터 EDA"
      ]
    },
    {
      "cell_type": "code",
      "metadata": {
        "id": "-0JPVT6UBudn",
        "outputId": "8d3cff02-b2fa-40d4-dae7-9b60958eb6f7"
      },
      "source": [
        ""
      ],
      "execution_count": null,
      "outputs": [
        {
          "output_type": "execute_result",
          "data": {
            "text/html": [
              "<div>\n",
              "<style scoped>\n",
              "    .dataframe tbody tr th:only-of-type {\n",
              "        vertical-align: middle;\n",
              "    }\n",
              "\n",
              "    .dataframe tbody tr th {\n",
              "        vertical-align: top;\n",
              "    }\n",
              "\n",
              "    .dataframe thead th {\n",
              "        text-align: right;\n",
              "    }\n",
              "</style>\n",
              "<table border=\"1\" class=\"dataframe\">\n",
              "  <thead>\n",
              "    <tr style=\"text-align: right;\">\n",
              "      <th></th>\n",
              "      <th>Close</th>\n",
              "      <th>Open</th>\n",
              "      <th>High</th>\n",
              "      <th>Low</th>\n",
              "      <th>Volume</th>\n",
              "      <th>Change</th>\n",
              "    </tr>\n",
              "    <tr>\n",
              "      <th>Date</th>\n",
              "      <th></th>\n",
              "      <th></th>\n",
              "      <th></th>\n",
              "      <th></th>\n",
              "      <th></th>\n",
              "      <th></th>\n",
              "    </tr>\n",
              "  </thead>\n",
              "  <tbody>\n",
              "    <tr>\n",
              "      <th>2020-12-18</th>\n",
              "      <td>126.65</td>\n",
              "      <td>128.96</td>\n",
              "      <td>129.10</td>\n",
              "      <td>126.12</td>\n",
              "      <td>192540000.0</td>\n",
              "      <td>-0.0159</td>\n",
              "    </tr>\n",
              "    <tr>\n",
              "      <th>2020-12-21</th>\n",
              "      <td>128.23</td>\n",
              "      <td>125.03</td>\n",
              "      <td>128.26</td>\n",
              "      <td>123.47</td>\n",
              "      <td>121250000.0</td>\n",
              "      <td>0.0124</td>\n",
              "    </tr>\n",
              "    <tr>\n",
              "      <th>2020-12-22</th>\n",
              "      <td>131.88</td>\n",
              "      <td>131.68</td>\n",
              "      <td>134.40</td>\n",
              "      <td>129.66</td>\n",
              "      <td>169350000.0</td>\n",
              "      <td>0.0285</td>\n",
              "    </tr>\n",
              "    <tr>\n",
              "      <th>2020-12-23</th>\n",
              "      <td>130.96</td>\n",
              "      <td>132.18</td>\n",
              "      <td>132.32</td>\n",
              "      <td>130.83</td>\n",
              "      <td>88220000.0</td>\n",
              "      <td>-0.0070</td>\n",
              "    </tr>\n",
              "    <tr>\n",
              "      <th>2020-12-24</th>\n",
              "      <td>131.99</td>\n",
              "      <td>131.19</td>\n",
              "      <td>133.46</td>\n",
              "      <td>131.10</td>\n",
              "      <td>52790000.0</td>\n",
              "      <td>0.0079</td>\n",
              "    </tr>\n",
              "  </tbody>\n",
              "</table>\n",
              "</div>"
            ],
            "text/plain": [
              "             Close    Open    High     Low       Volume  Change\n",
              "Date                                                           \n",
              "2020-12-18  126.65  128.96  129.10  126.12  192540000.0 -0.0159\n",
              "2020-12-21  128.23  125.03  128.26  123.47  121250000.0  0.0124\n",
              "2020-12-22  131.88  131.68  134.40  129.66  169350000.0  0.0285\n",
              "2020-12-23  130.96  132.18  132.32  130.83   88220000.0 -0.0070\n",
              "2020-12-24  131.99  131.19  133.46  131.10   52790000.0  0.0079"
            ]
          },
          "metadata": {
            "tags": []
          },
          "execution_count": 7
        }
      ]
    },
    {
      "cell_type": "markdown",
      "metadata": {
        "id": "3FmQB8fOBudo"
      },
      "source": [
        "### 문제 07. 특정 시점(2017년) 이후 데이터 불러오기"
      ]
    },
    {
      "cell_type": "code",
      "metadata": {
        "id": "96jnHiNtBudo"
      },
      "source": [
        "# Apple(AAPL), 2017년\n",
        "apple = "
      ],
      "execution_count": null,
      "outputs": []
    },
    {
      "cell_type": "code",
      "metadata": {
        "id": "T2smiyL7Budo"
      },
      "source": [
        ""
      ],
      "execution_count": null,
      "outputs": []
    },
    {
      "cell_type": "markdown",
      "metadata": {
        "id": "-ter25eMBudp"
      },
      "source": [
        "### 문제 08. 날짜를 지정하여 특정 범위(40년간) 데이터 불러오기"
      ]
    },
    {
      "cell_type": "code",
      "metadata": {
        "id": "vyR92-HABudp"
      },
      "source": [
        "# Ford(F), 1980-01-01 ~ 2019-12-30 (40년 데이터)\n",
        "ford ="
      ],
      "execution_count": null,
      "outputs": []
    },
    {
      "cell_type": "code",
      "metadata": {
        "id": "j1N0Y2XXBudp"
      },
      "source": [
        ""
      ],
      "execution_count": null,
      "outputs": []
    },
    {
      "cell_type": "markdown",
      "metadata": {
        "id": "BxmJoqteBudq"
      },
      "source": [
        "### 문제 09. '금'과 '달러' 데이터도 가져올 수 있습니다. 두 데이터를 불러와 head를 출력해보세요."
      ]
    },
    {
      "cell_type": "markdown",
      "metadata": {
        "id": "WEJpAQ7EBudq"
      },
      "source": [
        "*[GitHub 페이지 링크](https://github.com/FinanceData/FinanceDataReader) 참고"
      ]
    },
    {
      "cell_type": "code",
      "metadata": {
        "id": "Rv85AHqkGJp0"
      },
      "source": [
        "# 금 선물 가격\r\n"
      ],
      "execution_count": null,
      "outputs": []
    },
    {
      "cell_type": "code",
      "metadata": {
        "id": "whRbcKezGJ5V"
      },
      "source": [
        "# 달러 가격\r\n"
      ],
      "execution_count": null,
      "outputs": []
    },
    {
      "cell_type": "markdown",
      "metadata": {
        "id": "RJtxeKQm0l2w"
      },
      "source": [
        "### 문제 10. 삼성전자 데이터를 STOCK_CODE에 저장하고 인덱스를 확인해보세요"
      ]
    },
    {
      "cell_type": "code",
      "metadata": {
        "id": "_8Gy3cagBudr"
      },
      "source": [
        "# 문제 03과 코드는 동일합니다.\n",
        "# 삼성전자 주식코드: 005930\n",
        "STOCK_CODE ="
      ],
      "execution_count": null,
      "outputs": []
    },
    {
      "cell_type": "code",
      "metadata": {
        "id": "xx8f86AgBudr"
      },
      "source": [
        "# fdr 라이브러리를 활용해 삼성전자 데이터를 불러오세요 \n",
        "stock = "
      ],
      "execution_count": null,
      "outputs": []
    },
    {
      "cell_type": "code",
      "metadata": {
        "id": "-jBfNkQVBuds"
      },
      "source": [
        ""
      ],
      "execution_count": null,
      "outputs": []
    },
    {
      "cell_type": "code",
      "metadata": {
        "id": "3VgxOeT3Buds"
      },
      "source": [
        ""
      ],
      "execution_count": null,
      "outputs": []
    },
    {
      "cell_type": "code",
      "metadata": {
        "id": "y9NRSMYTBuds"
      },
      "source": [
        "# 인덱스를 확인해보세요.\r\n"
      ],
      "execution_count": null,
      "outputs": []
    },
    {
      "cell_type": "markdown",
      "metadata": {
        "id": "Ngpi6jHxMsz7"
      },
      "source": [
        "## Step 2. 시계열 데이터 시각화"
      ]
    },
    {
      "cell_type": "markdown",
      "metadata": {
        "id": "B1loczVzBudt"
      },
      "source": [
        "\n",
        "### 문제 11. 인덱스가 `DatetimeIndex`로 정의되어 있다면, 연도, 월, 일을 쪼갤 수 있습니다. 데이터를 분리해주세요."
      ]
    },
    {
      "cell_type": "code",
      "metadata": {
        "id": "fif43Fh-0l4L"
      },
      "source": [
        "stock['Year'] = \n",
        "stock['Month'] = \n",
        "stock['Day'] = "
      ],
      "execution_count": null,
      "outputs": []
    },
    {
      "cell_type": "code",
      "metadata": {
        "id": "0yAKE9Ag0l4S"
      },
      "source": [
        ""
      ],
      "execution_count": null,
      "outputs": []
    },
    {
      "cell_type": "markdown",
      "metadata": {
        "id": "ZpeXdWzWG2KO"
      },
      "source": [
        "### 문제 12. 연도별, 월별 피봇테이블을 각각 구현해보세요."
      ]
    },
    {
      "cell_type": "code",
      "metadata": {
        "id": "L73tGJhhG9Av"
      },
      "source": [
        ""
      ],
      "execution_count": null,
      "outputs": []
    },
    {
      "cell_type": "code",
      "metadata": {
        "id": "mFfwNxvWG9Uz"
      },
      "source": [
        ""
      ],
      "execution_count": null,
      "outputs": []
    },
    {
      "cell_type": "markdown",
      "metadata": {
        "id": "5FBTlube0l4d"
      },
      "source": [
        "### 문제 13. matplotlib을 활용해 시간에 따른 주식 가격 시계열 그래프를 그려보세요."
      ]
    },
    {
      "cell_type": "code",
      "metadata": {
        "id": "MWcaWEa80l4o"
      },
      "source": [
        "plt.figure(figsize=(16, 9))\n",
        "# 코드를 이어서 작성해주세요.\n"
      ],
      "execution_count": null,
      "outputs": []
    },
    {
      "cell_type": "markdown",
      "metadata": {
        "id": "fTr5lZHpHLCc"
      },
      "source": [
        "### 문제 14. subplots를 활용해 그래프 4개(2,2)를 동시에 그려보세요."
      ]
    },
    {
      "cell_type": "code",
      "metadata": {
        "id": "YHjPfMPjBudw"
      },
      "source": [
        "# 1990~2000, 2000~2010, 2010~2015, 2015~2020\n",
        "time_steps = \n",
        "\n",
        "fig, axes = \n",
        "\n",
        "for i in range(4):\n",
        "    ax = #코드를 작성해주세요\n",
        "    df = #코드를 작성해주세요\n",
        "plt.tight_layout()\n",
        "plt.show()"
      ],
      "execution_count": null,
      "outputs": []
    },
    {
      "cell_type": "markdown",
      "metadata": {
        "id": "IyLCGJyTNAtc"
      },
      "source": [
        "## Step 3. 시계열 데이터의 전처리"
      ]
    },
    {
      "cell_type": "markdown",
      "metadata": {
        "id": "CDgThJtbBudw"
      },
      "source": [
        "### 문제 15. MinMaxScaler를 활요해 데이터 전처리를 수행합니다."
      ]
    },
    {
      "cell_type": "markdown",
      "metadata": {
        "id": "srjf2-yXBudx"
      },
      "source": [
        "주가 데이터에 대하여 딥러닝 모델이 더 잘 학습할 수 있도록 **정규화(Normalization)**를 해주도록 하겠습니다.\n",
        "\n",
        "**표준화 (Standardization)**와 **정규화(Normalization)**에 대한 내용은 아래 링크에서 더 자세히 다루니, 참고해 보시기 바랍니다.\n",
        "\n",
        "- [데이터 전처리에 관하여](https://teddylee777.github.io/scikit-learn/scikit-learn-preprocessing)"
      ]
    },
    {
      "cell_type": "code",
      "metadata": {
        "id": "4-4PgRMZ0l5Q"
      },
      "source": [
        "from sklearn.preprocessing import MinMaxScaler\n",
        "\n",
        "scaler = #MinMaxScaler 할당\n",
        "# 스케일을 적용할 column을 정의합니다.\n",
        "scale_cols = \n",
        "# 스케일 후 columns\n",
        "scaled = "
      ],
      "execution_count": null,
      "outputs": []
    },
    {
      "cell_type": "markdown",
      "metadata": {
        "id": "sQQhs9BoBudx"
      },
      "source": [
        "스케일이 완료된 column으로 새로운 데이터프레임을 생성합니다.\n",
        "\n",
        "**시간 순으로 정렬**되어 있으며, datetime index는 제외했습니다.\n",
        "\n",
        "*6,000개의 row, 5개 column*으로 이루어진 데이터셋이 DataFrame으로 정리되었습니다."
      ]
    },
    {
      "cell_type": "code",
      "metadata": {
        "id": "dIJjE21B0l5m"
      },
      "source": [
        "# 아래 코드는 그대로 실행해주세요.\n",
        "df = pd.DataFrame(scaled, columns=scale_cols)"
      ],
      "execution_count": null,
      "outputs": []
    },
    {
      "cell_type": "markdown",
      "metadata": {
        "id": "o91qHBM9Budy"
      },
      "source": [
        "### 문제 16. 모델 학습을 위해 train 데이터와 test 데이터로 분할해주세요."
      ]
    },
    {
      "cell_type": "code",
      "metadata": {
        "id": "EfLaczmvBudy"
      },
      "source": [
        "from sklearn.model_selection import train_test_split"
      ],
      "execution_count": null,
      "outputs": []
    },
    {
      "cell_type": "code",
      "metadata": {
        "id": "lWJLgnIZBudy"
      },
      "source": [
        "# Close 컬럼이 예측할 데이터입니다.\n",
        "# test_size는 0.2, random_state는 0으로 지정해주세요.\n",
        "# shuffle을 수행하지 않습니다.\n",
        "x_train, x_test, y_train, y_test = "
      ],
      "execution_count": null,
      "outputs": []
    },
    {
      "cell_type": "markdown",
      "metadata": {
        "id": "WIZKmyXKJXGI"
      },
      "source": [
        "### 문제 17. train 데이터와 test 데이터의 shape을 각각 살펴봅니다."
      ]
    },
    {
      "cell_type": "code",
      "metadata": {
        "id": "DB9gnTXzBudz"
      },
      "source": [
        ""
      ],
      "execution_count": null,
      "outputs": []
    },
    {
      "cell_type": "code",
      "metadata": {
        "id": "lNLz-MYcBudz"
      },
      "source": [
        ""
      ],
      "execution_count": null,
      "outputs": []
    },
    {
      "cell_type": "code",
      "metadata": {
        "id": "8DK9YaozBudz"
      },
      "source": [
        ""
      ],
      "execution_count": null,
      "outputs": []
    },
    {
      "cell_type": "markdown",
      "metadata": {
        "id": "qr3eGxuxBud0"
      },
      "source": [
        "### 문제 18. TensroFlow Dataset을 활용해 시퀀스 데이터셋을 함수로 구현해주세요"
      ]
    },
    {
      "cell_type": "code",
      "metadata": {
        "id": "wOTgC-y2Bud0"
      },
      "source": [
        "import tensorflow as tf"
      ],
      "execution_count": null,
      "outputs": []
    },
    {
      "cell_type": "code",
      "metadata": {
        "id": "yOlPdfrsBud0"
      },
      "source": [
        "def windowed_dataset():\n",
        "    series = \n",
        "    ds = \n",
        "    if shuffle:\n",
        "        ds = ds.shuffle(1000)\n",
        "    ds = ds.map(#코드 작성)\n",
        "    return ds.batch(batch_size).prefetch(1)"
      ],
      "execution_count": null,
      "outputs": []
    },
    {
      "cell_type": "markdown",
      "metadata": {
        "id": "4UT0af9ANPTF"
      },
      "source": [
        "## Step 4. 모델 구현하기"
      ]
    },
    {
      "cell_type": "markdown",
      "metadata": {
        "id": "ht3fvb2kBud0"
      },
      "source": [
        "### 문제 19. Hyperparameter를 정의하고 데이터에 적용해주세요."
      ]
    },
    {
      "cell_type": "code",
      "metadata": {
        "id": "C894WM_pBud1"
      },
      "source": [
        "# 아래 코드는 그대로 실행해주세요.\n",
        "WINDOW_SIZE=20\n",
        "BATCH_SIZE=32"
      ],
      "execution_count": null,
      "outputs": []
    },
    {
      "cell_type": "code",
      "metadata": {
        "id": "81VrjjujBud1"
      },
      "source": [
        "# trian_data는 학습용 데이터셋, test_data는 검증용 데이터셋 입니다.\n",
        "# WINDOW_SIZE와 BATCH_SIZE를 각 데이터셋에 적용해주세요.\n",
        "train_data = windowed_dataset(#코드 작성\n",
        "test_data = windowed_dataset(#코드 작성"
      ],
      "execution_count": null,
      "outputs": []
    },
    {
      "cell_type": "code",
      "metadata": {
        "id": "aYPa6fkNBud1",
        "outputId": "89231cd5-d741-4e73-928a-21767e485d33"
      },
      "source": [
        "# 아래의 코드로 데이터셋의 구성을 확인해 볼 수 있습니다. 그대로 실행해보고, 데이터의 shape을 살펴보세요.\n",
        "# X: (batch_size, window_size, feature)\n",
        "# Y: (batch_size, feature)\n",
        "for data in train_data.take(1):\n",
        "    print(f'데이터셋(X) 구성(batch_size, window_size, feature갯수): {data[0].shape}')\n",
        "    print(f'데이터셋(Y) 구성(batch_size, window_size, feature갯수): {data[1].shape}')"
      ],
      "execution_count": null,
      "outputs": [
        {
          "output_type": "stream",
          "text": [
            "데이터셋(X) 구성(batch_size, window_size, feature갯수): (32, 20, 1)\n",
            "데이터셋(Y) 구성(batch_size, window_size, feature갯수): (32, 1)\n"
          ],
          "name": "stdout"
        }
      ]
    },
    {
      "cell_type": "markdown",
      "metadata": {
        "id": "rSmSQt-wBud1"
      },
      "source": [
        "### 문제 20. Sequential 모델을 구현합니다. "
      ]
    },
    {
      "cell_type": "code",
      "metadata": {
        "id": "mAkmGu1j0l8M"
      },
      "source": [
        "from tensorflow.keras.models import Sequential\n",
        "from tensorflow.keras.layers import Dense, LSTM, Conv1D, Lambda\n",
        "from tensorflow.keras.losses import Huber\n",
        "from tensorflow.keras.optimizers import Adam\n",
        "from tensorflow.keras.callbacks import EarlyStopping, ModelCheckpoint\n",
        "\n",
        "\n",
        "model = Sequential([\n",
        "    # 1차원 feature map 생성합니다. filters는 32로, kernel_size는 5로 지정해주세요.\n",
        "    \n",
        "\n",
        "    # LSTM과 Dense 레이어를 사용해주세요. 필요한 경우 활성함수는 relu로 지정합니다.\n",
        "    \n",
        "])"
      ],
      "execution_count": null,
      "outputs": []
    },
    {
      "cell_type": "markdown",
      "metadata": {
        "id": "52H4IgnELRRt"
      },
      "source": [
        "### 문제 21. 모델을 Compile합니다. loss는 Huber 함수를 사용하고 optimizer는 Adam을 사용해주세요."
      ]
    },
    {
      "cell_type": "code",
      "metadata": {
        "id": "xShll_EX0l8T"
      },
      "source": [
        "# Sequence 학습에 비교적 좋은 퍼포먼스를 내는 Huber()를 사용합니다.\n",
        "loss = \n",
        "\n",
        "model.compile()"
      ],
      "execution_count": null,
      "outputs": []
    },
    {
      "cell_type": "code",
      "metadata": {
        "id": "whZcvxsKBud2"
      },
      "source": [
        "# earlystopping은 10번 epoch통안 val_loss 개선이 없다면 학습을 멈춥니다.\n",
        "earlystopping = \n",
        "# val_loss 기준 체크포인터도 생성합니다.\n",
        "filename = \n",
        "checkpoint = ModelCheckpoint()"
      ],
      "execution_count": null,
      "outputs": []
    },
    {
      "cell_type": "code",
      "metadata": {
        "id": "y9OuVTeBBud2"
      },
      "source": [
        "# callbacks로 앞에서 구현한 earlystopping과 checkpoint를 지정해주세요.\n",
        "history ="
      ],
      "execution_count": null,
      "outputs": []
    },
    {
      "cell_type": "markdown",
      "metadata": {
        "id": "L0LQMnc-NZXo"
      },
      "source": [
        "## Step 5. 모델을 활용한 예측 및 결과 시각화"
      ]
    },
    {
      "cell_type": "markdown",
      "metadata": {
        "id": "qDTIxmbVBud3"
      },
      "source": [
        "### 문제 24. 저장한 ModelCheckpoint 를 불러옵니다."
      ]
    },
    {
      "cell_type": "code",
      "metadata": {
        "id": "RoPIDRSo32f-"
      },
      "source": [
        ""
      ],
      "execution_count": null,
      "outputs": []
    },
    {
      "cell_type": "markdown",
      "metadata": {
        "id": "x0-oum0bBud3"
      },
      "source": [
        "### 문제 25. `test_data`를 활용하여 예측을 수행합니다."
      ]
    },
    {
      "cell_type": "code",
      "metadata": {
        "id": "WxAxSLNL0l8Z"
      },
      "source": [
        "pred ="
      ],
      "execution_count": null,
      "outputs": []
    },
    {
      "cell_type": "code",
      "metadata": {
        "id": "yMPXjSQ10l8d"
      },
      "source": [
        ""
      ],
      "execution_count": null,
      "outputs": []
    },
    {
      "cell_type": "markdown",
      "metadata": {
        "id": "jaWpXnQf6zMt"
      },
      "source": [
        "### 문제 26. matplotlib을 활용해 예측 데이터를 시각화해주세요."
      ]
    },
    {
      "cell_type": "markdown",
      "metadata": {
        "id": "Vq2_mc7fBud4"
      },
      "source": [
        "아래 시각화 코드중 y_test 데이터에 **[20:]**으로 슬라이싱을 한 이유는\n",
        "\n",
        "예측 데이터에서 20일치의 데이터로 21일치를 예측해야하기 때문에 test_data로 예측 시 *앞의 20일은 예측하지 않습니다.*\n",
        "\n",
        "따라서, 20번 째 index와 비교하면 더욱 정확합니다."
      ]
    },
    {
      "cell_type": "code",
      "metadata": {
        "id": "2F4QQ1O_0l8m"
      },
      "source": [
        "# 20일치의 데이터로 21일치를 예측하므로 test_data 사용시 이전 20일은 예측하지 않습니다.\n",
        "# 따라서 y_test 데이터에 [20:]로 슬라이싱해주세요.\n",
        "plt.figure(figsize=(12, 9))\n",
        "\n",
        "\n",
        "plt.legend()\n",
        "plt.show()"
      ],
      "execution_count": null,
      "outputs": []
    }
  ]
}