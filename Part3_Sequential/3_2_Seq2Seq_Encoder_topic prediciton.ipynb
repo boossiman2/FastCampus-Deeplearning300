{
 "cells": [
  {
   "cell_type": "markdown",
   "metadata": {
    "id": "oR0VJlz7mi5A"
   },
   "source": [
    "\n",
    "# 주제 : Seq2Seq의 Encoder로 뉴스기사 토픽 예측하기\n",
    "--------------\n",
    "## 실습 가이드\n",
    "    1. 데이터를 다운로드하여 Colab에 불러옵니다.\n",
    "    2. 필요한 라이브러리는 모두 코드로 작성되어 있습니다.\n",
    "    3. 코드는 위에서부터 아래로 순서대로 실행합니다.\n",
    "    4. 전체 문제 구성은 좌측 첫 번째 아이콘을 통해 확인할 수 있습니다.\n",
    "\n",
    "## 데이터 소개\n",
    "    - 이번 주제는 뉴스기사 데이터는 reuters Dataset을 사용합니다.\n",
    "    - reuters Dataset은 11,228개의 뉴스기사와 46개의 주제를 가지고 있습니다.\n",
    "    - 모든 단어는 빈도에 따른 정수로 교체 되어있습니다.\n",
    "    - 관례적으로 정수 0은 특정 단어를 나타내는 것으로 사용하지 않습니다.\n",
    "    - 학습 데이터와 정답 데이터는, 각각의 아래와 같습니다.\n",
    "    \n",
    "    1. train_text\n",
    "      [\n",
    "        [1,20, 432, 12, 312, ...],\n",
    "        [42, 21, 111, 1213, ...],\n",
    "        ...\n",
    "      ]\n",
    "    \n",
    "    2. train_answer\n",
    "      [\n",
    "         3,  4,  3, ..., 25,  3\n",
    "      ]\n",
    "\n",
    "    \n",
    "- 데이터 출처: [reuters](https://archive.ics.uci.edu/ml/datasets/reuters-21578+text+categorization+collection)\n",
    "\n",
    "\n",
    "## 최종 목표\n",
    "    - Seq2Seq 기반 모델의 이해\n",
    "    - word embedding 이해\n",
    "    - 시계열 데이터 학습 이해\n",
    "    \n",
    "  - 출제자 : 손근영 강사\n"
   ]
  },
  {
   "cell_type": "code",
   "execution_count": 1,
   "metadata": {
    "executionInfo": {
     "elapsed": 2231,
     "status": "ok",
     "timestamp": 1622631692683,
     "user": {
      "displayName": "상혁",
      "photoUrl": "https://lh3.googleusercontent.com/a-/AOh14GhbIrRm98j_8TFO0cp-Q8R4GfLfDeQZml3g34kD=s64",
      "userId": "09602093014858836852"
     },
     "user_tz": -540
    },
    "id": "e7kl3hgkikbo"
   },
   "outputs": [],
   "source": [
    "import tensorflow as tf\n",
    "from tensorflow import keras\n",
    "from keras.layers import Dense\n",
    "from keras.models import Sequential\n",
    "\n",
    "import pandas as pd\n",
    "import numpy as np\n",
    "import matplotlib.pyplot as plt\n",
    "import seaborn as sns\n",
    "import warnings \n",
    "from IPython.display import Image\n",
    "\n",
    "warnings.filterwarnings('ignore')\n",
    "%matplotlib inline\n",
    "\n",
    "SEED = 34"
   ]
  },
  {
   "cell_type": "markdown",
   "metadata": {
    "id": "4lgdg5xwPC4x"
   },
   "source": [
    "## Step 1. 도입전 기본 처리"
   ]
  },
  {
   "cell_type": "markdown",
   "metadata": {
    "id": "sxeWYNVxPC43"
   },
   "source": [
    "### 문제 1. reuters 데이터 살펴보기"
   ]
  },
  {
   "cell_type": "code",
   "execution_count": 2,
   "metadata": {
    "executionInfo": {
     "elapsed": 1247,
     "status": "ok",
     "timestamp": 1622632372781,
     "user": {
      "displayName": "상혁",
      "photoUrl": "https://lh3.googleusercontent.com/a-/AOh14GhbIrRm98j_8TFO0cp-Q8R4GfLfDeQZml3g34kD=s64",
      "userId": "09602093014858836852"
     },
     "user_tz": -540
    },
    "id": "J4NDkmelPC44"
   },
   "outputs": [],
   "source": [
    "# 데이터를 불러오는 코드를 작성해주세요.\n",
    "reuters = keras.datasets.reuters\n",
    "(train_text, train_topic), (test_text, test_topic) = reuters.load_data()"
   ]
  },
  {
   "cell_type": "markdown",
   "metadata": {
    "id": "rFpSKytFPC47"
   },
   "source": [
    "### 문제 2. train_text/topic와 test_text/topic의 shape을 출력해보세요."
   ]
  },
  {
   "cell_type": "code",
   "execution_count": 3,
   "metadata": {
    "colab": {
     "base_uri": "https://localhost:8080/"
    },
    "executionInfo": {
     "elapsed": 382,
     "status": "ok",
     "timestamp": 1622632375716,
     "user": {
      "displayName": "상혁",
      "photoUrl": "https://lh3.googleusercontent.com/a-/AOh14GhbIrRm98j_8TFO0cp-Q8R4GfLfDeQZml3g34kD=s64",
      "userId": "09602093014858836852"
     },
     "user_tz": -540
    },
    "id": "xHKWk6YcPC48",
    "outputId": "12c7c4d9-b90e-445c-9d61-7dff816a61f4"
   },
   "outputs": [
    {
     "name": "stdout",
     "output_type": "stream",
     "text": [
      "(8982,) (8982,)\n",
      "(2246,) (2246,)\n"
     ]
    }
   ],
   "source": [
    "# 데이터의 크기를 shape 함수를 통해 출력해주세요.\n",
    "print(train_text.shape, train_topic.shape)\n",
    "print(test_text.shape, test_topic.shape)"
   ]
  },
  {
   "cell_type": "code",
   "execution_count": 4,
   "metadata": {
    "colab": {
     "base_uri": "https://localhost:8080/"
    },
    "executionInfo": {
     "elapsed": 603,
     "status": "ok",
     "timestamp": 1622632412603,
     "user": {
      "displayName": "상혁",
      "photoUrl": "https://lh3.googleusercontent.com/a-/AOh14GhbIrRm98j_8TFO0cp-Q8R4GfLfDeQZml3g34kD=s64",
      "userId": "09602093014858836852"
     },
     "user_tz": -540
    },
    "id": "fRJDoM_oPC49",
    "outputId": "e6068646-24e7-4997-bf87-72b0a68e404d"
   },
   "outputs": [
    {
     "name": "stdout",
     "output_type": "stream",
     "text": [
      "object int64\n",
      "object int64\n"
     ]
    }
   ],
   "source": [
    "# train_text/topic의 dtype을 출력해보세요.\n",
    "print(train_text.dtype, train_topic.dtype)\n",
    "print(test_text.dtype, test_topic.dtype)"
   ]
  },
  {
   "cell_type": "markdown",
   "metadata": {
    "id": "rikliX9BPC4-"
   },
   "source": [
    "### 문제 3. train_text에서 각 원소의 길이를 y축으로 bar plot를 그려보세요."
   ]
  },
  {
   "cell_type": "code",
   "execution_count": 5,
   "metadata": {
    "colab": {
     "base_uri": "https://localhost:8080/",
     "height": 283
    },
    "executionInfo": {
     "elapsed": 23420,
     "status": "ok",
     "timestamp": 1622632541589,
     "user": {
      "displayName": "상혁",
      "photoUrl": "https://lh3.googleusercontent.com/a-/AOh14GhbIrRm98j_8TFO0cp-Q8R4GfLfDeQZml3g34kD=s64",
      "userId": "09602093014858836852"
     },
     "user_tz": -540
    },
    "id": "yllyG8J6PC4-",
    "outputId": "1813ea3e-a8ac-4510-f8b2-2dd59e91f559"
   },
   "outputs": [
    {
     "data": {
      "image/png": "[encoded data removed]",
      "text/plain": [
       "<Figure size 432x288 with 1 Axes>"
      ]
     },
     "metadata": {
      "needs_background": "light"
     },
     "output_type": "display_data"
    }
   ],
   "source": [
    "# train_text에서 각 원소의 길이를 y축으로 bar plot를 그려보세요.\n",
    "plt.bar( range(len(train_text)), [len(text) for text in train_text] )\n",
    "plt.show()"
   ]
  },
  {
   "cell_type": "markdown",
   "metadata": {
    "id": "eKv9UoZAxTr6"
   },
   "source": [
    "## Step 2. 전처리"
   ]
  },
  {
   "cell_type": "markdown",
   "metadata": {
    "id": "ko4D-BpJTq2r"
   },
   "source": [
    "### 문제 4. train_text, test_text에서 등장한 정수들을 알아보자"
   ]
  },
  {
   "cell_type": "code",
   "execution_count": 6,
   "metadata": {
    "id": "waksbx9aT5tK"
   },
   "outputs": [
    {
     "name": "stdout",
     "output_type": "stream",
     "text": [
      "[1, 2, 4, 5, 6]\n",
      "[30977, 30978, 30979, 30980, 30981]\n"
     ]
    }
   ],
   "source": [
    "# train_text, test_text에서 등장한 정수들을 알아보자\n",
    "all_words = set([word for text in train_text for word in text]) | set([word for text in test_text for word in text])\n",
    "print( sorted(all_words)[:5] )\n",
    "print( sorted(all_words)[-5:] )"
   ]
  },
  {
   "cell_type": "markdown",
   "metadata": {
    "id": "hrmQ7HzEUKrz"
   },
   "source": [
    "### 문제 5. train_text와 test_text를 BOW 형태로 변경"
   ]
  },
  {
   "cell_type": "code",
   "execution_count": 7,
   "metadata": {
    "id": "fVzGHMSYUUKk"
   },
   "outputs": [],
   "source": [
    "# train_text와 test_text를 BOW 형태로 변경하세요.\n",
    "train_bow_text = tf.keras.preprocessing.sequence.pad_sequences(train_text, value = 0) # value = 0 빈 값\n",
    "test_bow_text = tf.keras.preprocessing.sequence.pad_sequences(test_text, value = 0)"
   ]
  },
  {
   "cell_type": "code",
   "execution_count": 8,
   "metadata": {},
   "outputs": [
    {
     "name": "stdout",
     "output_type": "stream",
     "text": [
      "(8982, 2376)\n",
      "(2246, 1032)\n"
     ]
    }
   ],
   "source": [
    "print(train_bow_text.shape)\n",
    "print(test_bow_text.shape)"
   ]
  },
  {
   "cell_type": "markdown",
   "metadata": {
    "id": "py8TgMSoaIDR"
   },
   "source": [
    "### 문제 6. train과 test에 나온 word들의 count를 측정해보자"
   ]
  },
  {
   "cell_type": "code",
   "execution_count": 9,
   "metadata": {},
   "outputs": [],
   "source": [
    "from collections import Counter"
   ]
  },
  {
   "cell_type": "code",
   "execution_count": 10,
   "metadata": {
    "id": "cLl6Zluoaa8M"
   },
   "outputs": [
    {
     "name": "stdout",
     "output_type": "stream",
     "text": [
      "[(4, 82723), (5, 42393), (6, 40350), (7, 33157), (8, 29978), (9, 29956), (10, 29581), (11, 20141), (12, 16668), (13, 15224)]\n"
     ]
    }
   ],
   "source": [
    "# train과 test에 나온 word들의 count를 측정해보자\n",
    "word_count = Counter()\n",
    "for text in train_text:\n",
    "    word_count.update(text)\n",
    "for text in test_text:\n",
    "    word_count.update(text)\n",
    "    \n",
    "print(word_count.most_common(10))"
   ]
  },
  {
   "cell_type": "markdown",
   "metadata": {
    "id": "fgpQYeMtMZ5q"
   },
   "source": [
    "### 문제 7. word_count를 이용해서 n번 미만으로 나온 word를 삭제하여 train과 test를 구성하여보자."
   ]
  },
  {
   "cell_type": "code",
   "execution_count": 11,
   "metadata": {
    "id": "dxaLDza9NhUn"
   },
   "outputs": [],
   "source": [
    "# word_count를 이용해서 n번 미만으로 나온 word를 삭제하여 train과 test를 구성하여보자.\n",
    "def cut_bv_count(texts, n):\n",
    "    return np.array([[word for word in text if word_count[word] >= n] for text in texts])"
   ]
  },
  {
   "cell_type": "code",
   "execution_count": 12,
   "metadata": {},
   "outputs": [],
   "source": [
    "train_cut_text = cut_bv_count(train_text, 20)\n",
    "test_cut_text = cut_bv_count(test_text, 20)"
   ]
  },
  {
   "cell_type": "code",
   "execution_count": 13,
   "metadata": {},
   "outputs": [
    {
     "name": "stdout",
     "output_type": "stream",
     "text": [
      "(8982,)\n",
      "(2246,)\n"
     ]
    }
   ],
   "source": [
    "# 단어가 사라진거지 배치가 사라진건 아님\n",
    "print(train_cut_text.shape) \n",
    "print(test_cut_text.shape)"
   ]
  },
  {
   "cell_type": "markdown",
   "metadata": {
    "id": "iMNw3eR8OzZ0"
   },
   "source": [
    "### 문제 8. pad 추가된 bow 형태로 변화하여 width 길이를 확인해보세요."
   ]
  },
  {
   "cell_type": "code",
   "execution_count": 14,
   "metadata": {
    "id": "ArlSTlZ2PBCz"
   },
   "outputs": [],
   "source": [
    "# bow 형태로 변화하여 width 길이를 확인해보세요.\n",
    "train_cut_bow_text = tf.keras.preprocessing.sequence.pad_sequences(train_cut_text, value = 0)\n",
    "test_cut_bow_text = tf.keras.preprocessing.sequence.pad_sequences(test_cut_text, value = 0)"
   ]
  },
  {
   "cell_type": "code",
   "execution_count": 15,
   "metadata": {},
   "outputs": [
    {
     "name": "stdout",
     "output_type": "stream",
     "text": [
      "(8982, 2266) (2246, 995)\n"
     ]
    }
   ],
   "source": [
    "print(train_cut_bow_text.shape, test_cut_bow_text.shape)"
   ]
  },
  {
   "cell_type": "markdown",
   "metadata": {
    "id": "HeB-dqpqdPo7"
   },
   "source": [
    "### 문제 9. train_text/test_text에 길이 제한을 줘서 bow를 생성해보세요."
   ]
  },
  {
   "cell_type": "code",
   "execution_count": 16,
   "metadata": {
    "id": "vL2tt-E4dal9"
   },
   "outputs": [],
   "source": [
    "# train_text/test_text에 길이 제한을 줘서 bow를 생성해보세요.\n",
    "train_cut_bow_text2 = tf.keras.preprocessing.sequence.pad_sequences(train_text, value = 0, maxlen = 200)\n",
    "test_cut_bow_text2 = tf.keras.preprocessing.sequence.pad_sequences(test_text, value = 0, maxlen = 200)"
   ]
  },
  {
   "cell_type": "code",
   "execution_count": 17,
   "metadata": {},
   "outputs": [
    {
     "name": "stdout",
     "output_type": "stream",
     "text": [
      "(8982, 200) (2246, 200)\n"
     ]
    }
   ],
   "source": [
    "print(train_cut_bow_text2.shape, test_cut_bow_text2.shape)"
   ]
  },
  {
   "cell_type": "markdown",
   "metadata": {
    "id": "aQQ342SmgZIq"
   },
   "source": [
    "### 문제 10. topic을 onehot encoding으로 변경해보세요."
   ]
  },
  {
   "cell_type": "code",
   "execution_count": 18,
   "metadata": {
    "id": "GuLIzFt5gnCf"
   },
   "outputs": [],
   "source": [
    "# topic을 onehot encoding으로 변경해보세요.\n",
    "# np.unique(train_topic) # 45\n",
    "train_onehot_topic = keras.utils.to_categorical(train_topic)\n",
    "test_onehot_topic = keras.utils.to_categorical(test_topic)"
   ]
  },
  {
   "cell_type": "code",
   "execution_count": 19,
   "metadata": {},
   "outputs": [
    {
     "name": "stdout",
     "output_type": "stream",
     "text": [
      "(8982, 46) (2246, 46)\n"
     ]
    }
   ],
   "source": [
    "print(train_onehot_topic.shape, test_onehot_topic.shape)"
   ]
  },
  {
   "cell_type": "markdown",
   "metadata": {
    "id": "9i_IAkM6i2MR"
   },
   "source": [
    "### 문제 11. topic 인덱스를 text label로 변환하는 함수를 만드세요."
   ]
  },
  {
   "cell_type": "code",
   "execution_count": 20,
   "metadata": {
    "id": "x3aAmNuwi1hS"
   },
   "outputs": [],
   "source": [
    "#topic 인덱스를 text label로 변환하는 함수를 만드세요.\n",
    "raw_labels = ['cocoa','grain','veg-oil','earn','acq','wheat','copper','housing','money-supply',\n",
    "   'coffee','sugar','trade','reserves','ship','cotton','carcass','crude','nat-gas',\n",
    "   'cpi','money-fx','interest','gnp','meal-feed','alum','oilseed','gold','tin',\n",
    "   'strategic-metal','livestock','retail','ipi','iron-steel','rubber','heat','jobs',\n",
    "   'lei','bop','zinc','orange','pet-chem','dlr','gas','silver','wpi','hog','lead']"
   ]
  },
  {
   "cell_type": "code",
   "execution_count": 21,
   "metadata": {},
   "outputs": [],
   "source": [
    "def topic2label(idx):\n",
    "    return raw_labels[idx]"
   ]
  },
  {
   "cell_type": "code",
   "execution_count": 22,
   "metadata": {},
   "outputs": [
    {
     "name": "stdout",
     "output_type": "stream",
     "text": [
      "cocoa\n",
      "lead\n"
     ]
    }
   ],
   "source": [
    "print( topic2label(0) )\n",
    "print( topic2label(45))"
   ]
  },
  {
   "cell_type": "markdown",
   "metadata": {
    "id": "SMyUArry3UhT"
   },
   "source": [
    "## Step 3. 시각화 방법"
   ]
  },
  {
   "cell_type": "markdown",
   "metadata": {
    "id": "vDLHexaGUs17"
   },
   "source": [
    "### 문제 12. train_text의 길이 분포를 출력해보세요."
   ]
  },
  {
   "cell_type": "code",
   "execution_count": 23,
   "metadata": {
    "id": "1NYdCv1yUsKG"
   },
   "outputs": [
    {
     "data": {
      "image/png": "[encoded data removed]",
      "text/plain": [
       "<Figure size 432x288 with 1 Axes>"
      ]
     },
     "metadata": {
      "needs_background": "light"
     },
     "output_type": "display_data"
    }
   ],
   "source": [
    "# train_bow_text의 길이 분포를 출력해보세요.\n",
    "plt.hist( [len(s) for s in train_text], bins=100 )\n",
    "plt.show()"
   ]
  },
  {
   "cell_type": "markdown",
   "metadata": {
    "id": "LQZNyoQjWCj6"
   },
   "source": [
    "### 문제 13. train_cut_bow_text의 길이 분포를 출력해보세요."
   ]
  },
  {
   "cell_type": "code",
   "execution_count": 24,
   "metadata": {
    "id": "RJgB4BS2Wayg"
   },
   "outputs": [
    {
     "data": {
      "image/png": "[encoded data removed]",
      "text/plain": [
       "<Figure size 432x288 with 1 Axes>"
      ]
     },
     "metadata": {
      "needs_background": "light"
     },
     "output_type": "display_data"
    }
   ],
   "source": [
    "# train_bow_text의 길이 분포를 출력해보세요.\n",
    "plt.hist( [len(s) for s in train_cut_text], bins=100 )\n",
    "plt.show()"
   ]
  },
  {
   "cell_type": "markdown",
   "metadata": {
    "id": "gQTwSPM5dun1"
   },
   "source": [
    "### 문제 14. train_cut_bow_text2의 길이 분포를 출력해보세요."
   ]
  },
  {
   "cell_type": "code",
   "execution_count": 25,
   "metadata": {
    "id": "eSsC4D6Rd4aA"
   },
   "outputs": [
    {
     "data": {
      "image/png": "[encoded data removed]",
      "text/plain": [
       "<Figure size 432x288 with 1 Axes>"
      ]
     },
     "metadata": {
      "needs_background": "light"
     },
     "output_type": "display_data"
    }
   ],
   "source": [
    "# train_cut_bow_text2의 길이 분포를 출력해보세요.\n",
    "plt.hist( [len(s) for s in train_cut_bow_text2], bins=100)\n",
    "plt.show()"
   ]
  },
  {
   "cell_type": "markdown",
   "metadata": {
    "id": "ZVFMAQsqzVu0"
   },
   "source": [
    "### 문제 15. label 분포를 출력해보세요."
   ]
  },
  {
   "cell_type": "code",
   "execution_count": 26,
   "metadata": {
    "id": "F2a4bsnyzVu1"
   },
   "outputs": [
    {
     "data": {
      "image/png": "[encoded data removed]",
      "text/plain": [
       "<Figure size 432x288 with 1 Axes>"
      ]
     },
     "metadata": {
      "needs_background": "light"
     },
     "output_type": "display_data"
    }
   ],
   "source": [
    "# label 분포를 출력해보세요.\n",
    "plt.bar( np.unique(train_topic),list(map(lambda x:x[1], sorted(Counter(train_topic).items()))) )\n",
    "plt.show()"
   ]
  },
  {
   "cell_type": "code",
   "execution_count": 27,
   "metadata": {},
   "outputs": [
    {
     "data": {
      "image/png": "[encoded data removed]",
      "text/plain": [
       "<Figure size 432x288 with 1 Axes>"
      ]
     },
     "metadata": {
      "needs_background": "light"
     },
     "output_type": "display_data"
    }
   ],
   "source": [
    "plt.bar( *np.unique(train_topic, return_counts=True) )\n",
    "plt.show()"
   ]
  },
  {
   "cell_type": "markdown",
   "metadata": {
    "id": "mArcGUVQ_4Ou"
   },
   "source": [
    "### 문제 16. seabon을 이용하여 label 분포를 출력해보세요."
   ]
  },
  {
   "cell_type": "code",
   "execution_count": 28,
   "metadata": {
    "id": "Ylp3tzTezVu2"
   },
   "outputs": [
    {
     "data": {
      "image/png": "[encoded data removed]",
      "text/plain": [
       "<Figure size 432x288 with 1 Axes>"
      ]
     },
     "metadata": {
      "needs_background": "light"
     },
     "output_type": "display_data"
    }
   ],
   "source": [
    "# label 분포를 출력해보세요.\n",
    "sns.countplot(train_topic)\n",
    "plt.show()"
   ]
  },
  {
   "cell_type": "code",
   "execution_count": 29,
   "metadata": {},
   "outputs": [
    {
     "data": {
      "image/png": "[encoded data removed]",
      "text/plain": [
       "<Figure size 1440x360 with 1 Axes>"
      ]
     },
     "metadata": {
      "needs_background": "light"
     },
     "output_type": "display_data"
    }
   ],
   "source": [
    "sns.countplot( list(map(lambda x: topic2label(x), train_topic)) )\n",
    "plt.xticks(rotation=45)\n",
    "fig = plt.gcf()\n",
    "fig.set_size_inches(20, 5)\n",
    "plt.show()"
   ]
  },
  {
   "cell_type": "markdown",
   "metadata": {
    "id": "G1lGWgCIZkTF"
   },
   "source": [
    "### 문제 17. reuters.get_word_index()를 이용해서 text를 decode해보세요."
   ]
  },
  {
   "cell_type": "code",
   "execution_count": 30,
   "metadata": {
    "id": "Q6e8-yQvZqG8"
   },
   "outputs": [],
   "source": [
    "# reuters.get_word_index()를 이용해서 text를 decode해보세요.\n",
    "index_word = { y:x for x,y in reuters.get_word_index().items() }\n",
    "def bow2text(bow):\n",
    "    return ' '.join([index_word[idx] for idx in bow])"
   ]
  },
  {
   "cell_type": "code",
   "execution_count": 31,
   "metadata": {},
   "outputs": [
    {
     "name": "stdout",
     "output_type": "stream",
     "text": [
      "the wattie nondiscriminatory mln loss for plc said at only ended said commonwealth could 1 traders now april 0 a after said from 1985 and from foreign 000 april 0 prices its account year a but in this mln home an states earlier and rise and revs vs 000 its 16 vs 000 a but 3 psbr oils several and shareholders and dividend vs 000 its all 4 vs 000 1 mln agreed largely april 0 are 2 states will billion total and against 000 pct dlrs\n"
     ]
    }
   ],
   "source": [
    "print( bow2text(train_text[0]) )"
   ]
  },
  {
   "cell_type": "markdown",
   "metadata": {
    "id": "ow36DKdvxeo3"
   },
   "source": [
    "### 문제 18. train/test 데이터에서 문서당 가장 많은 횟수로 출현한 word 분포를 출력하세요."
   ]
  },
  {
   "cell_type": "code",
   "execution_count": 32,
   "metadata": {
    "id": "EquGdzbhxoXa"
   },
   "outputs": [
    {
     "data": {
      "image/png": "[encoded data removed]",
      "text/plain": [
       "<Figure size 432x288 with 1 Axes>"
      ]
     },
     "metadata": {
      "needs_background": "light"
     },
     "output_type": "display_data"
    }
   ],
   "source": [
    "# 문서당 가장 많은 횟수로 출현한 word 분포를 출력하세요.\n",
    "plt.plot( sorted( [np.unique(doc, return_counts=True)[1].argmax() for doc in train_text], reverse=True) )\n",
    "plt.show()"
   ]
  },
  {
   "cell_type": "markdown",
   "metadata": {
    "id": "l_cnJEsbzjKQ"
   },
   "source": [
    "### 문제 19. train/test 전체 문서 당 출현이 가장 높은 word 분포를 출력하세요."
   ]
  },
  {
   "cell_type": "code",
   "execution_count": 33,
   "metadata": {
    "id": "JSo-6vI0zzkq"
   },
   "outputs": [
    {
     "data": {
      "image/png": "[encoded data removed]",
      "text/plain": [
       "<Figure size 432x288 with 1 Axes>"
      ]
     },
     "metadata": {
      "needs_background": "light"
     },
     "output_type": "display_data"
    }
   ],
   "source": [
    "# train/test 전체 문서 당 출현이 가장 높은 word 분포를 출력하세요.\n",
    "table = np.zeros(len(all_words) + 2)\n",
    "for doc in train_text:\n",
    "    table[np.unique(doc)] += 1\n",
    "for doc in test_text:\n",
    "    table[np.unique(doc)] += 1\n",
    "plt.plot(sorted(table, reverse=True)[:500])\n",
    "plt.show()"
   ]
  },
  {
   "cell_type": "markdown",
   "metadata": {
    "id": "SS-jypo11pEt"
   },
   "source": [
    "## Step 4. Seq2Seq의 Encoder 이용 모델링"
   ]
  },
  {
   "cell_type": "markdown",
   "metadata": {
    "id": "JEy2Yz2dRt3S"
   },
   "source": [
    "### 문제 20. Encoder이용 classification 모델 구축"
   ]
  },
  {
   "cell_type": "code",
   "execution_count": 34,
   "metadata": {
    "id": "rDWsD2haRz4y"
   },
   "outputs": [],
   "source": [
    "# seq2seq 모델을 구축하고 학습모델, encoder를 획득하세요\n",
    "from keras.layers import Input, Embedding, GRU, Dense\n",
    "from keras.models import Model\n",
    "\n",
    "def seq2seq():\n",
    "    inputs_x_bow = Input(shape=(200,))\n",
    "    embedding = Embedding(len(index_word)+1, 120) # bow를 dense하게\n",
    "    x = embedding(inputs_x_bow)\n",
    "    z = GRU(64)(x) # Context vector return\n",
    "    y = Dense(46, activation='softmax')(z)\n",
    "    \n",
    "    model = Model(inputs_x_bow, y)\n",
    "    model.compile(loss = 'categorical_crossentropy', optimizer='adam', metrics=['acc'])\n",
    "    return model"
   ]
  },
  {
   "cell_type": "markdown",
   "metadata": {
    "id": "3ZWybbgyfeh-"
   },
   "source": [
    "### 문제 21. 학습 모델을 생성하고 summary를 출력하세요. "
   ]
  },
  {
   "cell_type": "code",
   "execution_count": 35,
   "metadata": {
    "id": "x0IFoo-Yfxfp"
   },
   "outputs": [],
   "source": [
    "# 학습 모델을 생성하고 summary를 출력하세요.\n",
    "model = seq2seq()"
   ]
  },
  {
   "cell_type": "code",
   "execution_count": 36,
   "metadata": {},
   "outputs": [
    {
     "name": "stdout",
     "output_type": "stream",
     "text": [
      "Model: \"model\"\n",
      "_________________________________________________________________\n",
      "Layer (type)                 Output Shape              Param #   \n",
      "=================================================================\n",
      "input_1 (InputLayer)         [(None, 200)]             0         \n",
      "_________________________________________________________________\n",
      "embedding (Embedding)        (None, 200, 120)          3717600   \n",
      "_________________________________________________________________\n",
      "gru (GRU)                    (None, 64)                35712     \n",
      "_________________________________________________________________\n",
      "dense (Dense)                (None, 46)                2990      \n",
      "=================================================================\n",
      "Total params: 3,756,302\n",
      "Trainable params: 3,756,302\n",
      "Non-trainable params: 0\n",
      "_________________________________________________________________\n"
     ]
    }
   ],
   "source": [
    "model.summary()"
   ]
  },
  {
   "cell_type": "markdown",
   "metadata": {
    "id": "7OpFGbD6V8Zl"
   },
   "source": [
    "### 문제 22. 모델을 학습해보세요."
   ]
  },
  {
   "cell_type": "code",
   "execution_count": 75,
   "metadata": {
    "id": "sFOJNRTvYo7d"
   },
   "outputs": [
    {
     "name": "stdout",
     "output_type": "stream",
     "text": [
      "Epoch 1/20\n",
      "281/281 [==============================] - 6s 23ms/step - loss: 0.0801 - acc: 0.9554 - val_loss: 2.2196 - val_acc: 0.6687\n",
      "Epoch 2/20\n",
      "281/281 [==============================] - 6s 23ms/step - loss: 0.0796 - acc: 0.9539 - val_loss: 2.2329 - val_acc: 0.6710\n",
      "Epoch 3/20\n",
      "281/281 [==============================] - 7s 23ms/step - loss: 0.0769 - acc: 0.9535 - val_loss: 2.2731 - val_acc: 0.6612\n",
      "Epoch 4/20\n",
      "281/281 [==============================] - 7s 26ms/step - loss: 0.0780 - acc: 0.9558 - val_loss: 2.2986 - val_acc: 0.6523\n",
      "Epoch 5/20\n",
      "281/281 [==============================] - 7s 24ms/step - loss: 0.0827 - acc: 0.9544 - val_loss: 2.2878 - val_acc: 0.6656\n",
      "Epoch 6/20\n",
      "281/281 [==============================] - 7s 25ms/step - loss: 0.0767 - acc: 0.9554 - val_loss: 2.3215 - val_acc: 0.6585\n",
      "Epoch 7/20\n",
      "281/281 [==============================] - 7s 25ms/step - loss: 0.0741 - acc: 0.9554 - val_loss: 2.3093 - val_acc: 0.6674\n",
      "Epoch 8/20\n",
      "281/281 [==============================] - 7s 25ms/step - loss: 0.0739 - acc: 0.9576 - val_loss: 2.3513 - val_acc: 0.6607\n",
      "Epoch 9/20\n",
      "281/281 [==============================] - 7s 25ms/step - loss: 0.0746 - acc: 0.9561 - val_loss: 2.3380 - val_acc: 0.6589\n",
      "Epoch 10/20\n",
      "281/281 [==============================] - 7s 25ms/step - loss: 0.0730 - acc: 0.9558 - val_loss: 2.3321 - val_acc: 0.6607\n",
      "Epoch 11/20\n",
      "281/281 [==============================] - 7s 25ms/step - loss: 0.0715 - acc: 0.9547 - val_loss: 2.3850 - val_acc: 0.6549\n",
      "Epoch 12/20\n",
      "281/281 [==============================] - 7s 25ms/step - loss: 0.0710 - acc: 0.9559 - val_loss: 2.3728 - val_acc: 0.6683\n",
      "Epoch 13/20\n",
      "281/281 [==============================] - 7s 25ms/step - loss: 0.0703 - acc: 0.9566 - val_loss: 2.4003 - val_acc: 0.6563\n",
      "Epoch 14/20\n",
      "281/281 [==============================] - 7s 25ms/step - loss: 0.0713 - acc: 0.9565 - val_loss: 2.4059 - val_acc: 0.6581\n",
      "Epoch 15/20\n",
      "281/281 [==============================] - 7s 25ms/step - loss: 0.0710 - acc: 0.9561 - val_loss: 2.3806 - val_acc: 0.6638\n",
      "Epoch 16/20\n",
      "281/281 [==============================] - 7s 25ms/step - loss: 0.0717 - acc: 0.9531 - val_loss: 2.4497 - val_acc: 0.6545\n",
      "Epoch 17/20\n",
      "281/281 [==============================] - 7s 25ms/step - loss: 0.0712 - acc: 0.9565 - val_loss: 2.5007 - val_acc: 0.6474\n",
      "Epoch 18/20\n",
      "281/281 [==============================] - 7s 25ms/step - loss: 0.0715 - acc: 0.9545 - val_loss: 2.4893 - val_acc: 0.6456\n",
      "Epoch 19/20\n",
      "281/281 [==============================] - 7s 25ms/step - loss: 0.0691 - acc: 0.9561 - val_loss: 2.4610 - val_acc: 0.6532\n",
      "Epoch 20/20\n",
      "281/281 [==============================] - 7s 25ms/step - loss: 0.0672 - acc: 0.9564 - val_loss: 2.5332 - val_acc: 0.6394\n"
     ]
    }
   ],
   "source": [
    "# 학습모델을 학습해보세요.\n",
    "hist = model.fit(\n",
    "    x = train_cut_bow_text2,\n",
    "    y = train_onehot_topic,\n",
    "    validation_data = (test_cut_bow_text2, test_onehot_topic),\n",
    "    verbose = 1,\n",
    "    epochs =20\n",
    ")"
   ]
  },
  {
   "cell_type": "markdown",
   "metadata": {
    "id": "-2fgZVGdNU6a"
   },
   "source": [
    "### 문제 23. 학습 진행 사항을 plt으로 출력하세요."
   ]
  },
  {
   "cell_type": "code",
   "execution_count": 76,
   "metadata": {
    "id": "W4IStqFmNU6a"
   },
   "outputs": [
    {
     "data": {
      "image/png": "[encoded data removed]",
      "text/plain": [
       "<Figure size 432x288 with 1 Axes>"
      ]
     },
     "metadata": {
      "needs_background": "light"
     },
     "output_type": "display_data"
    }
   ],
   "source": [
    "# hist의 accuracy와 loss를 plt의 plot을 이용하여 출력하는 코드를 작성하세요.\n",
    "plt.plot( hist.history['acc'], label='acc')\n",
    "plt.plot( hist.history['val_acc'], label='val_acc')\n",
    "plt.plot( hist.history['loss'], label='loss')\n",
    "plt.plot( hist.history['val_loss'], label='val_loss')\n",
    "plt.legend(loc = 'upper left')\n",
    "plt.show()"
   ]
  },
  {
   "cell_type": "markdown",
   "metadata": {
    "id": "zFoX6k7CkqaI"
   },
   "source": [
    "### 문제 24. train_cut_bow_text를 위한 학습 모델을 생성하고 summary를 출력하세요. "
   ]
  },
  {
   "cell_type": "code",
   "execution_count": 58,
   "metadata": {
    "id": "Td3iugCUkqaJ"
   },
   "outputs": [
    {
     "name": "stdout",
     "output_type": "stream",
     "text": [
      "Model: \"model_1\"\n",
      "_________________________________________________________________\n",
      "Layer (type)                 Output Shape              Param #   \n",
      "=================================================================\n",
      "input_2 (InputLayer)         [(None, 200)]             0         \n",
      "_________________________________________________________________\n",
      "embedding_1 (Embedding)      (None, 200, 120)          3717600   \n",
      "_________________________________________________________________\n",
      "gru_1 (GRU)                  (None, 64)                35712     \n",
      "_________________________________________________________________\n",
      "dense_1 (Dense)              (None, 46)                2990      \n",
      "=================================================================\n",
      "Total params: 3,756,302\n",
      "Trainable params: 3,756,302\n",
      "Non-trainable params: 0\n",
      "_________________________________________________________________\n"
     ]
    }
   ],
   "source": [
    "# 학습 모델을 생성하고 summary를 출력하세요.\n",
    "model2 = seq2seq()\n",
    "model2.summary()"
   ]
  },
  {
   "cell_type": "markdown",
   "metadata": {
    "id": "FWhr7EAukqaK"
   },
   "source": [
    "### 문제 25. 학습모델을 학습해보세요. 단, train_cut_bow_text를 200으로 길이를 수정하고 실행하세요."
   ]
  },
  {
   "cell_type": "code",
   "execution_count": 61,
   "metadata": {
    "id": "UC25gz5AkqaK"
   },
   "outputs": [
    {
     "name": "stdout",
     "output_type": "stream",
     "text": [
      "Epoch 1/20\n",
      "281/281 [==============================] - 9s 28ms/step - loss: 2.6223 - acc: 0.3530 - val_loss: 1.8497 - val_acc: 0.5093\n",
      "Epoch 2/20\n",
      "281/281 [==============================] - 8s 27ms/step - loss: 1.6854 - acc: 0.5494 - val_loss: 1.6504 - val_acc: 0.5922\n",
      "Epoch 3/20\n",
      "281/281 [==============================] - 8s 27ms/step - loss: 1.5306 - acc: 0.6163 - val_loss: 1.5673 - val_acc: 0.6091\n",
      "Epoch 4/20\n",
      "281/281 [==============================] - 8s 27ms/step - loss: 1.3623 - acc: 0.6570 - val_loss: 1.4854 - val_acc: 0.6282\n",
      "Epoch 5/20\n",
      "281/281 [==============================] - 8s 27ms/step - loss: 1.1617 - acc: 0.7053 - val_loss: 1.4196 - val_acc: 0.6425\n",
      "Epoch 6/20\n",
      "281/281 [==============================] - 8s 27ms/step - loss: 1.0153 - acc: 0.7480 - val_loss: 1.3607 - val_acc: 0.6603\n",
      "Epoch 7/20\n",
      "281/281 [==============================] - 8s 27ms/step - loss: 0.8520 - acc: 0.7876 - val_loss: 1.3581 - val_acc: 0.6790\n",
      "Epoch 8/20\n",
      "281/281 [==============================] - 7s 27ms/step - loss: 0.7464 - acc: 0.8157 - val_loss: 1.3857 - val_acc: 0.6879\n",
      "Epoch 9/20\n",
      "281/281 [==============================] - 8s 27ms/step - loss: 0.6231 - acc: 0.8490 - val_loss: 1.3738 - val_acc: 0.7084\n",
      "Epoch 10/20\n",
      "281/281 [==============================] - 8s 27ms/step - loss: 0.5917 - acc: 0.8551 - val_loss: 1.4483 - val_acc: 0.6852\n",
      "Epoch 11/20\n",
      "281/281 [==============================] - 8s 27ms/step - loss: 0.4858 - acc: 0.8816 - val_loss: 1.4322 - val_acc: 0.6986\n",
      "Epoch 12/20\n",
      "281/281 [==============================] - 7s 27ms/step - loss: 0.4220 - acc: 0.8958 - val_loss: 1.4465 - val_acc: 0.7012\n",
      "Epoch 13/20\n",
      "281/281 [==============================] - 8s 28ms/step - loss: 0.4030 - acc: 0.8992 - val_loss: 1.4774 - val_acc: 0.7066\n",
      "Epoch 14/20\n",
      "281/281 [==============================] - 7s 26ms/step - loss: 0.3302 - acc: 0.9157 - val_loss: 1.5105 - val_acc: 0.7102\n",
      "Epoch 15/20\n",
      "281/281 [==============================] - 7s 26ms/step - loss: 0.3017 - acc: 0.9245 - val_loss: 1.5209 - val_acc: 0.7021\n",
      "Epoch 16/20\n",
      "281/281 [==============================] - 8s 28ms/step - loss: 0.3124 - acc: 0.9247 - val_loss: 1.5950 - val_acc: 0.7044\n",
      "Epoch 17/20\n",
      "281/281 [==============================] - 8s 27ms/step - loss: 0.2962 - acc: 0.9253 - val_loss: 1.5815 - val_acc: 0.7097\n",
      "Epoch 18/20\n",
      "281/281 [==============================] - 7s 27ms/step - loss: 0.2323 - acc: 0.9403 - val_loss: 1.5774 - val_acc: 0.7119\n",
      "Epoch 19/20\n",
      "281/281 [==============================] - 8s 28ms/step - loss: 0.2063 - acc: 0.9464 - val_loss: 1.6409 - val_acc: 0.7128\n",
      "Epoch 20/20\n",
      "281/281 [==============================] - 8s 27ms/step - loss: 0.1850 - acc: 0.9547 - val_loss: 1.6737 - val_acc: 0.7012\n"
     ]
    }
   ],
   "source": [
    "# 학습모델을 학습해보세요.\n",
    "hist2 = model2.fit(\n",
    "    train_cut_bow_text[..., -200:],\n",
    "    train_onehot_topic,\n",
    "    validation_data= (test_cut_bow_text[..., -200:], test_onehot_topic),\n",
    "    verbose = 1,\n",
    "    epochs = 20\n",
    ")"
   ]
  },
  {
   "cell_type": "markdown",
   "metadata": {
    "id": "b_3s4L8OkqaL"
   },
   "source": [
    "### 문제 26. 학습 진행 사항을 plt으로 출력하세요."
   ]
  },
  {
   "cell_type": "code",
   "execution_count": 62,
   "metadata": {
    "id": "Auttqup0kqaL"
   },
   "outputs": [
    {
     "data": {
      "image/png": "[encoded data removed]",
      "text/plain": [
       "<Figure size 432x288 with 1 Axes>"
      ]
     },
     "metadata": {
      "needs_background": "light"
     },
     "output_type": "display_data"
    }
   ],
   "source": [
    "# hist2의 accuracy와 loss를 plt의 plot을 이용하여 출력하는 코드를 작성하세요.\n",
    "plt.plot( hist2.history['acc'], label='acc')\n",
    "plt.plot( hist2.history['val_acc'], label='val_acc')\n",
    "plt.plot( hist2.history['loss'], label='loss')\n",
    "plt.plot( hist2.history['val_loss'], label='val_loss')\n",
    "plt.legend(loc = 'upper left')\n",
    "plt.show()"
   ]
  },
  {
   "cell_type": "markdown",
   "metadata": {
    "id": "ZNI00Lzv1y4S"
   },
   "source": [
    "## Step 5. 모델 결과 확인"
   ]
  },
  {
   "cell_type": "markdown",
   "metadata": {
    "id": "W_xsByHegZhh"
   },
   "source": [
    "### 문제 27. 완성된 모델1, 2에서 test 하나를 예측하고 결과를 res1, res2 변수에 저정하세요."
   ]
  },
  {
   "cell_type": "code",
   "execution_count": 63,
   "metadata": {
    "id": "Y88qmAVChg_Z"
   },
   "outputs": [
    {
     "name": "stdout",
     "output_type": "stream",
     "text": [
      "(1, 46)\n"
     ]
    }
   ],
   "source": [
    "# 완성된 모델에서 test 하나를 예측하고 결과를 res 변수에 저정하세요.\n",
    "res1 = model.predict(test_cut_bow_text2[0:1])\n",
    "print(res1.shape)"
   ]
  },
  {
   "cell_type": "code",
   "execution_count": 65,
   "metadata": {},
   "outputs": [
    {
     "name": "stdout",
     "output_type": "stream",
     "text": [
      "(1, 46)\n"
     ]
    }
   ],
   "source": [
    "res2 = model2.predict(test_cut_bow_text[0:1, -200:])\n",
    "print(res2.shape)"
   ]
  },
  {
   "cell_type": "code",
   "execution_count": 69,
   "metadata": {},
   "outputs": [
    {
     "name": "stdout",
     "output_type": "stream",
     "text": [
      "[2.51905896e-09 2.81158318e-05 6.28179686e-09 2.94279866e-03\n",
      " 9.95745003e-01 7.57289058e-08 1.11754363e-10 6.08696791e-06\n",
      " 9.38088215e-06 3.12405435e-09 1.58518505e-05 3.65932465e-05\n",
      " 1.96270976e-05 9.36701117e-09 2.01694775e-06 5.42155931e-10\n",
      " 1.29489008e-05 1.04624211e-04 9.73725264e-07 5.50680579e-06\n",
      " 1.27567455e-05 2.88724405e-04 5.50551027e-09 1.25752103e-05\n",
      " 4.25630697e-10 8.76263714e-11 3.06855071e-07 4.60651052e-07\n",
      " 5.32092294e-04 4.02117666e-06 2.22441922e-05 4.74704507e-08\n",
      " 3.57335637e-07 1.34710845e-07 6.80574530e-08 7.10635213e-05\n",
      " 9.85204679e-06 4.04702583e-08 4.03476915e-05 7.28257291e-05\n",
      " 1.17730909e-08 2.28559043e-06 9.52090518e-10 6.26310914e-09\n",
      " 2.72771614e-11 5.64445279e-12]\n",
      "[3.41829844e-04 2.46406831e-02 1.91844288e-06 7.65589595e-01\n",
      " 9.32549089e-02 2.58968157e-06 8.54914106e-06 1.24086131e-04\n",
      " 4.16896120e-03 4.20490192e-04 3.28190275e-03 1.27068637e-02\n",
      " 8.88589071e-04 1.87041423e-05 7.95300082e-07 4.30943743e-08\n",
      " 2.07401090e-03 1.96095032e-04 7.29283897e-07 7.31047094e-02\n",
      " 1.22766169e-02 7.97261018e-04 4.27607711e-06 1.93957193e-03\n",
      " 3.93327246e-05 3.58291800e-05 9.29773421e-07 6.15010913e-06\n",
      " 3.70253906e-06 1.02854436e-04 2.84743990e-04 7.17887422e-04\n",
      " 4.13356829e-05 2.34272375e-06 2.16336284e-05 5.08175362e-05\n",
      " 8.81924992e-04 2.61007995e-06 1.01505895e-03 2.65630253e-04\n",
      " 4.14827664e-04 2.61773675e-04 8.01602710e-07 2.99698058e-06\n",
      " 2.97408906e-06 6.03081602e-08]\n"
     ]
    }
   ],
   "source": [
    "print(res1[0])\n",
    "print(res2[0])"
   ]
  },
  {
   "cell_type": "markdown",
   "metadata": {
    "id": "zQgQKKCTpv99"
   },
   "source": [
    "### 문제 28. res1, res2의 결과를 확인하세요."
   ]
  },
  {
   "cell_type": "code",
   "execution_count": 77,
   "metadata": {
    "id": "7TqsGxqogZI0"
   },
   "outputs": [
    {
     "name": "stdout",
     "output_type": "stream",
     "text": [
      "acq earn\n"
     ]
    },
    {
     "data": {
      "image/png": "[encoded data removed]",
      "text/plain": [
       "<Figure size 432x288 with 1 Axes>"
      ]
     },
     "metadata": {
      "needs_background": "light"
     },
     "output_type": "display_data"
    }
   ],
   "source": [
    "# res1, res2의 결과를 확인하세요.\n",
    "plt.bar( np.array(range(len(res1[0]))), res1[0], color='red')\n",
    "plt.bar( np.array(range(len(res1[0])))+0.5, test_onehot_topic[0], color='blue')\n",
    "\n",
    "\n",
    "print( topic2label(res1[0].argmax()),topic2label(test_onehot_topic[0].argmax() ))"
   ]
  },
  {
   "cell_type": "code",
   "execution_count": 74,
   "metadata": {},
   "outputs": [
    {
     "name": "stdout",
     "output_type": "stream",
     "text": [
      "earn earn\n"
     ]
    },
    {
     "data": {
      "image/png": "[encoded data removed]",
      "text/plain": [
       "<Figure size 432x288 with 1 Axes>"
      ]
     },
     "metadata": {
      "needs_background": "light"
     },
     "output_type": "display_data"
    }
   ],
   "source": [
    "plt.bar( np.array(range(len(res2[0]))), res2[0], color='red')\n",
    "plt.bar( np.array(range(len(res2[0])))+0.5, test_onehot_topic[0], color='blue')\n",
    "\n",
    "print( topic2label(res2[0].argmax()),topic2label(test_onehot_topic[0].argmax() ))"
   ]
  },
  {
   "cell_type": "markdown",
   "metadata": {
    "id": "WFZcoocOuUGz"
   },
   "source": [
    "### 문제 29. reuters.get_word_index()를 이용하여 평문을 bow로 변환해보세요. "
   ]
  },
  {
   "cell_type": "code",
   "execution_count": 104,
   "metadata": {
    "id": "ah10xq-vudTi"
   },
   "outputs": [],
   "source": [
    "# reuters.get_word_index()를 이용하여 평문을 bow로 변환해보세요. (oov는 무시합니다.)\n",
    "txt = bow2text(test_text[0])\n",
    "def text2bow(text, maxlen=400):\n",
    "    word_index = reuters.get_word_index()\n",
    "    seq = np.array([word_index[word] for word in text.lower().replace('\\n', ' ').split() if word in word_index])\n",
    "    bow = tf.keras.preprocessing.sequence.pad_sequences([seq], value=0, maxlen=maxlen)\n",
    "    return bow"
   ]
  },
  {
   "cell_type": "code",
   "execution_count": 105,
   "metadata": {},
   "outputs": [
    {
     "name": "stdout",
     "output_type": "stream",
     "text": [
      "[[    0     0     0     0     0     0     0     0     0     0     0     0\n",
      "      0     0     0     0     0     0     0     0     0     0     0     0\n",
      "      0     0     0     0     0     0     0     0     0     0     0     0\n",
      "      0     0     0     0     0     0     0     0     0     0     0     0\n",
      "      0     0     0     0     0     0     0     1     4  1378  2025     9\n",
      "    697  4622   111     8    25   109    29  3650    11   150   244   364\n",
      "     33    30    30  1398   333     6 18292   159     9  1084   363    13\n",
      "  19231    71     9 16273    71   117     4   225    78   206    10     9\n",
      "   1214     8     4   270     5 16273     7   748    48     9 19231     7\n",
      "    207  1451   966  1864   793    97   133   336     7     4   493    98\n",
      "    273   104   284    25    39   338    22   905   220  3465   644    59\n",
      "     20     6   119    61    11    15    58   579    26    10    67     7\n",
      "      4   738    98    43    88   333   722    12    20     6    19   746\n",
      "     35    15    10     9  1214   855   129   783    21     4  2280   244\n",
      "    364    51    16   299   452    16   515     4    99    29     5     4\n",
      "    364   281    48    10     9  1214    23   644    47    20   324    27\n",
      "     56 23406 28185     5   192   510    17    12]]\n",
      "(1, 400)\n"
     ]
    }
   ],
   "source": [
    "bow1 = text2bow(txt)\n",
    "print(bow1[..., -200:], bow1.shape, sep='\\n')"
   ]
  },
  {
   "cell_type": "markdown",
   "metadata": {
    "id": "hDKbpAdVf_1-"
   },
   "source": [
    "### 문제 30. text2bow를 이용하여 model1을 통해 결과를 확인하세요."
   ]
  },
  {
   "cell_type": "code",
   "execution_count": 113,
   "metadata": {
    "id": "S2i-RkhXf8va"
   },
   "outputs": [
    {
     "data": {
      "image/png": "[encoded data removed]",
      "text/plain": [
       "<Figure size 432x288 with 1 Axes>"
      ]
     },
     "metadata": {
      "needs_background": "light"
     },
     "output_type": "display_data"
    },
    {
     "name": "stdout",
     "output_type": "stream",
     "text": [
      "acq earn\n"
     ]
    }
   ],
   "source": [
    "# text2bow를 이용하여 model1을 통해 결과를 확인하세요.\n",
    "res3 = model.predict(bow1[..., -200:])\n",
    "plt.bar( np.array(range(len(res3[0]))), res3[0], color='red')\n",
    "plt.bar( np.array(range(len(res3[0])))+0.5, test_onehot_topic[0], color='blue')\n",
    "plt.show()\n",
    "\n",
    "print(topic2label(res3[0].argmax()), topic2label(test_topic[0]))"
   ]
  },
  {
   "cell_type": "markdown",
   "metadata": {
    "id": "ZlWVzDUirkrQ"
   },
   "source": [
    "### 문제 31. cut_by_count를 이용하여 20회 이상 등장한 word만 사용하는 bow를 만들어보세요"
   ]
  },
  {
   "cell_type": "code",
   "execution_count": 114,
   "metadata": {
    "id": "bGy2_g97rwhK"
   },
   "outputs": [],
   "source": [
    "# cut_by_count를 이용하여 20회 이상 등장한 word만 사용하는 bow를 만들어보세요\n",
    "# cut_bv_count(bow1, 20).shape # (1, 362)\n",
    "bow1_cut = tf.keras.preprocessing.sequence.pad_sequences(cut_bv_count(bow1, 20), maxlen= 200) # (1, 200)"
   ]
  },
  {
   "cell_type": "markdown",
   "metadata": {
    "id": "9iIJK2qsfevX"
   },
   "source": [
    "### 문제 32. text2bow를 이용하여 model1을 통해 결과를 확인하세요.\n"
   ]
  },
  {
   "cell_type": "code",
   "execution_count": 115,
   "metadata": {
    "id": "SV2A6JZBf7Ku"
   },
   "outputs": [
    {
     "data": {
      "image/png": "[encoded data removed]",
      "text/plain": [
       "<Figure size 432x288 with 1 Axes>"
      ]
     },
     "metadata": {
      "needs_background": "light"
     },
     "output_type": "display_data"
    },
    {
     "name": "stdout",
     "output_type": "stream",
     "text": [
      "earn earn\n"
     ]
    }
   ],
   "source": [
    "#text2bow를 이용하여 model1을 통해 결과를 확인하세요.\n",
    "res4 = model2.predict(bow1_cut)\n",
    "plt.bar( np.array(range(len(res4[0]))), res4[0], color='red')\n",
    "plt.show()\n",
    "print(topic2label(res4[0].argmax()), topic2label(test_topic[0]))"
   ]
  },
  {
   "cell_type": "markdown",
   "metadata": {
    "id": "G70ccEAt6XL9"
   },
   "source": [
    "### 문제 33. confusion 매트릭스 생성"
   ]
  },
  {
   "cell_type": "code",
   "execution_count": 128,
   "metadata": {
    "id": "TNimTOWX6iEe"
   },
   "outputs": [
    {
     "name": "stdout",
     "output_type": "stream",
     "text": [
      "(46, 46) (46, 46)\n",
      "[[ 8  0  0 ...  0  0  0]\n",
      " [ 0 72  1 ...  0  0  0]\n",
      " [ 0  5 10 ...  0  0  0]\n",
      " ...\n",
      " [ 0  0  0 ...  4  0  0]\n",
      " [ 0  0  0 ...  0  4  0]\n",
      " [ 0  0  0 ...  0  0  1]]\n",
      "[[ 7  1  0 ...  0  0  0]\n",
      " [ 0 71  1 ...  0  0  0]\n",
      " [ 0  2  9 ...  0  0  0]\n",
      " ...\n",
      " [ 0  0  0 ...  3  0  0]\n",
      " [ 0  0  0 ...  0  4  0]\n",
      " [ 0  0  0 ...  0  0  0]]\n"
     ]
    }
   ],
   "source": [
    "# confusion 메트릭스 출력\n",
    "from sklearn.metrics import confusion_matrix\n",
    "conf_mat1 = confusion_matrix(test_topic, model.predict(test_cut_bow_text2).argmax(axis=1))\n",
    "conf_mat2 = confusion_matrix(test_topic, model2.predict(test_cut_bow_text[...,-200:]).argmax(axis=1))\n",
    "print(conf_mat1.shape, conf_mat2.shape)\n",
    "print(conf_mat1)\n",
    "print(conf_mat2)"
   ]
  },
  {
   "cell_type": "markdown",
   "metadata": {
    "id": "QMvWeqMUKK8b"
   },
   "source": [
    "### 문제 34. confusion 매트릭스 시각화"
   ]
  },
  {
   "cell_type": "code",
   "execution_count": 130,
   "metadata": {
    "id": "DDcNSMOmLcgF"
   },
   "outputs": [
    {
     "data": {
      "image/png": "[encoded data removed]",
      "text/plain": [
       "<Figure size 432x288 with 2 Axes>"
      ]
     },
     "metadata": {
      "needs_background": "light"
     },
     "output_type": "display_data"
    }
   ],
   "source": [
    "# confusion 매트릭스 시각화\n",
    "sns.heatmap(conf_mat1 / conf_mat1.sum(axis=1))\n",
    "plt.show()"
   ]
  },
  {
   "cell_type": "code",
   "execution_count": 131,
   "metadata": {},
   "outputs": [
    {
     "data": {
      "image/png": "[encoded data removed]",
      "text/plain": [
       "<Figure size 432x288 with 2 Axes>"
      ]
     },
     "metadata": {
      "needs_background": "light"
     },
     "output_type": "display_data"
    }
   ],
   "source": [
    "sns.heatmap(conf_mat2 / conf_mat2.sum(axis=1))\n",
    "plt.show()"
   ]
  },
  {
   "cell_type": "markdown",
   "metadata": {
    "id": "H--fnIJeJs_M"
   },
   "source": [
    "### 문제 35. classification 결과 리포팅"
   ]
  },
  {
   "cell_type": "code",
   "execution_count": 134,
   "metadata": {
    "id": "8m2wG4CkIMtU"
   },
   "outputs": [],
   "source": [
    "# classification 결과 리포팅\n",
    "from sklearn.metrics import classification_report\n",
    "report1 = classification_report(test_topic, model.predict(test_cut_bow_text2).argmax(axis=1), target_names=raw_labels)\n",
    "report2 = classification_report(test_topic, model2.predict(test_cut_bow_text[...,-200:]).argmax(axis=1), target_names=raw_labels)"
   ]
  },
  {
   "cell_type": "code",
   "execution_count": 135,
   "metadata": {},
   "outputs": [
    {
     "name": "stdout",
     "output_type": "stream",
     "text": [
      "                 precision    recall  f1-score   support\n",
      "\n",
      "          cocoa       0.67      0.67      0.67        12\n",
      "          grain       0.59      0.69      0.63       105\n",
      "        veg-oil       0.50      0.50      0.50        20\n",
      "           earn       0.86      0.89      0.87       813\n",
      "            acq       0.79      0.65      0.71       474\n",
      "          wheat       1.00      0.20      0.33         5\n",
      "         copper       0.56      0.71      0.63        14\n",
      "        housing       0.17      0.33      0.22         3\n",
      "   money-supply       0.35      0.39      0.37        38\n",
      "         coffee       0.56      0.36      0.44        25\n",
      "          sugar       0.77      0.77      0.77        30\n",
      "          trade       0.37      0.36      0.36        83\n",
      "       reserves       0.21      0.23      0.22        13\n",
      "           ship       0.34      0.46      0.39        37\n",
      "         cotton       0.00      0.00      0.00         2\n",
      "        carcass       0.00      0.00      0.00         9\n",
      "          crude       0.34      0.51      0.41        99\n",
      "        nat-gas       0.00      0.00      0.00        12\n",
      "            cpi       0.42      0.40      0.41        20\n",
      "       money-fx       0.43      0.47      0.45       133\n",
      "       interest       0.30      0.40      0.35        70\n",
      "            gnp       0.19      0.15      0.17        27\n",
      "      meal-feed       0.00      0.00      0.00         7\n",
      "           alum       0.08      0.08      0.08        12\n",
      "        oilseed       0.42      0.26      0.32        19\n",
      "           gold       0.61      0.35      0.45        31\n",
      "            tin       0.75      0.38      0.50         8\n",
      "strategic-metal       1.00      0.25      0.40         4\n",
      "      livestock       0.17      0.10      0.12        10\n",
      "         retail       0.00      0.00      0.00         4\n",
      "            ipi       0.12      0.08      0.10        12\n",
      "     iron-steel       0.29      0.15      0.20        13\n",
      "         rubber       0.75      0.60      0.67        10\n",
      "           heat       0.50      0.60      0.55         5\n",
      "           jobs       0.23      0.43      0.30         7\n",
      "            lei       0.50      0.17      0.25         6\n",
      "            bop       0.08      0.09      0.08        11\n",
      "           zinc       0.00      0.00      0.00         2\n",
      "         orange       0.00      0.00      0.00         3\n",
      "       pet-chem       0.00      0.00      0.00         5\n",
      "            dlr       0.22      0.20      0.21        10\n",
      "            gas       0.27      0.38      0.32         8\n",
      "         silver       0.00      0.00      0.00         3\n",
      "            wpi       0.57      0.67      0.62         6\n",
      "            hog       0.80      0.80      0.80         5\n",
      "           lead       1.00      1.00      1.00         1\n",
      "\n",
      "       accuracy                           0.64      2246\n",
      "      macro avg       0.39      0.34      0.34      2246\n",
      "   weighted avg       0.65      0.64      0.64      2246\n",
      "\n"
     ]
    }
   ],
   "source": [
    "print(report1)"
   ]
  },
  {
   "cell_type": "code",
   "execution_count": 136,
   "metadata": {},
   "outputs": [
    {
     "name": "stdout",
     "output_type": "stream",
     "text": [
      "                 precision    recall  f1-score   support\n",
      "\n",
      "          cocoa       0.88      0.58      0.70        12\n",
      "          grain       0.67      0.68      0.67       105\n",
      "        veg-oil       0.53      0.45      0.49        20\n",
      "           earn       0.89      0.93      0.91       813\n",
      "            acq       0.84      0.78      0.81       474\n",
      "          wheat       0.00      0.00      0.00         5\n",
      "         copper       0.80      0.57      0.67        14\n",
      "        housing       1.00      0.33      0.50         3\n",
      "   money-supply       0.46      0.47      0.47        38\n",
      "         coffee       0.63      0.76      0.69        25\n",
      "          sugar       0.82      0.77      0.79        30\n",
      "          trade       0.49      0.53      0.51        83\n",
      "       reserves       0.27      0.23      0.25        13\n",
      "           ship       0.22      0.27      0.24        37\n",
      "         cotton       1.00      0.50      0.67         2\n",
      "        carcass       0.00      0.00      0.00         9\n",
      "          crude       0.46      0.52      0.48        99\n",
      "        nat-gas       0.14      0.17      0.15        12\n",
      "            cpi       0.50      0.35      0.41        20\n",
      "       money-fx       0.55      0.53      0.54       133\n",
      "       interest       0.48      0.36      0.41        70\n",
      "            gnp       0.23      0.37      0.29        27\n",
      "      meal-feed       0.50      0.14      0.22         7\n",
      "           alum       0.16      0.33      0.22        12\n",
      "        oilseed       0.56      0.53      0.54        19\n",
      "           gold       0.64      0.52      0.57        31\n",
      "            tin       0.67      0.50      0.57         8\n",
      "strategic-metal       0.17      0.25      0.20         4\n",
      "      livestock       0.31      0.40      0.35        10\n",
      "         retail       0.00      0.00      0.00         4\n",
      "            ipi       0.57      0.33      0.42        12\n",
      "     iron-steel       0.00      0.00      0.00        13\n",
      "         rubber       0.83      0.50      0.62        10\n",
      "           heat       0.67      0.80      0.73         5\n",
      "           jobs       0.33      0.14      0.20         7\n",
      "            lei       1.00      0.17      0.29         6\n",
      "            bop       0.08      0.09      0.09        11\n",
      "           zinc       0.00      0.00      0.00         2\n",
      "         orange       0.00      0.00      0.00         3\n",
      "       pet-chem       0.00      0.00      0.00         5\n",
      "            dlr       0.20      0.20      0.20        10\n",
      "            gas       0.00      0.00      0.00         8\n",
      "         silver       0.67      0.67      0.67         3\n",
      "            wpi       0.27      0.50      0.35         6\n",
      "            hog       1.00      0.80      0.89         5\n",
      "           lead       0.00      0.00      0.00         1\n",
      "\n",
      "       accuracy                           0.70      2246\n",
      "      macro avg       0.45      0.37      0.39      2246\n",
      "   weighted avg       0.71      0.70      0.70      2246\n",
      "\n"
     ]
    }
   ],
   "source": [
    "print(report2)"
   ]
  },
  {
   "cell_type": "markdown",
   "metadata": {
    "id": "7FQT89oqrdkA"
   },
   "source": [
    "## Step 6. 모델 저장 및 로드, 다운"
   ]
  },
  {
   "cell_type": "markdown",
   "metadata": {
    "id": "c2GZFvCAzFNl"
   },
   "source": [
    "### 문제 36. 모델을 저장하세요."
   ]
  },
  {
   "cell_type": "code",
   "execution_count": 137,
   "metadata": {
    "id": "YjuCVTNbriVJ"
   },
   "outputs": [],
   "source": [
    "# 모델을 저장하는 코드를 작성하세요. \n",
    "model.save('./lecture10.h5')"
   ]
  },
  {
   "cell_type": "markdown",
   "metadata": {
    "id": "Bj4P3DdzzhyC"
   },
   "source": [
    "### 문제 37. 모델 파일을 새로운 모델에 로드하세요."
   ]
  },
  {
   "cell_type": "code",
   "execution_count": 138,
   "metadata": {
    "id": "xuRAnBR8zY-X"
   },
   "outputs": [
    {
     "name": "stdout",
     "output_type": "stream",
     "text": [
      "Model: \"model\"\n",
      "_________________________________________________________________\n",
      "Layer (type)                 Output Shape              Param #   \n",
      "=================================================================\n",
      "input_1 (InputLayer)         [(None, 200)]             0         \n",
      "_________________________________________________________________\n",
      "embedding (Embedding)        (None, 200, 120)          3717600   \n",
      "_________________________________________________________________\n",
      "gru (GRU)                    (None, 64)                35712     \n",
      "_________________________________________________________________\n",
      "dense (Dense)                (None, 46)                2990      \n",
      "=================================================================\n",
      "Total params: 3,756,302\n",
      "Trainable params: 3,756,302\n",
      "Non-trainable params: 0\n",
      "_________________________________________________________________\n"
     ]
    }
   ],
   "source": [
    "# 모델을 로드하는 코드를 작성하세요.\n",
    "new_model = tf.keras.models.load_model('./lecture10.h5')\n",
    "new_model.summary()"
   ]
  },
  {
   "cell_type": "markdown",
   "metadata": {
    "id": "ta1I5ZEY1FBR"
   },
   "source": [
    "### 문제 38. 로드한 모델을 test 데이터로 평가해보세요.\n"
   ]
  },
  {
   "cell_type": "code",
   "execution_count": 140,
   "metadata": {
    "id": "ALrVf_lm0_Bc"
   },
   "outputs": [
    {
     "name": "stdout",
     "output_type": "stream",
     "text": [
      "71/71 [==============================] - 1s 5ms/step - loss: 2.5332 - acc: 0.6394\n",
      "2.533216714859009 0.6393588781356812\n"
     ]
    }
   ],
   "source": [
    "# 로드한 모델을 test 데이터로 평가해보세요.\n",
    "loss, acc = new_model.evaluate(test_cut_bow_text2, test_onehot_topic, verbose=1)\n",
    "print(loss, acc)"
   ]
  },
  {
   "cell_type": "markdown",
   "metadata": {
    "id": "gfEgY1Vr1T1v"
   },
   "source": [
    "### 문제 39. 모델을 내 컴퓨터에 저장해보세요"
   ]
  },
  {
   "cell_type": "code",
   "execution_count": 54,
   "metadata": {
    "id": "ASkJv_Ui1RGv"
   },
   "outputs": [],
   "source": [
    "# 모델을 내 컴퓨터에 저장해보세요."
   ]
  },
  {
   "cell_type": "code",
   "execution_count": null,
   "metadata": {
    "id": "xumq13s87EyR"
   },
   "outputs": [],
   "source": []
  }
 ],
 "metadata": {
  "accelerator": "GPU",
  "colab": {
   "collapsed_sections": [],
   "name": "[실습]Part3_Ch02_시계열 분석 - Seq2Seq의 Encoder로 뉴스기사 토픽 예측하기.ipynb",
   "provenance": [
    {
     "file_id": "1yRY9f_TyYIZmW1di-2hKpLRsR2xsyYx_",
     "timestamp": 1607696482636
    },
    {
     "file_id": "1CWpkpSohxoJedXHyMrny8vJ0xIScMHlK",
     "timestamp": 1606023394954
    },
    {
     "file_id": "1OevQ5s8yBDddaUMZX1rfZZYrnTT52RAO",
     "timestamp": 1605956410768
    }
   ],
   "toc_visible": true
  },
  "kernelspec": {
   "display_name": "Python 3",
   "language": "python",
   "name": "python3"
  },
  "language_info": {
   "codemirror_mode": {
    "name": "ipython",
    "version": 3
   },
   "file_extension": ".py",
   "mimetype": "text/x-python",
   "name": "python",
   "nbconvert_exporter": "python",
   "pygments_lexer": "ipython3",
   "version": "3.9.5"
  }
 },
 "nbformat": 4,
 "nbformat_minor": 1
}
