{
 "cells": [
  {
   "cell_type": "markdown",
   "metadata": {
    "id": "OF9lUuqwBudU"
   },
   "source": [
    "# 주제 : LSTM을 활용해 주가 예측 모델 구현하기"
   ]
  },
  {
   "cell_type": "markdown",
   "metadata": {
    "id": "G-rOVLn7Budf"
   },
   "source": [
    "이번 튜토리얼 에서는 다음과 같은 **프로세스 파이프라인**으로 주가 예측을 진행합니다.\n",
    "\n",
    "- FinanceDataReader를 활용하여 주가 데이터 받아오기\n",
    "- TensorFlow Dataset 클래스를 활용하여 주가 데이터 구축\n",
    "- LSTM 을 활용한 주가 예측 모델 구축"
   ]
  },
  {
   "cell_type": "markdown",
   "metadata": {
    "id": "UshzfuK6CJX4"
   },
   "source": [
    "## Step 1. 데이터 불러오기 및 EDA"
   ]
  },
  {
   "cell_type": "markdown",
   "metadata": {
    "id": "EZFBO9GwBudh"
   },
   "source": [
    "### 문제 01. 필요한 모듈 import"
   ]
  },
  {
   "cell_type": "code",
   "execution_count": 1,
   "metadata": {
    "id": "pYEgcrR1Budi"
   },
   "outputs": [],
   "source": [
    "import pandas as pd\n",
    "import numpy as np\n",
    "import matplotlib.pyplot as plt\n",
    "import seaborn as sns\n",
    "import warnings\n",
    "import os\n",
    "\n",
    "%matplotlib inline\n",
    "warnings.filterwarnings('ignore')\n",
    "\n",
    "plt.rcParams['font.family'] = 'NanumGothic'"
   ]
  },
  {
   "cell_type": "markdown",
   "metadata": {
    "id": "5N-NMRFVBudi"
   },
   "source": [
    "### 문제 02. FinanceDataReader import"
   ]
  },
  {
   "cell_type": "markdown",
   "metadata": {
    "id": "a7FGN9gGBudj"
   },
   "source": [
    "**FinanceDataReader**는 주가 데이터를 편리하게 가져올 수 있는 파이썬 패키지입니다.\n",
    "\n",
    "- [GitHub Repo](https://github.com/FinanceData/FinanceDataReader)"
   ]
  },
  {
   "cell_type": "markdown",
   "metadata": {
    "id": "o6_RB59yBudj"
   },
   "source": [
    "**FinanceDataReader**가 아직 설치 되지 않으신 분들은 아래의 주석을 해제한 후 명령어로 설치해 주시기 바랍니다."
   ]
  },
  {
   "cell_type": "code",
   "execution_count": 2,
   "metadata": {
    "id": "99EggRzTBudk"
   },
   "outputs": [
    {
     "name": "stdout",
     "output_type": "stream",
     "text": [
      "Collecting finance-datareader\n",
      "  Downloading finance_datareader-0.9.31-py3-none-any.whl (17 kB)\n",
      "Requirement already satisfied: pandas>=0.19.2 in c:\\users\\상혁\\appdata\\local\\programs\\python\\python39\\lib\\site-packages (from finance-datareader) (1.2.4)\n",
      "Collecting lxml\n",
      "  Downloading lxml-4.6.3-cp39-cp39-win_amd64.whl (3.5 MB)\n",
      "Collecting tqdm\n",
      "  Downloading tqdm-4.61.1-py2.py3-none-any.whl (75 kB)\n",
      "Collecting requests-file\n",
      "  Downloading requests_file-1.5.1-py2.py3-none-any.whl (3.7 kB)\n",
      "Requirement already satisfied: requests>=2.3.0 in c:\\users\\상혁\\appdata\\local\\programs\\python\\python39\\lib\\site-packages (from finance-datareader) (2.25.1)\n",
      "Requirement already satisfied: numpy>=1.16.5 in c:\\users\\상혁\\appdata\\local\\programs\\python\\python39\\lib\\site-packages (from pandas>=0.19.2->finance-datareader) (1.19.5)\n",
      "Requirement already satisfied: pytz>=2017.3 in c:\\users\\상혁\\appdata\\local\\programs\\python\\python39\\lib\\site-packages (from pandas>=0.19.2->finance-datareader) (2021.1)\n",
      "Requirement already satisfied: python-dateutil>=2.7.3 in c:\\users\\상혁\\appdata\\local\\programs\\python\\python39\\lib\\site-packages (from pandas>=0.19.2->finance-datareader) (2.8.1)\n",
      "Requirement already satisfied: six>=1.5 in c:\\users\\상혁\\appdata\\local\\programs\\python\\python39\\lib\\site-packages (from python-dateutil>=2.7.3->pandas>=0.19.2->finance-datareader) (1.15.0)\n",
      "Requirement already satisfied: chardet<5,>=3.0.2 in c:\\users\\상혁\\appdata\\local\\programs\\python\\python39\\lib\\site-packages (from requests>=2.3.0->finance-datareader) (4.0.0)\n",
      "Requirement already satisfied: idna<3,>=2.5 in c:\\users\\상혁\\appdata\\local\\programs\\python\\python39\\lib\\site-packages (from requests>=2.3.0->finance-datareader) (2.10)\n",
      "Requirement already satisfied: urllib3<1.27,>=1.21.1 in c:\\users\\상혁\\appdata\\local\\programs\\python\\python39\\lib\\site-packages (from requests>=2.3.0->finance-datareader) (1.26.5)\n",
      "Requirement already satisfied: certifi>=2017.4.17 in c:\\users\\상혁\\appdata\\local\\programs\\python\\python39\\lib\\site-packages (from requests>=2.3.0->finance-datareader) (2021.5.30)\n",
      "Installing collected packages: tqdm, requests-file, lxml, finance-datareader\n",
      "Successfully installed finance-datareader-0.9.31 lxml-4.6.3 requests-file-1.5.1 tqdm-4.61.1\n"
     ]
    },
    {
     "name": "stderr",
     "output_type": "stream",
     "text": [
      "WARNING: You are using pip version 21.1.2; however, version 21.1.3 is available.\n",
      "You should consider upgrading via the 'c:\\users\\상혁\\appdata\\local\\programs\\python\\python39\\python.exe -m pip install --upgrade pip' command.\n"
     ]
    }
   ],
   "source": [
    "# !pip install finance-datareader"
   ]
  },
  {
   "cell_type": "code",
   "execution_count": 4,
   "metadata": {
    "id": "4vkRR9dQBudk"
   },
   "outputs": [],
   "source": [
    "import FinanceDataReader as fdr"
   ]
  },
  {
   "cell_type": "markdown",
   "metadata": {
    "id": "x4C9neevEYYr"
   },
   "source": [
    "### 문제 03. 삼성전자 데이터 불러오기"
   ]
  },
  {
   "cell_type": "code",
   "execution_count": 5,
   "metadata": {
    "id": "9IqphMM7Budl"
   },
   "outputs": [],
   "source": [
    "# fdr 라이브러리를 활용해 삼성전자 주가 데이터를 불러오세요.\n",
    "# 대상 : 삼성전자(005930) 전체 (1996-11-05 ~ 현재)\n",
    "samsung = fdr.DataReader('005930')"
   ]
  },
  {
   "cell_type": "code",
   "execution_count": 6,
   "metadata": {},
   "outputs": [
    {
     "data": {
      "text/html": [
       "<div>\n",
       "<style scoped>\n",
       "    .dataframe tbody tr th:only-of-type {\n",
       "        vertical-align: middle;\n",
       "    }\n",
       "\n",
       "    .dataframe tbody tr th {\n",
       "        vertical-align: top;\n",
       "    }\n",
       "\n",
       "    .dataframe thead th {\n",
       "        text-align: right;\n",
       "    }\n",
       "</style>\n",
       "<table border=\"1\" class=\"dataframe\">\n",
       "  <thead>\n",
       "    <tr style=\"text-align: right;\">\n",
       "      <th></th>\n",
       "      <th>Open</th>\n",
       "      <th>High</th>\n",
       "      <th>Low</th>\n",
       "      <th>Close</th>\n",
       "      <th>Volume</th>\n",
       "      <th>Change</th>\n",
       "    </tr>\n",
       "    <tr>\n",
       "      <th>Date</th>\n",
       "      <th></th>\n",
       "      <th></th>\n",
       "      <th></th>\n",
       "      <th></th>\n",
       "      <th></th>\n",
       "      <th></th>\n",
       "    </tr>\n",
       "  </thead>\n",
       "  <tbody>\n",
       "    <tr>\n",
       "      <th>1997-06-27</th>\n",
       "      <td>1256</td>\n",
       "      <td>1265</td>\n",
       "      <td>1152</td>\n",
       "      <td>1224</td>\n",
       "      <td>99340</td>\n",
       "      <td>NaN</td>\n",
       "    </tr>\n",
       "    <tr>\n",
       "      <th>1997-06-28</th>\n",
       "      <td>1227</td>\n",
       "      <td>1250</td>\n",
       "      <td>1224</td>\n",
       "      <td>1251</td>\n",
       "      <td>36660</td>\n",
       "      <td>0.022059</td>\n",
       "    </tr>\n",
       "    <tr>\n",
       "      <th>1997-06-30</th>\n",
       "      <td>1259</td>\n",
       "      <td>1290</td>\n",
       "      <td>1254</td>\n",
       "      <td>1260</td>\n",
       "      <td>100240</td>\n",
       "      <td>0.007194</td>\n",
       "    </tr>\n",
       "    <tr>\n",
       "      <th>1997-07-01</th>\n",
       "      <td>1259</td>\n",
       "      <td>1286</td>\n",
       "      <td>1259</td>\n",
       "      <td>1269</td>\n",
       "      <td>167900</td>\n",
       "      <td>0.007143</td>\n",
       "    </tr>\n",
       "    <tr>\n",
       "      <th>1997-07-02</th>\n",
       "      <td>1277</td>\n",
       "      <td>1313</td>\n",
       "      <td>1277</td>\n",
       "      <td>1296</td>\n",
       "      <td>169940</td>\n",
       "      <td>0.021277</td>\n",
       "    </tr>\n",
       "  </tbody>\n",
       "</table>\n",
       "</div>"
      ],
      "text/plain": [
       "            Open  High   Low  Close  Volume    Change\n",
       "Date                                                 \n",
       "1997-06-27  1256  1265  1152   1224   99340       NaN\n",
       "1997-06-28  1227  1250  1224   1251   36660  0.022059\n",
       "1997-06-30  1259  1290  1254   1260  100240  0.007194\n",
       "1997-07-01  1259  1286  1259   1269  167900  0.007143\n",
       "1997-07-02  1277  1313  1277   1296  169940  0.021277"
      ]
     },
     "execution_count": 6,
     "metadata": {},
     "output_type": "execute_result"
    }
   ],
   "source": [
    "samsung.head()"
   ]
  },
  {
   "cell_type": "markdown",
   "metadata": {
    "id": "T-WOxATwBudl"
   },
   "source": [
    "매우 편리하게 삼성전자 주가 데이터를 `DataFrame`형식으로 받아옵니다.\n",
    "\n",
    "기본 **오름차순 정렬**이 된 데이터임을 알 수 있습니다.\n",
    "\n",
    "### 컬럼 설명\n",
    "\n",
    "- `Open`:   시가\n",
    "- `High`:   고가\n",
    "- `Low`:    저가\n",
    "- `Close`:  종가\n",
    "- `Volume`: 거래량\n",
    "- `Change`: 대비"
   ]
  },
  {
   "cell_type": "markdown",
   "metadata": {
    "id": "K9w60KnkEeqW"
   },
   "source": [
    "### 문제 04. 삼성전자 데이터 EDA"
   ]
  },
  {
   "cell_type": "code",
   "execution_count": 7,
   "metadata": {
    "id": "WfLJ5zHXBudl"
   },
   "outputs": [
    {
     "data": {
      "text/html": [
       "<div>\n",
       "<style scoped>\n",
       "    .dataframe tbody tr th:only-of-type {\n",
       "        vertical-align: middle;\n",
       "    }\n",
       "\n",
       "    .dataframe tbody tr th {\n",
       "        vertical-align: top;\n",
       "    }\n",
       "\n",
       "    .dataframe thead th {\n",
       "        text-align: right;\n",
       "    }\n",
       "</style>\n",
       "<table border=\"1\" class=\"dataframe\">\n",
       "  <thead>\n",
       "    <tr style=\"text-align: right;\">\n",
       "      <th></th>\n",
       "      <th>Open</th>\n",
       "      <th>High</th>\n",
       "      <th>Low</th>\n",
       "      <th>Close</th>\n",
       "      <th>Volume</th>\n",
       "      <th>Change</th>\n",
       "    </tr>\n",
       "    <tr>\n",
       "      <th>Date</th>\n",
       "      <th></th>\n",
       "      <th></th>\n",
       "      <th></th>\n",
       "      <th></th>\n",
       "      <th></th>\n",
       "      <th></th>\n",
       "    </tr>\n",
       "  </thead>\n",
       "  <tbody>\n",
       "    <tr>\n",
       "      <th>2021-06-28</th>\n",
       "      <td>81700</td>\n",
       "      <td>82000</td>\n",
       "      <td>81600</td>\n",
       "      <td>81900</td>\n",
       "      <td>11578529</td>\n",
       "      <td>0.003676</td>\n",
       "    </tr>\n",
       "    <tr>\n",
       "      <th>2021-06-29</th>\n",
       "      <td>81900</td>\n",
       "      <td>82100</td>\n",
       "      <td>80800</td>\n",
       "      <td>81000</td>\n",
       "      <td>15744317</td>\n",
       "      <td>-0.010989</td>\n",
       "    </tr>\n",
       "    <tr>\n",
       "      <th>2021-06-30</th>\n",
       "      <td>81100</td>\n",
       "      <td>81400</td>\n",
       "      <td>80700</td>\n",
       "      <td>80700</td>\n",
       "      <td>13288643</td>\n",
       "      <td>-0.003704</td>\n",
       "    </tr>\n",
       "    <tr>\n",
       "      <th>2021-07-01</th>\n",
       "      <td>80500</td>\n",
       "      <td>80600</td>\n",
       "      <td>80000</td>\n",
       "      <td>80100</td>\n",
       "      <td>13382882</td>\n",
       "      <td>-0.007435</td>\n",
       "    </tr>\n",
       "    <tr>\n",
       "      <th>2021-07-02</th>\n",
       "      <td>80000</td>\n",
       "      <td>80400</td>\n",
       "      <td>79900</td>\n",
       "      <td>80000</td>\n",
       "      <td>8181692</td>\n",
       "      <td>-0.001248</td>\n",
       "    </tr>\n",
       "  </tbody>\n",
       "</table>\n",
       "</div>"
      ],
      "text/plain": [
       "             Open   High    Low  Close    Volume    Change\n",
       "Date                                                      \n",
       "2021-06-28  81700  82000  81600  81900  11578529  0.003676\n",
       "2021-06-29  81900  82100  80800  81000  15744317 -0.010989\n",
       "2021-06-30  81100  81400  80700  80700  13288643 -0.003704\n",
       "2021-07-01  80500  80600  80000  80100  13382882 -0.007435\n",
       "2021-07-02  80000  80400  79900  80000   8181692 -0.001248"
      ]
     },
     "execution_count": 7,
     "metadata": {},
     "output_type": "execute_result"
    }
   ],
   "source": [
    "samsung.tail()"
   ]
  },
  {
   "cell_type": "code",
   "execution_count": 8,
   "metadata": {},
   "outputs": [
    {
     "name": "stdout",
     "output_type": "stream",
     "text": [
      "<class 'pandas.core.frame.DataFrame'>\n",
      "DatetimeIndex: 6000 entries, 1997-06-27 to 2021-07-02\n",
      "Data columns (total 6 columns):\n",
      " #   Column  Non-Null Count  Dtype  \n",
      "---  ------  --------------  -----  \n",
      " 0   Open    6000 non-null   int64  \n",
      " 1   High    6000 non-null   int64  \n",
      " 2   Low     6000 non-null   int64  \n",
      " 3   Close   6000 non-null   int64  \n",
      " 4   Volume  6000 non-null   int64  \n",
      " 5   Change  5999 non-null   float64\n",
      "dtypes: float64(1), int64(5)\n",
      "memory usage: 328.1 KB\n"
     ]
    }
   ],
   "source": [
    "samsung.info()"
   ]
  },
  {
   "cell_type": "code",
   "execution_count": 9,
   "metadata": {},
   "outputs": [
    {
     "data": {
      "text/html": [
       "<div>\n",
       "<style scoped>\n",
       "    .dataframe tbody tr th:only-of-type {\n",
       "        vertical-align: middle;\n",
       "    }\n",
       "\n",
       "    .dataframe tbody tr th {\n",
       "        vertical-align: top;\n",
       "    }\n",
       "\n",
       "    .dataframe thead th {\n",
       "        text-align: right;\n",
       "    }\n",
       "</style>\n",
       "<table border=\"1\" class=\"dataframe\">\n",
       "  <thead>\n",
       "    <tr style=\"text-align: right;\">\n",
       "      <th></th>\n",
       "      <th>Open</th>\n",
       "      <th>High</th>\n",
       "      <th>Low</th>\n",
       "      <th>Close</th>\n",
       "      <th>Volume</th>\n",
       "      <th>Change</th>\n",
       "    </tr>\n",
       "  </thead>\n",
       "  <tbody>\n",
       "    <tr>\n",
       "      <th>count</th>\n",
       "      <td>6000.000000</td>\n",
       "      <td>6000.000000</td>\n",
       "      <td>6000.000000</td>\n",
       "      <td>6000.000000</td>\n",
       "      <td>6.000000e+03</td>\n",
       "      <td>5999.000000</td>\n",
       "    </tr>\n",
       "    <tr>\n",
       "      <th>mean</th>\n",
       "      <td>20730.173167</td>\n",
       "      <td>20954.542500</td>\n",
       "      <td>20505.031667</td>\n",
       "      <td>20755.953833</td>\n",
       "      <td>2.544814e+06</td>\n",
       "      <td>0.001027</td>\n",
       "    </tr>\n",
       "    <tr>\n",
       "      <th>std</th>\n",
       "      <td>18213.883595</td>\n",
       "      <td>18385.055374</td>\n",
       "      <td>18046.507131</td>\n",
       "      <td>18218.540457</td>\n",
       "      <td>6.283996e+06</td>\n",
       "      <td>0.025757</td>\n",
       "    </tr>\n",
       "    <tr>\n",
       "      <th>min</th>\n",
       "      <td>0.000000</td>\n",
       "      <td>0.000000</td>\n",
       "      <td>0.000000</td>\n",
       "      <td>627.000000</td>\n",
       "      <td>0.000000e+00</td>\n",
       "      <td>-0.137566</td>\n",
       "    </tr>\n",
       "    <tr>\n",
       "      <th>25%</th>\n",
       "      <td>7400.000000</td>\n",
       "      <td>7500.000000</td>\n",
       "      <td>7277.250000</td>\n",
       "      <td>7400.000000</td>\n",
       "      <td>2.749732e+05</td>\n",
       "      <td>-0.012231</td>\n",
       "    </tr>\n",
       "    <tr>\n",
       "      <th>50%</th>\n",
       "      <td>13730.000000</td>\n",
       "      <td>13900.000000</td>\n",
       "      <td>13570.000000</td>\n",
       "      <td>13760.000000</td>\n",
       "      <td>4.492690e+05</td>\n",
       "      <td>0.000000</td>\n",
       "    </tr>\n",
       "    <tr>\n",
       "      <th>75%</th>\n",
       "      <td>28000.000000</td>\n",
       "      <td>28220.000000</td>\n",
       "      <td>27670.000000</td>\n",
       "      <td>28000.000000</td>\n",
       "      <td>8.159305e+05</td>\n",
       "      <td>0.012965</td>\n",
       "    </tr>\n",
       "    <tr>\n",
       "      <th>max</th>\n",
       "      <td>90300.000000</td>\n",
       "      <td>96800.000000</td>\n",
       "      <td>89500.000000</td>\n",
       "      <td>91000.000000</td>\n",
       "      <td>9.030618e+07</td>\n",
       "      <td>0.150000</td>\n",
       "    </tr>\n",
       "  </tbody>\n",
       "</table>\n",
       "</div>"
      ],
      "text/plain": [
       "               Open          High           Low         Close        Volume  \\\n",
       "count   6000.000000   6000.000000   6000.000000   6000.000000  6.000000e+03   \n",
       "mean   20730.173167  20954.542500  20505.031667  20755.953833  2.544814e+06   \n",
       "std    18213.883595  18385.055374  18046.507131  18218.540457  6.283996e+06   \n",
       "min        0.000000      0.000000      0.000000    627.000000  0.000000e+00   \n",
       "25%     7400.000000   7500.000000   7277.250000   7400.000000  2.749732e+05   \n",
       "50%    13730.000000  13900.000000  13570.000000  13760.000000  4.492690e+05   \n",
       "75%    28000.000000  28220.000000  27670.000000  28000.000000  8.159305e+05   \n",
       "max    90300.000000  96800.000000  89500.000000  91000.000000  9.030618e+07   \n",
       "\n",
       "            Change  \n",
       "count  5999.000000  \n",
       "mean      0.001027  \n",
       "std       0.025757  \n",
       "min      -0.137566  \n",
       "25%      -0.012231  \n",
       "50%       0.000000  \n",
       "75%       0.012965  \n",
       "max       0.150000  "
      ]
     },
     "execution_count": 9,
     "metadata": {},
     "output_type": "execute_result"
    }
   ],
   "source": [
    "samsung.describe()"
   ]
  },
  {
   "cell_type": "markdown",
   "metadata": {
    "id": "C0i4k1S-Budn"
   },
   "source": [
    "**미국 주식 데이터**도 가져올 수 있습니다."
   ]
  },
  {
   "cell_type": "markdown",
   "metadata": {
    "id": "ubGAbVaxEjGG"
   },
   "source": [
    "### 문제 05. 애플 데이터 불러오기"
   ]
  },
  {
   "cell_type": "code",
   "execution_count": 11,
   "metadata": {
    "id": "_4isQ8KTBudn"
   },
   "outputs": [],
   "source": [
    "# fdr 라이브러리를 활용해 Apple(AAPL) 데이터를 불러오세요.\n",
    "apple = fdr.DataReader(\"AAPL\")"
   ]
  },
  {
   "cell_type": "markdown",
   "metadata": {
    "id": "addJd0MGE6RD"
   },
   "source": [
    "### 문제 06. 애플 데이터 EDA"
   ]
  },
  {
   "cell_type": "code",
   "execution_count": 12,
   "metadata": {
    "id": "-0JPVT6UBudn",
    "outputId": "8d3cff02-b2fa-40d4-dae7-9b60958eb6f7"
   },
   "outputs": [
    {
     "data": {
      "text/html": [
       "<div>\n",
       "<style scoped>\n",
       "    .dataframe tbody tr th:only-of-type {\n",
       "        vertical-align: middle;\n",
       "    }\n",
       "\n",
       "    .dataframe tbody tr th {\n",
       "        vertical-align: top;\n",
       "    }\n",
       "\n",
       "    .dataframe thead th {\n",
       "        text-align: right;\n",
       "    }\n",
       "</style>\n",
       "<table border=\"1\" class=\"dataframe\">\n",
       "  <thead>\n",
       "    <tr style=\"text-align: right;\">\n",
       "      <th></th>\n",
       "      <th>Close</th>\n",
       "      <th>Open</th>\n",
       "      <th>High</th>\n",
       "      <th>Low</th>\n",
       "      <th>Volume</th>\n",
       "      <th>Change</th>\n",
       "    </tr>\n",
       "    <tr>\n",
       "      <th>Date</th>\n",
       "      <th></th>\n",
       "      <th></th>\n",
       "      <th></th>\n",
       "      <th></th>\n",
       "      <th></th>\n",
       "      <th></th>\n",
       "    </tr>\n",
       "  </thead>\n",
       "  <tbody>\n",
       "    <tr>\n",
       "      <th>1980-12-12</th>\n",
       "      <td>0.13</td>\n",
       "      <td>0.13</td>\n",
       "      <td>0.13</td>\n",
       "      <td>0.13</td>\n",
       "      <td>469030000.0</td>\n",
       "      <td>-0.9988</td>\n",
       "    </tr>\n",
       "    <tr>\n",
       "      <th>1980-12-15</th>\n",
       "      <td>0.12</td>\n",
       "      <td>0.12</td>\n",
       "      <td>0.12</td>\n",
       "      <td>0.12</td>\n",
       "      <td>175880000.0</td>\n",
       "      <td>-0.0769</td>\n",
       "    </tr>\n",
       "    <tr>\n",
       "      <th>1980-12-16</th>\n",
       "      <td>0.11</td>\n",
       "      <td>0.11</td>\n",
       "      <td>0.11</td>\n",
       "      <td>0.11</td>\n",
       "      <td>105730000.0</td>\n",
       "      <td>-0.0833</td>\n",
       "    </tr>\n",
       "    <tr>\n",
       "      <th>1980-12-17</th>\n",
       "      <td>0.12</td>\n",
       "      <td>0.12</td>\n",
       "      <td>0.12</td>\n",
       "      <td>0.12</td>\n",
       "      <td>86440000.0</td>\n",
       "      <td>0.0909</td>\n",
       "    </tr>\n",
       "    <tr>\n",
       "      <th>1980-12-18</th>\n",
       "      <td>0.12</td>\n",
       "      <td>0.12</td>\n",
       "      <td>0.12</td>\n",
       "      <td>0.12</td>\n",
       "      <td>73450000.0</td>\n",
       "      <td>0.0000</td>\n",
       "    </tr>\n",
       "  </tbody>\n",
       "</table>\n",
       "</div>"
      ],
      "text/plain": [
       "            Close  Open  High   Low       Volume  Change\n",
       "Date                                                    \n",
       "1980-12-12   0.13  0.13  0.13  0.13  469030000.0 -0.9988\n",
       "1980-12-15   0.12  0.12  0.12  0.12  175880000.0 -0.0769\n",
       "1980-12-16   0.11  0.11  0.11  0.11  105730000.0 -0.0833\n",
       "1980-12-17   0.12  0.12  0.12  0.12   86440000.0  0.0909\n",
       "1980-12-18   0.12  0.12  0.12  0.12   73450000.0  0.0000"
      ]
     },
     "execution_count": 12,
     "metadata": {},
     "output_type": "execute_result"
    }
   ],
   "source": [
    "apple.head()"
   ]
  },
  {
   "cell_type": "code",
   "execution_count": 13,
   "metadata": {},
   "outputs": [
    {
     "name": "stdout",
     "output_type": "stream",
     "text": [
      "<class 'pandas.core.frame.DataFrame'>\n",
      "DatetimeIndex: 10226 entries, 1980-12-12 to 2021-07-02\n",
      "Data columns (total 6 columns):\n",
      " #   Column  Non-Null Count  Dtype  \n",
      "---  ------  --------------  -----  \n",
      " 0   Close   10226 non-null  float64\n",
      " 1   Open    10226 non-null  float64\n",
      " 2   High    10226 non-null  float64\n",
      " 3   Low     10226 non-null  float64\n",
      " 4   Volume  10226 non-null  float64\n",
      " 5   Change  10226 non-null  float64\n",
      "dtypes: float64(6)\n",
      "memory usage: 559.2 KB\n"
     ]
    }
   ],
   "source": [
    "apple.info()"
   ]
  },
  {
   "cell_type": "code",
   "execution_count": 14,
   "metadata": {},
   "outputs": [
    {
     "data": {
      "text/html": [
       "<div>\n",
       "<style scoped>\n",
       "    .dataframe tbody tr th:only-of-type {\n",
       "        vertical-align: middle;\n",
       "    }\n",
       "\n",
       "    .dataframe tbody tr th {\n",
       "        vertical-align: top;\n",
       "    }\n",
       "\n",
       "    .dataframe thead th {\n",
       "        text-align: right;\n",
       "    }\n",
       "</style>\n",
       "<table border=\"1\" class=\"dataframe\">\n",
       "  <thead>\n",
       "    <tr style=\"text-align: right;\">\n",
       "      <th></th>\n",
       "      <th>Close</th>\n",
       "      <th>Open</th>\n",
       "      <th>High</th>\n",
       "      <th>Low</th>\n",
       "      <th>Volume</th>\n",
       "      <th>Change</th>\n",
       "    </tr>\n",
       "  </thead>\n",
       "  <tbody>\n",
       "    <tr>\n",
       "      <th>count</th>\n",
       "      <td>10226.000000</td>\n",
       "      <td>10226.000000</td>\n",
       "      <td>10226.000000</td>\n",
       "      <td>10226.000000</td>\n",
       "      <td>1.022600e+04</td>\n",
       "      <td>10226.000000</td>\n",
       "    </tr>\n",
       "    <tr>\n",
       "      <th>mean</th>\n",
       "      <td>11.399781</td>\n",
       "      <td>11.397103</td>\n",
       "      <td>11.518780</td>\n",
       "      <td>11.272060</td>\n",
       "      <td>3.366108e+08</td>\n",
       "      <td>0.001044</td>\n",
       "    </tr>\n",
       "    <tr>\n",
       "      <th>std</th>\n",
       "      <td>23.463528</td>\n",
       "      <td>23.459847</td>\n",
       "      <td>23.721381</td>\n",
       "      <td>23.185748</td>\n",
       "      <td>3.412730e+08</td>\n",
       "      <td>0.034704</td>\n",
       "    </tr>\n",
       "    <tr>\n",
       "      <th>min</th>\n",
       "      <td>0.050000</td>\n",
       "      <td>0.050000</td>\n",
       "      <td>0.050000</td>\n",
       "      <td>0.050000</td>\n",
       "      <td>1.390000e+06</td>\n",
       "      <td>-0.998800</td>\n",
       "    </tr>\n",
       "    <tr>\n",
       "      <th>25%</th>\n",
       "      <td>0.280000</td>\n",
       "      <td>0.280000</td>\n",
       "      <td>0.280000</td>\n",
       "      <td>0.270000</td>\n",
       "      <td>1.282375e+08</td>\n",
       "      <td>-0.008200</td>\n",
       "    </tr>\n",
       "    <tr>\n",
       "      <th>50%</th>\n",
       "      <td>0.450000</td>\n",
       "      <td>0.450000</td>\n",
       "      <td>0.460000</td>\n",
       "      <td>0.440000</td>\n",
       "      <td>2.241000e+08</td>\n",
       "      <td>0.000000</td>\n",
       "    </tr>\n",
       "    <tr>\n",
       "      <th>75%</th>\n",
       "      <td>12.380000</td>\n",
       "      <td>12.370000</td>\n",
       "      <td>12.490000</td>\n",
       "      <td>12.310000</td>\n",
       "      <td>4.188400e+08</td>\n",
       "      <td>0.012275</td>\n",
       "    </tr>\n",
       "    <tr>\n",
       "      <th>max</th>\n",
       "      <td>143.160000</td>\n",
       "      <td>143.600000</td>\n",
       "      <td>145.090000</td>\n",
       "      <td>141.370000</td>\n",
       "      <td>7.430000e+09</td>\n",
       "      <td>0.277800</td>\n",
       "    </tr>\n",
       "  </tbody>\n",
       "</table>\n",
       "</div>"
      ],
      "text/plain": [
       "              Close          Open          High           Low        Volume  \\\n",
       "count  10226.000000  10226.000000  10226.000000  10226.000000  1.022600e+04   \n",
       "mean      11.399781     11.397103     11.518780     11.272060  3.366108e+08   \n",
       "std       23.463528     23.459847     23.721381     23.185748  3.412730e+08   \n",
       "min        0.050000      0.050000      0.050000      0.050000  1.390000e+06   \n",
       "25%        0.280000      0.280000      0.280000      0.270000  1.282375e+08   \n",
       "50%        0.450000      0.450000      0.460000      0.440000  2.241000e+08   \n",
       "75%       12.380000     12.370000     12.490000     12.310000  4.188400e+08   \n",
       "max      143.160000    143.600000    145.090000    141.370000  7.430000e+09   \n",
       "\n",
       "             Change  \n",
       "count  10226.000000  \n",
       "mean       0.001044  \n",
       "std        0.034704  \n",
       "min       -0.998800  \n",
       "25%       -0.008200  \n",
       "50%        0.000000  \n",
       "75%        0.012275  \n",
       "max        0.277800  "
      ]
     },
     "execution_count": 14,
     "metadata": {},
     "output_type": "execute_result"
    }
   ],
   "source": [
    "apple.describe()"
   ]
  },
  {
   "cell_type": "markdown",
   "metadata": {
    "id": "3FmQB8fOBudo"
   },
   "source": [
    "### 문제 07. 특정 시점(2017년) 이후 데이터 불러오기"
   ]
  },
  {
   "cell_type": "code",
   "execution_count": 15,
   "metadata": {
    "id": "96jnHiNtBudo"
   },
   "outputs": [],
   "source": [
    "# Apple(AAPL), 2017년\n",
    "apple = fdr.DataReader('AAPL', '2017')"
   ]
  },
  {
   "cell_type": "code",
   "execution_count": 16,
   "metadata": {
    "id": "T2smiyL7Budo"
   },
   "outputs": [
    {
     "data": {
      "text/html": [
       "<div>\n",
       "<style scoped>\n",
       "    .dataframe tbody tr th:only-of-type {\n",
       "        vertical-align: middle;\n",
       "    }\n",
       "\n",
       "    .dataframe tbody tr th {\n",
       "        vertical-align: top;\n",
       "    }\n",
       "\n",
       "    .dataframe thead th {\n",
       "        text-align: right;\n",
       "    }\n",
       "</style>\n",
       "<table border=\"1\" class=\"dataframe\">\n",
       "  <thead>\n",
       "    <tr style=\"text-align: right;\">\n",
       "      <th></th>\n",
       "      <th>Close</th>\n",
       "      <th>Open</th>\n",
       "      <th>High</th>\n",
       "      <th>Low</th>\n",
       "      <th>Volume</th>\n",
       "      <th>Change</th>\n",
       "    </tr>\n",
       "    <tr>\n",
       "      <th>Date</th>\n",
       "      <th></th>\n",
       "      <th></th>\n",
       "      <th></th>\n",
       "      <th></th>\n",
       "      <th></th>\n",
       "      <th></th>\n",
       "    </tr>\n",
       "  </thead>\n",
       "  <tbody>\n",
       "    <tr>\n",
       "      <th>2017-01-03</th>\n",
       "      <td>29.04</td>\n",
       "      <td>28.95</td>\n",
       "      <td>29.08</td>\n",
       "      <td>28.69</td>\n",
       "      <td>115130000.0</td>\n",
       "      <td>0.0031</td>\n",
       "    </tr>\n",
       "    <tr>\n",
       "      <th>2017-01-04</th>\n",
       "      <td>29.00</td>\n",
       "      <td>28.96</td>\n",
       "      <td>29.13</td>\n",
       "      <td>28.94</td>\n",
       "      <td>84470000.0</td>\n",
       "      <td>-0.0014</td>\n",
       "    </tr>\n",
       "    <tr>\n",
       "      <th>2017-01-05</th>\n",
       "      <td>29.15</td>\n",
       "      <td>28.98</td>\n",
       "      <td>29.22</td>\n",
       "      <td>28.95</td>\n",
       "      <td>88770000.0</td>\n",
       "      <td>0.0052</td>\n",
       "    </tr>\n",
       "    <tr>\n",
       "      <th>2017-01-06</th>\n",
       "      <td>29.48</td>\n",
       "      <td>29.20</td>\n",
       "      <td>29.54</td>\n",
       "      <td>29.12</td>\n",
       "      <td>127010000.0</td>\n",
       "      <td>0.0113</td>\n",
       "    </tr>\n",
       "    <tr>\n",
       "      <th>2017-01-09</th>\n",
       "      <td>29.75</td>\n",
       "      <td>29.49</td>\n",
       "      <td>29.86</td>\n",
       "      <td>29.48</td>\n",
       "      <td>134250000.0</td>\n",
       "      <td>0.0092</td>\n",
       "    </tr>\n",
       "  </tbody>\n",
       "</table>\n",
       "</div>"
      ],
      "text/plain": [
       "            Close   Open   High    Low       Volume  Change\n",
       "Date                                                       \n",
       "2017-01-03  29.04  28.95  29.08  28.69  115130000.0  0.0031\n",
       "2017-01-04  29.00  28.96  29.13  28.94   84470000.0 -0.0014\n",
       "2017-01-05  29.15  28.98  29.22  28.95   88770000.0  0.0052\n",
       "2017-01-06  29.48  29.20  29.54  29.12  127010000.0  0.0113\n",
       "2017-01-09  29.75  29.49  29.86  29.48  134250000.0  0.0092"
      ]
     },
     "execution_count": 16,
     "metadata": {},
     "output_type": "execute_result"
    }
   ],
   "source": [
    "apple.head()"
   ]
  },
  {
   "cell_type": "markdown",
   "metadata": {
    "id": "-ter25eMBudp"
   },
   "source": [
    "### 문제 08. 날짜를 지정하여 특정 범위(40년간) 데이터 불러오기"
   ]
  },
  {
   "cell_type": "code",
   "execution_count": 17,
   "metadata": {
    "id": "vyR92-HABudp"
   },
   "outputs": [],
   "source": [
    "# Ford(F), 1980-01-01 ~ 2019-12-30 (40년 데이터)\n",
    "ford = fdr.DataReader('F', '1980-01-01', '2019-12-30')"
   ]
  },
  {
   "cell_type": "code",
   "execution_count": 18,
   "metadata": {
    "id": "j1N0Y2XXBudp"
   },
   "outputs": [
    {
     "data": {
      "text/html": [
       "<div>\n",
       "<style scoped>\n",
       "    .dataframe tbody tr th:only-of-type {\n",
       "        vertical-align: middle;\n",
       "    }\n",
       "\n",
       "    .dataframe tbody tr th {\n",
       "        vertical-align: top;\n",
       "    }\n",
       "\n",
       "    .dataframe thead th {\n",
       "        text-align: right;\n",
       "    }\n",
       "</style>\n",
       "<table border=\"1\" class=\"dataframe\">\n",
       "  <thead>\n",
       "    <tr style=\"text-align: right;\">\n",
       "      <th></th>\n",
       "      <th>Close</th>\n",
       "      <th>Open</th>\n",
       "      <th>High</th>\n",
       "      <th>Low</th>\n",
       "      <th>Volume</th>\n",
       "      <th>Change</th>\n",
       "    </tr>\n",
       "    <tr>\n",
       "      <th>Date</th>\n",
       "      <th></th>\n",
       "      <th></th>\n",
       "      <th></th>\n",
       "      <th></th>\n",
       "      <th></th>\n",
       "      <th></th>\n",
       "    </tr>\n",
       "  </thead>\n",
       "  <tbody>\n",
       "    <tr>\n",
       "      <th>1980-03-18</th>\n",
       "      <td>1.83</td>\n",
       "      <td>1.83</td>\n",
       "      <td>1.85</td>\n",
       "      <td>1.82</td>\n",
       "      <td>3770000.0</td>\n",
       "      <td>-0.0108</td>\n",
       "    </tr>\n",
       "    <tr>\n",
       "      <th>1980-03-19</th>\n",
       "      <td>1.85</td>\n",
       "      <td>1.85</td>\n",
       "      <td>1.86</td>\n",
       "      <td>1.83</td>\n",
       "      <td>1560000.0</td>\n",
       "      <td>0.0109</td>\n",
       "    </tr>\n",
       "    <tr>\n",
       "      <th>1980-03-20</th>\n",
       "      <td>1.86</td>\n",
       "      <td>1.86</td>\n",
       "      <td>1.88</td>\n",
       "      <td>1.85</td>\n",
       "      <td>1450000.0</td>\n",
       "      <td>0.0054</td>\n",
       "    </tr>\n",
       "    <tr>\n",
       "      <th>1980-03-21</th>\n",
       "      <td>1.78</td>\n",
       "      <td>1.78</td>\n",
       "      <td>1.85</td>\n",
       "      <td>1.76</td>\n",
       "      <td>5020000.0</td>\n",
       "      <td>-0.0430</td>\n",
       "    </tr>\n",
       "    <tr>\n",
       "      <th>1980-03-24</th>\n",
       "      <td>1.71</td>\n",
       "      <td>1.71</td>\n",
       "      <td>1.75</td>\n",
       "      <td>1.66</td>\n",
       "      <td>3330000.0</td>\n",
       "      <td>-0.0393</td>\n",
       "    </tr>\n",
       "  </tbody>\n",
       "</table>\n",
       "</div>"
      ],
      "text/plain": [
       "            Close  Open  High   Low     Volume  Change\n",
       "Date                                                  \n",
       "1980-03-18   1.83  1.83  1.85  1.82  3770000.0 -0.0108\n",
       "1980-03-19   1.85  1.85  1.86  1.83  1560000.0  0.0109\n",
       "1980-03-20   1.86  1.86  1.88  1.85  1450000.0  0.0054\n",
       "1980-03-21   1.78  1.78  1.85  1.76  5020000.0 -0.0430\n",
       "1980-03-24   1.71  1.71  1.75  1.66  3330000.0 -0.0393"
      ]
     },
     "execution_count": 18,
     "metadata": {},
     "output_type": "execute_result"
    }
   ],
   "source": [
    "ford.head()"
   ]
  },
  {
   "cell_type": "code",
   "execution_count": 19,
   "metadata": {},
   "outputs": [
    {
     "data": {
      "text/html": [
       "<div>\n",
       "<style scoped>\n",
       "    .dataframe tbody tr th:only-of-type {\n",
       "        vertical-align: middle;\n",
       "    }\n",
       "\n",
       "    .dataframe tbody tr th {\n",
       "        vertical-align: top;\n",
       "    }\n",
       "\n",
       "    .dataframe thead th {\n",
       "        text-align: right;\n",
       "    }\n",
       "</style>\n",
       "<table border=\"1\" class=\"dataframe\">\n",
       "  <thead>\n",
       "    <tr style=\"text-align: right;\">\n",
       "      <th></th>\n",
       "      <th>Close</th>\n",
       "      <th>Open</th>\n",
       "      <th>High</th>\n",
       "      <th>Low</th>\n",
       "      <th>Volume</th>\n",
       "      <th>Change</th>\n",
       "    </tr>\n",
       "    <tr>\n",
       "      <th>Date</th>\n",
       "      <th></th>\n",
       "      <th></th>\n",
       "      <th></th>\n",
       "      <th></th>\n",
       "      <th></th>\n",
       "      <th></th>\n",
       "    </tr>\n",
       "  </thead>\n",
       "  <tbody>\n",
       "    <tr>\n",
       "      <th>2019-12-23</th>\n",
       "      <td>9.44</td>\n",
       "      <td>9.50</td>\n",
       "      <td>9.57</td>\n",
       "      <td>9.40</td>\n",
       "      <td>54800000.0</td>\n",
       "      <td>-0.0042</td>\n",
       "    </tr>\n",
       "    <tr>\n",
       "      <th>2019-12-24</th>\n",
       "      <td>9.47</td>\n",
       "      <td>9.44</td>\n",
       "      <td>9.49</td>\n",
       "      <td>9.43</td>\n",
       "      <td>11880000.0</td>\n",
       "      <td>0.0032</td>\n",
       "    </tr>\n",
       "    <tr>\n",
       "      <th>2019-12-26</th>\n",
       "      <td>9.45</td>\n",
       "      <td>9.47</td>\n",
       "      <td>9.49</td>\n",
       "      <td>9.43</td>\n",
       "      <td>28980000.0</td>\n",
       "      <td>-0.0021</td>\n",
       "    </tr>\n",
       "    <tr>\n",
       "      <th>2019-12-27</th>\n",
       "      <td>9.36</td>\n",
       "      <td>9.45</td>\n",
       "      <td>9.46</td>\n",
       "      <td>9.35</td>\n",
       "      <td>28270000.0</td>\n",
       "      <td>-0.0095</td>\n",
       "    </tr>\n",
       "    <tr>\n",
       "      <th>2019-12-30</th>\n",
       "      <td>9.25</td>\n",
       "      <td>9.34</td>\n",
       "      <td>9.35</td>\n",
       "      <td>9.23</td>\n",
       "      <td>36090000.0</td>\n",
       "      <td>-0.0118</td>\n",
       "    </tr>\n",
       "  </tbody>\n",
       "</table>\n",
       "</div>"
      ],
      "text/plain": [
       "            Close  Open  High   Low      Volume  Change\n",
       "Date                                                   \n",
       "2019-12-23   9.44  9.50  9.57  9.40  54800000.0 -0.0042\n",
       "2019-12-24   9.47  9.44  9.49  9.43  11880000.0  0.0032\n",
       "2019-12-26   9.45  9.47  9.49  9.43  28980000.0 -0.0021\n",
       "2019-12-27   9.36  9.45  9.46  9.35  28270000.0 -0.0095\n",
       "2019-12-30   9.25  9.34  9.35  9.23  36090000.0 -0.0118"
      ]
     },
     "execution_count": 19,
     "metadata": {},
     "output_type": "execute_result"
    }
   ],
   "source": [
    "ford.tail()"
   ]
  },
  {
   "cell_type": "markdown",
   "metadata": {
    "id": "BxmJoqteBudq"
   },
   "source": [
    "### 문제 09. '금'과 '달러' 데이터도 가져올 수 있습니다. 두 데이터를 불러와 head를 출력해보세요."
   ]
  },
  {
   "cell_type": "markdown",
   "metadata": {
    "id": "WEJpAQ7EBudq"
   },
   "source": [
    "*[GitHub 페이지 링크](https://github.com/FinanceData/FinanceDataReader) 참고"
   ]
  },
  {
   "cell_type": "code",
   "execution_count": 24,
   "metadata": {
    "id": "Rv85AHqkGJp0"
   },
   "outputs": [],
   "source": [
    "# 금 선물 가격\n",
    "gold = fdr.DataReader('ZG')"
   ]
  },
  {
   "cell_type": "code",
   "execution_count": 25,
   "metadata": {},
   "outputs": [
    {
     "data": {
      "text/html": [
       "<div>\n",
       "<style scoped>\n",
       "    .dataframe tbody tr th:only-of-type {\n",
       "        vertical-align: middle;\n",
       "    }\n",
       "\n",
       "    .dataframe tbody tr th {\n",
       "        vertical-align: top;\n",
       "    }\n",
       "\n",
       "    .dataframe thead th {\n",
       "        text-align: right;\n",
       "    }\n",
       "</style>\n",
       "<table border=\"1\" class=\"dataframe\">\n",
       "  <thead>\n",
       "    <tr style=\"text-align: right;\">\n",
       "      <th></th>\n",
       "      <th>Close</th>\n",
       "      <th>Open</th>\n",
       "      <th>High</th>\n",
       "      <th>Low</th>\n",
       "      <th>Volume</th>\n",
       "      <th>Change</th>\n",
       "    </tr>\n",
       "    <tr>\n",
       "      <th>Date</th>\n",
       "      <th></th>\n",
       "      <th></th>\n",
       "      <th></th>\n",
       "      <th></th>\n",
       "      <th></th>\n",
       "      <th></th>\n",
       "    </tr>\n",
       "  </thead>\n",
       "  <tbody>\n",
       "    <tr>\n",
       "      <th>1980-01-02</th>\n",
       "      <td>575.5</td>\n",
       "      <td>562.5</td>\n",
       "      <td>577.0</td>\n",
       "      <td>558.0</td>\n",
       "      <td>7260.0</td>\n",
       "      <td>0.0785</td>\n",
       "    </tr>\n",
       "    <tr>\n",
       "      <th>1980-01-03</th>\n",
       "      <td>625.0</td>\n",
       "      <td>627.0</td>\n",
       "      <td>640.0</td>\n",
       "      <td>603.0</td>\n",
       "      <td>20750.0</td>\n",
       "      <td>0.0860</td>\n",
       "    </tr>\n",
       "    <tr>\n",
       "      <th>1980-01-04</th>\n",
       "      <td>603.6</td>\n",
       "      <td>609.5</td>\n",
       "      <td>621.0</td>\n",
       "      <td>573.0</td>\n",
       "      <td>2660.0</td>\n",
       "      <td>-0.0342</td>\n",
       "    </tr>\n",
       "    <tr>\n",
       "      <th>1980-01-07</th>\n",
       "      <td>627.0</td>\n",
       "      <td>629.0</td>\n",
       "      <td>635.0</td>\n",
       "      <td>611.0</td>\n",
       "      <td>3000.0</td>\n",
       "      <td>0.0388</td>\n",
       "    </tr>\n",
       "    <tr>\n",
       "      <th>1980-01-08</th>\n",
       "      <td>602.5</td>\n",
       "      <td>611.5</td>\n",
       "      <td>619.0</td>\n",
       "      <td>600.0</td>\n",
       "      <td>750.0</td>\n",
       "      <td>-0.0391</td>\n",
       "    </tr>\n",
       "  </tbody>\n",
       "</table>\n",
       "</div>"
      ],
      "text/plain": [
       "            Close   Open   High    Low   Volume  Change\n",
       "Date                                                   \n",
       "1980-01-02  575.5  562.5  577.0  558.0   7260.0  0.0785\n",
       "1980-01-03  625.0  627.0  640.0  603.0  20750.0  0.0860\n",
       "1980-01-04  603.6  609.5  621.0  573.0   2660.0 -0.0342\n",
       "1980-01-07  627.0  629.0  635.0  611.0   3000.0  0.0388\n",
       "1980-01-08  602.5  611.5  619.0  600.0    750.0 -0.0391"
      ]
     },
     "execution_count": 25,
     "metadata": {},
     "output_type": "execute_result"
    }
   ],
   "source": [
    "gold.head()"
   ]
  },
  {
   "cell_type": "code",
   "execution_count": 26,
   "metadata": {},
   "outputs": [
    {
     "data": {
      "text/html": [
       "<div>\n",
       "<style scoped>\n",
       "    .dataframe tbody tr th:only-of-type {\n",
       "        vertical-align: middle;\n",
       "    }\n",
       "\n",
       "    .dataframe tbody tr th {\n",
       "        vertical-align: top;\n",
       "    }\n",
       "\n",
       "    .dataframe thead th {\n",
       "        text-align: right;\n",
       "    }\n",
       "</style>\n",
       "<table border=\"1\" class=\"dataframe\">\n",
       "  <thead>\n",
       "    <tr style=\"text-align: right;\">\n",
       "      <th></th>\n",
       "      <th>Close</th>\n",
       "      <th>Open</th>\n",
       "      <th>High</th>\n",
       "      <th>Low</th>\n",
       "      <th>Volume</th>\n",
       "      <th>Change</th>\n",
       "    </tr>\n",
       "    <tr>\n",
       "      <th>Date</th>\n",
       "      <th></th>\n",
       "      <th></th>\n",
       "      <th></th>\n",
       "      <th></th>\n",
       "      <th></th>\n",
       "      <th></th>\n",
       "    </tr>\n",
       "  </thead>\n",
       "  <tbody>\n",
       "    <tr>\n",
       "      <th>2021-06-25</th>\n",
       "      <td>1777.8</td>\n",
       "      <td>1775.7</td>\n",
       "      <td>1791.0</td>\n",
       "      <td>1773.6</td>\n",
       "      <td>161200.0</td>\n",
       "      <td>0.0006</td>\n",
       "    </tr>\n",
       "    <tr>\n",
       "      <th>2021-06-28</th>\n",
       "      <td>1780.7</td>\n",
       "      <td>1782.0</td>\n",
       "      <td>1786.1</td>\n",
       "      <td>1770.4</td>\n",
       "      <td>160790.0</td>\n",
       "      <td>0.0016</td>\n",
       "    </tr>\n",
       "    <tr>\n",
       "      <th>2021-06-29</th>\n",
       "      <td>1763.6</td>\n",
       "      <td>1778.8</td>\n",
       "      <td>1779.2</td>\n",
       "      <td>1750.1</td>\n",
       "      <td>239910.0</td>\n",
       "      <td>-0.0096</td>\n",
       "    </tr>\n",
       "    <tr>\n",
       "      <th>2021-06-30</th>\n",
       "      <td>1771.6</td>\n",
       "      <td>1761.9</td>\n",
       "      <td>1774.7</td>\n",
       "      <td>1753.2</td>\n",
       "      <td>177890.0</td>\n",
       "      <td>0.0045</td>\n",
       "    </tr>\n",
       "    <tr>\n",
       "      <th>2021-07-01</th>\n",
       "      <td>1776.8</td>\n",
       "      <td>1770.8</td>\n",
       "      <td>1783.4</td>\n",
       "      <td>1765.9</td>\n",
       "      <td>171440.0</td>\n",
       "      <td>0.0029</td>\n",
       "    </tr>\n",
       "  </tbody>\n",
       "</table>\n",
       "</div>"
      ],
      "text/plain": [
       "             Close    Open    High     Low    Volume  Change\n",
       "Date                                                        \n",
       "2021-06-25  1777.8  1775.7  1791.0  1773.6  161200.0  0.0006\n",
       "2021-06-28  1780.7  1782.0  1786.1  1770.4  160790.0  0.0016\n",
       "2021-06-29  1763.6  1778.8  1779.2  1750.1  239910.0 -0.0096\n",
       "2021-06-30  1771.6  1761.9  1774.7  1753.2  177890.0  0.0045\n",
       "2021-07-01  1776.8  1770.8  1783.4  1765.9  171440.0  0.0029"
      ]
     },
     "execution_count": 26,
     "metadata": {},
     "output_type": "execute_result"
    }
   ],
   "source": [
    "gold.tail()"
   ]
  },
  {
   "cell_type": "code",
   "execution_count": 21,
   "metadata": {
    "id": "whRbcKezGJ5V"
   },
   "outputs": [],
   "source": [
    "# 달러 가격\n",
    "dollar = fdr.DataReader('USD/KRW')"
   ]
  },
  {
   "cell_type": "code",
   "execution_count": 22,
   "metadata": {},
   "outputs": [
    {
     "data": {
      "text/html": [
       "<div>\n",
       "<style scoped>\n",
       "    .dataframe tbody tr th:only-of-type {\n",
       "        vertical-align: middle;\n",
       "    }\n",
       "\n",
       "    .dataframe tbody tr th {\n",
       "        vertical-align: top;\n",
       "    }\n",
       "\n",
       "    .dataframe thead th {\n",
       "        text-align: right;\n",
       "    }\n",
       "</style>\n",
       "<table border=\"1\" class=\"dataframe\">\n",
       "  <thead>\n",
       "    <tr style=\"text-align: right;\">\n",
       "      <th></th>\n",
       "      <th>Close</th>\n",
       "      <th>Open</th>\n",
       "      <th>High</th>\n",
       "      <th>Low</th>\n",
       "      <th>Change</th>\n",
       "    </tr>\n",
       "    <tr>\n",
       "      <th>Date</th>\n",
       "      <th></th>\n",
       "      <th></th>\n",
       "      <th></th>\n",
       "      <th></th>\n",
       "      <th></th>\n",
       "    </tr>\n",
       "  </thead>\n",
       "  <tbody>\n",
       "    <tr>\n",
       "      <th>1981-04-14</th>\n",
       "      <td>676.70</td>\n",
       "      <td>676.70</td>\n",
       "      <td>676.70</td>\n",
       "      <td>676.70</td>\n",
       "      <td>0.0019</td>\n",
       "    </tr>\n",
       "    <tr>\n",
       "      <th>1981-04-15</th>\n",
       "      <td>676.70</td>\n",
       "      <td>676.70</td>\n",
       "      <td>676.70</td>\n",
       "      <td>676.70</td>\n",
       "      <td>0.0000</td>\n",
       "    </tr>\n",
       "    <tr>\n",
       "      <th>1981-04-16</th>\n",
       "      <td>676.70</td>\n",
       "      <td>676.70</td>\n",
       "      <td>676.70</td>\n",
       "      <td>676.70</td>\n",
       "      <td>0.0000</td>\n",
       "    </tr>\n",
       "    <tr>\n",
       "      <th>1981-04-17</th>\n",
       "      <td>676.75</td>\n",
       "      <td>676.75</td>\n",
       "      <td>676.75</td>\n",
       "      <td>676.75</td>\n",
       "      <td>0.0001</td>\n",
       "    </tr>\n",
       "    <tr>\n",
       "      <th>1981-04-20</th>\n",
       "      <td>676.70</td>\n",
       "      <td>676.70</td>\n",
       "      <td>676.70</td>\n",
       "      <td>676.70</td>\n",
       "      <td>-0.0001</td>\n",
       "    </tr>\n",
       "  </tbody>\n",
       "</table>\n",
       "</div>"
      ],
      "text/plain": [
       "             Close    Open    High     Low  Change\n",
       "Date                                              \n",
       "1981-04-14  676.70  676.70  676.70  676.70  0.0019\n",
       "1981-04-15  676.70  676.70  676.70  676.70  0.0000\n",
       "1981-04-16  676.70  676.70  676.70  676.70  0.0000\n",
       "1981-04-17  676.75  676.75  676.75  676.75  0.0001\n",
       "1981-04-20  676.70  676.70  676.70  676.70 -0.0001"
      ]
     },
     "execution_count": 22,
     "metadata": {},
     "output_type": "execute_result"
    }
   ],
   "source": [
    "dollar.head()"
   ]
  },
  {
   "cell_type": "code",
   "execution_count": 23,
   "metadata": {},
   "outputs": [
    {
     "data": {
      "text/html": [
       "<div>\n",
       "<style scoped>\n",
       "    .dataframe tbody tr th:only-of-type {\n",
       "        vertical-align: middle;\n",
       "    }\n",
       "\n",
       "    .dataframe tbody tr th {\n",
       "        vertical-align: top;\n",
       "    }\n",
       "\n",
       "    .dataframe thead th {\n",
       "        text-align: right;\n",
       "    }\n",
       "</style>\n",
       "<table border=\"1\" class=\"dataframe\">\n",
       "  <thead>\n",
       "    <tr style=\"text-align: right;\">\n",
       "      <th></th>\n",
       "      <th>Close</th>\n",
       "      <th>Open</th>\n",
       "      <th>High</th>\n",
       "      <th>Low</th>\n",
       "      <th>Change</th>\n",
       "    </tr>\n",
       "    <tr>\n",
       "      <th>Date</th>\n",
       "      <th></th>\n",
       "      <th></th>\n",
       "      <th></th>\n",
       "      <th></th>\n",
       "      <th></th>\n",
       "    </tr>\n",
       "  </thead>\n",
       "  <tbody>\n",
       "    <tr>\n",
       "      <th>2021-06-28</th>\n",
       "      <td>1130.04</td>\n",
       "      <td>1127.34</td>\n",
       "      <td>1132.68</td>\n",
       "      <td>1126.58</td>\n",
       "      <td>0.0026</td>\n",
       "    </tr>\n",
       "    <tr>\n",
       "      <th>2021-06-29</th>\n",
       "      <td>1131.62</td>\n",
       "      <td>1130.21</td>\n",
       "      <td>1134.77</td>\n",
       "      <td>1127.65</td>\n",
       "      <td>0.0014</td>\n",
       "    </tr>\n",
       "    <tr>\n",
       "      <th>2021-06-30</th>\n",
       "      <td>1130.48</td>\n",
       "      <td>1131.80</td>\n",
       "      <td>1132.89</td>\n",
       "      <td>1125.59</td>\n",
       "      <td>-0.0010</td>\n",
       "    </tr>\n",
       "    <tr>\n",
       "      <th>2021-07-01</th>\n",
       "      <td>1134.33</td>\n",
       "      <td>1130.63</td>\n",
       "      <td>1135.98</td>\n",
       "      <td>1128.28</td>\n",
       "      <td>0.0034</td>\n",
       "    </tr>\n",
       "    <tr>\n",
       "      <th>2021-07-02</th>\n",
       "      <td>1133.70</td>\n",
       "      <td>1134.19</td>\n",
       "      <td>1137.91</td>\n",
       "      <td>1132.26</td>\n",
       "      <td>-0.0006</td>\n",
       "    </tr>\n",
       "  </tbody>\n",
       "</table>\n",
       "</div>"
      ],
      "text/plain": [
       "              Close     Open     High      Low  Change\n",
       "Date                                                  \n",
       "2021-06-28  1130.04  1127.34  1132.68  1126.58  0.0026\n",
       "2021-06-29  1131.62  1130.21  1134.77  1127.65  0.0014\n",
       "2021-06-30  1130.48  1131.80  1132.89  1125.59 -0.0010\n",
       "2021-07-01  1134.33  1130.63  1135.98  1128.28  0.0034\n",
       "2021-07-02  1133.70  1134.19  1137.91  1132.26 -0.0006"
      ]
     },
     "execution_count": 23,
     "metadata": {},
     "output_type": "execute_result"
    }
   ],
   "source": [
    "dollar.tail()"
   ]
  },
  {
   "cell_type": "markdown",
   "metadata": {
    "id": "RJtxeKQm0l2w"
   },
   "source": [
    "### 문제 10. 삼성전자 데이터를 STOCK_CODE에 저장하고 인덱스를 확인해보세요"
   ]
  },
  {
   "cell_type": "code",
   "execution_count": 27,
   "metadata": {
    "id": "_8Gy3cagBudr"
   },
   "outputs": [],
   "source": [
    "# 문제 03과 코드는 동일합니다.\n",
    "# 삼성전자 주식코드: 005930\n",
    "STOCK_CODE = '005930'"
   ]
  },
  {
   "cell_type": "code",
   "execution_count": 28,
   "metadata": {
    "id": "xx8f86AgBudr"
   },
   "outputs": [
    {
     "data": {
      "text/html": [
       "<div>\n",
       "<style scoped>\n",
       "    .dataframe tbody tr th:only-of-type {\n",
       "        vertical-align: middle;\n",
       "    }\n",
       "\n",
       "    .dataframe tbody tr th {\n",
       "        vertical-align: top;\n",
       "    }\n",
       "\n",
       "    .dataframe thead th {\n",
       "        text-align: right;\n",
       "    }\n",
       "</style>\n",
       "<table border=\"1\" class=\"dataframe\">\n",
       "  <thead>\n",
       "    <tr style=\"text-align: right;\">\n",
       "      <th></th>\n",
       "      <th>Open</th>\n",
       "      <th>High</th>\n",
       "      <th>Low</th>\n",
       "      <th>Close</th>\n",
       "      <th>Volume</th>\n",
       "      <th>Change</th>\n",
       "    </tr>\n",
       "    <tr>\n",
       "      <th>Date</th>\n",
       "      <th></th>\n",
       "      <th></th>\n",
       "      <th></th>\n",
       "      <th></th>\n",
       "      <th></th>\n",
       "      <th></th>\n",
       "    </tr>\n",
       "  </thead>\n",
       "  <tbody>\n",
       "    <tr>\n",
       "      <th>1997-06-27</th>\n",
       "      <td>1256</td>\n",
       "      <td>1265</td>\n",
       "      <td>1152</td>\n",
       "      <td>1224</td>\n",
       "      <td>99340</td>\n",
       "      <td>NaN</td>\n",
       "    </tr>\n",
       "    <tr>\n",
       "      <th>1997-06-28</th>\n",
       "      <td>1227</td>\n",
       "      <td>1250</td>\n",
       "      <td>1224</td>\n",
       "      <td>1251</td>\n",
       "      <td>36660</td>\n",
       "      <td>0.022059</td>\n",
       "    </tr>\n",
       "    <tr>\n",
       "      <th>1997-06-30</th>\n",
       "      <td>1259</td>\n",
       "      <td>1290</td>\n",
       "      <td>1254</td>\n",
       "      <td>1260</td>\n",
       "      <td>100240</td>\n",
       "      <td>0.007194</td>\n",
       "    </tr>\n",
       "    <tr>\n",
       "      <th>1997-07-01</th>\n",
       "      <td>1259</td>\n",
       "      <td>1286</td>\n",
       "      <td>1259</td>\n",
       "      <td>1269</td>\n",
       "      <td>167900</td>\n",
       "      <td>0.007143</td>\n",
       "    </tr>\n",
       "    <tr>\n",
       "      <th>1997-07-02</th>\n",
       "      <td>1277</td>\n",
       "      <td>1313</td>\n",
       "      <td>1277</td>\n",
       "      <td>1296</td>\n",
       "      <td>169940</td>\n",
       "      <td>0.021277</td>\n",
       "    </tr>\n",
       "  </tbody>\n",
       "</table>\n",
       "</div>"
      ],
      "text/plain": [
       "            Open  High   Low  Close  Volume    Change\n",
       "Date                                                 \n",
       "1997-06-27  1256  1265  1152   1224   99340       NaN\n",
       "1997-06-28  1227  1250  1224   1251   36660  0.022059\n",
       "1997-06-30  1259  1290  1254   1260  100240  0.007194\n",
       "1997-07-01  1259  1286  1259   1269  167900  0.007143\n",
       "1997-07-02  1277  1313  1277   1296  169940  0.021277"
      ]
     },
     "execution_count": 28,
     "metadata": {},
     "output_type": "execute_result"
    }
   ],
   "source": [
    "# fdr 라이브러리를 활용해 삼성전자 데이터를 불러오세요 \n",
    "stock = fdr.DataReader(STOCK_CODE)\n",
    "stock.head()"
   ]
  },
  {
   "cell_type": "code",
   "execution_count": 29,
   "metadata": {
    "id": "-jBfNkQVBuds"
   },
   "outputs": [
    {
     "data": {
      "text/html": [
       "<div>\n",
       "<style scoped>\n",
       "    .dataframe tbody tr th:only-of-type {\n",
       "        vertical-align: middle;\n",
       "    }\n",
       "\n",
       "    .dataframe tbody tr th {\n",
       "        vertical-align: top;\n",
       "    }\n",
       "\n",
       "    .dataframe thead th {\n",
       "        text-align: right;\n",
       "    }\n",
       "</style>\n",
       "<table border=\"1\" class=\"dataframe\">\n",
       "  <thead>\n",
       "    <tr style=\"text-align: right;\">\n",
       "      <th></th>\n",
       "      <th>Open</th>\n",
       "      <th>High</th>\n",
       "      <th>Low</th>\n",
       "      <th>Close</th>\n",
       "      <th>Volume</th>\n",
       "      <th>Change</th>\n",
       "    </tr>\n",
       "    <tr>\n",
       "      <th>Date</th>\n",
       "      <th></th>\n",
       "      <th></th>\n",
       "      <th></th>\n",
       "      <th></th>\n",
       "      <th></th>\n",
       "      <th></th>\n",
       "    </tr>\n",
       "  </thead>\n",
       "  <tbody>\n",
       "    <tr>\n",
       "      <th>2021-06-28</th>\n",
       "      <td>81700</td>\n",
       "      <td>82000</td>\n",
       "      <td>81600</td>\n",
       "      <td>81900</td>\n",
       "      <td>11578529</td>\n",
       "      <td>0.003676</td>\n",
       "    </tr>\n",
       "    <tr>\n",
       "      <th>2021-06-29</th>\n",
       "      <td>81900</td>\n",
       "      <td>82100</td>\n",
       "      <td>80800</td>\n",
       "      <td>81000</td>\n",
       "      <td>15744317</td>\n",
       "      <td>-0.010989</td>\n",
       "    </tr>\n",
       "    <tr>\n",
       "      <th>2021-06-30</th>\n",
       "      <td>81100</td>\n",
       "      <td>81400</td>\n",
       "      <td>80700</td>\n",
       "      <td>80700</td>\n",
       "      <td>13288643</td>\n",
       "      <td>-0.003704</td>\n",
       "    </tr>\n",
       "    <tr>\n",
       "      <th>2021-07-01</th>\n",
       "      <td>80500</td>\n",
       "      <td>80600</td>\n",
       "      <td>80000</td>\n",
       "      <td>80100</td>\n",
       "      <td>13382882</td>\n",
       "      <td>-0.007435</td>\n",
       "    </tr>\n",
       "    <tr>\n",
       "      <th>2021-07-02</th>\n",
       "      <td>80000</td>\n",
       "      <td>80400</td>\n",
       "      <td>79900</td>\n",
       "      <td>80000</td>\n",
       "      <td>8181692</td>\n",
       "      <td>-0.001248</td>\n",
       "    </tr>\n",
       "  </tbody>\n",
       "</table>\n",
       "</div>"
      ],
      "text/plain": [
       "             Open   High    Low  Close    Volume    Change\n",
       "Date                                                      \n",
       "2021-06-28  81700  82000  81600  81900  11578529  0.003676\n",
       "2021-06-29  81900  82100  80800  81000  15744317 -0.010989\n",
       "2021-06-30  81100  81400  80700  80700  13288643 -0.003704\n",
       "2021-07-01  80500  80600  80000  80100  13382882 -0.007435\n",
       "2021-07-02  80000  80400  79900  80000   8181692 -0.001248"
      ]
     },
     "execution_count": 29,
     "metadata": {},
     "output_type": "execute_result"
    }
   ],
   "source": [
    "stock.tail()"
   ]
  },
  {
   "cell_type": "code",
   "execution_count": 32,
   "metadata": {
    "id": "y9NRSMYTBuds"
   },
   "outputs": [
    {
     "data": {
      "text/plain": [
       "DatetimeIndex(['1997-06-27', '1997-06-28', '1997-06-30', '1997-07-01',\n",
       "               '1997-07-02', '1997-07-03', '1997-07-04', '1997-07-05',\n",
       "               '1997-07-07', '1997-07-08',\n",
       "               ...\n",
       "               '2021-06-21', '2021-06-22', '2021-06-23', '2021-06-24',\n",
       "               '2021-06-25', '2021-06-28', '2021-06-29', '2021-06-30',\n",
       "               '2021-07-01', '2021-07-02'],\n",
       "              dtype='datetime64[ns]', name='Date', length=6000, freq=None)"
      ]
     },
     "execution_count": 32,
     "metadata": {},
     "output_type": "execute_result"
    }
   ],
   "source": [
    "# 인덱스를 확인해보세요.\n",
    "stock.index"
   ]
  },
  {
   "cell_type": "markdown",
   "metadata": {
    "id": "Ngpi6jHxMsz7"
   },
   "source": [
    "## Step 2. 시계열 데이터 시각화"
   ]
  },
  {
   "cell_type": "markdown",
   "metadata": {
    "id": "B1loczVzBudt"
   },
   "source": [
    "\n",
    "### 문제 11. 인덱스가 `DatetimeIndex`로 정의되어 있다면, 연도, 월, 일을 쪼갤 수 있습니다. 데이터를 분리해주세요."
   ]
  },
  {
   "cell_type": "code",
   "execution_count": null,
   "metadata": {
    "id": "fif43Fh-0l4L"
   },
   "outputs": [],
   "source": [
    "stock['Year'] = \n",
    "stock['Month'] = \n",
    "stock['Day'] = "
   ]
  },
  {
   "cell_type": "code",
   "execution_count": null,
   "metadata": {
    "id": "0yAKE9Ag0l4S"
   },
   "outputs": [],
   "source": []
  },
  {
   "cell_type": "markdown",
   "metadata": {
    "id": "ZpeXdWzWG2KO"
   },
   "source": [
    "### 문제 12. 연도별, 월별 피봇테이블을 각각 구현해보세요."
   ]
  },
  {
   "cell_type": "code",
   "execution_count": null,
   "metadata": {
    "id": "L73tGJhhG9Av"
   },
   "outputs": [],
   "source": []
  },
  {
   "cell_type": "code",
   "execution_count": null,
   "metadata": {
    "id": "mFfwNxvWG9Uz"
   },
   "outputs": [],
   "source": []
  },
  {
   "cell_type": "markdown",
   "metadata": {
    "id": "5FBTlube0l4d"
   },
   "source": [
    "### 문제 13. matplotlib을 활용해 시간에 따른 주식 가격 시계열 그래프를 그려보세요."
   ]
  },
  {
   "cell_type": "code",
   "execution_count": null,
   "metadata": {
    "id": "MWcaWEa80l4o"
   },
   "outputs": [],
   "source": [
    "plt.figure(figsize=(16, 9))\n",
    "# 코드를 이어서 작성해주세요.\n"
   ]
  },
  {
   "cell_type": "markdown",
   "metadata": {
    "id": "fTr5lZHpHLCc"
   },
   "source": [
    "### 문제 14. subplots를 활용해 그래프 4개(2,2)를 동시에 그려보세요."
   ]
  },
  {
   "cell_type": "code",
   "execution_count": null,
   "metadata": {
    "id": "YHjPfMPjBudw"
   },
   "outputs": [],
   "source": [
    "# 1990~2000, 2000~2010, 2010~2015, 2015~2020\n",
    "time_steps = \n",
    "\n",
    "fig, axes = \n",
    "\n",
    "for i in range(4):\n",
    "    ax = #코드를 작성해주세요\n",
    "    df = #코드를 작성해주세요\n",
    "plt.tight_layout()\n",
    "plt.show()"
   ]
  },
  {
   "cell_type": "markdown",
   "metadata": {
    "id": "IyLCGJyTNAtc"
   },
   "source": [
    "## Step 3. 시계열 데이터의 전처리"
   ]
  },
  {
   "cell_type": "markdown",
   "metadata": {
    "id": "CDgThJtbBudw"
   },
   "source": [
    "### 문제 15. MinMaxScaler를 활요해 데이터 전처리를 수행합니다."
   ]
  },
  {
   "cell_type": "markdown",
   "metadata": {
    "id": "srjf2-yXBudx"
   },
   "source": [
    "주가 데이터에 대하여 딥러닝 모델이 더 잘 학습할 수 있도록 **정규화(Normalization)**를 해주도록 하겠습니다.\n",
    "\n",
    "**표준화 (Standardization)**와 **정규화(Normalization)**에 대한 내용은 아래 링크에서 더 자세히 다루니, 참고해 보시기 바랍니다.\n",
    "\n",
    "- [데이터 전처리에 관하여](https://teddylee777.github.io/scikit-learn/scikit-learn-preprocessing)"
   ]
  },
  {
   "cell_type": "code",
   "execution_count": null,
   "metadata": {
    "id": "4-4PgRMZ0l5Q"
   },
   "outputs": [],
   "source": [
    "from sklearn.preprocessing import MinMaxScaler\n",
    "\n",
    "scaler = #MinMaxScaler 할당\n",
    "# 스케일을 적용할 column을 정의합니다.\n",
    "scale_cols = \n",
    "# 스케일 후 columns\n",
    "scaled = "
   ]
  },
  {
   "cell_type": "markdown",
   "metadata": {
    "id": "sQQhs9BoBudx"
   },
   "source": [
    "스케일이 완료된 column으로 새로운 데이터프레임을 생성합니다.\n",
    "\n",
    "**시간 순으로 정렬**되어 있으며, datetime index는 제외했습니다.\n",
    "\n",
    "*6,000개의 row, 5개 column*으로 이루어진 데이터셋이 DataFrame으로 정리되었습니다."
   ]
  },
  {
   "cell_type": "code",
   "execution_count": null,
   "metadata": {
    "id": "dIJjE21B0l5m"
   },
   "outputs": [],
   "source": [
    "# 아래 코드는 그대로 실행해주세요.\n",
    "df = pd.DataFrame(scaled, columns=scale_cols)"
   ]
  },
  {
   "cell_type": "markdown",
   "metadata": {
    "id": "o91qHBM9Budy"
   },
   "source": [
    "### 문제 16. 모델 학습을 위해 train 데이터와 test 데이터로 분할해주세요."
   ]
  },
  {
   "cell_type": "code",
   "execution_count": null,
   "metadata": {
    "id": "EfLaczmvBudy"
   },
   "outputs": [],
   "source": [
    "from sklearn.model_selection import train_test_split"
   ]
  },
  {
   "cell_type": "code",
   "execution_count": null,
   "metadata": {
    "id": "lWJLgnIZBudy"
   },
   "outputs": [],
   "source": [
    "# Close 컬럼이 예측할 데이터입니다.\n",
    "# test_size는 0.2, random_state는 0으로 지정해주세요.\n",
    "# shuffle을 수행하지 않습니다.\n",
    "x_train, x_test, y_train, y_test = "
   ]
  },
  {
   "cell_type": "markdown",
   "metadata": {
    "id": "WIZKmyXKJXGI"
   },
   "source": [
    "### 문제 17. train 데이터와 test 데이터의 shape을 각각 살펴봅니다."
   ]
  },
  {
   "cell_type": "code",
   "execution_count": null,
   "metadata": {
    "id": "DB9gnTXzBudz"
   },
   "outputs": [],
   "source": []
  },
  {
   "cell_type": "code",
   "execution_count": null,
   "metadata": {
    "id": "lNLz-MYcBudz"
   },
   "outputs": [],
   "source": []
  },
  {
   "cell_type": "code",
   "execution_count": null,
   "metadata": {
    "id": "8DK9YaozBudz"
   },
   "outputs": [],
   "source": []
  },
  {
   "cell_type": "markdown",
   "metadata": {
    "id": "qr3eGxuxBud0"
   },
   "source": [
    "### 문제 18. TensroFlow Dataset을 활용해 시퀀스 데이터셋을 함수로 구현해주세요"
   ]
  },
  {
   "cell_type": "code",
   "execution_count": null,
   "metadata": {
    "id": "wOTgC-y2Bud0"
   },
   "outputs": [],
   "source": [
    "import tensorflow as tf"
   ]
  },
  {
   "cell_type": "code",
   "execution_count": null,
   "metadata": {
    "id": "yOlPdfrsBud0"
   },
   "outputs": [],
   "source": [
    "def windowed_dataset():\n",
    "    series = \n",
    "    ds = \n",
    "    if shuffle:\n",
    "        ds = ds.shuffle(1000)\n",
    "    ds = ds.map(#코드 작성)\n",
    "    return ds.batch(batch_size).prefetch(1)"
   ]
  },
  {
   "cell_type": "markdown",
   "metadata": {
    "id": "4UT0af9ANPTF"
   },
   "source": [
    "## Step 4. 모델 구현하기"
   ]
  },
  {
   "cell_type": "markdown",
   "metadata": {
    "id": "ht3fvb2kBud0"
   },
   "source": [
    "### 문제 19. Hyperparameter를 정의하고 데이터에 적용해주세요."
   ]
  },
  {
   "cell_type": "code",
   "execution_count": null,
   "metadata": {
    "id": "C894WM_pBud1"
   },
   "outputs": [],
   "source": [
    "# 아래 코드는 그대로 실행해주세요.\n",
    "WINDOW_SIZE=20\n",
    "BATCH_SIZE=32"
   ]
  },
  {
   "cell_type": "code",
   "execution_count": null,
   "metadata": {
    "id": "81VrjjujBud1"
   },
   "outputs": [],
   "source": [
    "# trian_data는 학습용 데이터셋, test_data는 검증용 데이터셋 입니다.\n",
    "# WINDOW_SIZE와 BATCH_SIZE를 각 데이터셋에 적용해주세요.\n",
    "train_data = windowed_dataset(#코드 작성\n",
    "test_data = windowed_dataset(#코드 작성"
   ]
  },
  {
   "cell_type": "code",
   "execution_count": null,
   "metadata": {
    "id": "aYPa6fkNBud1",
    "outputId": "89231cd5-d741-4e73-928a-21767e485d33"
   },
   "outputs": [
    {
     "name": "stdout",
     "output_type": "stream",
     "text": [
      "데이터셋(X) 구성(batch_size, window_size, feature갯수): (32, 20, 1)\n",
      "데이터셋(Y) 구성(batch_size, window_size, feature갯수): (32, 1)\n"
     ]
    }
   ],
   "source": [
    "# 아래의 코드로 데이터셋의 구성을 확인해 볼 수 있습니다. 그대로 실행해보고, 데이터의 shape을 살펴보세요.\n",
    "# X: (batch_size, window_size, feature)\n",
    "# Y: (batch_size, feature)\n",
    "for data in train_data.take(1):\n",
    "    print(f'데이터셋(X) 구성(batch_size, window_size, feature갯수): {data[0].shape}')\n",
    "    print(f'데이터셋(Y) 구성(batch_size, window_size, feature갯수): {data[1].shape}')"
   ]
  },
  {
   "cell_type": "markdown",
   "metadata": {
    "id": "rSmSQt-wBud1"
   },
   "source": [
    "### 문제 20. Sequential 모델을 구현합니다. "
   ]
  },
  {
   "cell_type": "code",
   "execution_count": null,
   "metadata": {
    "id": "mAkmGu1j0l8M"
   },
   "outputs": [],
   "source": [
    "from tensorflow.keras.models import Sequential\n",
    "from tensorflow.keras.layers import Dense, LSTM, Conv1D, Lambda\n",
    "from tensorflow.keras.losses import Huber\n",
    "from tensorflow.keras.optimizers import Adam\n",
    "from tensorflow.keras.callbacks import EarlyStopping, ModelCheckpoint\n",
    "\n",
    "\n",
    "model = Sequential([\n",
    "    # 1차원 feature map 생성합니다. filters는 32로, kernel_size는 5로 지정해주세요.\n",
    "    \n",
    "\n",
    "    # LSTM과 Dense 레이어를 사용해주세요. 필요한 경우 활성함수는 relu로 지정합니다.\n",
    "    \n",
    "])"
   ]
  },
  {
   "cell_type": "markdown",
   "metadata": {
    "id": "52H4IgnELRRt"
   },
   "source": [
    "### 문제 21. 모델을 Compile합니다. loss는 Huber 함수를 사용하고 optimizer는 Adam을 사용해주세요."
   ]
  },
  {
   "cell_type": "code",
   "execution_count": null,
   "metadata": {
    "id": "xShll_EX0l8T"
   },
   "outputs": [],
   "source": [
    "# Sequence 학습에 비교적 좋은 퍼포먼스를 내는 Huber()를 사용합니다.\n",
    "loss = \n",
    "\n",
    "model.compile()"
   ]
  },
  {
   "cell_type": "code",
   "execution_count": null,
   "metadata": {
    "id": "whZcvxsKBud2"
   },
   "outputs": [],
   "source": [
    "# earlystopping은 10번 epoch통안 val_loss 개선이 없다면 학습을 멈춥니다.\n",
    "earlystopping = \n",
    "# val_loss 기준 체크포인터도 생성합니다.\n",
    "filename = \n",
    "checkpoint = ModelCheckpoint()"
   ]
  },
  {
   "cell_type": "code",
   "execution_count": null,
   "metadata": {
    "id": "y9OuVTeBBud2"
   },
   "outputs": [],
   "source": [
    "# callbacks로 앞에서 구현한 earlystopping과 checkpoint를 지정해주세요.\n",
    "history ="
   ]
  },
  {
   "cell_type": "markdown",
   "metadata": {
    "id": "L0LQMnc-NZXo"
   },
   "source": [
    "## Step 5. 모델을 활용한 예측 및 결과 시각화"
   ]
  },
  {
   "cell_type": "markdown",
   "metadata": {
    "id": "qDTIxmbVBud3"
   },
   "source": [
    "### 문제 24. 저장한 ModelCheckpoint 를 불러옵니다."
   ]
  },
  {
   "cell_type": "code",
   "execution_count": null,
   "metadata": {
    "id": "RoPIDRSo32f-"
   },
   "outputs": [],
   "source": []
  },
  {
   "cell_type": "markdown",
   "metadata": {
    "id": "x0-oum0bBud3"
   },
   "source": [
    "### 문제 25. `test_data`를 활용하여 예측을 수행합니다."
   ]
  },
  {
   "cell_type": "code",
   "execution_count": null,
   "metadata": {
    "id": "WxAxSLNL0l8Z"
   },
   "outputs": [],
   "source": [
    "pred ="
   ]
  },
  {
   "cell_type": "code",
   "execution_count": null,
   "metadata": {
    "id": "yMPXjSQ10l8d"
   },
   "outputs": [],
   "source": []
  },
  {
   "cell_type": "markdown",
   "metadata": {
    "id": "jaWpXnQf6zMt"
   },
   "source": [
    "### 문제 26. matplotlib을 활용해 예측 데이터를 시각화해주세요."
   ]
  },
  {
   "cell_type": "markdown",
   "metadata": {
    "id": "Vq2_mc7fBud4"
   },
   "source": [
    "아래 시각화 코드중 y_test 데이터에 **[20:]**으로 슬라이싱을 한 이유는\n",
    "\n",
    "예측 데이터에서 20일치의 데이터로 21일치를 예측해야하기 때문에 test_data로 예측 시 *앞의 20일은 예측하지 않습니다.*\n",
    "\n",
    "따라서, 20번 째 index와 비교하면 더욱 정확합니다."
   ]
  },
  {
   "cell_type": "code",
   "execution_count": null,
   "metadata": {
    "id": "2F4QQ1O_0l8m"
   },
   "outputs": [],
   "source": [
    "# 20일치의 데이터로 21일치를 예측하므로 test_data 사용시 이전 20일은 예측하지 않습니다.\n",
    "# 따라서 y_test 데이터에 [20:]로 슬라이싱해주세요.\n",
    "plt.figure(figsize=(12, 9))\n",
    "\n",
    "\n",
    "plt.legend()\n",
    "plt.show()"
   ]
  }
 ],
 "metadata": {
  "accelerator": "GPU",
  "colab": {
   "collapsed_sections": [],
   "name": "[문제] LSTM을 활용해 주가 예측 모델 구현하기",
   "provenance": []
  },
  "kernelspec": {
   "display_name": "Python 3",
   "language": "python",
   "name": "python3"
  },
  "language_info": {
   "codemirror_mode": {
    "name": "ipython",
    "version": 3
   },
   "file_extension": ".py",
   "mimetype": "text/x-python",
   "name": "python",
   "nbconvert_exporter": "python",
   "pygments_lexer": "ipython3",
   "version": "3.9.5"
  }
 },
 "nbformat": 4,
 "nbformat_minor": 1
}
