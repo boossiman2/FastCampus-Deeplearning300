{
 "cells": [
  {
   "cell_type": "markdown",
   "metadata": {
    "id": "OF9lUuqwBudU"
   },
   "source": [
    "# 주제 : LSTM을 활용해 주가 예측 모델 구현하기"
   ]
  },
  {
   "cell_type": "markdown",
   "metadata": {
    "id": "G-rOVLn7Budf"
   },
   "source": [
    "이번 튜토리얼 에서는 다음과 같은 **프로세스 파이프라인**으로 주가 예측을 진행합니다.\n",
    "\n",
    "- FinanceDataReader를 활용하여 주가 데이터 받아오기\n",
    "- TensorFlow Dataset 클래스를 활용하여 주가 데이터 구축\n",
    "- LSTM 을 활용한 주가 예측 모델 구축"
   ]
  },
  {
   "cell_type": "markdown",
   "metadata": {
    "id": "UshzfuK6CJX4"
   },
   "source": [
    "## Step 1. 데이터 불러오기 및 EDA"
   ]
  },
  {
   "cell_type": "markdown",
   "metadata": {
    "id": "EZFBO9GwBudh"
   },
   "source": [
    "### 문제 01. 필요한 모듈 import"
   ]
  },
  {
   "cell_type": "code",
   "execution_count": 1,
   "metadata": {
    "id": "pYEgcrR1Budi"
   },
   "outputs": [],
   "source": [
    "import pandas as pd\n",
    "import numpy as np\n",
    "import matplotlib.pyplot as plt\n",
    "import seaborn as sns\n",
    "import warnings\n",
    "import os\n",
    "\n",
    "%matplotlib inline\n",
    "warnings.filterwarnings('ignore')\n",
    "\n",
    "plt.rcParams['font.family'] = 'NanumGothic'"
   ]
  },
  {
   "cell_type": "markdown",
   "metadata": {
    "id": "5N-NMRFVBudi"
   },
   "source": [
    "### 문제 02. FinanceDataReader import"
   ]
  },
  {
   "cell_type": "markdown",
   "metadata": {
    "id": "a7FGN9gGBudj"
   },
   "source": [
    "**FinanceDataReader**는 주가 데이터를 편리하게 가져올 수 있는 파이썬 패키지입니다.\n",
    "\n",
    "- [GitHub Repo](https://github.com/FinanceData/FinanceDataReader)"
   ]
  },
  {
   "cell_type": "markdown",
   "metadata": {
    "id": "o6_RB59yBudj"
   },
   "source": [
    "**FinanceDataReader**가 아직 설치 되지 않으신 분들은 아래의 주석을 해제한 후 명령어로 설치해 주시기 바랍니다."
   ]
  },
  {
   "cell_type": "code",
   "execution_count": 2,
   "metadata": {
    "colab": {
     "base_uri": "https://localhost:8080/"
    },
    "id": "99EggRzTBudk",
    "outputId": "e26f5bb1-1cff-4e04-d038-15987a64072e"
   },
   "outputs": [
    {
     "name": "stdout",
     "output_type": "stream",
     "text": [
      "Requirement already satisfied: finance-datareader in c:\\users\\상혁\\appdata\\local\\programs\\python\\python39\\lib\\site-packages (0.9.31)\n",
      "Requirement already satisfied: lxml in c:\\users\\상혁\\appdata\\local\\programs\\python\\python39\\lib\\site-packages (from finance-datareader) (4.6.3)\n",
      "Requirement already satisfied: requests>=2.3.0 in c:\\users\\상혁\\appdata\\local\\programs\\python\\python39\\lib\\site-packages (from finance-datareader) (2.25.1)\n",
      "Requirement already satisfied: requests-file in c:\\users\\상혁\\appdata\\local\\programs\\python\\python39\\lib\\site-packages (from finance-datareader) (1.5.1)\n",
      "Requirement already satisfied: tqdm in c:\\users\\상혁\\appdata\\local\\programs\\python\\python39\\lib\\site-packages (from finance-datareader) (4.61.1)\n",
      "Requirement already satisfied: pandas>=0.19.2 in c:\\users\\상혁\\appdata\\local\\programs\\python\\python39\\lib\\site-packages (from finance-datareader) (1.2.4)\n",
      "Requirement already satisfied: numpy>=1.16.5 in c:\\users\\상혁\\appdata\\local\\programs\\python\\python39\\lib\\site-packages (from pandas>=0.19.2->finance-datareader) (1.19.5)\n",
      "Requirement already satisfied: pytz>=2017.3 in c:\\users\\상혁\\appdata\\local\\programs\\python\\python39\\lib\\site-packages (from pandas>=0.19.2->finance-datareader) (2021.1)\n",
      "Requirement already satisfied: python-dateutil>=2.7.3 in c:\\users\\상혁\\appdata\\local\\programs\\python\\python39\\lib\\site-packages (from pandas>=0.19.2->finance-datareader) (2.8.1)\n",
      "Requirement already satisfied: six>=1.5 in c:\\users\\상혁\\appdata\\local\\programs\\python\\python39\\lib\\site-packages (from python-dateutil>=2.7.3->pandas>=0.19.2->finance-datareader) (1.15.0)\n",
      "Requirement already satisfied: idna<3,>=2.5 in c:\\users\\상혁\\appdata\\local\\programs\\python\\python39\\lib\\site-packages (from requests>=2.3.0->finance-datareader) (2.10)\n",
      "Requirement already satisfied: urllib3<1.27,>=1.21.1 in c:\\users\\상혁\\appdata\\local\\programs\\python\\python39\\lib\\site-packages (from requests>=2.3.0->finance-datareader) (1.26.5)\n",
      "Requirement already satisfied: chardet<5,>=3.0.2 in c:\\users\\상혁\\appdata\\local\\programs\\python\\python39\\lib\\site-packages (from requests>=2.3.0->finance-datareader) (4.0.0)\n",
      "Requirement already satisfied: certifi>=2017.4.17 in c:\\users\\상혁\\appdata\\local\\programs\\python\\python39\\lib\\site-packages (from requests>=2.3.0->finance-datareader) (2021.5.30)\n"
     ]
    },
    {
     "name": "stderr",
     "output_type": "stream",
     "text": [
      "WARNING: You are using pip version 21.1.2; however, version 21.1.3 is available.\n",
      "You should consider upgrading via the 'c:\\users\\상혁\\appdata\\local\\programs\\python\\python39\\python.exe -m pip install --upgrade pip' command.\n"
     ]
    }
   ],
   "source": [
    "!pip install finance-datareader"
   ]
  },
  {
   "cell_type": "code",
   "execution_count": 3,
   "metadata": {
    "id": "4vkRR9dQBudk"
   },
   "outputs": [],
   "source": [
    "import FinanceDataReader as fdr"
   ]
  },
  {
   "cell_type": "markdown",
   "metadata": {
    "id": "x4C9neevEYYr"
   },
   "source": [
    "### 문제 03. 삼성전자 데이터 불러오기"
   ]
  },
  {
   "cell_type": "code",
   "execution_count": 4,
   "metadata": {
    "id": "9IqphMM7Budl"
   },
   "outputs": [],
   "source": [
    "# 삼성전자(005930) 전체 (1996-11-05 ~ 현재)\n",
    "samsung = fdr.DataReader('005930')"
   ]
  },
  {
   "cell_type": "markdown",
   "metadata": {
    "id": "T-WOxATwBudl"
   },
   "source": [
    "매우 편리하게 삼성전자 주가 데이터를 `DataFrame`형식으로 받아옵니다.\n",
    "\n",
    "기본 **오름차순 정렬**이 된 데이터임을 알 수 있습니다.\n",
    "\n",
    "### 컬럼 설명\n",
    "\n",
    "- `Open`:   시가\n",
    "- `High`:   고가\n",
    "- `Low`:    저가\n",
    "- `Close`:  종가\n",
    "- `Volume`: 거래량\n",
    "- `Change`: 대비"
   ]
  },
  {
   "cell_type": "markdown",
   "metadata": {
    "id": "K9w60KnkEeqW"
   },
   "source": [
    "### 문제 04. 삼성전자 데이터 EDA"
   ]
  },
  {
   "cell_type": "code",
   "execution_count": 5,
   "metadata": {
    "colab": {
     "base_uri": "https://localhost:8080/",
     "height": 235
    },
    "id": "WfLJ5zHXBudl",
    "outputId": "b608059d-0a4f-4995-b8eb-c02ab06f26e1"
   },
   "outputs": [
    {
     "data": {
      "text/html": [
       "<div>\n",
       "<style scoped>\n",
       "    .dataframe tbody tr th:only-of-type {\n",
       "        vertical-align: middle;\n",
       "    }\n",
       "\n",
       "    .dataframe tbody tr th {\n",
       "        vertical-align: top;\n",
       "    }\n",
       "\n",
       "    .dataframe thead th {\n",
       "        text-align: right;\n",
       "    }\n",
       "</style>\n",
       "<table border=\"1\" class=\"dataframe\">\n",
       "  <thead>\n",
       "    <tr style=\"text-align: right;\">\n",
       "      <th></th>\n",
       "      <th>Open</th>\n",
       "      <th>High</th>\n",
       "      <th>Low</th>\n",
       "      <th>Close</th>\n",
       "      <th>Volume</th>\n",
       "      <th>Change</th>\n",
       "    </tr>\n",
       "    <tr>\n",
       "      <th>Date</th>\n",
       "      <th></th>\n",
       "      <th></th>\n",
       "      <th></th>\n",
       "      <th></th>\n",
       "      <th></th>\n",
       "      <th></th>\n",
       "    </tr>\n",
       "  </thead>\n",
       "  <tbody>\n",
       "    <tr>\n",
       "      <th>2021-06-30</th>\n",
       "      <td>81100</td>\n",
       "      <td>81400</td>\n",
       "      <td>80700</td>\n",
       "      <td>80700</td>\n",
       "      <td>13288643</td>\n",
       "      <td>-0.003704</td>\n",
       "    </tr>\n",
       "    <tr>\n",
       "      <th>2021-07-01</th>\n",
       "      <td>80500</td>\n",
       "      <td>80600</td>\n",
       "      <td>80000</td>\n",
       "      <td>80100</td>\n",
       "      <td>13382882</td>\n",
       "      <td>-0.007435</td>\n",
       "    </tr>\n",
       "    <tr>\n",
       "      <th>2021-07-02</th>\n",
       "      <td>80000</td>\n",
       "      <td>80400</td>\n",
       "      <td>79900</td>\n",
       "      <td>80000</td>\n",
       "      <td>8753097</td>\n",
       "      <td>-0.001248</td>\n",
       "    </tr>\n",
       "    <tr>\n",
       "      <th>2021-07-05</th>\n",
       "      <td>80100</td>\n",
       "      <td>80800</td>\n",
       "      <td>80000</td>\n",
       "      <td>80400</td>\n",
       "      <td>8330969</td>\n",
       "      <td>0.005000</td>\n",
       "    </tr>\n",
       "    <tr>\n",
       "      <th>2021-07-06</th>\n",
       "      <td>80600</td>\n",
       "      <td>81200</td>\n",
       "      <td>80500</td>\n",
       "      <td>81200</td>\n",
       "      <td>12078386</td>\n",
       "      <td>0.009950</td>\n",
       "    </tr>\n",
       "  </tbody>\n",
       "</table>\n",
       "</div>"
      ],
      "text/plain": [
       "             Open   High    Low  Close    Volume    Change\n",
       "Date                                                      \n",
       "2021-06-30  81100  81400  80700  80700  13288643 -0.003704\n",
       "2021-07-01  80500  80600  80000  80100  13382882 -0.007435\n",
       "2021-07-02  80000  80400  79900  80000   8753097 -0.001248\n",
       "2021-07-05  80100  80800  80000  80400   8330969  0.005000\n",
       "2021-07-06  80600  81200  80500  81200  12078386  0.009950"
      ]
     },
     "execution_count": 5,
     "metadata": {},
     "output_type": "execute_result"
    }
   ],
   "source": [
    "samsung.tail()"
   ]
  },
  {
   "cell_type": "markdown",
   "metadata": {
    "id": "C0i4k1S-Budn"
   },
   "source": [
    "**미국 주식 데이터**도 가져올 수 있습니다."
   ]
  },
  {
   "cell_type": "markdown",
   "metadata": {
    "id": "ubGAbVaxEjGG"
   },
   "source": [
    "### 문제 05. 애플 데이터 불러오기"
   ]
  },
  {
   "cell_type": "code",
   "execution_count": 6,
   "metadata": {
    "id": "_4isQ8KTBudn"
   },
   "outputs": [],
   "source": [
    "# Apple(AAPL), 애플\n",
    "apple = fdr.DataReader('AAPL')"
   ]
  },
  {
   "cell_type": "markdown",
   "metadata": {
    "id": "addJd0MGE6RD"
   },
   "source": [
    "### 문제 06. 애플 데이터 EDA"
   ]
  },
  {
   "cell_type": "code",
   "execution_count": 7,
   "metadata": {
    "colab": {
     "base_uri": "https://localhost:8080/",
     "height": 235
    },
    "id": "-0JPVT6UBudn",
    "outputId": "f3fb5275-02a6-4543-9a95-96f95814a280"
   },
   "outputs": [
    {
     "data": {
      "text/html": [
       "<div>\n",
       "<style scoped>\n",
       "    .dataframe tbody tr th:only-of-type {\n",
       "        vertical-align: middle;\n",
       "    }\n",
       "\n",
       "    .dataframe tbody tr th {\n",
       "        vertical-align: top;\n",
       "    }\n",
       "\n",
       "    .dataframe thead th {\n",
       "        text-align: right;\n",
       "    }\n",
       "</style>\n",
       "<table border=\"1\" class=\"dataframe\">\n",
       "  <thead>\n",
       "    <tr style=\"text-align: right;\">\n",
       "      <th></th>\n",
       "      <th>Close</th>\n",
       "      <th>Open</th>\n",
       "      <th>High</th>\n",
       "      <th>Low</th>\n",
       "      <th>Volume</th>\n",
       "      <th>Change</th>\n",
       "    </tr>\n",
       "    <tr>\n",
       "      <th>Date</th>\n",
       "      <th></th>\n",
       "      <th></th>\n",
       "      <th></th>\n",
       "      <th></th>\n",
       "      <th></th>\n",
       "      <th></th>\n",
       "    </tr>\n",
       "  </thead>\n",
       "  <tbody>\n",
       "    <tr>\n",
       "      <th>2021-06-29</th>\n",
       "      <td>136.33</td>\n",
       "      <td>134.82</td>\n",
       "      <td>136.49</td>\n",
       "      <td>134.38</td>\n",
       "      <td>64560000.0</td>\n",
       "      <td>0.0115</td>\n",
       "    </tr>\n",
       "    <tr>\n",
       "      <th>2021-06-30</th>\n",
       "      <td>136.96</td>\n",
       "      <td>136.13</td>\n",
       "      <td>137.38</td>\n",
       "      <td>135.89</td>\n",
       "      <td>63260000.0</td>\n",
       "      <td>0.0046</td>\n",
       "    </tr>\n",
       "    <tr>\n",
       "      <th>2021-07-01</th>\n",
       "      <td>137.27</td>\n",
       "      <td>136.68</td>\n",
       "      <td>137.30</td>\n",
       "      <td>135.77</td>\n",
       "      <td>52490000.0</td>\n",
       "      <td>0.0023</td>\n",
       "    </tr>\n",
       "    <tr>\n",
       "      <th>2021-07-02</th>\n",
       "      <td>139.96</td>\n",
       "      <td>137.90</td>\n",
       "      <td>140.00</td>\n",
       "      <td>137.74</td>\n",
       "      <td>78950000.0</td>\n",
       "      <td>0.0196</td>\n",
       "    </tr>\n",
       "    <tr>\n",
       "      <th>2021-07-06</th>\n",
       "      <td>141.44</td>\n",
       "      <td>140.17</td>\n",
       "      <td>141.52</td>\n",
       "      <td>140.16</td>\n",
       "      <td>12630000.0</td>\n",
       "      <td>0.0106</td>\n",
       "    </tr>\n",
       "  </tbody>\n",
       "</table>\n",
       "</div>"
      ],
      "text/plain": [
       "             Close    Open    High     Low      Volume  Change\n",
       "Date                                                          \n",
       "2021-06-29  136.33  134.82  136.49  134.38  64560000.0  0.0115\n",
       "2021-06-30  136.96  136.13  137.38  135.89  63260000.0  0.0046\n",
       "2021-07-01  137.27  136.68  137.30  135.77  52490000.0  0.0023\n",
       "2021-07-02  139.96  137.90  140.00  137.74  78950000.0  0.0196\n",
       "2021-07-06  141.44  140.17  141.52  140.16  12630000.0  0.0106"
      ]
     },
     "execution_count": 7,
     "metadata": {},
     "output_type": "execute_result"
    }
   ],
   "source": [
    "apple.tail()"
   ]
  },
  {
   "cell_type": "markdown",
   "metadata": {
    "id": "3FmQB8fOBudo"
   },
   "source": [
    "### 문제 07. 특정 시점(2017년) 이후 데이터 불러오기"
   ]
  },
  {
   "cell_type": "code",
   "execution_count": 8,
   "metadata": {
    "id": "96jnHiNtBudo"
   },
   "outputs": [],
   "source": [
    "# Apple(AAPL), 2017년\n",
    "apple = fdr.DataReader('AAPL', '2017')"
   ]
  },
  {
   "cell_type": "code",
   "execution_count": 9,
   "metadata": {
    "colab": {
     "base_uri": "https://localhost:8080/",
     "height": 235
    },
    "id": "T2smiyL7Budo",
    "outputId": "4846c77d-d931-4cd8-d0d3-354c2d265f10"
   },
   "outputs": [
    {
     "data": {
      "text/html": [
       "<div>\n",
       "<style scoped>\n",
       "    .dataframe tbody tr th:only-of-type {\n",
       "        vertical-align: middle;\n",
       "    }\n",
       "\n",
       "    .dataframe tbody tr th {\n",
       "        vertical-align: top;\n",
       "    }\n",
       "\n",
       "    .dataframe thead th {\n",
       "        text-align: right;\n",
       "    }\n",
       "</style>\n",
       "<table border=\"1\" class=\"dataframe\">\n",
       "  <thead>\n",
       "    <tr style=\"text-align: right;\">\n",
       "      <th></th>\n",
       "      <th>Close</th>\n",
       "      <th>Open</th>\n",
       "      <th>High</th>\n",
       "      <th>Low</th>\n",
       "      <th>Volume</th>\n",
       "      <th>Change</th>\n",
       "    </tr>\n",
       "    <tr>\n",
       "      <th>Date</th>\n",
       "      <th></th>\n",
       "      <th></th>\n",
       "      <th></th>\n",
       "      <th></th>\n",
       "      <th></th>\n",
       "      <th></th>\n",
       "    </tr>\n",
       "  </thead>\n",
       "  <tbody>\n",
       "    <tr>\n",
       "      <th>2017-01-03</th>\n",
       "      <td>29.04</td>\n",
       "      <td>28.95</td>\n",
       "      <td>29.08</td>\n",
       "      <td>28.69</td>\n",
       "      <td>115130000.0</td>\n",
       "      <td>0.0031</td>\n",
       "    </tr>\n",
       "    <tr>\n",
       "      <th>2017-01-04</th>\n",
       "      <td>29.00</td>\n",
       "      <td>28.96</td>\n",
       "      <td>29.13</td>\n",
       "      <td>28.94</td>\n",
       "      <td>84470000.0</td>\n",
       "      <td>-0.0014</td>\n",
       "    </tr>\n",
       "    <tr>\n",
       "      <th>2017-01-05</th>\n",
       "      <td>29.15</td>\n",
       "      <td>28.98</td>\n",
       "      <td>29.22</td>\n",
       "      <td>28.95</td>\n",
       "      <td>88770000.0</td>\n",
       "      <td>0.0052</td>\n",
       "    </tr>\n",
       "    <tr>\n",
       "      <th>2017-01-06</th>\n",
       "      <td>29.48</td>\n",
       "      <td>29.20</td>\n",
       "      <td>29.54</td>\n",
       "      <td>29.12</td>\n",
       "      <td>127010000.0</td>\n",
       "      <td>0.0113</td>\n",
       "    </tr>\n",
       "    <tr>\n",
       "      <th>2017-01-09</th>\n",
       "      <td>29.75</td>\n",
       "      <td>29.49</td>\n",
       "      <td>29.86</td>\n",
       "      <td>29.48</td>\n",
       "      <td>134250000.0</td>\n",
       "      <td>0.0092</td>\n",
       "    </tr>\n",
       "  </tbody>\n",
       "</table>\n",
       "</div>"
      ],
      "text/plain": [
       "            Close   Open   High    Low       Volume  Change\n",
       "Date                                                       \n",
       "2017-01-03  29.04  28.95  29.08  28.69  115130000.0  0.0031\n",
       "2017-01-04  29.00  28.96  29.13  28.94   84470000.0 -0.0014\n",
       "2017-01-05  29.15  28.98  29.22  28.95   88770000.0  0.0052\n",
       "2017-01-06  29.48  29.20  29.54  29.12  127010000.0  0.0113\n",
       "2017-01-09  29.75  29.49  29.86  29.48  134250000.0  0.0092"
      ]
     },
     "execution_count": 9,
     "metadata": {},
     "output_type": "execute_result"
    }
   ],
   "source": [
    "apple.head()"
   ]
  },
  {
   "cell_type": "markdown",
   "metadata": {
    "id": "-ter25eMBudp"
   },
   "source": [
    "### 문제 08. 날짜를 지정하여 특정 범위(40년간) 데이터 불러오기"
   ]
  },
  {
   "cell_type": "code",
   "execution_count": 10,
   "metadata": {
    "id": "vyR92-HABudp"
   },
   "outputs": [],
   "source": [
    "# Ford(F), 1980-01-01 ~ 2019-12-30 (40년 데이터)\n",
    "ford = fdr.DataReader('F', '1980-01-01', '2019-12-30')"
   ]
  },
  {
   "cell_type": "code",
   "execution_count": 11,
   "metadata": {
    "colab": {
     "base_uri": "https://localhost:8080/",
     "height": 235
    },
    "id": "j1N0Y2XXBudp",
    "outputId": "08b35ce8-47f7-4c3a-a9ad-a7f5768c1c4f"
   },
   "outputs": [
    {
     "data": {
      "text/html": [
       "<div>\n",
       "<style scoped>\n",
       "    .dataframe tbody tr th:only-of-type {\n",
       "        vertical-align: middle;\n",
       "    }\n",
       "\n",
       "    .dataframe tbody tr th {\n",
       "        vertical-align: top;\n",
       "    }\n",
       "\n",
       "    .dataframe thead th {\n",
       "        text-align: right;\n",
       "    }\n",
       "</style>\n",
       "<table border=\"1\" class=\"dataframe\">\n",
       "  <thead>\n",
       "    <tr style=\"text-align: right;\">\n",
       "      <th></th>\n",
       "      <th>Close</th>\n",
       "      <th>Open</th>\n",
       "      <th>High</th>\n",
       "      <th>Low</th>\n",
       "      <th>Volume</th>\n",
       "      <th>Change</th>\n",
       "    </tr>\n",
       "    <tr>\n",
       "      <th>Date</th>\n",
       "      <th></th>\n",
       "      <th></th>\n",
       "      <th></th>\n",
       "      <th></th>\n",
       "      <th></th>\n",
       "      <th></th>\n",
       "    </tr>\n",
       "  </thead>\n",
       "  <tbody>\n",
       "    <tr>\n",
       "      <th>1980-03-18</th>\n",
       "      <td>1.83</td>\n",
       "      <td>1.83</td>\n",
       "      <td>1.85</td>\n",
       "      <td>1.82</td>\n",
       "      <td>3770000.0</td>\n",
       "      <td>-0.0108</td>\n",
       "    </tr>\n",
       "    <tr>\n",
       "      <th>1980-03-19</th>\n",
       "      <td>1.85</td>\n",
       "      <td>1.85</td>\n",
       "      <td>1.86</td>\n",
       "      <td>1.83</td>\n",
       "      <td>1560000.0</td>\n",
       "      <td>0.0109</td>\n",
       "    </tr>\n",
       "    <tr>\n",
       "      <th>1980-03-20</th>\n",
       "      <td>1.86</td>\n",
       "      <td>1.86</td>\n",
       "      <td>1.88</td>\n",
       "      <td>1.85</td>\n",
       "      <td>1450000.0</td>\n",
       "      <td>0.0054</td>\n",
       "    </tr>\n",
       "    <tr>\n",
       "      <th>1980-03-21</th>\n",
       "      <td>1.78</td>\n",
       "      <td>1.78</td>\n",
       "      <td>1.85</td>\n",
       "      <td>1.76</td>\n",
       "      <td>5020000.0</td>\n",
       "      <td>-0.0430</td>\n",
       "    </tr>\n",
       "    <tr>\n",
       "      <th>1980-03-24</th>\n",
       "      <td>1.71</td>\n",
       "      <td>1.71</td>\n",
       "      <td>1.75</td>\n",
       "      <td>1.66</td>\n",
       "      <td>3330000.0</td>\n",
       "      <td>-0.0393</td>\n",
       "    </tr>\n",
       "  </tbody>\n",
       "</table>\n",
       "</div>"
      ],
      "text/plain": [
       "            Close  Open  High   Low     Volume  Change\n",
       "Date                                                  \n",
       "1980-03-18   1.83  1.83  1.85  1.82  3770000.0 -0.0108\n",
       "1980-03-19   1.85  1.85  1.86  1.83  1560000.0  0.0109\n",
       "1980-03-20   1.86  1.86  1.88  1.85  1450000.0  0.0054\n",
       "1980-03-21   1.78  1.78  1.85  1.76  5020000.0 -0.0430\n",
       "1980-03-24   1.71  1.71  1.75  1.66  3330000.0 -0.0393"
      ]
     },
     "execution_count": 11,
     "metadata": {},
     "output_type": "execute_result"
    }
   ],
   "source": [
    "ford.head()"
   ]
  },
  {
   "cell_type": "code",
   "execution_count": 12,
   "metadata": {
    "colab": {
     "base_uri": "https://localhost:8080/",
     "height": 235
    },
    "id": "GuSkOs0zBudq",
    "outputId": "86c44e5b-3e22-409a-a638-653c90be8c6c"
   },
   "outputs": [
    {
     "data": {
      "text/html": [
       "<div>\n",
       "<style scoped>\n",
       "    .dataframe tbody tr th:only-of-type {\n",
       "        vertical-align: middle;\n",
       "    }\n",
       "\n",
       "    .dataframe tbody tr th {\n",
       "        vertical-align: top;\n",
       "    }\n",
       "\n",
       "    .dataframe thead th {\n",
       "        text-align: right;\n",
       "    }\n",
       "</style>\n",
       "<table border=\"1\" class=\"dataframe\">\n",
       "  <thead>\n",
       "    <tr style=\"text-align: right;\">\n",
       "      <th></th>\n",
       "      <th>Close</th>\n",
       "      <th>Open</th>\n",
       "      <th>High</th>\n",
       "      <th>Low</th>\n",
       "      <th>Volume</th>\n",
       "      <th>Change</th>\n",
       "    </tr>\n",
       "    <tr>\n",
       "      <th>Date</th>\n",
       "      <th></th>\n",
       "      <th></th>\n",
       "      <th></th>\n",
       "      <th></th>\n",
       "      <th></th>\n",
       "      <th></th>\n",
       "    </tr>\n",
       "  </thead>\n",
       "  <tbody>\n",
       "    <tr>\n",
       "      <th>2019-12-23</th>\n",
       "      <td>9.44</td>\n",
       "      <td>9.50</td>\n",
       "      <td>9.57</td>\n",
       "      <td>9.40</td>\n",
       "      <td>54800000.0</td>\n",
       "      <td>-0.0042</td>\n",
       "    </tr>\n",
       "    <tr>\n",
       "      <th>2019-12-24</th>\n",
       "      <td>9.47</td>\n",
       "      <td>9.44</td>\n",
       "      <td>9.49</td>\n",
       "      <td>9.43</td>\n",
       "      <td>11880000.0</td>\n",
       "      <td>0.0032</td>\n",
       "    </tr>\n",
       "    <tr>\n",
       "      <th>2019-12-26</th>\n",
       "      <td>9.45</td>\n",
       "      <td>9.47</td>\n",
       "      <td>9.49</td>\n",
       "      <td>9.43</td>\n",
       "      <td>28980000.0</td>\n",
       "      <td>-0.0021</td>\n",
       "    </tr>\n",
       "    <tr>\n",
       "      <th>2019-12-27</th>\n",
       "      <td>9.36</td>\n",
       "      <td>9.45</td>\n",
       "      <td>9.46</td>\n",
       "      <td>9.35</td>\n",
       "      <td>28270000.0</td>\n",
       "      <td>-0.0095</td>\n",
       "    </tr>\n",
       "    <tr>\n",
       "      <th>2019-12-30</th>\n",
       "      <td>9.25</td>\n",
       "      <td>9.34</td>\n",
       "      <td>9.35</td>\n",
       "      <td>9.23</td>\n",
       "      <td>36090000.0</td>\n",
       "      <td>-0.0118</td>\n",
       "    </tr>\n",
       "  </tbody>\n",
       "</table>\n",
       "</div>"
      ],
      "text/plain": [
       "            Close  Open  High   Low      Volume  Change\n",
       "Date                                                   \n",
       "2019-12-23   9.44  9.50  9.57  9.40  54800000.0 -0.0042\n",
       "2019-12-24   9.47  9.44  9.49  9.43  11880000.0  0.0032\n",
       "2019-12-26   9.45  9.47  9.49  9.43  28980000.0 -0.0021\n",
       "2019-12-27   9.36  9.45  9.46  9.35  28270000.0 -0.0095\n",
       "2019-12-30   9.25  9.34  9.35  9.23  36090000.0 -0.0118"
      ]
     },
     "execution_count": 12,
     "metadata": {},
     "output_type": "execute_result"
    }
   ],
   "source": [
    "ford.tail()"
   ]
  },
  {
   "cell_type": "markdown",
   "metadata": {
    "id": "BxmJoqteBudq"
   },
   "source": [
    "### 문제 09. '금'과 '달러' 데이터도 가져올 수 있습니다. 두 데이터를 불러와 head를 출력해보세요."
   ]
  },
  {
   "cell_type": "markdown",
   "metadata": {
    "id": "WEJpAQ7EBudq"
   },
   "source": [
    "*[GitHub 페이지 링크](https://github.com/FinanceData/FinanceDataReader) 참고"
   ]
  },
  {
   "cell_type": "code",
   "execution_count": 13,
   "metadata": {
    "colab": {
     "base_uri": "https://localhost:8080/",
     "height": 235
    },
    "id": "Rv85AHqkGJp0",
    "outputId": "d401ebbe-b62f-468d-d333-680d04c8b247"
   },
   "outputs": [
    {
     "data": {
      "text/html": [
       "<div>\n",
       "<style scoped>\n",
       "    .dataframe tbody tr th:only-of-type {\n",
       "        vertical-align: middle;\n",
       "    }\n",
       "\n",
       "    .dataframe tbody tr th {\n",
       "        vertical-align: top;\n",
       "    }\n",
       "\n",
       "    .dataframe thead th {\n",
       "        text-align: right;\n",
       "    }\n",
       "</style>\n",
       "<table border=\"1\" class=\"dataframe\">\n",
       "  <thead>\n",
       "    <tr style=\"text-align: right;\">\n",
       "      <th></th>\n",
       "      <th>Close</th>\n",
       "      <th>Open</th>\n",
       "      <th>High</th>\n",
       "      <th>Low</th>\n",
       "      <th>Volume</th>\n",
       "      <th>Change</th>\n",
       "    </tr>\n",
       "    <tr>\n",
       "      <th>Date</th>\n",
       "      <th></th>\n",
       "      <th></th>\n",
       "      <th></th>\n",
       "      <th></th>\n",
       "      <th></th>\n",
       "      <th></th>\n",
       "    </tr>\n",
       "  </thead>\n",
       "  <tbody>\n",
       "    <tr>\n",
       "      <th>1980-01-02</th>\n",
       "      <td>575.5</td>\n",
       "      <td>562.5</td>\n",
       "      <td>577.0</td>\n",
       "      <td>558.0</td>\n",
       "      <td>7260.0</td>\n",
       "      <td>0.0785</td>\n",
       "    </tr>\n",
       "    <tr>\n",
       "      <th>1980-01-03</th>\n",
       "      <td>625.0</td>\n",
       "      <td>627.0</td>\n",
       "      <td>640.0</td>\n",
       "      <td>603.0</td>\n",
       "      <td>20750.0</td>\n",
       "      <td>0.0860</td>\n",
       "    </tr>\n",
       "    <tr>\n",
       "      <th>1980-01-04</th>\n",
       "      <td>603.6</td>\n",
       "      <td>609.5</td>\n",
       "      <td>621.0</td>\n",
       "      <td>573.0</td>\n",
       "      <td>2660.0</td>\n",
       "      <td>-0.0342</td>\n",
       "    </tr>\n",
       "    <tr>\n",
       "      <th>1980-01-07</th>\n",
       "      <td>627.0</td>\n",
       "      <td>629.0</td>\n",
       "      <td>635.0</td>\n",
       "      <td>611.0</td>\n",
       "      <td>3000.0</td>\n",
       "      <td>0.0388</td>\n",
       "    </tr>\n",
       "    <tr>\n",
       "      <th>1980-01-08</th>\n",
       "      <td>602.5</td>\n",
       "      <td>611.5</td>\n",
       "      <td>619.0</td>\n",
       "      <td>600.0</td>\n",
       "      <td>750.0</td>\n",
       "      <td>-0.0391</td>\n",
       "    </tr>\n",
       "  </tbody>\n",
       "</table>\n",
       "</div>"
      ],
      "text/plain": [
       "            Close   Open   High    Low   Volume  Change\n",
       "Date                                                   \n",
       "1980-01-02  575.5  562.5  577.0  558.0   7260.0  0.0785\n",
       "1980-01-03  625.0  627.0  640.0  603.0  20750.0  0.0860\n",
       "1980-01-04  603.6  609.5  621.0  573.0   2660.0 -0.0342\n",
       "1980-01-07  627.0  629.0  635.0  611.0   3000.0  0.0388\n",
       "1980-01-08  602.5  611.5  619.0  600.0    750.0 -0.0391"
      ]
     },
     "execution_count": 13,
     "metadata": {},
     "output_type": "execute_result"
    }
   ],
   "source": [
    "gold = fdr.DataReader('ZG') # 금 선물 (ICE)\n",
    "gold.head()"
   ]
  },
  {
   "cell_type": "code",
   "execution_count": 14,
   "metadata": {
    "colab": {
     "base_uri": "https://localhost:8080/",
     "height": 235
    },
    "id": "whRbcKezGJ5V",
    "outputId": "036c1d8b-fe1b-49c0-d1d2-b5e3c0a3bbc9"
   },
   "outputs": [
    {
     "data": {
      "text/html": [
       "<div>\n",
       "<style scoped>\n",
       "    .dataframe tbody tr th:only-of-type {\n",
       "        vertical-align: middle;\n",
       "    }\n",
       "\n",
       "    .dataframe tbody tr th {\n",
       "        vertical-align: top;\n",
       "    }\n",
       "\n",
       "    .dataframe thead th {\n",
       "        text-align: right;\n",
       "    }\n",
       "</style>\n",
       "<table border=\"1\" class=\"dataframe\">\n",
       "  <thead>\n",
       "    <tr style=\"text-align: right;\">\n",
       "      <th></th>\n",
       "      <th>Close</th>\n",
       "      <th>Open</th>\n",
       "      <th>High</th>\n",
       "      <th>Low</th>\n",
       "      <th>Change</th>\n",
       "    </tr>\n",
       "    <tr>\n",
       "      <th>Date</th>\n",
       "      <th></th>\n",
       "      <th></th>\n",
       "      <th></th>\n",
       "      <th></th>\n",
       "      <th></th>\n",
       "    </tr>\n",
       "  </thead>\n",
       "  <tbody>\n",
       "    <tr>\n",
       "      <th>1995-01-02</th>\n",
       "      <td>788.50</td>\n",
       "      <td>788.50</td>\n",
       "      <td>788.50</td>\n",
       "      <td>788.50</td>\n",
       "      <td>0.0000</td>\n",
       "    </tr>\n",
       "    <tr>\n",
       "      <th>1995-01-03</th>\n",
       "      <td>788.65</td>\n",
       "      <td>788.05</td>\n",
       "      <td>788.85</td>\n",
       "      <td>787.55</td>\n",
       "      <td>0.0002</td>\n",
       "    </tr>\n",
       "    <tr>\n",
       "      <th>1995-01-04</th>\n",
       "      <td>789.95</td>\n",
       "      <td>788.65</td>\n",
       "      <td>790.05</td>\n",
       "      <td>788.45</td>\n",
       "      <td>0.0016</td>\n",
       "    </tr>\n",
       "    <tr>\n",
       "      <th>1995-01-05</th>\n",
       "      <td>789.90</td>\n",
       "      <td>789.80</td>\n",
       "      <td>790.20</td>\n",
       "      <td>789.30</td>\n",
       "      <td>-0.0001</td>\n",
       "    </tr>\n",
       "    <tr>\n",
       "      <th>1995-01-06</th>\n",
       "      <td>791.55</td>\n",
       "      <td>789.75</td>\n",
       "      <td>791.65</td>\n",
       "      <td>789.65</td>\n",
       "      <td>0.0021</td>\n",
       "    </tr>\n",
       "  </tbody>\n",
       "</table>\n",
       "</div>"
      ],
      "text/plain": [
       "             Close    Open    High     Low  Change\n",
       "Date                                              \n",
       "1995-01-02  788.50  788.50  788.50  788.50  0.0000\n",
       "1995-01-03  788.65  788.05  788.85  787.55  0.0002\n",
       "1995-01-04  789.95  788.65  790.05  788.45  0.0016\n",
       "1995-01-05  789.90  789.80  790.20  789.30 -0.0001\n",
       "1995-01-06  791.55  789.75  791.65  789.65  0.0021"
      ]
     },
     "execution_count": 14,
     "metadata": {},
     "output_type": "execute_result"
    }
   ],
   "source": [
    "usdkrw = fdr.DataReader('USD/KRW', '1995-01-01') \n",
    "usdkrw.head()"
   ]
  },
  {
   "cell_type": "markdown",
   "metadata": {
    "id": "RJtxeKQm0l2w"
   },
   "source": [
    "### 문제 10. 주식 코드를 활용해 데이터 불러오기"
   ]
  },
  {
   "cell_type": "code",
   "execution_count": 15,
   "metadata": {
    "id": "_8Gy3cagBudr"
   },
   "outputs": [],
   "source": [
    "# 삼성전자 주식코드: 005930\n",
    "STOCK_CODE = '005930'"
   ]
  },
  {
   "cell_type": "code",
   "execution_count": 16,
   "metadata": {
    "id": "xx8f86AgBudr"
   },
   "outputs": [],
   "source": [
    "# fdr 라이브러리를 활용해 삼성전자 데이터를 불러오세요 \n",
    "stock = fdr.DataReader(STOCK_CODE)"
   ]
  },
  {
   "cell_type": "code",
   "execution_count": 17,
   "metadata": {
    "colab": {
     "base_uri": "https://localhost:8080/",
     "height": 235
    },
    "id": "-jBfNkQVBuds",
    "outputId": "476edaa7-207d-4182-b07c-281c17e5c15c"
   },
   "outputs": [
    {
     "data": {
      "text/html": [
       "<div>\n",
       "<style scoped>\n",
       "    .dataframe tbody tr th:only-of-type {\n",
       "        vertical-align: middle;\n",
       "    }\n",
       "\n",
       "    .dataframe tbody tr th {\n",
       "        vertical-align: top;\n",
       "    }\n",
       "\n",
       "    .dataframe thead th {\n",
       "        text-align: right;\n",
       "    }\n",
       "</style>\n",
       "<table border=\"1\" class=\"dataframe\">\n",
       "  <thead>\n",
       "    <tr style=\"text-align: right;\">\n",
       "      <th></th>\n",
       "      <th>Open</th>\n",
       "      <th>High</th>\n",
       "      <th>Low</th>\n",
       "      <th>Close</th>\n",
       "      <th>Volume</th>\n",
       "      <th>Change</th>\n",
       "    </tr>\n",
       "    <tr>\n",
       "      <th>Date</th>\n",
       "      <th></th>\n",
       "      <th></th>\n",
       "      <th></th>\n",
       "      <th></th>\n",
       "      <th></th>\n",
       "      <th></th>\n",
       "    </tr>\n",
       "  </thead>\n",
       "  <tbody>\n",
       "    <tr>\n",
       "      <th>1997-06-30</th>\n",
       "      <td>1259</td>\n",
       "      <td>1290</td>\n",
       "      <td>1254</td>\n",
       "      <td>1260</td>\n",
       "      <td>100240</td>\n",
       "      <td>NaN</td>\n",
       "    </tr>\n",
       "    <tr>\n",
       "      <th>1997-07-01</th>\n",
       "      <td>1259</td>\n",
       "      <td>1286</td>\n",
       "      <td>1259</td>\n",
       "      <td>1269</td>\n",
       "      <td>167900</td>\n",
       "      <td>0.007143</td>\n",
       "    </tr>\n",
       "    <tr>\n",
       "      <th>1997-07-02</th>\n",
       "      <td>1277</td>\n",
       "      <td>1313</td>\n",
       "      <td>1277</td>\n",
       "      <td>1296</td>\n",
       "      <td>169940</td>\n",
       "      <td>0.021277</td>\n",
       "    </tr>\n",
       "    <tr>\n",
       "      <th>1997-07-03</th>\n",
       "      <td>1295</td>\n",
       "      <td>1304</td>\n",
       "      <td>1283</td>\n",
       "      <td>1290</td>\n",
       "      <td>108460</td>\n",
       "      <td>-0.004630</td>\n",
       "    </tr>\n",
       "    <tr>\n",
       "      <th>1997-07-04</th>\n",
       "      <td>1295</td>\n",
       "      <td>1304</td>\n",
       "      <td>1286</td>\n",
       "      <td>1296</td>\n",
       "      <td>101780</td>\n",
       "      <td>0.004651</td>\n",
       "    </tr>\n",
       "  </tbody>\n",
       "</table>\n",
       "</div>"
      ],
      "text/plain": [
       "            Open  High   Low  Close  Volume    Change\n",
       "Date                                                 \n",
       "1997-06-30  1259  1290  1254   1260  100240       NaN\n",
       "1997-07-01  1259  1286  1259   1269  167900  0.007143\n",
       "1997-07-02  1277  1313  1277   1296  169940  0.021277\n",
       "1997-07-03  1295  1304  1283   1290  108460 -0.004630\n",
       "1997-07-04  1295  1304  1286   1296  101780  0.004651"
      ]
     },
     "execution_count": 17,
     "metadata": {},
     "output_type": "execute_result"
    }
   ],
   "source": [
    "stock.head()"
   ]
  },
  {
   "cell_type": "code",
   "execution_count": 18,
   "metadata": {
    "colab": {
     "base_uri": "https://localhost:8080/",
     "height": 235
    },
    "id": "3VgxOeT3Buds",
    "outputId": "f8bdd79f-6978-428d-b5c2-f825fc5b4814"
   },
   "outputs": [
    {
     "data": {
      "text/html": [
       "<div>\n",
       "<style scoped>\n",
       "    .dataframe tbody tr th:only-of-type {\n",
       "        vertical-align: middle;\n",
       "    }\n",
       "\n",
       "    .dataframe tbody tr th {\n",
       "        vertical-align: top;\n",
       "    }\n",
       "\n",
       "    .dataframe thead th {\n",
       "        text-align: right;\n",
       "    }\n",
       "</style>\n",
       "<table border=\"1\" class=\"dataframe\">\n",
       "  <thead>\n",
       "    <tr style=\"text-align: right;\">\n",
       "      <th></th>\n",
       "      <th>Open</th>\n",
       "      <th>High</th>\n",
       "      <th>Low</th>\n",
       "      <th>Close</th>\n",
       "      <th>Volume</th>\n",
       "      <th>Change</th>\n",
       "    </tr>\n",
       "    <tr>\n",
       "      <th>Date</th>\n",
       "      <th></th>\n",
       "      <th></th>\n",
       "      <th></th>\n",
       "      <th></th>\n",
       "      <th></th>\n",
       "      <th></th>\n",
       "    </tr>\n",
       "  </thead>\n",
       "  <tbody>\n",
       "    <tr>\n",
       "      <th>2021-06-30</th>\n",
       "      <td>81100</td>\n",
       "      <td>81400</td>\n",
       "      <td>80700</td>\n",
       "      <td>80700</td>\n",
       "      <td>13288643</td>\n",
       "      <td>-0.003704</td>\n",
       "    </tr>\n",
       "    <tr>\n",
       "      <th>2021-07-01</th>\n",
       "      <td>80500</td>\n",
       "      <td>80600</td>\n",
       "      <td>80000</td>\n",
       "      <td>80100</td>\n",
       "      <td>13382882</td>\n",
       "      <td>-0.007435</td>\n",
       "    </tr>\n",
       "    <tr>\n",
       "      <th>2021-07-02</th>\n",
       "      <td>80000</td>\n",
       "      <td>80400</td>\n",
       "      <td>79900</td>\n",
       "      <td>80000</td>\n",
       "      <td>8753097</td>\n",
       "      <td>-0.001248</td>\n",
       "    </tr>\n",
       "    <tr>\n",
       "      <th>2021-07-05</th>\n",
       "      <td>80100</td>\n",
       "      <td>80800</td>\n",
       "      <td>80000</td>\n",
       "      <td>80400</td>\n",
       "      <td>8330969</td>\n",
       "      <td>0.005000</td>\n",
       "    </tr>\n",
       "    <tr>\n",
       "      <th>2021-07-06</th>\n",
       "      <td>80600</td>\n",
       "      <td>81200</td>\n",
       "      <td>80500</td>\n",
       "      <td>81200</td>\n",
       "      <td>12078386</td>\n",
       "      <td>0.009950</td>\n",
       "    </tr>\n",
       "  </tbody>\n",
       "</table>\n",
       "</div>"
      ],
      "text/plain": [
       "             Open   High    Low  Close    Volume    Change\n",
       "Date                                                      \n",
       "2021-06-30  81100  81400  80700  80700  13288643 -0.003704\n",
       "2021-07-01  80500  80600  80000  80100  13382882 -0.007435\n",
       "2021-07-02  80000  80400  79900  80000   8753097 -0.001248\n",
       "2021-07-05  80100  80800  80000  80400   8330969  0.005000\n",
       "2021-07-06  80600  81200  80500  81200  12078386  0.009950"
      ]
     },
     "execution_count": 18,
     "metadata": {},
     "output_type": "execute_result"
    }
   ],
   "source": [
    "stock.tail()"
   ]
  },
  {
   "cell_type": "code",
   "execution_count": 19,
   "metadata": {
    "colab": {
     "base_uri": "https://localhost:8080/"
    },
    "id": "y9NRSMYTBuds",
    "outputId": "5e3458c7-82fd-48e1-c3e8-ab5b81809981"
   },
   "outputs": [
    {
     "data": {
      "text/plain": [
       "DatetimeIndex(['1997-06-30', '1997-07-01', '1997-07-02', '1997-07-03',\n",
       "               '1997-07-04', '1997-07-05', '1997-07-07', '1997-07-08',\n",
       "               '1997-07-09', '1997-07-10',\n",
       "               ...\n",
       "               '2021-06-23', '2021-06-24', '2021-06-25', '2021-06-28',\n",
       "               '2021-06-29', '2021-06-30', '2021-07-01', '2021-07-02',\n",
       "               '2021-07-05', '2021-07-06'],\n",
       "              dtype='datetime64[ns]', name='Date', length=6000, freq=None)"
      ]
     },
     "execution_count": 19,
     "metadata": {},
     "output_type": "execute_result"
    }
   ],
   "source": [
    "# 인덱스를 확인해보세요.\n",
    "stock.index"
   ]
  },
  {
   "cell_type": "markdown",
   "metadata": {
    "id": "Ngpi6jHxMsz7"
   },
   "source": [
    "## Step 2. 시계열 데이터 시각화"
   ]
  },
  {
   "cell_type": "markdown",
   "metadata": {
    "id": "B1loczVzBudt"
   },
   "source": [
    "\n",
    "### 문제 11. 인덱스가 `DatetimeIndex`로 정의되어 있다면, 연도, 월, 일을 쪼갤 수 있습니다. 데이터를 분리해주세요."
   ]
  },
  {
   "cell_type": "code",
   "execution_count": 20,
   "metadata": {
    "id": "fif43Fh-0l4L"
   },
   "outputs": [],
   "source": [
    "stock['Year'] = stock.index.year\n",
    "stock['Month'] = stock.index.month\n",
    "stock['Day'] = stock.index.day"
   ]
  },
  {
   "cell_type": "code",
   "execution_count": 21,
   "metadata": {
    "colab": {
     "base_uri": "https://localhost:8080/",
     "height": 235
    },
    "id": "0yAKE9Ag0l4S",
    "outputId": "833bc7bf-37c9-40a1-ba5f-c13818732448"
   },
   "outputs": [
    {
     "data": {
      "text/html": [
       "<div>\n",
       "<style scoped>\n",
       "    .dataframe tbody tr th:only-of-type {\n",
       "        vertical-align: middle;\n",
       "    }\n",
       "\n",
       "    .dataframe tbody tr th {\n",
       "        vertical-align: top;\n",
       "    }\n",
       "\n",
       "    .dataframe thead th {\n",
       "        text-align: right;\n",
       "    }\n",
       "</style>\n",
       "<table border=\"1\" class=\"dataframe\">\n",
       "  <thead>\n",
       "    <tr style=\"text-align: right;\">\n",
       "      <th></th>\n",
       "      <th>Open</th>\n",
       "      <th>High</th>\n",
       "      <th>Low</th>\n",
       "      <th>Close</th>\n",
       "      <th>Volume</th>\n",
       "      <th>Change</th>\n",
       "      <th>Year</th>\n",
       "      <th>Month</th>\n",
       "      <th>Day</th>\n",
       "    </tr>\n",
       "    <tr>\n",
       "      <th>Date</th>\n",
       "      <th></th>\n",
       "      <th></th>\n",
       "      <th></th>\n",
       "      <th></th>\n",
       "      <th></th>\n",
       "      <th></th>\n",
       "      <th></th>\n",
       "      <th></th>\n",
       "      <th></th>\n",
       "    </tr>\n",
       "  </thead>\n",
       "  <tbody>\n",
       "    <tr>\n",
       "      <th>1997-06-30</th>\n",
       "      <td>1259</td>\n",
       "      <td>1290</td>\n",
       "      <td>1254</td>\n",
       "      <td>1260</td>\n",
       "      <td>100240</td>\n",
       "      <td>NaN</td>\n",
       "      <td>1997</td>\n",
       "      <td>6</td>\n",
       "      <td>30</td>\n",
       "    </tr>\n",
       "    <tr>\n",
       "      <th>1997-07-01</th>\n",
       "      <td>1259</td>\n",
       "      <td>1286</td>\n",
       "      <td>1259</td>\n",
       "      <td>1269</td>\n",
       "      <td>167900</td>\n",
       "      <td>0.007143</td>\n",
       "      <td>1997</td>\n",
       "      <td>7</td>\n",
       "      <td>1</td>\n",
       "    </tr>\n",
       "    <tr>\n",
       "      <th>1997-07-02</th>\n",
       "      <td>1277</td>\n",
       "      <td>1313</td>\n",
       "      <td>1277</td>\n",
       "      <td>1296</td>\n",
       "      <td>169940</td>\n",
       "      <td>0.021277</td>\n",
       "      <td>1997</td>\n",
       "      <td>7</td>\n",
       "      <td>2</td>\n",
       "    </tr>\n",
       "    <tr>\n",
       "      <th>1997-07-03</th>\n",
       "      <td>1295</td>\n",
       "      <td>1304</td>\n",
       "      <td>1283</td>\n",
       "      <td>1290</td>\n",
       "      <td>108460</td>\n",
       "      <td>-0.004630</td>\n",
       "      <td>1997</td>\n",
       "      <td>7</td>\n",
       "      <td>3</td>\n",
       "    </tr>\n",
       "    <tr>\n",
       "      <th>1997-07-04</th>\n",
       "      <td>1295</td>\n",
       "      <td>1304</td>\n",
       "      <td>1286</td>\n",
       "      <td>1296</td>\n",
       "      <td>101780</td>\n",
       "      <td>0.004651</td>\n",
       "      <td>1997</td>\n",
       "      <td>7</td>\n",
       "      <td>4</td>\n",
       "    </tr>\n",
       "  </tbody>\n",
       "</table>\n",
       "</div>"
      ],
      "text/plain": [
       "            Open  High   Low  Close  Volume    Change  Year  Month  Day\n",
       "Date                                                                   \n",
       "1997-06-30  1259  1290  1254   1260  100240       NaN  1997      6   30\n",
       "1997-07-01  1259  1286  1259   1269  167900  0.007143  1997      7    1\n",
       "1997-07-02  1277  1313  1277   1296  169940  0.021277  1997      7    2\n",
       "1997-07-03  1295  1304  1283   1290  108460 -0.004630  1997      7    3\n",
       "1997-07-04  1295  1304  1286   1296  101780  0.004651  1997      7    4"
      ]
     },
     "execution_count": 21,
     "metadata": {},
     "output_type": "execute_result"
    }
   ],
   "source": [
    "stock.head()"
   ]
  },
  {
   "cell_type": "markdown",
   "metadata": {
    "id": "ZpeXdWzWG2KO"
   },
   "source": [
    "### 문제 12. 연도별, 월별 피봇테이블을 각각 구현해보세요."
   ]
  },
  {
   "cell_type": "code",
   "execution_count": 22,
   "metadata": {
    "colab": {
     "base_uri": "https://localhost:8080/",
     "height": 450
    },
    "id": "L73tGJhhG9Av",
    "outputId": "6c8f520b-b662-42b8-80d7-f55618fbd013"
   },
   "outputs": [
    {
     "data": {
      "text/html": [
       "<div>\n",
       "<style scoped>\n",
       "    .dataframe tbody tr th:only-of-type {\n",
       "        vertical-align: middle;\n",
       "    }\n",
       "\n",
       "    .dataframe tbody tr th {\n",
       "        vertical-align: top;\n",
       "    }\n",
       "\n",
       "    .dataframe thead th {\n",
       "        text-align: right;\n",
       "    }\n",
       "</style>\n",
       "<table border=\"1\" class=\"dataframe\">\n",
       "  <thead>\n",
       "    <tr style=\"text-align: right;\">\n",
       "      <th></th>\n",
       "      <th></th>\n",
       "      <th>Open</th>\n",
       "      <th>High</th>\n",
       "      <th>Low</th>\n",
       "      <th>Close</th>\n",
       "      <th>Volume</th>\n",
       "      <th>Change</th>\n",
       "      <th>Day</th>\n",
       "    </tr>\n",
       "    <tr>\n",
       "      <th>Year</th>\n",
       "      <th>Month</th>\n",
       "      <th></th>\n",
       "      <th></th>\n",
       "      <th></th>\n",
       "      <th></th>\n",
       "      <th></th>\n",
       "      <th></th>\n",
       "      <th></th>\n",
       "    </tr>\n",
       "  </thead>\n",
       "  <tbody>\n",
       "    <tr>\n",
       "      <th rowspan=\"5\" valign=\"top\">1997</th>\n",
       "      <th>6</th>\n",
       "      <td>1259.000000</td>\n",
       "      <td>1290.000000</td>\n",
       "      <td>1254.000000</td>\n",
       "      <td>1260.000000</td>\n",
       "      <td>1.002400e+05</td>\n",
       "      <td>NaN</td>\n",
       "      <td>30.000000</td>\n",
       "    </tr>\n",
       "    <tr>\n",
       "      <th>7</th>\n",
       "      <td>1228.769231</td>\n",
       "      <td>1241.461538</td>\n",
       "      <td>1216.423077</td>\n",
       "      <td>1227.500000</td>\n",
       "      <td>7.374308e+04</td>\n",
       "      <td>-0.003107</td>\n",
       "      <td>15.884615</td>\n",
       "    </tr>\n",
       "    <tr>\n",
       "      <th>8</th>\n",
       "      <td>1261.840000</td>\n",
       "      <td>1278.040000</td>\n",
       "      <td>1250.640000</td>\n",
       "      <td>1267.280000</td>\n",
       "      <td>1.537483e+05</td>\n",
       "      <td>0.003438</td>\n",
       "      <td>15.840000</td>\n",
       "    </tr>\n",
       "    <tr>\n",
       "      <th>9</th>\n",
       "      <td>1224.652174</td>\n",
       "      <td>1238.739130</td>\n",
       "      <td>1209.217391</td>\n",
       "      <td>1224.521739</td>\n",
       "      <td>6.507870e+04</td>\n",
       "      <td>-0.002450</td>\n",
       "      <td>15.086957</td>\n",
       "    </tr>\n",
       "    <tr>\n",
       "      <th>10</th>\n",
       "      <td>1027.230769</td>\n",
       "      <td>1045.730769</td>\n",
       "      <td>995.307692</td>\n",
       "      <td>1014.000000</td>\n",
       "      <td>1.376285e+05</td>\n",
       "      <td>-0.020538</td>\n",
       "      <td>16.576923</td>\n",
       "    </tr>\n",
       "    <tr>\n",
       "      <th>...</th>\n",
       "      <th>...</th>\n",
       "      <td>...</td>\n",
       "      <td>...</td>\n",
       "      <td>...</td>\n",
       "      <td>...</td>\n",
       "      <td>...</td>\n",
       "      <td>...</td>\n",
       "      <td>...</td>\n",
       "    </tr>\n",
       "    <tr>\n",
       "      <th rowspan=\"5\" valign=\"top\">2021</th>\n",
       "      <th>3</th>\n",
       "      <td>82250.000000</td>\n",
       "      <td>82763.636364</td>\n",
       "      <td>81609.090909</td>\n",
       "      <td>82072.727273</td>\n",
       "      <td>1.761874e+07</td>\n",
       "      <td>-0.000570</td>\n",
       "      <td>16.318182</td>\n",
       "    </tr>\n",
       "    <tr>\n",
       "      <th>4</th>\n",
       "      <td>83786.363636</td>\n",
       "      <td>84150.000000</td>\n",
       "      <td>83095.454545</td>\n",
       "      <td>83586.363636</td>\n",
       "      <td>1.695174e+07</td>\n",
       "      <td>0.000101</td>\n",
       "      <td>16.045455</td>\n",
       "    </tr>\n",
       "    <tr>\n",
       "      <th>5</th>\n",
       "      <td>80547.368421</td>\n",
       "      <td>81105.263158</td>\n",
       "      <td>80015.789474</td>\n",
       "      <td>80521.052632</td>\n",
       "      <td>1.853742e+07</td>\n",
       "      <td>-0.000592</td>\n",
       "      <td>16.684211</td>\n",
       "    </tr>\n",
       "    <tr>\n",
       "      <th>6</th>\n",
       "      <td>81195.454545</td>\n",
       "      <td>81590.909091</td>\n",
       "      <td>80740.909091</td>\n",
       "      <td>81104.545455</td>\n",
       "      <td>1.514088e+07</td>\n",
       "      <td>0.000147</td>\n",
       "      <td>15.318182</td>\n",
       "    </tr>\n",
       "    <tr>\n",
       "      <th>7</th>\n",
       "      <td>80300.000000</td>\n",
       "      <td>80750.000000</td>\n",
       "      <td>80100.000000</td>\n",
       "      <td>80425.000000</td>\n",
       "      <td>1.063633e+07</td>\n",
       "      <td>0.001567</td>\n",
       "      <td>3.500000</td>\n",
       "    </tr>\n",
       "  </tbody>\n",
       "</table>\n",
       "<p>290 rows × 7 columns</p>\n",
       "</div>"
      ],
      "text/plain": [
       "                    Open          High           Low         Close  \\\n",
       "Year Month                                                           \n",
       "1997 6       1259.000000   1290.000000   1254.000000   1260.000000   \n",
       "     7       1228.769231   1241.461538   1216.423077   1227.500000   \n",
       "     8       1261.840000   1278.040000   1250.640000   1267.280000   \n",
       "     9       1224.652174   1238.739130   1209.217391   1224.521739   \n",
       "     10      1027.230769   1045.730769    995.307692   1014.000000   \n",
       "...                  ...           ...           ...           ...   \n",
       "2021 3      82250.000000  82763.636364  81609.090909  82072.727273   \n",
       "     4      83786.363636  84150.000000  83095.454545  83586.363636   \n",
       "     5      80547.368421  81105.263158  80015.789474  80521.052632   \n",
       "     6      81195.454545  81590.909091  80740.909091  81104.545455   \n",
       "     7      80300.000000  80750.000000  80100.000000  80425.000000   \n",
       "\n",
       "                  Volume    Change        Day  \n",
       "Year Month                                     \n",
       "1997 6      1.002400e+05       NaN  30.000000  \n",
       "     7      7.374308e+04 -0.003107  15.884615  \n",
       "     8      1.537483e+05  0.003438  15.840000  \n",
       "     9      6.507870e+04 -0.002450  15.086957  \n",
       "     10     1.376285e+05 -0.020538  16.576923  \n",
       "...                  ...       ...        ...  \n",
       "2021 3      1.761874e+07 -0.000570  16.318182  \n",
       "     4      1.695174e+07  0.000101  16.045455  \n",
       "     5      1.853742e+07 -0.000592  16.684211  \n",
       "     6      1.514088e+07  0.000147  15.318182  \n",
       "     7      1.063633e+07  0.001567   3.500000  \n",
       "\n",
       "[290 rows x 7 columns]"
      ]
     },
     "execution_count": 22,
     "metadata": {},
     "output_type": "execute_result"
    }
   ],
   "source": [
    "stock.groupby(['Year', 'Month']).mean()"
   ]
  },
  {
   "cell_type": "markdown",
   "metadata": {
    "id": "5FBTlube0l4d"
   },
   "source": [
    "### 문제 13. matplotlib을 활용해 시간에 따른 주식 가격 시계열 그래프를 그려보세요."
   ]
  },
  {
   "cell_type": "code",
   "execution_count": 23,
   "metadata": {
    "colab": {
     "base_uri": "https://localhost:8080/",
     "height": 569
    },
    "id": "MWcaWEa80l4o",
    "outputId": "f5329735-7b9a-45a9-8fc3-b0330ee755b5"
   },
   "outputs": [
    {
     "data": {
      "text/plain": [
       "Text(0, 0.5, 'price')"
      ]
     },
     "execution_count": 23,
     "metadata": {},
     "output_type": "execute_result"
    },
    {
     "name": "stderr",
     "output_type": "stream",
     "text": [
      "findfont: Font family ['NanumGothic'] not found. Falling back to DejaVu Sans.\n"
     ]
    },
    {
     "data": {
      "image/png": "[encoded data removed]",
      "text/plain": [
       "<Figure size 1152x648 with 1 Axes>"
      ]
     },
     "metadata": {
      "needs_background": "light"
     },
     "output_type": "display_data"
    }
   ],
   "source": [
    "plt.figure(figsize=(16, 9))\n",
    "sns.lineplot(y=stock['Close'], x=stock.index)\n",
    "plt.xlabel('time')\n",
    "plt.ylabel('price')"
   ]
  },
  {
   "cell_type": "markdown",
   "metadata": {
    "id": "fTr5lZHpHLCc"
   },
   "source": [
    "### 문제 14. subplots를 활용해 그래프 4개(2,2)를 동시에 그려보세요."
   ]
  },
  {
   "cell_type": "code",
   "execution_count": 24,
   "metadata": {
    "colab": {
     "base_uri": "https://localhost:8080/",
     "height": 675
    },
    "id": "YHjPfMPjBudw",
    "outputId": "8ef3ee17-2806-47fe-9488-eebf0997ae8a"
   },
   "outputs": [
    {
     "name": "stderr",
     "output_type": "stream",
     "text": [
      "findfont: Font family ['NanumGothic'] not found. Falling back to DejaVu Sans.\n"
     ]
    },
    {
     "data": {
      "image/png": "[encoded data removed]",
      "text/plain": [
       "<Figure size 1152x648 with 4 Axes>"
      ]
     },
     "metadata": {
      "needs_background": "light"
     },
     "output_type": "display_data"
    }
   ],
   "source": [
    "# 1990~2000, 2000~2010, 2010~2015, 2015~2020\n",
    "time_steps = [['1990', '2000'], \n",
    "              ['2000', '2010'], \n",
    "              ['2010', '2015'], \n",
    "              ['2015', '2020']]\n",
    "\n",
    "fig, axes = plt.subplots(2, 2)\n",
    "fig.set_size_inches(16, 9)\n",
    "for i in range(4):\n",
    "    ax = axes[i//2, i%2]\n",
    "    df = stock.loc[(stock.index > time_steps[i][0]) & (stock.index < time_steps[i][1])]\n",
    "    sns.lineplot(y=df['Close'], x=df.index, ax=ax)\n",
    "    ax.set_title(f'{time_steps[i][0]}~{time_steps[i][1]}')\n",
    "    ax.set_xlabel('time')\n",
    "    ax.set_ylabel('price')\n",
    "plt.tight_layout()\n",
    "plt.show()"
   ]
  },
  {
   "cell_type": "markdown",
   "metadata": {
    "id": "IyLCGJyTNAtc"
   },
   "source": [
    "## Step 3. 시계열 데이터의 전처리"
   ]
  },
  {
   "cell_type": "markdown",
   "metadata": {
    "id": "CDgThJtbBudw"
   },
   "source": [
    "### 문제 15. MinMaxScaler를 활요해 데이터 전처리를 수행합니다."
   ]
  },
  {
   "cell_type": "markdown",
   "metadata": {
    "id": "srjf2-yXBudx"
   },
   "source": [
    "주가 데이터에 대하여 딥러닝 모델이 더 잘 학습할 수 있도록 **정규화(Normalization)**를 해주도록 하겠습니다.\n",
    "\n",
    "**표준화 (Standardization)**와 **정규화(Normalization)**에 대한 내용은 아래 링크에서 더 자세히 다루니, 참고해 보시기 바랍니다.\n",
    "\n",
    "- [데이터 전처리에 관하여](https://teddylee777.github.io/scikit-learn/scikit-learn-preprocessing)"
   ]
  },
  {
   "cell_type": "code",
   "execution_count": 25,
   "metadata": {
    "colab": {
     "base_uri": "https://localhost:8080/"
    },
    "id": "4-4PgRMZ0l5Q",
    "outputId": "3ed48b21-29a4-4694-c6c9-3545ae61ff1d"
   },
   "outputs": [
    {
     "data": {
      "text/plain": [
       "array([[0.01394241, 0.01332645, 0.01401117, 0.0070043 , 0.00111   ],\n",
       "       [0.01394241, 0.01328512, 0.01406704, 0.00710389, 0.00185923],\n",
       "       [0.01414175, 0.01356405, 0.01426816, 0.00740265, 0.00188182],\n",
       "       ...,\n",
       "       [0.88593577, 0.83057851, 0.89273743, 0.87828223, 0.09692689],\n",
       "       [0.88704319, 0.83471074, 0.89385475, 0.88270833, 0.09225248],\n",
       "       [0.89258029, 0.83884298, 0.89944134, 0.89156053, 0.13374928]])"
      ]
     },
     "execution_count": 25,
     "metadata": {},
     "output_type": "execute_result"
    }
   ],
   "source": [
    "from sklearn.preprocessing import MinMaxScaler\n",
    "\n",
    "scaler = MinMaxScaler()\n",
    "# 스케일을 적용할 column을 정의합니다.\n",
    "scale_cols = ['Open', 'High', 'Low', 'Close', 'Volume']\n",
    "# 스케일 후 columns\n",
    "scaled = scaler.fit_transform(stock[scale_cols])\n",
    "scaled"
   ]
  },
  {
   "cell_type": "markdown",
   "metadata": {
    "id": "sQQhs9BoBudx"
   },
   "source": [
    "스케일이 완료된 column으로 새로운 데이터프레임을 생성합니다.\n",
    "\n",
    "**시간 순으로 정렬**되어 있으며, datetime index는 제외했습니다.\n",
    "\n",
    "*6,000개의 row, 5개 column*으로 이루어진 데이터셋이 DataFrame으로 정리되었습니다."
   ]
  },
  {
   "cell_type": "code",
   "execution_count": 26,
   "metadata": {
    "id": "dIJjE21B0l5m"
   },
   "outputs": [],
   "source": [
    "# 아래 코드는 그대로 실행해주세요.\n",
    "df = pd.DataFrame(scaled, columns=scale_cols)"
   ]
  },
  {
   "cell_type": "markdown",
   "metadata": {
    "id": "o91qHBM9Budy"
   },
   "source": [
    "### 문제 16. 모델 학습을 위해 train 데이터와 test 데이터로 분할해주세요."
   ]
  },
  {
   "cell_type": "code",
   "execution_count": 27,
   "metadata": {
    "id": "EfLaczmvBudy"
   },
   "outputs": [],
   "source": [
    "from sklearn.model_selection import train_test_split"
   ]
  },
  {
   "cell_type": "code",
   "execution_count": 28,
   "metadata": {
    "id": "lWJLgnIZBudy"
   },
   "outputs": [],
   "source": [
    "# Close 컬럼이 예측할 데이터입니다.\n",
    "# test_size는 0.2, random_state는 0으로 지정해주세요.\n",
    "# shuffle을 수행하지 않습니다.\n",
    "x_train, x_test, y_train, y_test = train_test_split(df.drop('Close', 1), df['Close'], test_size=0.2, random_state=0, shuffle=False)"
   ]
  },
  {
   "cell_type": "markdown",
   "metadata": {
    "id": "WIZKmyXKJXGI"
   },
   "source": [
    "### 문제 17. train 데이터와 test 데이터의 shape을 각각 살펴봅니다."
   ]
  },
  {
   "cell_type": "code",
   "execution_count": 29,
   "metadata": {
    "colab": {
     "base_uri": "https://localhost:8080/"
    },
    "id": "DB9gnTXzBudz",
    "outputId": "ae6c16bd-6ab0-4145-8f64-67d3b181a076"
   },
   "outputs": [
    {
     "data": {
      "text/plain": [
       "((4800, 4), (4800,))"
      ]
     },
     "execution_count": 29,
     "metadata": {},
     "output_type": "execute_result"
    }
   ],
   "source": [
    "x_train.shape, y_train.shape"
   ]
  },
  {
   "cell_type": "code",
   "execution_count": 30,
   "metadata": {
    "colab": {
     "base_uri": "https://localhost:8080/"
    },
    "id": "lNLz-MYcBudz",
    "outputId": "6e6c5377-309d-46bf-c602-f49801e838df"
   },
   "outputs": [
    {
     "data": {
      "text/plain": [
       "((1200, 4), (1200,))"
      ]
     },
     "execution_count": 30,
     "metadata": {},
     "output_type": "execute_result"
    }
   ],
   "source": [
    "x_test.shape, y_test.shape"
   ]
  },
  {
   "cell_type": "code",
   "execution_count": 31,
   "metadata": {
    "colab": {
     "base_uri": "https://localhost:8080/",
     "height": 419
    },
    "id": "8DK9YaozBudz",
    "outputId": "0ff6aec7-47b6-4e66-aab7-e33f282d8dde"
   },
   "outputs": [
    {
     "data": {
      "text/html": [
       "<div>\n",
       "<style scoped>\n",
       "    .dataframe tbody tr th:only-of-type {\n",
       "        vertical-align: middle;\n",
       "    }\n",
       "\n",
       "    .dataframe tbody tr th {\n",
       "        vertical-align: top;\n",
       "    }\n",
       "\n",
       "    .dataframe thead th {\n",
       "        text-align: right;\n",
       "    }\n",
       "</style>\n",
       "<table border=\"1\" class=\"dataframe\">\n",
       "  <thead>\n",
       "    <tr style=\"text-align: right;\">\n",
       "      <th></th>\n",
       "      <th>Open</th>\n",
       "      <th>High</th>\n",
       "      <th>Low</th>\n",
       "      <th>Volume</th>\n",
       "    </tr>\n",
       "  </thead>\n",
       "  <tbody>\n",
       "    <tr>\n",
       "      <th>0</th>\n",
       "      <td>0.013942</td>\n",
       "      <td>0.013326</td>\n",
       "      <td>0.014011</td>\n",
       "      <td>0.001110</td>\n",
       "    </tr>\n",
       "    <tr>\n",
       "      <th>1</th>\n",
       "      <td>0.013942</td>\n",
       "      <td>0.013285</td>\n",
       "      <td>0.014067</td>\n",
       "      <td>0.001859</td>\n",
       "    </tr>\n",
       "    <tr>\n",
       "      <th>2</th>\n",
       "      <td>0.014142</td>\n",
       "      <td>0.013564</td>\n",
       "      <td>0.014268</td>\n",
       "      <td>0.001882</td>\n",
       "    </tr>\n",
       "    <tr>\n",
       "      <th>3</th>\n",
       "      <td>0.014341</td>\n",
       "      <td>0.013471</td>\n",
       "      <td>0.014335</td>\n",
       "      <td>0.001201</td>\n",
       "    </tr>\n",
       "    <tr>\n",
       "      <th>4</th>\n",
       "      <td>0.014341</td>\n",
       "      <td>0.013471</td>\n",
       "      <td>0.014369</td>\n",
       "      <td>0.001127</td>\n",
       "    </tr>\n",
       "    <tr>\n",
       "      <th>...</th>\n",
       "      <td>...</td>\n",
       "      <td>...</td>\n",
       "      <td>...</td>\n",
       "      <td>...</td>\n",
       "    </tr>\n",
       "    <tr>\n",
       "      <th>4795</th>\n",
       "      <td>0.347065</td>\n",
       "      <td>0.324380</td>\n",
       "      <td>0.342793</td>\n",
       "      <td>0.002733</td>\n",
       "    </tr>\n",
       "    <tr>\n",
       "      <th>4796</th>\n",
       "      <td>0.341307</td>\n",
       "      <td>0.322107</td>\n",
       "      <td>0.341006</td>\n",
       "      <td>0.002333</td>\n",
       "    </tr>\n",
       "    <tr>\n",
       "      <th>4797</th>\n",
       "      <td>0.345293</td>\n",
       "      <td>0.324380</td>\n",
       "      <td>0.345028</td>\n",
       "      <td>0.002320</td>\n",
       "    </tr>\n",
       "    <tr>\n",
       "      <th>4798</th>\n",
       "      <td>0.342193</td>\n",
       "      <td>0.325620</td>\n",
       "      <td>0.345251</td>\n",
       "      <td>0.002401</td>\n",
       "    </tr>\n",
       "    <tr>\n",
       "      <th>4799</th>\n",
       "      <td>0.347508</td>\n",
       "      <td>0.324370</td>\n",
       "      <td>0.346592</td>\n",
       "      <td>0.001649</td>\n",
       "    </tr>\n",
       "  </tbody>\n",
       "</table>\n",
       "<p>4800 rows × 4 columns</p>\n",
       "</div>"
      ],
      "text/plain": [
       "          Open      High       Low    Volume\n",
       "0     0.013942  0.013326  0.014011  0.001110\n",
       "1     0.013942  0.013285  0.014067  0.001859\n",
       "2     0.014142  0.013564  0.014268  0.001882\n",
       "3     0.014341  0.013471  0.014335  0.001201\n",
       "4     0.014341  0.013471  0.014369  0.001127\n",
       "...        ...       ...       ...       ...\n",
       "4795  0.347065  0.324380  0.342793  0.002733\n",
       "4796  0.341307  0.322107  0.341006  0.002333\n",
       "4797  0.345293  0.324380  0.345028  0.002320\n",
       "4798  0.342193  0.325620  0.345251  0.002401\n",
       "4799  0.347508  0.324370  0.346592  0.001649\n",
       "\n",
       "[4800 rows x 4 columns]"
      ]
     },
     "execution_count": 31,
     "metadata": {},
     "output_type": "execute_result"
    }
   ],
   "source": [
    "x_train"
   ]
  },
  {
   "cell_type": "markdown",
   "metadata": {
    "id": "qr3eGxuxBud0"
   },
   "source": [
    "### 문제 18. TensroFlow Dataset을 활용해 시퀀스 데이터셋을 함수로 구현해주세요"
   ]
  },
  {
   "cell_type": "code",
   "execution_count": 32,
   "metadata": {
    "id": "wOTgC-y2Bud0"
   },
   "outputs": [],
   "source": [
    "import tensorflow as tf"
   ]
  },
  {
   "cell_type": "code",
   "execution_count": 33,
   "metadata": {
    "id": "yOlPdfrsBud0"
   },
   "outputs": [],
   "source": [
    "def windowed_dataset(series, window_size, batch_size, shuffle):\n",
    "    series = tf.expand_dims(series, axis=-1)\n",
    "    ds = tf.data.Dataset.from_tensor_slices(series)\n",
    "    ds = ds.window(window_size + 1, shift=1, drop_remainder=True)\n",
    "    ds = ds.flat_map(lambda w: w.batch(window_size + 1))\n",
    "    if shuffle:\n",
    "        ds = ds.shuffle(1000)\n",
    "    ds = ds.map(lambda w: (w[:-1], w[-1]))\n",
    "    return ds.batch(batch_size).prefetch(1)"
   ]
  },
  {
   "cell_type": "markdown",
   "metadata": {
    "id": "4UT0af9ANPTF"
   },
   "source": [
    "## Step 4. 모델 구현하기"
   ]
  },
  {
   "cell_type": "markdown",
   "metadata": {
    "id": "ht3fvb2kBud0"
   },
   "source": [
    "### 문제 19. Hyperparameter를 정의하고 데이터에 적용해주세요."
   ]
  },
  {
   "cell_type": "code",
   "execution_count": 38,
   "metadata": {
    "id": "C894WM_pBud1"
   },
   "outputs": [],
   "source": [
    "# 아래 코드는 그대로 실행해주세요.\n",
    "WINDOW_SIZE=20\n",
    "BATCH_SIZE=32"
   ]
  },
  {
   "cell_type": "code",
   "execution_count": 39,
   "metadata": {
    "id": "81VrjjujBud1"
   },
   "outputs": [],
   "source": [
    "# trian_data는 학습용 데이터셋, test_data는 검증용 데이터셋 입니다.\n",
    "# WINDOW_SIZE와 BATCH_SIZE를 각 데이터셋에 적용해주세요.\n",
    "train_data = windowed_dataset(y_train, WINDOW_SIZE, BATCH_SIZE, True)\n",
    "test_data = windowed_dataset(y_test, WINDOW_SIZE, BATCH_SIZE, False)"
   ]
  },
  {
   "cell_type": "code",
   "execution_count": 40,
   "metadata": {
    "colab": {
     "base_uri": "https://localhost:8080/"
    },
    "id": "aYPa6fkNBud1",
    "outputId": "00d54f4a-8924-4faa-b157-0996c0e070f2"
   },
   "outputs": [
    {
     "name": "stdout",
     "output_type": "stream",
     "text": [
      "데이터셋(X) 구성(batch_size, window_size, feature갯수): (32, 20, 1)\n",
      "데이터셋(Y) 구성(batch_size, window_size, feature갯수): (32, 1)\n"
     ]
    }
   ],
   "source": [
    "# 아래의 코드로 데이터셋의 구성을 확인해 볼 수 있습니다. 그대로 실행해보고, 데이터의 shape을 살펴보세요.\n",
    "# X: (batch_size, window_size, feature)\n",
    "# Y: (batch_size, feature)\n",
    "for data in train_data.take(1):\n",
    "    print(f'데이터셋(X) 구성(batch_size, window_size, feature갯수): {data[0].shape}')\n",
    "    print(f'데이터셋(Y) 구성(batch_size, window_size, feature갯수): {data[1].shape}')"
   ]
  },
  {
   "cell_type": "markdown",
   "metadata": {
    "id": "rSmSQt-wBud1"
   },
   "source": [
    "### 문제 20. Sequential 모델을 구현합니다. "
   ]
  },
  {
   "cell_type": "code",
   "execution_count": 41,
   "metadata": {
    "colab": {
     "base_uri": "https://localhost:8080/"
    },
    "id": "mAkmGu1j0l8M",
    "outputId": "4e26bae4-3694-4b8a-c820-0b79fd964ff7"
   },
   "outputs": [
    {
     "name": "stdout",
     "output_type": "stream",
     "text": [
      "WARNING:tensorflow:Layer lstm_1 will not use cuDNN kernels since it doesn't meet the criteria. It will use a generic GPU kernel as fallback when running on GPU.\n"
     ]
    }
   ],
   "source": [
    "from tensorflow.keras.models import Sequential\n",
    "from tensorflow.keras.layers import Dense, LSTM, Conv1D, Lambda\n",
    "from tensorflow.keras.losses import Huber\n",
    "from tensorflow.keras.optimizers import Adam\n",
    "from tensorflow.keras.callbacks import EarlyStopping, ModelCheckpoint\n",
    "\n",
    "\n",
    "model = Sequential([\n",
    "    # 1차원 feature map 생성합니다. filters는 32로, kernel_size는 5로 지정해주세요.\n",
    "    Conv1D(filters=32, kernel_size=5,\n",
    "           padding=\"causal\",\n",
    "           activation=\"relu\",\n",
    "           input_shape=[WINDOW_SIZE, 1]),\n",
    "    # LSTM과 Dense 레이러를 사용해주세요. 활성함수는 각각 tanh와 relu로 지정합니다.\n",
    "    LSTM(16, activation='relu'),\n",
    "    Dense(16, activation=\"relu\"),\n",
    "    Dense(1),\n",
    "])"
   ]
  },
  {
   "cell_type": "markdown",
   "metadata": {
    "id": "52H4IgnELRRt"
   },
   "source": [
    "### 문제 21. 모델을 Compile합니다. loss는 Huber 함수를 사용하고 optimizer는 Adam을 사용해주세요."
   ]
  },
  {
   "cell_type": "code",
   "execution_count": 42,
   "metadata": {
    "id": "xShll_EX0l8T"
   },
   "outputs": [],
   "source": [
    "# Sequence 학습에 비교적 좋은 퍼포먼스를 내는 Huber()를 사용합니다.\n",
    "loss = Huber()\n",
    "optimizer = Adam(0.0005)\n",
    "model.compile(loss=Huber(), optimizer=optimizer, metrics=['mse'])"
   ]
  },
  {
   "cell_type": "code",
   "execution_count": 43,
   "metadata": {
    "id": "whZcvxsKBud2"
   },
   "outputs": [],
   "source": [
    "# earlystopping은 10번 epoch통안 val_loss 개선이 없다면 학습을 멈춥니다.\n",
    "earlystopping = EarlyStopping(monitor='val_loss', patience=10)\n",
    "# val_loss 기준 체크포인터도 생성합니다.\n",
    "filename = os.path.join('tmp', 'ckeckpointer.ckpt')\n",
    "checkpoint = ModelCheckpoint(filename, \n",
    "                             save_weights_only=True, \n",
    "                             save_best_only=True, \n",
    "                             monitor='val_loss', \n",
    "                             verbose=1)"
   ]
  },
  {
   "cell_type": "code",
   "execution_count": 44,
   "metadata": {
    "colab": {
     "base_uri": "https://localhost:8080/"
    },
    "id": "y9OuVTeBBud2",
    "outputId": "52b0c090-9755-447e-a2f2-dbccdf33e004"
   },
   "outputs": [
    {
     "name": "stdout",
     "output_type": "stream",
     "text": [
      "Epoch 1/50\n",
      "150/150 [==============================] - 18s 72ms/step - loss: 5.5699e-05 - mse: 1.1140e-04 - val_loss: 0.0026 - val_mse: 0.0051\n",
      "\n",
      "Epoch 00001: val_loss improved from inf to 0.00257, saving model to tmp\\ckeckpointer.ckpt\n",
      "Epoch 2/50\n",
      "150/150 [==============================] - 11s 71ms/step - loss: 2.1201e-05 - mse: 4.2401e-05 - val_loss: 0.0020 - val_mse: 0.0040\n",
      "\n",
      "Epoch 00002: val_loss improved from 0.00257 to 0.00201, saving model to tmp\\ckeckpointer.ckpt\n",
      "Epoch 3/50\n",
      "150/150 [==============================] - 11s 71ms/step - loss: 1.9187e-05 - mse: 3.8374e-05 - val_loss: 0.0010 - val_mse: 0.0020\n",
      "\n",
      "Epoch 00003: val_loss improved from 0.00201 to 0.00102, saving model to tmp\\ckeckpointer.ckpt\n",
      "Epoch 4/50\n",
      "150/150 [==============================] - 11s 72ms/step - loss: 1.8071e-05 - mse: 3.6141e-05 - val_loss: 5.9818e-04 - val_mse: 0.0012\n",
      "\n",
      "Epoch 00004: val_loss improved from 0.00102 to 0.00060, saving model to tmp\\ckeckpointer.ckpt\n",
      "Epoch 5/50\n",
      "150/150 [==============================] - 11s 70ms/step - loss: 1.7804e-05 - mse: 3.5608e-05 - val_loss: 3.3758e-04 - val_mse: 6.7516e-04\n",
      "\n",
      "Epoch 00005: val_loss improved from 0.00060 to 0.00034, saving model to tmp\\ckeckpointer.ckpt\n",
      "Epoch 6/50\n",
      "150/150 [==============================] - 10s 70ms/step - loss: 1.6932e-05 - mse: 3.3864e-05 - val_loss: 2.4398e-04 - val_mse: 4.8797e-04\n",
      "\n",
      "Epoch 00006: val_loss improved from 0.00034 to 0.00024, saving model to tmp\\ckeckpointer.ckpt\n",
      "Epoch 7/50\n",
      "150/150 [==============================] - 10s 69ms/step - loss: 1.5995e-05 - mse: 3.1991e-05 - val_loss: 2.1080e-04 - val_mse: 4.2160e-04\n",
      "\n",
      "Epoch 00007: val_loss improved from 0.00024 to 0.00021, saving model to tmp\\ckeckpointer.ckpt\n",
      "Epoch 8/50\n",
      "150/150 [==============================] - 10s 68ms/step - loss: 1.5645e-05 - mse: 3.1290e-05 - val_loss: 1.8856e-04 - val_mse: 3.7713e-04\n",
      "\n",
      "Epoch 00008: val_loss improved from 0.00021 to 0.00019, saving model to tmp\\ckeckpointer.ckpt\n",
      "Epoch 9/50\n",
      "150/150 [==============================] - 11s 70ms/step - loss: 1.5937e-05 - mse: 3.1873e-05 - val_loss: 2.3195e-04 - val_mse: 4.6390e-04\n",
      "\n",
      "Epoch 00009: val_loss did not improve from 0.00019\n",
      "Epoch 10/50\n",
      "150/150 [==============================] - 11s 70ms/step - loss: 1.4248e-05 - mse: 2.8496e-05 - val_loss: 2.7280e-04 - val_mse: 5.4560e-04\n",
      "\n",
      "Epoch 00010: val_loss did not improve from 0.00019\n",
      "Epoch 11/50\n",
      "150/150 [==============================] - 10s 67ms/step - loss: 1.3049e-05 - mse: 2.6099e-05 - val_loss: 4.1815e-04 - val_mse: 8.3630e-04\n",
      "\n",
      "Epoch 00011: val_loss did not improve from 0.00019\n",
      "Epoch 12/50\n",
      "150/150 [==============================] - 10s 66ms/step - loss: 1.3191e-05 - mse: 2.6382e-05 - val_loss: 0.0010 - val_mse: 0.0020\n",
      "\n",
      "Epoch 00012: val_loss did not improve from 0.00019\n",
      "Epoch 13/50\n",
      "150/150 [==============================] - 10s 67ms/step - loss: 1.2757e-05 - mse: 2.5513e-05 - val_loss: 6.6904e-04 - val_mse: 0.0013\n",
      "\n",
      "Epoch 00013: val_loss did not improve from 0.00019\n",
      "Epoch 14/50\n",
      "150/150 [==============================] - 10s 66ms/step - loss: 1.1958e-05 - mse: 2.3915e-05 - val_loss: 6.3400e-04 - val_mse: 0.0013\n",
      "\n",
      "Epoch 00014: val_loss did not improve from 0.00019\n",
      "Epoch 15/50\n",
      "150/150 [==============================] - 9s 62ms/step - loss: 1.2742e-05 - mse: 2.5485e-05 - val_loss: 8.0982e-04 - val_mse: 0.0016\n",
      "\n",
      "Epoch 00015: val_loss did not improve from 0.00019\n",
      "Epoch 16/50\n",
      "150/150 [==============================] - 10s 65ms/step - loss: 1.1428e-05 - mse: 2.2855e-05 - val_loss: 7.4843e-04 - val_mse: 0.0015\n",
      "\n",
      "Epoch 00016: val_loss did not improve from 0.00019\n",
      "Epoch 17/50\n",
      "150/150 [==============================] - 10s 65ms/step - loss: 1.1204e-05 - mse: 2.2408e-05 - val_loss: 8.7656e-04 - val_mse: 0.0018\n",
      "\n",
      "Epoch 00017: val_loss did not improve from 0.00019\n",
      "Epoch 18/50\n",
      "150/150 [==============================] - 10s 64ms/step - loss: 1.0960e-05 - mse: 2.1921e-05 - val_loss: 9.1996e-04 - val_mse: 0.0018\n",
      "\n",
      "Epoch 00018: val_loss did not improve from 0.00019\n"
     ]
    }
   ],
   "source": [
    "# callbacks로 앞에서 구현한 earlystopping과 checkpoint를 지정해주세요.\n",
    "history = model.fit(train_data, \n",
    "                    validation_data=(test_data), \n",
    "                    epochs=50, \n",
    "                    callbacks=[checkpoint, earlystopping])"
   ]
  },
  {
   "cell_type": "markdown",
   "metadata": {
    "id": "L0LQMnc-NZXo"
   },
   "source": [
    "## Step 5. 모델을 활용한 예측 및 결과 시각화"
   ]
  },
  {
   "cell_type": "markdown",
   "metadata": {
    "id": "qDTIxmbVBud3"
   },
   "source": [
    "### 문제 24. 저장한 ModelCheckpoint 를 불러옵니다."
   ]
  },
  {
   "cell_type": "code",
   "execution_count": 45,
   "metadata": {
    "colab": {
     "base_uri": "https://localhost:8080/"
    },
    "id": "RoPIDRSo32f-",
    "outputId": "c29b59c3-75eb-47e0-a8fe-41ea17f0c623"
   },
   "outputs": [
    {
     "data": {
      "text/plain": [
       "<tensorflow.python.training.tracking.util.CheckpointLoadStatus at 0x21251121f10>"
      ]
     },
     "execution_count": 45,
     "metadata": {},
     "output_type": "execute_result"
    }
   ],
   "source": [
    "model.load_weights(filename)"
   ]
  },
  {
   "cell_type": "markdown",
   "metadata": {
    "id": "x0-oum0bBud3"
   },
   "source": [
    "### 문제 25. `test_data`를 활용하여 예측을 수행합니다."
   ]
  },
  {
   "cell_type": "code",
   "execution_count": 46,
   "metadata": {
    "id": "WxAxSLNL0l8Z"
   },
   "outputs": [],
   "source": [
    "pred = model.predict(test_data)"
   ]
  },
  {
   "cell_type": "code",
   "execution_count": 47,
   "metadata": {
    "colab": {
     "base_uri": "https://localhost:8080/"
    },
    "id": "yMPXjSQ10l8d",
    "outputId": "968ccb88-0159-4be8-d123-9cbeb7a71bd3"
   },
   "outputs": [
    {
     "data": {
      "text/plain": [
       "(1180, 1)"
      ]
     },
     "execution_count": 47,
     "metadata": {},
     "output_type": "execute_result"
    }
   ],
   "source": [
    "pred.shape"
   ]
  },
  {
   "cell_type": "markdown",
   "metadata": {
    "id": "jaWpXnQf6zMt"
   },
   "source": [
    "### 문제 26. matplotlib을 활용해 예측 데이터를 시각화해주세요."
   ]
  },
  {
   "cell_type": "markdown",
   "metadata": {
    "id": "Vq2_mc7fBud4"
   },
   "source": [
    "아래 시각화 코드중 y_test 데이터에 **[20:]**으로 슬라이싱을 한 이유는\n",
    "\n",
    "예측 데이터에서 20일치의 데이터로 21일치를 예측해야하기 때문에 test_data로 예측 시 *앞의 20일은 예측하지 않습니다.*\n",
    "\n",
    "따라서, 20번 째 index와 비교하면 더욱 정확합니다."
   ]
  },
  {
   "cell_type": "code",
   "execution_count": 48,
   "metadata": {
    "colab": {
     "base_uri": "https://localhost:8080/",
     "height": 537
    },
    "id": "2F4QQ1O_0l8m",
    "outputId": "2af395d8-81dd-4a49-805c-dabbcb9e5ab6"
   },
   "outputs": [
    {
     "data": {
      "image/png": "[encoded data removed]",
      "text/plain": [
       "<Figure size 864x648 with 1 Axes>"
      ]
     },
     "metadata": {
      "needs_background": "light"
     },
     "output_type": "display_data"
    }
   ],
   "source": [
    "# 20일치의 데이터로 21일치를 예측하므로 test_data 사용시 이전 20일은 예측하지 않습니다.\n",
    "# 따라서 y_test 데이터에 [20:]로 슬라이싱해주세요.\n",
    "plt.figure(figsize=(12, 9))\n",
    "plt.plot(np.asarray(y_test)[20:], label='actual')\n",
    "plt.plot(pred, label='prediction')\n",
    "plt.legend()\n",
    "plt.show()"
   ]
  },
  {
   "cell_type": "code",
   "execution_count": null,
   "metadata": {},
   "outputs": [],
   "source": []
  }
 ],
 "metadata": {
  "accelerator": "GPU",
  "colab": {
   "collapsed_sections": [],
   "name": "[해설] LSTM을 활용해 주가 예측 모델 구현하기",
   "provenance": []
  },
  "kernelspec": {
   "display_name": "Python 3",
   "language": "python",
   "name": "python3"
  },
  "language_info": {
   "codemirror_mode": {
    "name": "ipython",
    "version": 3
   },
   "file_extension": ".py",
   "mimetype": "text/x-python",
   "name": "python",
   "nbconvert_exporter": "python",
   "pygments_lexer": "ipython3",
   "version": "3.9.5"
  }
 },
 "nbformat": 4,
 "nbformat_minor": 1
}
