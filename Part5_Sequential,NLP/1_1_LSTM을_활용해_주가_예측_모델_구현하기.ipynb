{
 "cells": [
  {
   "cell_type": "markdown",
   "metadata": {
    "id": "OF9lUuqwBudU"
   },
   "source": [
    "# 주제 : LSTM을 활용해 주가 예측 모델 구현하기"
   ]
  },
  {
   "cell_type": "markdown",
   "metadata": {
    "id": "G-rOVLn7Budf"
   },
   "source": [
    "이번 튜토리얼 에서는 다음과 같은 **프로세스 파이프라인**으로 주가 예측을 진행합니다.\n",
    "\n",
    "- FinanceDataReader를 활용하여 주가 데이터 받아오기\n",
    "- TensorFlow Dataset 클래스를 활용하여 주가 데이터 구축\n",
    "- LSTM 을 활용한 주가 예측 모델 구축"
   ]
  },
  {
   "cell_type": "markdown",
   "metadata": {
    "id": "UshzfuK6CJX4"
   },
   "source": [
    "## Step 1. 데이터 불러오기 및 EDA"
   ]
  },
  {
   "cell_type": "markdown",
   "metadata": {
    "id": "EZFBO9GwBudh"
   },
   "source": [
    "### 문제 01. 필요한 모듈 import"
   ]
  },
  {
   "cell_type": "code",
   "execution_count": 1,
   "metadata": {
    "id": "pYEgcrR1Budi"
   },
   "outputs": [],
   "source": [
    "import pandas as pd\n",
    "import numpy as np\n",
    "import matplotlib.pyplot as plt\n",
    "import seaborn as sns\n",
    "import warnings\n",
    "import os\n",
    "\n",
    "%matplotlib inline\n",
    "warnings.filterwarnings('ignore')\n",
    "\n",
    "plt.rcParams['font.family'] = 'NanumGothic'"
   ]
  },
  {
   "cell_type": "markdown",
   "metadata": {
    "id": "5N-NMRFVBudi"
   },
   "source": [
    "### 문제 02. FinanceDataReader import"
   ]
  },
  {
   "cell_type": "markdown",
   "metadata": {
    "id": "a7FGN9gGBudj"
   },
   "source": [
    "**FinanceDataReader**는 주가 데이터를 편리하게 가져올 수 있는 파이썬 패키지입니다.\n",
    "\n",
    "- [GitHub Repo](https://github.com/FinanceData/FinanceDataReader)"
   ]
  },
  {
   "cell_type": "markdown",
   "metadata": {
    "id": "o6_RB59yBudj"
   },
   "source": [
    "**FinanceDataReader**가 아직 설치 되지 않으신 분들은 아래의 주석을 해제한 후 명령어로 설치해 주시기 바랍니다."
   ]
  },
  {
   "cell_type": "code",
   "execution_count": 2,
   "metadata": {
    "id": "99EggRzTBudk"
   },
   "outputs": [],
   "source": [
    "# !pip install finance-datareader"
   ]
  },
  {
   "cell_type": "code",
   "execution_count": 3,
   "metadata": {
    "id": "4vkRR9dQBudk"
   },
   "outputs": [],
   "source": [
    "import FinanceDataReader as fdr"
   ]
  },
  {
   "cell_type": "markdown",
   "metadata": {
    "id": "x4C9neevEYYr"
   },
   "source": [
    "### 문제 03. 삼성전자 데이터 불러오기"
   ]
  },
  {
   "cell_type": "code",
   "execution_count": 4,
   "metadata": {
    "id": "9IqphMM7Budl"
   },
   "outputs": [],
   "source": [
    "# fdr 라이브러리를 활용해 삼성전자 주가 데이터를 불러오세요.\n",
    "# 대상 : 삼성전자(005930) 전체 (1996-11-05 ~ 현재)\n",
    "samsung = fdr.DataReader('005930')"
   ]
  },
  {
   "cell_type": "code",
   "execution_count": 5,
   "metadata": {},
   "outputs": [
    {
     "data": {
      "text/html": [
       "<div>\n",
       "<style scoped>\n",
       "    .dataframe tbody tr th:only-of-type {\n",
       "        vertical-align: middle;\n",
       "    }\n",
       "\n",
       "    .dataframe tbody tr th {\n",
       "        vertical-align: top;\n",
       "    }\n",
       "\n",
       "    .dataframe thead th {\n",
       "        text-align: right;\n",
       "    }\n",
       "</style>\n",
       "<table border=\"1\" class=\"dataframe\">\n",
       "  <thead>\n",
       "    <tr style=\"text-align: right;\">\n",
       "      <th></th>\n",
       "      <th>Open</th>\n",
       "      <th>High</th>\n",
       "      <th>Low</th>\n",
       "      <th>Close</th>\n",
       "      <th>Volume</th>\n",
       "      <th>Change</th>\n",
       "    </tr>\n",
       "    <tr>\n",
       "      <th>Date</th>\n",
       "      <th></th>\n",
       "      <th></th>\n",
       "      <th></th>\n",
       "      <th></th>\n",
       "      <th></th>\n",
       "      <th></th>\n",
       "    </tr>\n",
       "  </thead>\n",
       "  <tbody>\n",
       "    <tr>\n",
       "      <th>1997-06-27</th>\n",
       "      <td>1256</td>\n",
       "      <td>1265</td>\n",
       "      <td>1152</td>\n",
       "      <td>1224</td>\n",
       "      <td>99340</td>\n",
       "      <td>NaN</td>\n",
       "    </tr>\n",
       "    <tr>\n",
       "      <th>1997-06-28</th>\n",
       "      <td>1227</td>\n",
       "      <td>1250</td>\n",
       "      <td>1224</td>\n",
       "      <td>1251</td>\n",
       "      <td>36660</td>\n",
       "      <td>0.022059</td>\n",
       "    </tr>\n",
       "    <tr>\n",
       "      <th>1997-06-30</th>\n",
       "      <td>1259</td>\n",
       "      <td>1290</td>\n",
       "      <td>1254</td>\n",
       "      <td>1260</td>\n",
       "      <td>100240</td>\n",
       "      <td>0.007194</td>\n",
       "    </tr>\n",
       "    <tr>\n",
       "      <th>1997-07-01</th>\n",
       "      <td>1259</td>\n",
       "      <td>1286</td>\n",
       "      <td>1259</td>\n",
       "      <td>1269</td>\n",
       "      <td>167900</td>\n",
       "      <td>0.007143</td>\n",
       "    </tr>\n",
       "    <tr>\n",
       "      <th>1997-07-02</th>\n",
       "      <td>1277</td>\n",
       "      <td>1313</td>\n",
       "      <td>1277</td>\n",
       "      <td>1296</td>\n",
       "      <td>169940</td>\n",
       "      <td>0.021277</td>\n",
       "    </tr>\n",
       "  </tbody>\n",
       "</table>\n",
       "</div>"
      ],
      "text/plain": [
       "            Open  High   Low  Close  Volume    Change\n",
       "Date                                                 \n",
       "1997-06-27  1256  1265  1152   1224   99340       NaN\n",
       "1997-06-28  1227  1250  1224   1251   36660  0.022059\n",
       "1997-06-30  1259  1290  1254   1260  100240  0.007194\n",
       "1997-07-01  1259  1286  1259   1269  167900  0.007143\n",
       "1997-07-02  1277  1313  1277   1296  169940  0.021277"
      ]
     },
     "execution_count": 5,
     "metadata": {},
     "output_type": "execute_result"
    }
   ],
   "source": [
    "samsung.head()"
   ]
  },
  {
   "cell_type": "markdown",
   "metadata": {
    "id": "T-WOxATwBudl"
   },
   "source": [
    "매우 편리하게 삼성전자 주가 데이터를 `DataFrame`형식으로 받아옵니다.\n",
    "\n",
    "기본 **오름차순 정렬**이 된 데이터임을 알 수 있습니다.\n",
    "\n",
    "### 컬럼 설명\n",
    "\n",
    "- `Open`:   시가\n",
    "- `High`:   고가\n",
    "- `Low`:    저가\n",
    "- `Close`:  종가\n",
    "- `Volume`: 거래량\n",
    "- `Change`: 대비"
   ]
  },
  {
   "cell_type": "markdown",
   "metadata": {
    "id": "K9w60KnkEeqW"
   },
   "source": [
    "### 문제 04. 삼성전자 데이터 EDA"
   ]
  },
  {
   "cell_type": "code",
   "execution_count": 6,
   "metadata": {
    "id": "WfLJ5zHXBudl"
   },
   "outputs": [
    {
     "data": {
      "text/html": [
       "<div>\n",
       "<style scoped>\n",
       "    .dataframe tbody tr th:only-of-type {\n",
       "        vertical-align: middle;\n",
       "    }\n",
       "\n",
       "    .dataframe tbody tr th {\n",
       "        vertical-align: top;\n",
       "    }\n",
       "\n",
       "    .dataframe thead th {\n",
       "        text-align: right;\n",
       "    }\n",
       "</style>\n",
       "<table border=\"1\" class=\"dataframe\">\n",
       "  <thead>\n",
       "    <tr style=\"text-align: right;\">\n",
       "      <th></th>\n",
       "      <th>Open</th>\n",
       "      <th>High</th>\n",
       "      <th>Low</th>\n",
       "      <th>Close</th>\n",
       "      <th>Volume</th>\n",
       "      <th>Change</th>\n",
       "    </tr>\n",
       "    <tr>\n",
       "      <th>Date</th>\n",
       "      <th></th>\n",
       "      <th></th>\n",
       "      <th></th>\n",
       "      <th></th>\n",
       "      <th></th>\n",
       "      <th></th>\n",
       "    </tr>\n",
       "  </thead>\n",
       "  <tbody>\n",
       "    <tr>\n",
       "      <th>2021-06-28</th>\n",
       "      <td>81700</td>\n",
       "      <td>82000</td>\n",
       "      <td>81600</td>\n",
       "      <td>81900</td>\n",
       "      <td>11578529</td>\n",
       "      <td>0.003676</td>\n",
       "    </tr>\n",
       "    <tr>\n",
       "      <th>2021-06-29</th>\n",
       "      <td>81900</td>\n",
       "      <td>82100</td>\n",
       "      <td>80800</td>\n",
       "      <td>81000</td>\n",
       "      <td>15744317</td>\n",
       "      <td>-0.010989</td>\n",
       "    </tr>\n",
       "    <tr>\n",
       "      <th>2021-06-30</th>\n",
       "      <td>81100</td>\n",
       "      <td>81400</td>\n",
       "      <td>80700</td>\n",
       "      <td>80700</td>\n",
       "      <td>13288643</td>\n",
       "      <td>-0.003704</td>\n",
       "    </tr>\n",
       "    <tr>\n",
       "      <th>2021-07-01</th>\n",
       "      <td>80500</td>\n",
       "      <td>80600</td>\n",
       "      <td>80000</td>\n",
       "      <td>80100</td>\n",
       "      <td>13382882</td>\n",
       "      <td>-0.007435</td>\n",
       "    </tr>\n",
       "    <tr>\n",
       "      <th>2021-07-02</th>\n",
       "      <td>80000</td>\n",
       "      <td>80400</td>\n",
       "      <td>79900</td>\n",
       "      <td>80000</td>\n",
       "      <td>8181692</td>\n",
       "      <td>-0.001248</td>\n",
       "    </tr>\n",
       "  </tbody>\n",
       "</table>\n",
       "</div>"
      ],
      "text/plain": [
       "             Open   High    Low  Close    Volume    Change\n",
       "Date                                                      \n",
       "2021-06-28  81700  82000  81600  81900  11578529  0.003676\n",
       "2021-06-29  81900  82100  80800  81000  15744317 -0.010989\n",
       "2021-06-30  81100  81400  80700  80700  13288643 -0.003704\n",
       "2021-07-01  80500  80600  80000  80100  13382882 -0.007435\n",
       "2021-07-02  80000  80400  79900  80000   8181692 -0.001248"
      ]
     },
     "execution_count": 6,
     "metadata": {},
     "output_type": "execute_result"
    }
   ],
   "source": [
    "samsung.tail()"
   ]
  },
  {
   "cell_type": "code",
   "execution_count": 7,
   "metadata": {},
   "outputs": [
    {
     "name": "stdout",
     "output_type": "stream",
     "text": [
      "<class 'pandas.core.frame.DataFrame'>\n",
      "DatetimeIndex: 6000 entries, 1997-06-27 to 2021-07-02\n",
      "Data columns (total 6 columns):\n",
      " #   Column  Non-Null Count  Dtype  \n",
      "---  ------  --------------  -----  \n",
      " 0   Open    6000 non-null   int64  \n",
      " 1   High    6000 non-null   int64  \n",
      " 2   Low     6000 non-null   int64  \n",
      " 3   Close   6000 non-null   int64  \n",
      " 4   Volume  6000 non-null   int64  \n",
      " 5   Change  5999 non-null   float64\n",
      "dtypes: float64(1), int64(5)\n",
      "memory usage: 328.1 KB\n"
     ]
    }
   ],
   "source": [
    "samsung.info()"
   ]
  },
  {
   "cell_type": "code",
   "execution_count": 8,
   "metadata": {},
   "outputs": [
    {
     "data": {
      "text/html": [
       "<div>\n",
       "<style scoped>\n",
       "    .dataframe tbody tr th:only-of-type {\n",
       "        vertical-align: middle;\n",
       "    }\n",
       "\n",
       "    .dataframe tbody tr th {\n",
       "        vertical-align: top;\n",
       "    }\n",
       "\n",
       "    .dataframe thead th {\n",
       "        text-align: right;\n",
       "    }\n",
       "</style>\n",
       "<table border=\"1\" class=\"dataframe\">\n",
       "  <thead>\n",
       "    <tr style=\"text-align: right;\">\n",
       "      <th></th>\n",
       "      <th>Open</th>\n",
       "      <th>High</th>\n",
       "      <th>Low</th>\n",
       "      <th>Close</th>\n",
       "      <th>Volume</th>\n",
       "      <th>Change</th>\n",
       "    </tr>\n",
       "  </thead>\n",
       "  <tbody>\n",
       "    <tr>\n",
       "      <th>count</th>\n",
       "      <td>6000.000000</td>\n",
       "      <td>6000.000000</td>\n",
       "      <td>6000.000000</td>\n",
       "      <td>6000.000000</td>\n",
       "      <td>6.000000e+03</td>\n",
       "      <td>5999.000000</td>\n",
       "    </tr>\n",
       "    <tr>\n",
       "      <th>mean</th>\n",
       "      <td>20730.173167</td>\n",
       "      <td>20954.542500</td>\n",
       "      <td>20505.031667</td>\n",
       "      <td>20755.953833</td>\n",
       "      <td>2.544814e+06</td>\n",
       "      <td>0.001027</td>\n",
       "    </tr>\n",
       "    <tr>\n",
       "      <th>std</th>\n",
       "      <td>18213.883595</td>\n",
       "      <td>18385.055374</td>\n",
       "      <td>18046.507131</td>\n",
       "      <td>18218.540457</td>\n",
       "      <td>6.283996e+06</td>\n",
       "      <td>0.025757</td>\n",
       "    </tr>\n",
       "    <tr>\n",
       "      <th>min</th>\n",
       "      <td>0.000000</td>\n",
       "      <td>0.000000</td>\n",
       "      <td>0.000000</td>\n",
       "      <td>627.000000</td>\n",
       "      <td>0.000000e+00</td>\n",
       "      <td>-0.137566</td>\n",
       "    </tr>\n",
       "    <tr>\n",
       "      <th>25%</th>\n",
       "      <td>7400.000000</td>\n",
       "      <td>7500.000000</td>\n",
       "      <td>7277.250000</td>\n",
       "      <td>7400.000000</td>\n",
       "      <td>2.749732e+05</td>\n",
       "      <td>-0.012231</td>\n",
       "    </tr>\n",
       "    <tr>\n",
       "      <th>50%</th>\n",
       "      <td>13730.000000</td>\n",
       "      <td>13900.000000</td>\n",
       "      <td>13570.000000</td>\n",
       "      <td>13760.000000</td>\n",
       "      <td>4.492690e+05</td>\n",
       "      <td>0.000000</td>\n",
       "    </tr>\n",
       "    <tr>\n",
       "      <th>75%</th>\n",
       "      <td>28000.000000</td>\n",
       "      <td>28220.000000</td>\n",
       "      <td>27670.000000</td>\n",
       "      <td>28000.000000</td>\n",
       "      <td>8.159305e+05</td>\n",
       "      <td>0.012965</td>\n",
       "    </tr>\n",
       "    <tr>\n",
       "      <th>max</th>\n",
       "      <td>90300.000000</td>\n",
       "      <td>96800.000000</td>\n",
       "      <td>89500.000000</td>\n",
       "      <td>91000.000000</td>\n",
       "      <td>9.030618e+07</td>\n",
       "      <td>0.150000</td>\n",
       "    </tr>\n",
       "  </tbody>\n",
       "</table>\n",
       "</div>"
      ],
      "text/plain": [
       "               Open          High           Low         Close        Volume  \\\n",
       "count   6000.000000   6000.000000   6000.000000   6000.000000  6.000000e+03   \n",
       "mean   20730.173167  20954.542500  20505.031667  20755.953833  2.544814e+06   \n",
       "std    18213.883595  18385.055374  18046.507131  18218.540457  6.283996e+06   \n",
       "min        0.000000      0.000000      0.000000    627.000000  0.000000e+00   \n",
       "25%     7400.000000   7500.000000   7277.250000   7400.000000  2.749732e+05   \n",
       "50%    13730.000000  13900.000000  13570.000000  13760.000000  4.492690e+05   \n",
       "75%    28000.000000  28220.000000  27670.000000  28000.000000  8.159305e+05   \n",
       "max    90300.000000  96800.000000  89500.000000  91000.000000  9.030618e+07   \n",
       "\n",
       "            Change  \n",
       "count  5999.000000  \n",
       "mean      0.001027  \n",
       "std       0.025757  \n",
       "min      -0.137566  \n",
       "25%      -0.012231  \n",
       "50%       0.000000  \n",
       "75%       0.012965  \n",
       "max       0.150000  "
      ]
     },
     "execution_count": 8,
     "metadata": {},
     "output_type": "execute_result"
    }
   ],
   "source": [
    "samsung.describe()"
   ]
  },
  {
   "cell_type": "markdown",
   "metadata": {
    "id": "C0i4k1S-Budn"
   },
   "source": [
    "**미국 주식 데이터**도 가져올 수 있습니다."
   ]
  },
  {
   "cell_type": "markdown",
   "metadata": {
    "id": "ubGAbVaxEjGG"
   },
   "source": [
    "### 문제 05. 애플 데이터 불러오기"
   ]
  },
  {
   "cell_type": "code",
   "execution_count": 9,
   "metadata": {
    "id": "_4isQ8KTBudn"
   },
   "outputs": [],
   "source": [
    "# fdr 라이브러리를 활용해 Apple(AAPL) 데이터를 불러오세요.\n",
    "apple = fdr.DataReader(\"AAPL\")"
   ]
  },
  {
   "cell_type": "markdown",
   "metadata": {
    "id": "addJd0MGE6RD"
   },
   "source": [
    "### 문제 06. 애플 데이터 EDA"
   ]
  },
  {
   "cell_type": "code",
   "execution_count": 10,
   "metadata": {
    "id": "-0JPVT6UBudn",
    "outputId": "8d3cff02-b2fa-40d4-dae7-9b60958eb6f7"
   },
   "outputs": [
    {
     "data": {
      "text/html": [
       "<div>\n",
       "<style scoped>\n",
       "    .dataframe tbody tr th:only-of-type {\n",
       "        vertical-align: middle;\n",
       "    }\n",
       "\n",
       "    .dataframe tbody tr th {\n",
       "        vertical-align: top;\n",
       "    }\n",
       "\n",
       "    .dataframe thead th {\n",
       "        text-align: right;\n",
       "    }\n",
       "</style>\n",
       "<table border=\"1\" class=\"dataframe\">\n",
       "  <thead>\n",
       "    <tr style=\"text-align: right;\">\n",
       "      <th></th>\n",
       "      <th>Close</th>\n",
       "      <th>Open</th>\n",
       "      <th>High</th>\n",
       "      <th>Low</th>\n",
       "      <th>Volume</th>\n",
       "      <th>Change</th>\n",
       "    </tr>\n",
       "    <tr>\n",
       "      <th>Date</th>\n",
       "      <th></th>\n",
       "      <th></th>\n",
       "      <th></th>\n",
       "      <th></th>\n",
       "      <th></th>\n",
       "      <th></th>\n",
       "    </tr>\n",
       "  </thead>\n",
       "  <tbody>\n",
       "    <tr>\n",
       "      <th>1980-12-12</th>\n",
       "      <td>0.13</td>\n",
       "      <td>0.13</td>\n",
       "      <td>0.13</td>\n",
       "      <td>0.13</td>\n",
       "      <td>469030000.0</td>\n",
       "      <td>-0.9988</td>\n",
       "    </tr>\n",
       "    <tr>\n",
       "      <th>1980-12-15</th>\n",
       "      <td>0.12</td>\n",
       "      <td>0.12</td>\n",
       "      <td>0.12</td>\n",
       "      <td>0.12</td>\n",
       "      <td>175880000.0</td>\n",
       "      <td>-0.0769</td>\n",
       "    </tr>\n",
       "    <tr>\n",
       "      <th>1980-12-16</th>\n",
       "      <td>0.11</td>\n",
       "      <td>0.11</td>\n",
       "      <td>0.11</td>\n",
       "      <td>0.11</td>\n",
       "      <td>105730000.0</td>\n",
       "      <td>-0.0833</td>\n",
       "    </tr>\n",
       "    <tr>\n",
       "      <th>1980-12-17</th>\n",
       "      <td>0.12</td>\n",
       "      <td>0.12</td>\n",
       "      <td>0.12</td>\n",
       "      <td>0.12</td>\n",
       "      <td>86440000.0</td>\n",
       "      <td>0.0909</td>\n",
       "    </tr>\n",
       "    <tr>\n",
       "      <th>1980-12-18</th>\n",
       "      <td>0.12</td>\n",
       "      <td>0.12</td>\n",
       "      <td>0.12</td>\n",
       "      <td>0.12</td>\n",
       "      <td>73450000.0</td>\n",
       "      <td>0.0000</td>\n",
       "    </tr>\n",
       "  </tbody>\n",
       "</table>\n",
       "</div>"
      ],
      "text/plain": [
       "            Close  Open  High   Low       Volume  Change\n",
       "Date                                                    \n",
       "1980-12-12   0.13  0.13  0.13  0.13  469030000.0 -0.9988\n",
       "1980-12-15   0.12  0.12  0.12  0.12  175880000.0 -0.0769\n",
       "1980-12-16   0.11  0.11  0.11  0.11  105730000.0 -0.0833\n",
       "1980-12-17   0.12  0.12  0.12  0.12   86440000.0  0.0909\n",
       "1980-12-18   0.12  0.12  0.12  0.12   73450000.0  0.0000"
      ]
     },
     "execution_count": 10,
     "metadata": {},
     "output_type": "execute_result"
    }
   ],
   "source": [
    "apple.head()"
   ]
  },
  {
   "cell_type": "code",
   "execution_count": 11,
   "metadata": {},
   "outputs": [
    {
     "name": "stdout",
     "output_type": "stream",
     "text": [
      "<class 'pandas.core.frame.DataFrame'>\n",
      "DatetimeIndex: 10226 entries, 1980-12-12 to 2021-07-02\n",
      "Data columns (total 6 columns):\n",
      " #   Column  Non-Null Count  Dtype  \n",
      "---  ------  --------------  -----  \n",
      " 0   Close   10226 non-null  float64\n",
      " 1   Open    10226 non-null  float64\n",
      " 2   High    10226 non-null  float64\n",
      " 3   Low     10226 non-null  float64\n",
      " 4   Volume  10226 non-null  float64\n",
      " 5   Change  10226 non-null  float64\n",
      "dtypes: float64(6)\n",
      "memory usage: 559.2 KB\n"
     ]
    }
   ],
   "source": [
    "apple.info()"
   ]
  },
  {
   "cell_type": "code",
   "execution_count": 12,
   "metadata": {},
   "outputs": [
    {
     "data": {
      "text/html": [
       "<div>\n",
       "<style scoped>\n",
       "    .dataframe tbody tr th:only-of-type {\n",
       "        vertical-align: middle;\n",
       "    }\n",
       "\n",
       "    .dataframe tbody tr th {\n",
       "        vertical-align: top;\n",
       "    }\n",
       "\n",
       "    .dataframe thead th {\n",
       "        text-align: right;\n",
       "    }\n",
       "</style>\n",
       "<table border=\"1\" class=\"dataframe\">\n",
       "  <thead>\n",
       "    <tr style=\"text-align: right;\">\n",
       "      <th></th>\n",
       "      <th>Close</th>\n",
       "      <th>Open</th>\n",
       "      <th>High</th>\n",
       "      <th>Low</th>\n",
       "      <th>Volume</th>\n",
       "      <th>Change</th>\n",
       "    </tr>\n",
       "  </thead>\n",
       "  <tbody>\n",
       "    <tr>\n",
       "      <th>count</th>\n",
       "      <td>10226.000000</td>\n",
       "      <td>10226.000000</td>\n",
       "      <td>10226.000000</td>\n",
       "      <td>10226.000000</td>\n",
       "      <td>1.022600e+04</td>\n",
       "      <td>10226.000000</td>\n",
       "    </tr>\n",
       "    <tr>\n",
       "      <th>mean</th>\n",
       "      <td>11.399925</td>\n",
       "      <td>11.397100</td>\n",
       "      <td>11.518866</td>\n",
       "      <td>11.272056</td>\n",
       "      <td>3.366159e+08</td>\n",
       "      <td>0.001045</td>\n",
       "    </tr>\n",
       "    <tr>\n",
       "      <th>std</th>\n",
       "      <td>23.464311</td>\n",
       "      <td>23.459826</td>\n",
       "      <td>23.721846</td>\n",
       "      <td>23.185721</td>\n",
       "      <td>3.412688e+08</td>\n",
       "      <td>0.034704</td>\n",
       "    </tr>\n",
       "    <tr>\n",
       "      <th>min</th>\n",
       "      <td>0.050000</td>\n",
       "      <td>0.050000</td>\n",
       "      <td>0.050000</td>\n",
       "      <td>0.050000</td>\n",
       "      <td>1.390000e+06</td>\n",
       "      <td>-0.998800</td>\n",
       "    </tr>\n",
       "    <tr>\n",
       "      <th>25%</th>\n",
       "      <td>0.280000</td>\n",
       "      <td>0.280000</td>\n",
       "      <td>0.280000</td>\n",
       "      <td>0.270000</td>\n",
       "      <td>1.282375e+08</td>\n",
       "      <td>-0.008200</td>\n",
       "    </tr>\n",
       "    <tr>\n",
       "      <th>50%</th>\n",
       "      <td>0.450000</td>\n",
       "      <td>0.450000</td>\n",
       "      <td>0.460000</td>\n",
       "      <td>0.440000</td>\n",
       "      <td>2.241000e+08</td>\n",
       "      <td>0.000000</td>\n",
       "    </tr>\n",
       "    <tr>\n",
       "      <th>75%</th>\n",
       "      <td>12.380000</td>\n",
       "      <td>12.370000</td>\n",
       "      <td>12.490000</td>\n",
       "      <td>12.310000</td>\n",
       "      <td>4.188400e+08</td>\n",
       "      <td>0.012300</td>\n",
       "    </tr>\n",
       "    <tr>\n",
       "      <th>max</th>\n",
       "      <td>143.160000</td>\n",
       "      <td>143.600000</td>\n",
       "      <td>145.090000</td>\n",
       "      <td>141.370000</td>\n",
       "      <td>7.430000e+09</td>\n",
       "      <td>0.277800</td>\n",
       "    </tr>\n",
       "  </tbody>\n",
       "</table>\n",
       "</div>"
      ],
      "text/plain": [
       "              Close          Open          High           Low        Volume  \\\n",
       "count  10226.000000  10226.000000  10226.000000  10226.000000  1.022600e+04   \n",
       "mean      11.399925     11.397100     11.518866     11.272056  3.366159e+08   \n",
       "std       23.464311     23.459826     23.721846     23.185721  3.412688e+08   \n",
       "min        0.050000      0.050000      0.050000      0.050000  1.390000e+06   \n",
       "25%        0.280000      0.280000      0.280000      0.270000  1.282375e+08   \n",
       "50%        0.450000      0.450000      0.460000      0.440000  2.241000e+08   \n",
       "75%       12.380000     12.370000     12.490000     12.310000  4.188400e+08   \n",
       "max      143.160000    143.600000    145.090000    141.370000  7.430000e+09   \n",
       "\n",
       "             Change  \n",
       "count  10226.000000  \n",
       "mean       0.001045  \n",
       "std        0.034704  \n",
       "min       -0.998800  \n",
       "25%       -0.008200  \n",
       "50%        0.000000  \n",
       "75%        0.012300  \n",
       "max        0.277800  "
      ]
     },
     "execution_count": 12,
     "metadata": {},
     "output_type": "execute_result"
    }
   ],
   "source": [
    "apple.describe()"
   ]
  },
  {
   "cell_type": "markdown",
   "metadata": {
    "id": "3FmQB8fOBudo"
   },
   "source": [
    "### 문제 07. 특정 시점(2017년) 이후 데이터 불러오기"
   ]
  },
  {
   "cell_type": "code",
   "execution_count": 13,
   "metadata": {
    "id": "96jnHiNtBudo"
   },
   "outputs": [],
   "source": [
    "# Apple(AAPL), 2017년\n",
    "apple = fdr.DataReader('AAPL', '2017')"
   ]
  },
  {
   "cell_type": "code",
   "execution_count": 14,
   "metadata": {
    "id": "T2smiyL7Budo"
   },
   "outputs": [
    {
     "data": {
      "text/html": [
       "<div>\n",
       "<style scoped>\n",
       "    .dataframe tbody tr th:only-of-type {\n",
       "        vertical-align: middle;\n",
       "    }\n",
       "\n",
       "    .dataframe tbody tr th {\n",
       "        vertical-align: top;\n",
       "    }\n",
       "\n",
       "    .dataframe thead th {\n",
       "        text-align: right;\n",
       "    }\n",
       "</style>\n",
       "<table border=\"1\" class=\"dataframe\">\n",
       "  <thead>\n",
       "    <tr style=\"text-align: right;\">\n",
       "      <th></th>\n",
       "      <th>Close</th>\n",
       "      <th>Open</th>\n",
       "      <th>High</th>\n",
       "      <th>Low</th>\n",
       "      <th>Volume</th>\n",
       "      <th>Change</th>\n",
       "    </tr>\n",
       "    <tr>\n",
       "      <th>Date</th>\n",
       "      <th></th>\n",
       "      <th></th>\n",
       "      <th></th>\n",
       "      <th></th>\n",
       "      <th></th>\n",
       "      <th></th>\n",
       "    </tr>\n",
       "  </thead>\n",
       "  <tbody>\n",
       "    <tr>\n",
       "      <th>2017-01-03</th>\n",
       "      <td>29.04</td>\n",
       "      <td>28.95</td>\n",
       "      <td>29.08</td>\n",
       "      <td>28.69</td>\n",
       "      <td>115130000.0</td>\n",
       "      <td>0.0031</td>\n",
       "    </tr>\n",
       "    <tr>\n",
       "      <th>2017-01-04</th>\n",
       "      <td>29.00</td>\n",
       "      <td>28.96</td>\n",
       "      <td>29.13</td>\n",
       "      <td>28.94</td>\n",
       "      <td>84470000.0</td>\n",
       "      <td>-0.0014</td>\n",
       "    </tr>\n",
       "    <tr>\n",
       "      <th>2017-01-05</th>\n",
       "      <td>29.15</td>\n",
       "      <td>28.98</td>\n",
       "      <td>29.22</td>\n",
       "      <td>28.95</td>\n",
       "      <td>88770000.0</td>\n",
       "      <td>0.0052</td>\n",
       "    </tr>\n",
       "    <tr>\n",
       "      <th>2017-01-06</th>\n",
       "      <td>29.48</td>\n",
       "      <td>29.20</td>\n",
       "      <td>29.54</td>\n",
       "      <td>29.12</td>\n",
       "      <td>127010000.0</td>\n",
       "      <td>0.0113</td>\n",
       "    </tr>\n",
       "    <tr>\n",
       "      <th>2017-01-09</th>\n",
       "      <td>29.75</td>\n",
       "      <td>29.49</td>\n",
       "      <td>29.86</td>\n",
       "      <td>29.48</td>\n",
       "      <td>134250000.0</td>\n",
       "      <td>0.0092</td>\n",
       "    </tr>\n",
       "  </tbody>\n",
       "</table>\n",
       "</div>"
      ],
      "text/plain": [
       "            Close   Open   High    Low       Volume  Change\n",
       "Date                                                       \n",
       "2017-01-03  29.04  28.95  29.08  28.69  115130000.0  0.0031\n",
       "2017-01-04  29.00  28.96  29.13  28.94   84470000.0 -0.0014\n",
       "2017-01-05  29.15  28.98  29.22  28.95   88770000.0  0.0052\n",
       "2017-01-06  29.48  29.20  29.54  29.12  127010000.0  0.0113\n",
       "2017-01-09  29.75  29.49  29.86  29.48  134250000.0  0.0092"
      ]
     },
     "execution_count": 14,
     "metadata": {},
     "output_type": "execute_result"
    }
   ],
   "source": [
    "apple.head()"
   ]
  },
  {
   "cell_type": "markdown",
   "metadata": {
    "id": "-ter25eMBudp"
   },
   "source": [
    "### 문제 08. 날짜를 지정하여 특정 범위(40년간) 데이터 불러오기"
   ]
  },
  {
   "cell_type": "code",
   "execution_count": 15,
   "metadata": {
    "id": "vyR92-HABudp"
   },
   "outputs": [],
   "source": [
    "# Ford(F), 1980-01-01 ~ 2019-12-30 (40년 데이터)\n",
    "ford = fdr.DataReader('F', '1980-01-01', '2019-12-30')"
   ]
  },
  {
   "cell_type": "code",
   "execution_count": 16,
   "metadata": {
    "id": "j1N0Y2XXBudp"
   },
   "outputs": [
    {
     "data": {
      "text/html": [
       "<div>\n",
       "<style scoped>\n",
       "    .dataframe tbody tr th:only-of-type {\n",
       "        vertical-align: middle;\n",
       "    }\n",
       "\n",
       "    .dataframe tbody tr th {\n",
       "        vertical-align: top;\n",
       "    }\n",
       "\n",
       "    .dataframe thead th {\n",
       "        text-align: right;\n",
       "    }\n",
       "</style>\n",
       "<table border=\"1\" class=\"dataframe\">\n",
       "  <thead>\n",
       "    <tr style=\"text-align: right;\">\n",
       "      <th></th>\n",
       "      <th>Close</th>\n",
       "      <th>Open</th>\n",
       "      <th>High</th>\n",
       "      <th>Low</th>\n",
       "      <th>Volume</th>\n",
       "      <th>Change</th>\n",
       "    </tr>\n",
       "    <tr>\n",
       "      <th>Date</th>\n",
       "      <th></th>\n",
       "      <th></th>\n",
       "      <th></th>\n",
       "      <th></th>\n",
       "      <th></th>\n",
       "      <th></th>\n",
       "    </tr>\n",
       "  </thead>\n",
       "  <tbody>\n",
       "    <tr>\n",
       "      <th>1980-03-18</th>\n",
       "      <td>1.83</td>\n",
       "      <td>1.83</td>\n",
       "      <td>1.85</td>\n",
       "      <td>1.82</td>\n",
       "      <td>3770000.0</td>\n",
       "      <td>-0.0108</td>\n",
       "    </tr>\n",
       "    <tr>\n",
       "      <th>1980-03-19</th>\n",
       "      <td>1.85</td>\n",
       "      <td>1.85</td>\n",
       "      <td>1.86</td>\n",
       "      <td>1.83</td>\n",
       "      <td>1560000.0</td>\n",
       "      <td>0.0109</td>\n",
       "    </tr>\n",
       "    <tr>\n",
       "      <th>1980-03-20</th>\n",
       "      <td>1.86</td>\n",
       "      <td>1.86</td>\n",
       "      <td>1.88</td>\n",
       "      <td>1.85</td>\n",
       "      <td>1450000.0</td>\n",
       "      <td>0.0054</td>\n",
       "    </tr>\n",
       "    <tr>\n",
       "      <th>1980-03-21</th>\n",
       "      <td>1.78</td>\n",
       "      <td>1.78</td>\n",
       "      <td>1.85</td>\n",
       "      <td>1.76</td>\n",
       "      <td>5020000.0</td>\n",
       "      <td>-0.0430</td>\n",
       "    </tr>\n",
       "    <tr>\n",
       "      <th>1980-03-24</th>\n",
       "      <td>1.71</td>\n",
       "      <td>1.71</td>\n",
       "      <td>1.75</td>\n",
       "      <td>1.66</td>\n",
       "      <td>3330000.0</td>\n",
       "      <td>-0.0393</td>\n",
       "    </tr>\n",
       "  </tbody>\n",
       "</table>\n",
       "</div>"
      ],
      "text/plain": [
       "            Close  Open  High   Low     Volume  Change\n",
       "Date                                                  \n",
       "1980-03-18   1.83  1.83  1.85  1.82  3770000.0 -0.0108\n",
       "1980-03-19   1.85  1.85  1.86  1.83  1560000.0  0.0109\n",
       "1980-03-20   1.86  1.86  1.88  1.85  1450000.0  0.0054\n",
       "1980-03-21   1.78  1.78  1.85  1.76  5020000.0 -0.0430\n",
       "1980-03-24   1.71  1.71  1.75  1.66  3330000.0 -0.0393"
      ]
     },
     "execution_count": 16,
     "metadata": {},
     "output_type": "execute_result"
    }
   ],
   "source": [
    "ford.head()"
   ]
  },
  {
   "cell_type": "code",
   "execution_count": 17,
   "metadata": {},
   "outputs": [
    {
     "data": {
      "text/html": [
       "<div>\n",
       "<style scoped>\n",
       "    .dataframe tbody tr th:only-of-type {\n",
       "        vertical-align: middle;\n",
       "    }\n",
       "\n",
       "    .dataframe tbody tr th {\n",
       "        vertical-align: top;\n",
       "    }\n",
       "\n",
       "    .dataframe thead th {\n",
       "        text-align: right;\n",
       "    }\n",
       "</style>\n",
       "<table border=\"1\" class=\"dataframe\">\n",
       "  <thead>\n",
       "    <tr style=\"text-align: right;\">\n",
       "      <th></th>\n",
       "      <th>Close</th>\n",
       "      <th>Open</th>\n",
       "      <th>High</th>\n",
       "      <th>Low</th>\n",
       "      <th>Volume</th>\n",
       "      <th>Change</th>\n",
       "    </tr>\n",
       "    <tr>\n",
       "      <th>Date</th>\n",
       "      <th></th>\n",
       "      <th></th>\n",
       "      <th></th>\n",
       "      <th></th>\n",
       "      <th></th>\n",
       "      <th></th>\n",
       "    </tr>\n",
       "  </thead>\n",
       "  <tbody>\n",
       "    <tr>\n",
       "      <th>2019-12-23</th>\n",
       "      <td>9.44</td>\n",
       "      <td>9.50</td>\n",
       "      <td>9.57</td>\n",
       "      <td>9.40</td>\n",
       "      <td>54800000.0</td>\n",
       "      <td>-0.0042</td>\n",
       "    </tr>\n",
       "    <tr>\n",
       "      <th>2019-12-24</th>\n",
       "      <td>9.47</td>\n",
       "      <td>9.44</td>\n",
       "      <td>9.49</td>\n",
       "      <td>9.43</td>\n",
       "      <td>11880000.0</td>\n",
       "      <td>0.0032</td>\n",
       "    </tr>\n",
       "    <tr>\n",
       "      <th>2019-12-26</th>\n",
       "      <td>9.45</td>\n",
       "      <td>9.47</td>\n",
       "      <td>9.49</td>\n",
       "      <td>9.43</td>\n",
       "      <td>28980000.0</td>\n",
       "      <td>-0.0021</td>\n",
       "    </tr>\n",
       "    <tr>\n",
       "      <th>2019-12-27</th>\n",
       "      <td>9.36</td>\n",
       "      <td>9.45</td>\n",
       "      <td>9.46</td>\n",
       "      <td>9.35</td>\n",
       "      <td>28270000.0</td>\n",
       "      <td>-0.0095</td>\n",
       "    </tr>\n",
       "    <tr>\n",
       "      <th>2019-12-30</th>\n",
       "      <td>9.25</td>\n",
       "      <td>9.34</td>\n",
       "      <td>9.35</td>\n",
       "      <td>9.23</td>\n",
       "      <td>36090000.0</td>\n",
       "      <td>-0.0118</td>\n",
       "    </tr>\n",
       "  </tbody>\n",
       "</table>\n",
       "</div>"
      ],
      "text/plain": [
       "            Close  Open  High   Low      Volume  Change\n",
       "Date                                                   \n",
       "2019-12-23   9.44  9.50  9.57  9.40  54800000.0 -0.0042\n",
       "2019-12-24   9.47  9.44  9.49  9.43  11880000.0  0.0032\n",
       "2019-12-26   9.45  9.47  9.49  9.43  28980000.0 -0.0021\n",
       "2019-12-27   9.36  9.45  9.46  9.35  28270000.0 -0.0095\n",
       "2019-12-30   9.25  9.34  9.35  9.23  36090000.0 -0.0118"
      ]
     },
     "execution_count": 17,
     "metadata": {},
     "output_type": "execute_result"
    }
   ],
   "source": [
    "ford.tail()"
   ]
  },
  {
   "cell_type": "markdown",
   "metadata": {
    "id": "BxmJoqteBudq"
   },
   "source": [
    "### 문제 09. '금'과 '달러' 데이터도 가져올 수 있습니다. 두 데이터를 불러와 head를 출력해보세요."
   ]
  },
  {
   "cell_type": "markdown",
   "metadata": {
    "id": "WEJpAQ7EBudq"
   },
   "source": [
    "*[GitHub 페이지 링크](https://github.com/FinanceData/FinanceDataReader) 참고"
   ]
  },
  {
   "cell_type": "code",
   "execution_count": 18,
   "metadata": {
    "id": "Rv85AHqkGJp0"
   },
   "outputs": [],
   "source": [
    "# 금 선물 가격\n",
    "gold = fdr.DataReader('ZG')"
   ]
  },
  {
   "cell_type": "code",
   "execution_count": 19,
   "metadata": {},
   "outputs": [
    {
     "data": {
      "text/html": [
       "<div>\n",
       "<style scoped>\n",
       "    .dataframe tbody tr th:only-of-type {\n",
       "        vertical-align: middle;\n",
       "    }\n",
       "\n",
       "    .dataframe tbody tr th {\n",
       "        vertical-align: top;\n",
       "    }\n",
       "\n",
       "    .dataframe thead th {\n",
       "        text-align: right;\n",
       "    }\n",
       "</style>\n",
       "<table border=\"1\" class=\"dataframe\">\n",
       "  <thead>\n",
       "    <tr style=\"text-align: right;\">\n",
       "      <th></th>\n",
       "      <th>Close</th>\n",
       "      <th>Open</th>\n",
       "      <th>High</th>\n",
       "      <th>Low</th>\n",
       "      <th>Volume</th>\n",
       "      <th>Change</th>\n",
       "    </tr>\n",
       "    <tr>\n",
       "      <th>Date</th>\n",
       "      <th></th>\n",
       "      <th></th>\n",
       "      <th></th>\n",
       "      <th></th>\n",
       "      <th></th>\n",
       "      <th></th>\n",
       "    </tr>\n",
       "  </thead>\n",
       "  <tbody>\n",
       "    <tr>\n",
       "      <th>1980-01-02</th>\n",
       "      <td>575.5</td>\n",
       "      <td>562.5</td>\n",
       "      <td>577.0</td>\n",
       "      <td>558.0</td>\n",
       "      <td>7260.0</td>\n",
       "      <td>0.0785</td>\n",
       "    </tr>\n",
       "    <tr>\n",
       "      <th>1980-01-03</th>\n",
       "      <td>625.0</td>\n",
       "      <td>627.0</td>\n",
       "      <td>640.0</td>\n",
       "      <td>603.0</td>\n",
       "      <td>20750.0</td>\n",
       "      <td>0.0860</td>\n",
       "    </tr>\n",
       "    <tr>\n",
       "      <th>1980-01-04</th>\n",
       "      <td>603.6</td>\n",
       "      <td>609.5</td>\n",
       "      <td>621.0</td>\n",
       "      <td>573.0</td>\n",
       "      <td>2660.0</td>\n",
       "      <td>-0.0342</td>\n",
       "    </tr>\n",
       "    <tr>\n",
       "      <th>1980-01-07</th>\n",
       "      <td>627.0</td>\n",
       "      <td>629.0</td>\n",
       "      <td>635.0</td>\n",
       "      <td>611.0</td>\n",
       "      <td>3000.0</td>\n",
       "      <td>0.0388</td>\n",
       "    </tr>\n",
       "    <tr>\n",
       "      <th>1980-01-08</th>\n",
       "      <td>602.5</td>\n",
       "      <td>611.5</td>\n",
       "      <td>619.0</td>\n",
       "      <td>600.0</td>\n",
       "      <td>750.0</td>\n",
       "      <td>-0.0391</td>\n",
       "    </tr>\n",
       "  </tbody>\n",
       "</table>\n",
       "</div>"
      ],
      "text/plain": [
       "            Close   Open   High    Low   Volume  Change\n",
       "Date                                                   \n",
       "1980-01-02  575.5  562.5  577.0  558.0   7260.0  0.0785\n",
       "1980-01-03  625.0  627.0  640.0  603.0  20750.0  0.0860\n",
       "1980-01-04  603.6  609.5  621.0  573.0   2660.0 -0.0342\n",
       "1980-01-07  627.0  629.0  635.0  611.0   3000.0  0.0388\n",
       "1980-01-08  602.5  611.5  619.0  600.0    750.0 -0.0391"
      ]
     },
     "execution_count": 19,
     "metadata": {},
     "output_type": "execute_result"
    }
   ],
   "source": [
    "gold.head()"
   ]
  },
  {
   "cell_type": "code",
   "execution_count": 20,
   "metadata": {},
   "outputs": [
    {
     "data": {
      "text/html": [
       "<div>\n",
       "<style scoped>\n",
       "    .dataframe tbody tr th:only-of-type {\n",
       "        vertical-align: middle;\n",
       "    }\n",
       "\n",
       "    .dataframe tbody tr th {\n",
       "        vertical-align: top;\n",
       "    }\n",
       "\n",
       "    .dataframe thead th {\n",
       "        text-align: right;\n",
       "    }\n",
       "</style>\n",
       "<table border=\"1\" class=\"dataframe\">\n",
       "  <thead>\n",
       "    <tr style=\"text-align: right;\">\n",
       "      <th></th>\n",
       "      <th>Close</th>\n",
       "      <th>Open</th>\n",
       "      <th>High</th>\n",
       "      <th>Low</th>\n",
       "      <th>Volume</th>\n",
       "      <th>Change</th>\n",
       "    </tr>\n",
       "    <tr>\n",
       "      <th>Date</th>\n",
       "      <th></th>\n",
       "      <th></th>\n",
       "      <th></th>\n",
       "      <th></th>\n",
       "      <th></th>\n",
       "      <th></th>\n",
       "    </tr>\n",
       "  </thead>\n",
       "  <tbody>\n",
       "    <tr>\n",
       "      <th>2021-06-25</th>\n",
       "      <td>1777.8</td>\n",
       "      <td>1775.7</td>\n",
       "      <td>1791.0</td>\n",
       "      <td>1773.6</td>\n",
       "      <td>161200.0</td>\n",
       "      <td>0.0006</td>\n",
       "    </tr>\n",
       "    <tr>\n",
       "      <th>2021-06-28</th>\n",
       "      <td>1780.7</td>\n",
       "      <td>1782.0</td>\n",
       "      <td>1786.1</td>\n",
       "      <td>1770.4</td>\n",
       "      <td>160790.0</td>\n",
       "      <td>0.0016</td>\n",
       "    </tr>\n",
       "    <tr>\n",
       "      <th>2021-06-29</th>\n",
       "      <td>1763.6</td>\n",
       "      <td>1778.8</td>\n",
       "      <td>1779.2</td>\n",
       "      <td>1750.1</td>\n",
       "      <td>239910.0</td>\n",
       "      <td>-0.0096</td>\n",
       "    </tr>\n",
       "    <tr>\n",
       "      <th>2021-06-30</th>\n",
       "      <td>1771.6</td>\n",
       "      <td>1761.9</td>\n",
       "      <td>1774.7</td>\n",
       "      <td>1753.2</td>\n",
       "      <td>177890.0</td>\n",
       "      <td>0.0045</td>\n",
       "    </tr>\n",
       "    <tr>\n",
       "      <th>2021-07-01</th>\n",
       "      <td>1776.8</td>\n",
       "      <td>1770.8</td>\n",
       "      <td>1783.4</td>\n",
       "      <td>1765.9</td>\n",
       "      <td>171440.0</td>\n",
       "      <td>0.0029</td>\n",
       "    </tr>\n",
       "  </tbody>\n",
       "</table>\n",
       "</div>"
      ],
      "text/plain": [
       "             Close    Open    High     Low    Volume  Change\n",
       "Date                                                        \n",
       "2021-06-25  1777.8  1775.7  1791.0  1773.6  161200.0  0.0006\n",
       "2021-06-28  1780.7  1782.0  1786.1  1770.4  160790.0  0.0016\n",
       "2021-06-29  1763.6  1778.8  1779.2  1750.1  239910.0 -0.0096\n",
       "2021-06-30  1771.6  1761.9  1774.7  1753.2  177890.0  0.0045\n",
       "2021-07-01  1776.8  1770.8  1783.4  1765.9  171440.0  0.0029"
      ]
     },
     "execution_count": 20,
     "metadata": {},
     "output_type": "execute_result"
    }
   ],
   "source": [
    "gold.tail()"
   ]
  },
  {
   "cell_type": "code",
   "execution_count": 21,
   "metadata": {
    "id": "whRbcKezGJ5V"
   },
   "outputs": [],
   "source": [
    "# 달러 가격\n",
    "dollar = fdr.DataReader('USD/KRW')"
   ]
  },
  {
   "cell_type": "code",
   "execution_count": 22,
   "metadata": {},
   "outputs": [
    {
     "data": {
      "text/html": [
       "<div>\n",
       "<style scoped>\n",
       "    .dataframe tbody tr th:only-of-type {\n",
       "        vertical-align: middle;\n",
       "    }\n",
       "\n",
       "    .dataframe tbody tr th {\n",
       "        vertical-align: top;\n",
       "    }\n",
       "\n",
       "    .dataframe thead th {\n",
       "        text-align: right;\n",
       "    }\n",
       "</style>\n",
       "<table border=\"1\" class=\"dataframe\">\n",
       "  <thead>\n",
       "    <tr style=\"text-align: right;\">\n",
       "      <th></th>\n",
       "      <th>Close</th>\n",
       "      <th>Open</th>\n",
       "      <th>High</th>\n",
       "      <th>Low</th>\n",
       "      <th>Change</th>\n",
       "    </tr>\n",
       "    <tr>\n",
       "      <th>Date</th>\n",
       "      <th></th>\n",
       "      <th></th>\n",
       "      <th></th>\n",
       "      <th></th>\n",
       "      <th></th>\n",
       "    </tr>\n",
       "  </thead>\n",
       "  <tbody>\n",
       "    <tr>\n",
       "      <th>1981-04-14</th>\n",
       "      <td>676.70</td>\n",
       "      <td>676.70</td>\n",
       "      <td>676.70</td>\n",
       "      <td>676.70</td>\n",
       "      <td>0.0019</td>\n",
       "    </tr>\n",
       "    <tr>\n",
       "      <th>1981-04-15</th>\n",
       "      <td>676.70</td>\n",
       "      <td>676.70</td>\n",
       "      <td>676.70</td>\n",
       "      <td>676.70</td>\n",
       "      <td>0.0000</td>\n",
       "    </tr>\n",
       "    <tr>\n",
       "      <th>1981-04-16</th>\n",
       "      <td>676.70</td>\n",
       "      <td>676.70</td>\n",
       "      <td>676.70</td>\n",
       "      <td>676.70</td>\n",
       "      <td>0.0000</td>\n",
       "    </tr>\n",
       "    <tr>\n",
       "      <th>1981-04-17</th>\n",
       "      <td>676.75</td>\n",
       "      <td>676.75</td>\n",
       "      <td>676.75</td>\n",
       "      <td>676.75</td>\n",
       "      <td>0.0001</td>\n",
       "    </tr>\n",
       "    <tr>\n",
       "      <th>1981-04-20</th>\n",
       "      <td>676.70</td>\n",
       "      <td>676.70</td>\n",
       "      <td>676.70</td>\n",
       "      <td>676.70</td>\n",
       "      <td>-0.0001</td>\n",
       "    </tr>\n",
       "  </tbody>\n",
       "</table>\n",
       "</div>"
      ],
      "text/plain": [
       "             Close    Open    High     Low  Change\n",
       "Date                                              \n",
       "1981-04-14  676.70  676.70  676.70  676.70  0.0019\n",
       "1981-04-15  676.70  676.70  676.70  676.70  0.0000\n",
       "1981-04-16  676.70  676.70  676.70  676.70  0.0000\n",
       "1981-04-17  676.75  676.75  676.75  676.75  0.0001\n",
       "1981-04-20  676.70  676.70  676.70  676.70 -0.0001"
      ]
     },
     "execution_count": 22,
     "metadata": {},
     "output_type": "execute_result"
    }
   ],
   "source": [
    "dollar.head()"
   ]
  },
  {
   "cell_type": "code",
   "execution_count": 23,
   "metadata": {},
   "outputs": [
    {
     "data": {
      "text/html": [
       "<div>\n",
       "<style scoped>\n",
       "    .dataframe tbody tr th:only-of-type {\n",
       "        vertical-align: middle;\n",
       "    }\n",
       "\n",
       "    .dataframe tbody tr th {\n",
       "        vertical-align: top;\n",
       "    }\n",
       "\n",
       "    .dataframe thead th {\n",
       "        text-align: right;\n",
       "    }\n",
       "</style>\n",
       "<table border=\"1\" class=\"dataframe\">\n",
       "  <thead>\n",
       "    <tr style=\"text-align: right;\">\n",
       "      <th></th>\n",
       "      <th>Close</th>\n",
       "      <th>Open</th>\n",
       "      <th>High</th>\n",
       "      <th>Low</th>\n",
       "      <th>Change</th>\n",
       "    </tr>\n",
       "    <tr>\n",
       "      <th>Date</th>\n",
       "      <th></th>\n",
       "      <th></th>\n",
       "      <th></th>\n",
       "      <th></th>\n",
       "      <th></th>\n",
       "    </tr>\n",
       "  </thead>\n",
       "  <tbody>\n",
       "    <tr>\n",
       "      <th>2021-06-28</th>\n",
       "      <td>1130.04</td>\n",
       "      <td>1127.34</td>\n",
       "      <td>1132.68</td>\n",
       "      <td>1126.58</td>\n",
       "      <td>0.0026</td>\n",
       "    </tr>\n",
       "    <tr>\n",
       "      <th>2021-06-29</th>\n",
       "      <td>1131.62</td>\n",
       "      <td>1130.21</td>\n",
       "      <td>1134.77</td>\n",
       "      <td>1127.65</td>\n",
       "      <td>0.0014</td>\n",
       "    </tr>\n",
       "    <tr>\n",
       "      <th>2021-06-30</th>\n",
       "      <td>1130.48</td>\n",
       "      <td>1131.80</td>\n",
       "      <td>1132.89</td>\n",
       "      <td>1125.59</td>\n",
       "      <td>-0.0010</td>\n",
       "    </tr>\n",
       "    <tr>\n",
       "      <th>2021-07-01</th>\n",
       "      <td>1134.33</td>\n",
       "      <td>1130.63</td>\n",
       "      <td>1135.98</td>\n",
       "      <td>1128.28</td>\n",
       "      <td>0.0034</td>\n",
       "    </tr>\n",
       "    <tr>\n",
       "      <th>2021-07-02</th>\n",
       "      <td>1130.53</td>\n",
       "      <td>1134.51</td>\n",
       "      <td>1138.60</td>\n",
       "      <td>1129.60</td>\n",
       "      <td>-0.0033</td>\n",
       "    </tr>\n",
       "  </tbody>\n",
       "</table>\n",
       "</div>"
      ],
      "text/plain": [
       "              Close     Open     High      Low  Change\n",
       "Date                                                  \n",
       "2021-06-28  1130.04  1127.34  1132.68  1126.58  0.0026\n",
       "2021-06-29  1131.62  1130.21  1134.77  1127.65  0.0014\n",
       "2021-06-30  1130.48  1131.80  1132.89  1125.59 -0.0010\n",
       "2021-07-01  1134.33  1130.63  1135.98  1128.28  0.0034\n",
       "2021-07-02  1130.53  1134.51  1138.60  1129.60 -0.0033"
      ]
     },
     "execution_count": 23,
     "metadata": {},
     "output_type": "execute_result"
    }
   ],
   "source": [
    "dollar.tail()"
   ]
  },
  {
   "cell_type": "markdown",
   "metadata": {
    "id": "RJtxeKQm0l2w"
   },
   "source": [
    "### 문제 10. 삼성전자 데이터를 STOCK_CODE에 저장하고 인덱스를 확인해보세요"
   ]
  },
  {
   "cell_type": "code",
   "execution_count": 24,
   "metadata": {
    "id": "_8Gy3cagBudr"
   },
   "outputs": [],
   "source": [
    "# 문제 03과 코드는 동일합니다.\n",
    "# 삼성전자 주식코드: 005930\n",
    "STOCK_CODE = '005930'"
   ]
  },
  {
   "cell_type": "code",
   "execution_count": 25,
   "metadata": {
    "id": "xx8f86AgBudr"
   },
   "outputs": [
    {
     "data": {
      "text/html": [
       "<div>\n",
       "<style scoped>\n",
       "    .dataframe tbody tr th:only-of-type {\n",
       "        vertical-align: middle;\n",
       "    }\n",
       "\n",
       "    .dataframe tbody tr th {\n",
       "        vertical-align: top;\n",
       "    }\n",
       "\n",
       "    .dataframe thead th {\n",
       "        text-align: right;\n",
       "    }\n",
       "</style>\n",
       "<table border=\"1\" class=\"dataframe\">\n",
       "  <thead>\n",
       "    <tr style=\"text-align: right;\">\n",
       "      <th></th>\n",
       "      <th>Open</th>\n",
       "      <th>High</th>\n",
       "      <th>Low</th>\n",
       "      <th>Close</th>\n",
       "      <th>Volume</th>\n",
       "      <th>Change</th>\n",
       "    </tr>\n",
       "    <tr>\n",
       "      <th>Date</th>\n",
       "      <th></th>\n",
       "      <th></th>\n",
       "      <th></th>\n",
       "      <th></th>\n",
       "      <th></th>\n",
       "      <th></th>\n",
       "    </tr>\n",
       "  </thead>\n",
       "  <tbody>\n",
       "    <tr>\n",
       "      <th>1997-06-27</th>\n",
       "      <td>1256</td>\n",
       "      <td>1265</td>\n",
       "      <td>1152</td>\n",
       "      <td>1224</td>\n",
       "      <td>99340</td>\n",
       "      <td>NaN</td>\n",
       "    </tr>\n",
       "    <tr>\n",
       "      <th>1997-06-28</th>\n",
       "      <td>1227</td>\n",
       "      <td>1250</td>\n",
       "      <td>1224</td>\n",
       "      <td>1251</td>\n",
       "      <td>36660</td>\n",
       "      <td>0.022059</td>\n",
       "    </tr>\n",
       "    <tr>\n",
       "      <th>1997-06-30</th>\n",
       "      <td>1259</td>\n",
       "      <td>1290</td>\n",
       "      <td>1254</td>\n",
       "      <td>1260</td>\n",
       "      <td>100240</td>\n",
       "      <td>0.007194</td>\n",
       "    </tr>\n",
       "    <tr>\n",
       "      <th>1997-07-01</th>\n",
       "      <td>1259</td>\n",
       "      <td>1286</td>\n",
       "      <td>1259</td>\n",
       "      <td>1269</td>\n",
       "      <td>167900</td>\n",
       "      <td>0.007143</td>\n",
       "    </tr>\n",
       "    <tr>\n",
       "      <th>1997-07-02</th>\n",
       "      <td>1277</td>\n",
       "      <td>1313</td>\n",
       "      <td>1277</td>\n",
       "      <td>1296</td>\n",
       "      <td>169940</td>\n",
       "      <td>0.021277</td>\n",
       "    </tr>\n",
       "  </tbody>\n",
       "</table>\n",
       "</div>"
      ],
      "text/plain": [
       "            Open  High   Low  Close  Volume    Change\n",
       "Date                                                 \n",
       "1997-06-27  1256  1265  1152   1224   99340       NaN\n",
       "1997-06-28  1227  1250  1224   1251   36660  0.022059\n",
       "1997-06-30  1259  1290  1254   1260  100240  0.007194\n",
       "1997-07-01  1259  1286  1259   1269  167900  0.007143\n",
       "1997-07-02  1277  1313  1277   1296  169940  0.021277"
      ]
     },
     "execution_count": 25,
     "metadata": {},
     "output_type": "execute_result"
    }
   ],
   "source": [
    "# fdr 라이브러리를 활용해 삼성전자 데이터를 불러오세요 \n",
    "stock = fdr.DataReader(STOCK_CODE)\n",
    "stock.head()"
   ]
  },
  {
   "cell_type": "code",
   "execution_count": 26,
   "metadata": {
    "id": "-jBfNkQVBuds"
   },
   "outputs": [
    {
     "data": {
      "text/html": [
       "<div>\n",
       "<style scoped>\n",
       "    .dataframe tbody tr th:only-of-type {\n",
       "        vertical-align: middle;\n",
       "    }\n",
       "\n",
       "    .dataframe tbody tr th {\n",
       "        vertical-align: top;\n",
       "    }\n",
       "\n",
       "    .dataframe thead th {\n",
       "        text-align: right;\n",
       "    }\n",
       "</style>\n",
       "<table border=\"1\" class=\"dataframe\">\n",
       "  <thead>\n",
       "    <tr style=\"text-align: right;\">\n",
       "      <th></th>\n",
       "      <th>Open</th>\n",
       "      <th>High</th>\n",
       "      <th>Low</th>\n",
       "      <th>Close</th>\n",
       "      <th>Volume</th>\n",
       "      <th>Change</th>\n",
       "    </tr>\n",
       "    <tr>\n",
       "      <th>Date</th>\n",
       "      <th></th>\n",
       "      <th></th>\n",
       "      <th></th>\n",
       "      <th></th>\n",
       "      <th></th>\n",
       "      <th></th>\n",
       "    </tr>\n",
       "  </thead>\n",
       "  <tbody>\n",
       "    <tr>\n",
       "      <th>2021-06-28</th>\n",
       "      <td>81700</td>\n",
       "      <td>82000</td>\n",
       "      <td>81600</td>\n",
       "      <td>81900</td>\n",
       "      <td>11578529</td>\n",
       "      <td>0.003676</td>\n",
       "    </tr>\n",
       "    <tr>\n",
       "      <th>2021-06-29</th>\n",
       "      <td>81900</td>\n",
       "      <td>82100</td>\n",
       "      <td>80800</td>\n",
       "      <td>81000</td>\n",
       "      <td>15744317</td>\n",
       "      <td>-0.010989</td>\n",
       "    </tr>\n",
       "    <tr>\n",
       "      <th>2021-06-30</th>\n",
       "      <td>81100</td>\n",
       "      <td>81400</td>\n",
       "      <td>80700</td>\n",
       "      <td>80700</td>\n",
       "      <td>13288643</td>\n",
       "      <td>-0.003704</td>\n",
       "    </tr>\n",
       "    <tr>\n",
       "      <th>2021-07-01</th>\n",
       "      <td>80500</td>\n",
       "      <td>80600</td>\n",
       "      <td>80000</td>\n",
       "      <td>80100</td>\n",
       "      <td>13382882</td>\n",
       "      <td>-0.007435</td>\n",
       "    </tr>\n",
       "    <tr>\n",
       "      <th>2021-07-02</th>\n",
       "      <td>80000</td>\n",
       "      <td>80400</td>\n",
       "      <td>79900</td>\n",
       "      <td>80000</td>\n",
       "      <td>8181692</td>\n",
       "      <td>-0.001248</td>\n",
       "    </tr>\n",
       "  </tbody>\n",
       "</table>\n",
       "</div>"
      ],
      "text/plain": [
       "             Open   High    Low  Close    Volume    Change\n",
       "Date                                                      \n",
       "2021-06-28  81700  82000  81600  81900  11578529  0.003676\n",
       "2021-06-29  81900  82100  80800  81000  15744317 -0.010989\n",
       "2021-06-30  81100  81400  80700  80700  13288643 -0.003704\n",
       "2021-07-01  80500  80600  80000  80100  13382882 -0.007435\n",
       "2021-07-02  80000  80400  79900  80000   8181692 -0.001248"
      ]
     },
     "execution_count": 26,
     "metadata": {},
     "output_type": "execute_result"
    }
   ],
   "source": [
    "stock.tail()"
   ]
  },
  {
   "cell_type": "code",
   "execution_count": 27,
   "metadata": {
    "id": "y9NRSMYTBuds"
   },
   "outputs": [
    {
     "data": {
      "text/plain": [
       "DatetimeIndex(['1997-06-27', '1997-06-28', '1997-06-30', '1997-07-01',\n",
       "               '1997-07-02', '1997-07-03', '1997-07-04', '1997-07-05',\n",
       "               '1997-07-07', '1997-07-08',\n",
       "               ...\n",
       "               '2021-06-21', '2021-06-22', '2021-06-23', '2021-06-24',\n",
       "               '2021-06-25', '2021-06-28', '2021-06-29', '2021-06-30',\n",
       "               '2021-07-01', '2021-07-02'],\n",
       "              dtype='datetime64[ns]', name='Date', length=6000, freq=None)"
      ]
     },
     "execution_count": 27,
     "metadata": {},
     "output_type": "execute_result"
    }
   ],
   "source": [
    "# 인덱스를 확인해보세요.\n",
    "stock.index"
   ]
  },
  {
   "cell_type": "markdown",
   "metadata": {
    "id": "Ngpi6jHxMsz7"
   },
   "source": [
    "## Step 2. 시계열 데이터 시각화"
   ]
  },
  {
   "cell_type": "markdown",
   "metadata": {
    "id": "B1loczVzBudt"
   },
   "source": [
    "\n",
    "### 문제 11. 인덱스가 `DatetimeIndex`로 정의되어 있다면, 연도, 월, 일을 쪼갤 수 있습니다. 데이터를 분리해주세요."
   ]
  },
  {
   "cell_type": "code",
   "execution_count": 29,
   "metadata": {
    "id": "fif43Fh-0l4L"
   },
   "outputs": [],
   "source": [
    "stock['Year'] = stock.index.year\n",
    "stock['Month'] = stock.index.month\n",
    "stock['Day'] = stock.index.day"
   ]
  },
  {
   "cell_type": "code",
   "execution_count": 30,
   "metadata": {
    "id": "0yAKE9Ag0l4S"
   },
   "outputs": [
    {
     "data": {
      "text/html": [
       "<div>\n",
       "<style scoped>\n",
       "    .dataframe tbody tr th:only-of-type {\n",
       "        vertical-align: middle;\n",
       "    }\n",
       "\n",
       "    .dataframe tbody tr th {\n",
       "        vertical-align: top;\n",
       "    }\n",
       "\n",
       "    .dataframe thead th {\n",
       "        text-align: right;\n",
       "    }\n",
       "</style>\n",
       "<table border=\"1\" class=\"dataframe\">\n",
       "  <thead>\n",
       "    <tr style=\"text-align: right;\">\n",
       "      <th></th>\n",
       "      <th>Open</th>\n",
       "      <th>High</th>\n",
       "      <th>Low</th>\n",
       "      <th>Close</th>\n",
       "      <th>Volume</th>\n",
       "      <th>Change</th>\n",
       "      <th>Year</th>\n",
       "      <th>Month</th>\n",
       "      <th>Day</th>\n",
       "    </tr>\n",
       "    <tr>\n",
       "      <th>Date</th>\n",
       "      <th></th>\n",
       "      <th></th>\n",
       "      <th></th>\n",
       "      <th></th>\n",
       "      <th></th>\n",
       "      <th></th>\n",
       "      <th></th>\n",
       "      <th></th>\n",
       "      <th></th>\n",
       "    </tr>\n",
       "  </thead>\n",
       "  <tbody>\n",
       "    <tr>\n",
       "      <th>1997-06-27</th>\n",
       "      <td>1256</td>\n",
       "      <td>1265</td>\n",
       "      <td>1152</td>\n",
       "      <td>1224</td>\n",
       "      <td>99340</td>\n",
       "      <td>NaN</td>\n",
       "      <td>1997</td>\n",
       "      <td>6</td>\n",
       "      <td>27</td>\n",
       "    </tr>\n",
       "    <tr>\n",
       "      <th>1997-06-28</th>\n",
       "      <td>1227</td>\n",
       "      <td>1250</td>\n",
       "      <td>1224</td>\n",
       "      <td>1251</td>\n",
       "      <td>36660</td>\n",
       "      <td>0.022059</td>\n",
       "      <td>1997</td>\n",
       "      <td>6</td>\n",
       "      <td>28</td>\n",
       "    </tr>\n",
       "    <tr>\n",
       "      <th>1997-06-30</th>\n",
       "      <td>1259</td>\n",
       "      <td>1290</td>\n",
       "      <td>1254</td>\n",
       "      <td>1260</td>\n",
       "      <td>100240</td>\n",
       "      <td>0.007194</td>\n",
       "      <td>1997</td>\n",
       "      <td>6</td>\n",
       "      <td>30</td>\n",
       "    </tr>\n",
       "    <tr>\n",
       "      <th>1997-07-01</th>\n",
       "      <td>1259</td>\n",
       "      <td>1286</td>\n",
       "      <td>1259</td>\n",
       "      <td>1269</td>\n",
       "      <td>167900</td>\n",
       "      <td>0.007143</td>\n",
       "      <td>1997</td>\n",
       "      <td>7</td>\n",
       "      <td>1</td>\n",
       "    </tr>\n",
       "    <tr>\n",
       "      <th>1997-07-02</th>\n",
       "      <td>1277</td>\n",
       "      <td>1313</td>\n",
       "      <td>1277</td>\n",
       "      <td>1296</td>\n",
       "      <td>169940</td>\n",
       "      <td>0.021277</td>\n",
       "      <td>1997</td>\n",
       "      <td>7</td>\n",
       "      <td>2</td>\n",
       "    </tr>\n",
       "  </tbody>\n",
       "</table>\n",
       "</div>"
      ],
      "text/plain": [
       "            Open  High   Low  Close  Volume    Change  Year  Month  Day\n",
       "Date                                                                   \n",
       "1997-06-27  1256  1265  1152   1224   99340       NaN  1997      6   27\n",
       "1997-06-28  1227  1250  1224   1251   36660  0.022059  1997      6   28\n",
       "1997-06-30  1259  1290  1254   1260  100240  0.007194  1997      6   30\n",
       "1997-07-01  1259  1286  1259   1269  167900  0.007143  1997      7    1\n",
       "1997-07-02  1277  1313  1277   1296  169940  0.021277  1997      7    2"
      ]
     },
     "execution_count": 30,
     "metadata": {},
     "output_type": "execute_result"
    }
   ],
   "source": [
    "stock.head()"
   ]
  },
  {
   "cell_type": "markdown",
   "metadata": {
    "id": "ZpeXdWzWG2KO"
   },
   "source": [
    "### 문제 12. 연도별, 월별 피봇테이블을 각각 구현해보세요."
   ]
  },
  {
   "cell_type": "code",
   "execution_count": 31,
   "metadata": {
    "id": "L73tGJhhG9Av"
   },
   "outputs": [
    {
     "data": {
      "text/html": [
       "<div>\n",
       "<style scoped>\n",
       "    .dataframe tbody tr th:only-of-type {\n",
       "        vertical-align: middle;\n",
       "    }\n",
       "\n",
       "    .dataframe tbody tr th {\n",
       "        vertical-align: top;\n",
       "    }\n",
       "\n",
       "    .dataframe thead th {\n",
       "        text-align: right;\n",
       "    }\n",
       "</style>\n",
       "<table border=\"1\" class=\"dataframe\">\n",
       "  <thead>\n",
       "    <tr style=\"text-align: right;\">\n",
       "      <th></th>\n",
       "      <th>Open</th>\n",
       "      <th>High</th>\n",
       "      <th>Low</th>\n",
       "      <th>Close</th>\n",
       "      <th>Volume</th>\n",
       "      <th>Change</th>\n",
       "      <th>Month</th>\n",
       "      <th>Day</th>\n",
       "    </tr>\n",
       "    <tr>\n",
       "      <th>Year</th>\n",
       "      <th></th>\n",
       "      <th></th>\n",
       "      <th></th>\n",
       "      <th></th>\n",
       "      <th></th>\n",
       "      <th></th>\n",
       "      <th></th>\n",
       "      <th></th>\n",
       "    </tr>\n",
       "  </thead>\n",
       "  <tbody>\n",
       "    <tr>\n",
       "      <th>1997</th>\n",
       "      <td>1056.580000</td>\n",
       "      <td>1075.153333</td>\n",
       "      <td>1035.726667</td>\n",
       "      <td>1055.366667</td>\n",
       "      <td>2.230248e+05</td>\n",
       "      <td>-0.003180</td>\n",
       "      <td>9.373333</td>\n",
       "      <td>15.666667</td>\n",
       "    </tr>\n",
       "    <tr>\n",
       "      <th>1998</th>\n",
       "      <td>1113.948630</td>\n",
       "      <td>1144.623288</td>\n",
       "      <td>1083.828767</td>\n",
       "      <td>1113.702055</td>\n",
       "      <td>6.127810e+05</td>\n",
       "      <td>0.003875</td>\n",
       "      <td>6.462329</td>\n",
       "      <td>15.801370</td>\n",
       "    </tr>\n",
       "    <tr>\n",
       "      <th>1999</th>\n",
       "      <td>3042.759036</td>\n",
       "      <td>3131.196787</td>\n",
       "      <td>2968.831325</td>\n",
       "      <td>3046.895582</td>\n",
       "      <td>8.627532e+05</td>\n",
       "      <td>0.005742</td>\n",
       "      <td>6.578313</td>\n",
       "      <td>15.582329</td>\n",
       "    </tr>\n",
       "    <tr>\n",
       "      <th>2000</th>\n",
       "      <td>5382.593361</td>\n",
       "      <td>5516.601660</td>\n",
       "      <td>5248.804979</td>\n",
       "      <td>5372.406639</td>\n",
       "      <td>1.118580e+06</td>\n",
       "      <td>-0.001001</td>\n",
       "      <td>6.464730</td>\n",
       "      <td>16.120332</td>\n",
       "    </tr>\n",
       "    <tr>\n",
       "      <th>2001</th>\n",
       "      <td>3993.719512</td>\n",
       "      <td>4071.313008</td>\n",
       "      <td>3927.918699</td>\n",
       "      <td>4003.617886</td>\n",
       "      <td>7.313713e+05</td>\n",
       "      <td>0.002954</td>\n",
       "      <td>6.524390</td>\n",
       "      <td>16.004065</td>\n",
       "    </tr>\n",
       "    <tr>\n",
       "      <th>2002</th>\n",
       "      <td>6859.209016</td>\n",
       "      <td>6971.897541</td>\n",
       "      <td>6752.295082</td>\n",
       "      <td>6865.122951</td>\n",
       "      <td>8.511943e+05</td>\n",
       "      <td>0.000935</td>\n",
       "      <td>6.524590</td>\n",
       "      <td>16.004098</td>\n",
       "    </tr>\n",
       "    <tr>\n",
       "      <th>2003</th>\n",
       "      <td>7446.457490</td>\n",
       "      <td>7545.068826</td>\n",
       "      <td>7352.323887</td>\n",
       "      <td>7454.453441</td>\n",
       "      <td>6.190000e+05</td>\n",
       "      <td>0.001734</td>\n",
       "      <td>6.493927</td>\n",
       "      <td>15.931174</td>\n",
       "    </tr>\n",
       "    <tr>\n",
       "      <th>2004</th>\n",
       "      <td>9647.698795</td>\n",
       "      <td>9765.811245</td>\n",
       "      <td>9523.477912</td>\n",
       "      <td>9647.389558</td>\n",
       "      <td>5.721826e+05</td>\n",
       "      <td>0.000240</td>\n",
       "      <td>6.618474</td>\n",
       "      <td>15.602410</td>\n",
       "    </tr>\n",
       "    <tr>\n",
       "      <th>2005</th>\n",
       "      <td>10729.016064</td>\n",
       "      <td>10835.558233</td>\n",
       "      <td>10634.220884</td>\n",
       "      <td>10739.236948</td>\n",
       "      <td>4.305591e+05</td>\n",
       "      <td>0.001628</td>\n",
       "      <td>6.578313</td>\n",
       "      <td>15.975904</td>\n",
       "    </tr>\n",
       "    <tr>\n",
       "      <th>2006</th>\n",
       "      <td>12769.429150</td>\n",
       "      <td>12893.870445</td>\n",
       "      <td>12637.829960</td>\n",
       "      <td>12758.056680</td>\n",
       "      <td>3.951112e+05</td>\n",
       "      <td>-0.000184</td>\n",
       "      <td>6.469636</td>\n",
       "      <td>15.906883</td>\n",
       "    </tr>\n",
       "    <tr>\n",
       "      <th>2007</th>\n",
       "      <td>11553.491870</td>\n",
       "      <td>11680.890244</td>\n",
       "      <td>11416.577236</td>\n",
       "      <td>11543.983740</td>\n",
       "      <td>5.652503e+05</td>\n",
       "      <td>-0.000190</td>\n",
       "      <td>6.447154</td>\n",
       "      <td>15.772358</td>\n",
       "    </tr>\n",
       "    <tr>\n",
       "      <th>2008</th>\n",
       "      <td>11465.262097</td>\n",
       "      <td>11656.080645</td>\n",
       "      <td>11288.713710</td>\n",
       "      <td>11475.927419</td>\n",
       "      <td>5.801616e+05</td>\n",
       "      <td>-0.000437</td>\n",
       "      <td>6.540323</td>\n",
       "      <td>16.048387</td>\n",
       "    </tr>\n",
       "    <tr>\n",
       "      <th>2009</th>\n",
       "      <td>12834.545455</td>\n",
       "      <td>13003.090909</td>\n",
       "      <td>12665.146245</td>\n",
       "      <td>12840.276680</td>\n",
       "      <td>4.828770e+05</td>\n",
       "      <td>0.002509</td>\n",
       "      <td>6.561265</td>\n",
       "      <td>15.715415</td>\n",
       "    </tr>\n",
       "    <tr>\n",
       "      <th>2010</th>\n",
       "      <td>16081.334661</td>\n",
       "      <td>16222.474104</td>\n",
       "      <td>15914.019920</td>\n",
       "      <td>16070.996016</td>\n",
       "      <td>3.482710e+05</td>\n",
       "      <td>0.000820</td>\n",
       "      <td>6.573705</td>\n",
       "      <td>15.677291</td>\n",
       "    </tr>\n",
       "    <tr>\n",
       "      <th>2011</th>\n",
       "      <td>17931.564516</td>\n",
       "      <td>18147.790323</td>\n",
       "      <td>17704.500000</td>\n",
       "      <td>17926.209677</td>\n",
       "      <td>3.958149e+05</td>\n",
       "      <td>0.000665</td>\n",
       "      <td>6.564516</td>\n",
       "      <td>16.068548</td>\n",
       "    </tr>\n",
       "    <tr>\n",
       "      <th>2012</th>\n",
       "      <td>25182.705645</td>\n",
       "      <td>25454.048387</td>\n",
       "      <td>24927.463710</td>\n",
       "      <td>25214.596774</td>\n",
       "      <td>3.240736e+05</td>\n",
       "      <td>0.001652</td>\n",
       "      <td>6.483871</td>\n",
       "      <td>15.891129</td>\n",
       "    </tr>\n",
       "    <tr>\n",
       "      <th>2013</th>\n",
       "      <td>28617.210526</td>\n",
       "      <td>28847.502024</td>\n",
       "      <td>28320.101215</td>\n",
       "      <td>28578.542510</td>\n",
       "      <td>2.577057e+05</td>\n",
       "      <td>-0.000302</td>\n",
       "      <td>6.473684</td>\n",
       "      <td>15.878543</td>\n",
       "    </tr>\n",
       "    <tr>\n",
       "      <th>2014</th>\n",
       "      <td>25872.587755</td>\n",
       "      <td>26082.187755</td>\n",
       "      <td>25613.404082</td>\n",
       "      <td>25835.918367</td>\n",
       "      <td>2.497491e+05</td>\n",
       "      <td>-0.000016</td>\n",
       "      <td>6.506122</td>\n",
       "      <td>15.987755</td>\n",
       "    </tr>\n",
       "    <tr>\n",
       "      <th>2015</th>\n",
       "      <td>26000.213710</td>\n",
       "      <td>26259.592742</td>\n",
       "      <td>25722.350806</td>\n",
       "      <td>25984.193548</td>\n",
       "      <td>2.395583e+05</td>\n",
       "      <td>-0.000072</td>\n",
       "      <td>6.552419</td>\n",
       "      <td>15.600806</td>\n",
       "    </tr>\n",
       "    <tr>\n",
       "      <th>2016</th>\n",
       "      <td>28733.678862</td>\n",
       "      <td>29054.081301</td>\n",
       "      <td>28488.833333</td>\n",
       "      <td>28800.081301</td>\n",
       "      <td>2.417975e+05</td>\n",
       "      <td>0.001601</td>\n",
       "      <td>6.569106</td>\n",
       "      <td>16.048780</td>\n",
       "    </tr>\n",
       "    <tr>\n",
       "      <th>2017</th>\n",
       "      <td>46409.251029</td>\n",
       "      <td>46836.588477</td>\n",
       "      <td>46003.485597</td>\n",
       "      <td>46414.897119</td>\n",
       "      <td>2.304805e+05</td>\n",
       "      <td>0.001539</td>\n",
       "      <td>6.456790</td>\n",
       "      <td>16.144033</td>\n",
       "    </tr>\n",
       "    <tr>\n",
       "      <th>2018</th>\n",
       "      <td>46216.147541</td>\n",
       "      <td>46699.627049</td>\n",
       "      <td>45690.122951</td>\n",
       "      <td>46830.122951</td>\n",
       "      <td>7.767970e+06</td>\n",
       "      <td>-0.000985</td>\n",
       "      <td>6.483607</td>\n",
       "      <td>15.889344</td>\n",
       "    </tr>\n",
       "    <tr>\n",
       "      <th>2019</th>\n",
       "      <td>46563.414634</td>\n",
       "      <td>46989.024390</td>\n",
       "      <td>46122.154472</td>\n",
       "      <td>46583.333333</td>\n",
       "      <td>1.089653e+07</td>\n",
       "      <td>0.001593</td>\n",
       "      <td>6.520325</td>\n",
       "      <td>16.101626</td>\n",
       "    </tr>\n",
       "    <tr>\n",
       "      <th>2020</th>\n",
       "      <td>57133.064516</td>\n",
       "      <td>57821.370968</td>\n",
       "      <td>56475.604839</td>\n",
       "      <td>57153.225806</td>\n",
       "      <td>2.206350e+07</td>\n",
       "      <td>0.001722</td>\n",
       "      <td>6.516129</td>\n",
       "      <td>15.802419</td>\n",
       "    </tr>\n",
       "    <tr>\n",
       "      <th>2021</th>\n",
       "      <td>82849.600000</td>\n",
       "      <td>83620.000000</td>\n",
       "      <td>82136.000000</td>\n",
       "      <td>82771.200000</td>\n",
       "      <td>2.132680e+07</td>\n",
       "      <td>0.000002</td>\n",
       "      <td>3.608000</td>\n",
       "      <td>15.568000</td>\n",
       "    </tr>\n",
       "  </tbody>\n",
       "</table>\n",
       "</div>"
      ],
      "text/plain": [
       "              Open          High           Low         Close        Volume  \\\n",
       "Year                                                                         \n",
       "1997   1056.580000   1075.153333   1035.726667   1055.366667  2.230248e+05   \n",
       "1998   1113.948630   1144.623288   1083.828767   1113.702055  6.127810e+05   \n",
       "1999   3042.759036   3131.196787   2968.831325   3046.895582  8.627532e+05   \n",
       "2000   5382.593361   5516.601660   5248.804979   5372.406639  1.118580e+06   \n",
       "2001   3993.719512   4071.313008   3927.918699   4003.617886  7.313713e+05   \n",
       "2002   6859.209016   6971.897541   6752.295082   6865.122951  8.511943e+05   \n",
       "2003   7446.457490   7545.068826   7352.323887   7454.453441  6.190000e+05   \n",
       "2004   9647.698795   9765.811245   9523.477912   9647.389558  5.721826e+05   \n",
       "2005  10729.016064  10835.558233  10634.220884  10739.236948  4.305591e+05   \n",
       "2006  12769.429150  12893.870445  12637.829960  12758.056680  3.951112e+05   \n",
       "2007  11553.491870  11680.890244  11416.577236  11543.983740  5.652503e+05   \n",
       "2008  11465.262097  11656.080645  11288.713710  11475.927419  5.801616e+05   \n",
       "2009  12834.545455  13003.090909  12665.146245  12840.276680  4.828770e+05   \n",
       "2010  16081.334661  16222.474104  15914.019920  16070.996016  3.482710e+05   \n",
       "2011  17931.564516  18147.790323  17704.500000  17926.209677  3.958149e+05   \n",
       "2012  25182.705645  25454.048387  24927.463710  25214.596774  3.240736e+05   \n",
       "2013  28617.210526  28847.502024  28320.101215  28578.542510  2.577057e+05   \n",
       "2014  25872.587755  26082.187755  25613.404082  25835.918367  2.497491e+05   \n",
       "2015  26000.213710  26259.592742  25722.350806  25984.193548  2.395583e+05   \n",
       "2016  28733.678862  29054.081301  28488.833333  28800.081301  2.417975e+05   \n",
       "2017  46409.251029  46836.588477  46003.485597  46414.897119  2.304805e+05   \n",
       "2018  46216.147541  46699.627049  45690.122951  46830.122951  7.767970e+06   \n",
       "2019  46563.414634  46989.024390  46122.154472  46583.333333  1.089653e+07   \n",
       "2020  57133.064516  57821.370968  56475.604839  57153.225806  2.206350e+07   \n",
       "2021  82849.600000  83620.000000  82136.000000  82771.200000  2.132680e+07   \n",
       "\n",
       "        Change     Month        Day  \n",
       "Year                                 \n",
       "1997 -0.003180  9.373333  15.666667  \n",
       "1998  0.003875  6.462329  15.801370  \n",
       "1999  0.005742  6.578313  15.582329  \n",
       "2000 -0.001001  6.464730  16.120332  \n",
       "2001  0.002954  6.524390  16.004065  \n",
       "2002  0.000935  6.524590  16.004098  \n",
       "2003  0.001734  6.493927  15.931174  \n",
       "2004  0.000240  6.618474  15.602410  \n",
       "2005  0.001628  6.578313  15.975904  \n",
       "2006 -0.000184  6.469636  15.906883  \n",
       "2007 -0.000190  6.447154  15.772358  \n",
       "2008 -0.000437  6.540323  16.048387  \n",
       "2009  0.002509  6.561265  15.715415  \n",
       "2010  0.000820  6.573705  15.677291  \n",
       "2011  0.000665  6.564516  16.068548  \n",
       "2012  0.001652  6.483871  15.891129  \n",
       "2013 -0.000302  6.473684  15.878543  \n",
       "2014 -0.000016  6.506122  15.987755  \n",
       "2015 -0.000072  6.552419  15.600806  \n",
       "2016  0.001601  6.569106  16.048780  \n",
       "2017  0.001539  6.456790  16.144033  \n",
       "2018 -0.000985  6.483607  15.889344  \n",
       "2019  0.001593  6.520325  16.101626  \n",
       "2020  0.001722  6.516129  15.802419  \n",
       "2021  0.000002  3.608000  15.568000  "
      ]
     },
     "execution_count": 31,
     "metadata": {},
     "output_type": "execute_result"
    }
   ],
   "source": [
    "stock.groupby(\"Year\").mean()"
   ]
  },
  {
   "cell_type": "code",
   "execution_count": 32,
   "metadata": {
    "id": "mFfwNxvWG9Uz"
   },
   "outputs": [
    {
     "data": {
      "text/html": [
       "<div>\n",
       "<style scoped>\n",
       "    .dataframe tbody tr th:only-of-type {\n",
       "        vertical-align: middle;\n",
       "    }\n",
       "\n",
       "    .dataframe tbody tr th {\n",
       "        vertical-align: top;\n",
       "    }\n",
       "\n",
       "    .dataframe thead th {\n",
       "        text-align: right;\n",
       "    }\n",
       "</style>\n",
       "<table border=\"1\" class=\"dataframe\">\n",
       "  <thead>\n",
       "    <tr style=\"text-align: right;\">\n",
       "      <th></th>\n",
       "      <th></th>\n",
       "      <th>Open</th>\n",
       "      <th>High</th>\n",
       "      <th>Low</th>\n",
       "      <th>Close</th>\n",
       "      <th>Volume</th>\n",
       "      <th>Change</th>\n",
       "      <th>Day</th>\n",
       "    </tr>\n",
       "    <tr>\n",
       "      <th>Year</th>\n",
       "      <th>Month</th>\n",
       "      <th></th>\n",
       "      <th></th>\n",
       "      <th></th>\n",
       "      <th></th>\n",
       "      <th></th>\n",
       "      <th></th>\n",
       "      <th></th>\n",
       "    </tr>\n",
       "  </thead>\n",
       "  <tbody>\n",
       "    <tr>\n",
       "      <th rowspan=\"5\" valign=\"top\">1997</th>\n",
       "      <th>6</th>\n",
       "      <td>1247.333333</td>\n",
       "      <td>1268.333333</td>\n",
       "      <td>1210.000000</td>\n",
       "      <td>1245.000000</td>\n",
       "      <td>7.874667e+04</td>\n",
       "      <td>0.014627</td>\n",
       "      <td>28.333333</td>\n",
       "    </tr>\n",
       "    <tr>\n",
       "      <th>7</th>\n",
       "      <td>1228.769231</td>\n",
       "      <td>1241.461538</td>\n",
       "      <td>1216.423077</td>\n",
       "      <td>1227.500000</td>\n",
       "      <td>7.374308e+04</td>\n",
       "      <td>-0.003107</td>\n",
       "      <td>15.884615</td>\n",
       "    </tr>\n",
       "    <tr>\n",
       "      <th>8</th>\n",
       "      <td>1261.840000</td>\n",
       "      <td>1278.040000</td>\n",
       "      <td>1250.640000</td>\n",
       "      <td>1267.280000</td>\n",
       "      <td>1.537483e+05</td>\n",
       "      <td>0.003438</td>\n",
       "      <td>15.840000</td>\n",
       "    </tr>\n",
       "    <tr>\n",
       "      <th>9</th>\n",
       "      <td>1224.652174</td>\n",
       "      <td>1238.739130</td>\n",
       "      <td>1209.217391</td>\n",
       "      <td>1224.521739</td>\n",
       "      <td>6.507870e+04</td>\n",
       "      <td>-0.002450</td>\n",
       "      <td>15.086957</td>\n",
       "    </tr>\n",
       "    <tr>\n",
       "      <th>10</th>\n",
       "      <td>1027.230769</td>\n",
       "      <td>1045.730769</td>\n",
       "      <td>995.307692</td>\n",
       "      <td>1014.000000</td>\n",
       "      <td>1.376285e+05</td>\n",
       "      <td>-0.020538</td>\n",
       "      <td>16.576923</td>\n",
       "    </tr>\n",
       "    <tr>\n",
       "      <th>...</th>\n",
       "      <th>...</th>\n",
       "      <td>...</td>\n",
       "      <td>...</td>\n",
       "      <td>...</td>\n",
       "      <td>...</td>\n",
       "      <td>...</td>\n",
       "      <td>...</td>\n",
       "      <td>...</td>\n",
       "    </tr>\n",
       "    <tr>\n",
       "      <th rowspan=\"5\" valign=\"top\">2021</th>\n",
       "      <th>3</th>\n",
       "      <td>82250.000000</td>\n",
       "      <td>82763.636364</td>\n",
       "      <td>81609.090909</td>\n",
       "      <td>82072.727273</td>\n",
       "      <td>1.761874e+07</td>\n",
       "      <td>-0.000570</td>\n",
       "      <td>16.318182</td>\n",
       "    </tr>\n",
       "    <tr>\n",
       "      <th>4</th>\n",
       "      <td>83786.363636</td>\n",
       "      <td>84150.000000</td>\n",
       "      <td>83095.454545</td>\n",
       "      <td>83586.363636</td>\n",
       "      <td>1.695174e+07</td>\n",
       "      <td>0.000101</td>\n",
       "      <td>16.045455</td>\n",
       "    </tr>\n",
       "    <tr>\n",
       "      <th>5</th>\n",
       "      <td>80547.368421</td>\n",
       "      <td>81105.263158</td>\n",
       "      <td>80015.789474</td>\n",
       "      <td>80521.052632</td>\n",
       "      <td>1.853742e+07</td>\n",
       "      <td>-0.000592</td>\n",
       "      <td>16.684211</td>\n",
       "    </tr>\n",
       "    <tr>\n",
       "      <th>6</th>\n",
       "      <td>81195.454545</td>\n",
       "      <td>81590.909091</td>\n",
       "      <td>80740.909091</td>\n",
       "      <td>81104.545455</td>\n",
       "      <td>1.514088e+07</td>\n",
       "      <td>0.000147</td>\n",
       "      <td>15.318182</td>\n",
       "    </tr>\n",
       "    <tr>\n",
       "      <th>7</th>\n",
       "      <td>80250.000000</td>\n",
       "      <td>80500.000000</td>\n",
       "      <td>79950.000000</td>\n",
       "      <td>80050.000000</td>\n",
       "      <td>1.078229e+07</td>\n",
       "      <td>-0.004342</td>\n",
       "      <td>1.500000</td>\n",
       "    </tr>\n",
       "  </tbody>\n",
       "</table>\n",
       "<p>290 rows × 7 columns</p>\n",
       "</div>"
      ],
      "text/plain": [
       "                    Open          High           Low         Close  \\\n",
       "Year Month                                                           \n",
       "1997 6       1247.333333   1268.333333   1210.000000   1245.000000   \n",
       "     7       1228.769231   1241.461538   1216.423077   1227.500000   \n",
       "     8       1261.840000   1278.040000   1250.640000   1267.280000   \n",
       "     9       1224.652174   1238.739130   1209.217391   1224.521739   \n",
       "     10      1027.230769   1045.730769    995.307692   1014.000000   \n",
       "...                  ...           ...           ...           ...   \n",
       "2021 3      82250.000000  82763.636364  81609.090909  82072.727273   \n",
       "     4      83786.363636  84150.000000  83095.454545  83586.363636   \n",
       "     5      80547.368421  81105.263158  80015.789474  80521.052632   \n",
       "     6      81195.454545  81590.909091  80740.909091  81104.545455   \n",
       "     7      80250.000000  80500.000000  79950.000000  80050.000000   \n",
       "\n",
       "                  Volume    Change        Day  \n",
       "Year Month                                     \n",
       "1997 6      7.874667e+04  0.014627  28.333333  \n",
       "     7      7.374308e+04 -0.003107  15.884615  \n",
       "     8      1.537483e+05  0.003438  15.840000  \n",
       "     9      6.507870e+04 -0.002450  15.086957  \n",
       "     10     1.376285e+05 -0.020538  16.576923  \n",
       "...                  ...       ...        ...  \n",
       "2021 3      1.761874e+07 -0.000570  16.318182  \n",
       "     4      1.695174e+07  0.000101  16.045455  \n",
       "     5      1.853742e+07 -0.000592  16.684211  \n",
       "     6      1.514088e+07  0.000147  15.318182  \n",
       "     7      1.078229e+07 -0.004342   1.500000  \n",
       "\n",
       "[290 rows x 7 columns]"
      ]
     },
     "execution_count": 32,
     "metadata": {},
     "output_type": "execute_result"
    }
   ],
   "source": [
    "stock.groupby([\"Year\",\"Month\"]).mean()"
   ]
  },
  {
   "cell_type": "markdown",
   "metadata": {
    "id": "5FBTlube0l4d"
   },
   "source": [
    "### 문제 13. matplotlib을 활용해 시간에 따른 주식 가격 시계열 그래프를 그려보세요."
   ]
  },
  {
   "cell_type": "code",
   "execution_count": null,
   "metadata": {
    "id": "MWcaWEa80l4o"
   },
   "outputs": [],
   "source": [
    "plt.figure(figsize=(16, 9))\n",
    "# 코드를 이어서 작성해주세요.\n"
   ]
  },
  {
   "cell_type": "markdown",
   "metadata": {
    "id": "fTr5lZHpHLCc"
   },
   "source": [
    "### 문제 14. subplots를 활용해 그래프 4개(2,2)를 동시에 그려보세요."
   ]
  },
  {
   "cell_type": "code",
   "execution_count": null,
   "metadata": {
    "id": "YHjPfMPjBudw"
   },
   "outputs": [],
   "source": [
    "# 1990~2000, 2000~2010, 2010~2015, 2015~2020\n",
    "time_steps = \n",
    "\n",
    "fig, axes = \n",
    "\n",
    "for i in range(4):\n",
    "    ax = #코드를 작성해주세요\n",
    "    df = #코드를 작성해주세요\n",
    "plt.tight_layout()\n",
    "plt.show()"
   ]
  },
  {
   "cell_type": "markdown",
   "metadata": {
    "id": "IyLCGJyTNAtc"
   },
   "source": [
    "## Step 3. 시계열 데이터의 전처리"
   ]
  },
  {
   "cell_type": "markdown",
   "metadata": {
    "id": "CDgThJtbBudw"
   },
   "source": [
    "### 문제 15. MinMaxScaler를 활요해 데이터 전처리를 수행합니다."
   ]
  },
  {
   "cell_type": "markdown",
   "metadata": {
    "id": "srjf2-yXBudx"
   },
   "source": [
    "주가 데이터에 대하여 딥러닝 모델이 더 잘 학습할 수 있도록 **정규화(Normalization)**를 해주도록 하겠습니다.\n",
    "\n",
    "**표준화 (Standardization)**와 **정규화(Normalization)**에 대한 내용은 아래 링크에서 더 자세히 다루니, 참고해 보시기 바랍니다.\n",
    "\n",
    "- [데이터 전처리에 관하여](https://teddylee777.github.io/scikit-learn/scikit-learn-preprocessing)"
   ]
  },
  {
   "cell_type": "code",
   "execution_count": null,
   "metadata": {
    "id": "4-4PgRMZ0l5Q"
   },
   "outputs": [],
   "source": [
    "from sklearn.preprocessing import MinMaxScaler\n",
    "\n",
    "scaler = #MinMaxScaler 할당\n",
    "# 스케일을 적용할 column을 정의합니다.\n",
    "scale_cols = \n",
    "# 스케일 후 columns\n",
    "scaled = "
   ]
  },
  {
   "cell_type": "markdown",
   "metadata": {
    "id": "sQQhs9BoBudx"
   },
   "source": [
    "스케일이 완료된 column으로 새로운 데이터프레임을 생성합니다.\n",
    "\n",
    "**시간 순으로 정렬**되어 있으며, datetime index는 제외했습니다.\n",
    "\n",
    "*6,000개의 row, 5개 column*으로 이루어진 데이터셋이 DataFrame으로 정리되었습니다."
   ]
  },
  {
   "cell_type": "code",
   "execution_count": null,
   "metadata": {
    "id": "dIJjE21B0l5m"
   },
   "outputs": [],
   "source": [
    "# 아래 코드는 그대로 실행해주세요.\n",
    "df = pd.DataFrame(scaled, columns=scale_cols)"
   ]
  },
  {
   "cell_type": "markdown",
   "metadata": {
    "id": "o91qHBM9Budy"
   },
   "source": [
    "### 문제 16. 모델 학습을 위해 train 데이터와 test 데이터로 분할해주세요."
   ]
  },
  {
   "cell_type": "code",
   "execution_count": null,
   "metadata": {
    "id": "EfLaczmvBudy"
   },
   "outputs": [],
   "source": [
    "from sklearn.model_selection import train_test_split"
   ]
  },
  {
   "cell_type": "code",
   "execution_count": null,
   "metadata": {
    "id": "lWJLgnIZBudy"
   },
   "outputs": [],
   "source": [
    "# Close 컬럼이 예측할 데이터입니다.\n",
    "# test_size는 0.2, random_state는 0으로 지정해주세요.\n",
    "# shuffle을 수행하지 않습니다.\n",
    "x_train, x_test, y_train, y_test = "
   ]
  },
  {
   "cell_type": "markdown",
   "metadata": {
    "id": "WIZKmyXKJXGI"
   },
   "source": [
    "### 문제 17. train 데이터와 test 데이터의 shape을 각각 살펴봅니다."
   ]
  },
  {
   "cell_type": "code",
   "execution_count": null,
   "metadata": {
    "id": "DB9gnTXzBudz"
   },
   "outputs": [],
   "source": []
  },
  {
   "cell_type": "code",
   "execution_count": null,
   "metadata": {
    "id": "lNLz-MYcBudz"
   },
   "outputs": [],
   "source": []
  },
  {
   "cell_type": "code",
   "execution_count": null,
   "metadata": {
    "id": "8DK9YaozBudz"
   },
   "outputs": [],
   "source": []
  },
  {
   "cell_type": "markdown",
   "metadata": {
    "id": "qr3eGxuxBud0"
   },
   "source": [
    "### 문제 18. TensroFlow Dataset을 활용해 시퀀스 데이터셋을 함수로 구현해주세요"
   ]
  },
  {
   "cell_type": "code",
   "execution_count": null,
   "metadata": {
    "id": "wOTgC-y2Bud0"
   },
   "outputs": [],
   "source": [
    "import tensorflow as tf"
   ]
  },
  {
   "cell_type": "code",
   "execution_count": null,
   "metadata": {
    "id": "yOlPdfrsBud0"
   },
   "outputs": [],
   "source": [
    "def windowed_dataset():\n",
    "    series = \n",
    "    ds = \n",
    "    if shuffle:\n",
    "        ds = ds.shuffle(1000)\n",
    "    ds = ds.map(#코드 작성)\n",
    "    return ds.batch(batch_size).prefetch(1)"
   ]
  },
  {
   "cell_type": "markdown",
   "metadata": {
    "id": "4UT0af9ANPTF"
   },
   "source": [
    "## Step 4. 모델 구현하기"
   ]
  },
  {
   "cell_type": "markdown",
   "metadata": {
    "id": "ht3fvb2kBud0"
   },
   "source": [
    "### 문제 19. Hyperparameter를 정의하고 데이터에 적용해주세요."
   ]
  },
  {
   "cell_type": "code",
   "execution_count": null,
   "metadata": {
    "id": "C894WM_pBud1"
   },
   "outputs": [],
   "source": [
    "# 아래 코드는 그대로 실행해주세요.\n",
    "WINDOW_SIZE=20\n",
    "BATCH_SIZE=32"
   ]
  },
  {
   "cell_type": "code",
   "execution_count": null,
   "metadata": {
    "id": "81VrjjujBud1"
   },
   "outputs": [],
   "source": [
    "# trian_data는 학습용 데이터셋, test_data는 검증용 데이터셋 입니다.\n",
    "# WINDOW_SIZE와 BATCH_SIZE를 각 데이터셋에 적용해주세요.\n",
    "train_data = windowed_dataset(#코드 작성\n",
    "test_data = windowed_dataset(#코드 작성"
   ]
  },
  {
   "cell_type": "code",
   "execution_count": null,
   "metadata": {
    "id": "aYPa6fkNBud1",
    "outputId": "89231cd5-d741-4e73-928a-21767e485d33"
   },
   "outputs": [],
   "source": [
    "# 아래의 코드로 데이터셋의 구성을 확인해 볼 수 있습니다. 그대로 실행해보고, 데이터의 shape을 살펴보세요.\n",
    "# X: (batch_size, window_size, feature)\n",
    "# Y: (batch_size, feature)\n",
    "for data in train_data.take(1):\n",
    "    print(f'데이터셋(X) 구성(batch_size, window_size, feature갯수): {data[0].shape}')\n",
    "    print(f'데이터셋(Y) 구성(batch_size, window_size, feature갯수): {data[1].shape}')"
   ]
  },
  {
   "cell_type": "markdown",
   "metadata": {
    "id": "rSmSQt-wBud1"
   },
   "source": [
    "### 문제 20. Sequential 모델을 구현합니다. "
   ]
  },
  {
   "cell_type": "code",
   "execution_count": null,
   "metadata": {
    "id": "mAkmGu1j0l8M"
   },
   "outputs": [],
   "source": [
    "from tensorflow.keras.models import Sequential\n",
    "from tensorflow.keras.layers import Dense, LSTM, Conv1D, Lambda\n",
    "from tensorflow.keras.losses import Huber\n",
    "from tensorflow.keras.optimizers import Adam\n",
    "from tensorflow.keras.callbacks import EarlyStopping, ModelCheckpoint\n",
    "\n",
    "\n",
    "model = Sequential([\n",
    "    # 1차원 feature map 생성합니다. filters는 32로, kernel_size는 5로 지정해주세요.\n",
    "    \n",
    "\n",
    "    # LSTM과 Dense 레이어를 사용해주세요. 필요한 경우 활성함수는 relu로 지정합니다.\n",
    "    \n",
    "])"
   ]
  },
  {
   "cell_type": "markdown",
   "metadata": {
    "id": "52H4IgnELRRt"
   },
   "source": [
    "### 문제 21. 모델을 Compile합니다. loss는 Huber 함수를 사용하고 optimizer는 Adam을 사용해주세요."
   ]
  },
  {
   "cell_type": "code",
   "execution_count": null,
   "metadata": {
    "id": "xShll_EX0l8T"
   },
   "outputs": [],
   "source": [
    "# Sequence 학습에 비교적 좋은 퍼포먼스를 내는 Huber()를 사용합니다.\n",
    "loss = \n",
    "\n",
    "model.compile()"
   ]
  },
  {
   "cell_type": "code",
   "execution_count": null,
   "metadata": {
    "id": "whZcvxsKBud2"
   },
   "outputs": [],
   "source": [
    "# earlystopping은 10번 epoch통안 val_loss 개선이 없다면 학습을 멈춥니다.\n",
    "earlystopping = \n",
    "# val_loss 기준 체크포인터도 생성합니다.\n",
    "filename = \n",
    "checkpoint = ModelCheckpoint()"
   ]
  },
  {
   "cell_type": "code",
   "execution_count": null,
   "metadata": {
    "id": "y9OuVTeBBud2"
   },
   "outputs": [],
   "source": [
    "# callbacks로 앞에서 구현한 earlystopping과 checkpoint를 지정해주세요.\n",
    "history ="
   ]
  },
  {
   "cell_type": "markdown",
   "metadata": {
    "id": "L0LQMnc-NZXo"
   },
   "source": [
    "## Step 5. 모델을 활용한 예측 및 결과 시각화"
   ]
  },
  {
   "cell_type": "markdown",
   "metadata": {
    "id": "qDTIxmbVBud3"
   },
   "source": [
    "### 문제 24. 저장한 ModelCheckpoint 를 불러옵니다."
   ]
  },
  {
   "cell_type": "code",
   "execution_count": null,
   "metadata": {
    "id": "RoPIDRSo32f-"
   },
   "outputs": [],
   "source": []
  },
  {
   "cell_type": "markdown",
   "metadata": {
    "id": "x0-oum0bBud3"
   },
   "source": [
    "### 문제 25. `test_data`를 활용하여 예측을 수행합니다."
   ]
  },
  {
   "cell_type": "code",
   "execution_count": null,
   "metadata": {
    "id": "WxAxSLNL0l8Z"
   },
   "outputs": [],
   "source": [
    "pred ="
   ]
  },
  {
   "cell_type": "code",
   "execution_count": null,
   "metadata": {
    "id": "yMPXjSQ10l8d"
   },
   "outputs": [],
   "source": []
  },
  {
   "cell_type": "markdown",
   "metadata": {
    "id": "jaWpXnQf6zMt"
   },
   "source": [
    "### 문제 26. matplotlib을 활용해 예측 데이터를 시각화해주세요."
   ]
  },
  {
   "cell_type": "markdown",
   "metadata": {
    "id": "Vq2_mc7fBud4"
   },
   "source": [
    "아래 시각화 코드중 y_test 데이터에 **[20:]**으로 슬라이싱을 한 이유는\n",
    "\n",
    "예측 데이터에서 20일치의 데이터로 21일치를 예측해야하기 때문에 test_data로 예측 시 *앞의 20일은 예측하지 않습니다.*\n",
    "\n",
    "따라서, 20번 째 index와 비교하면 더욱 정확합니다."
   ]
  },
  {
   "cell_type": "code",
   "execution_count": null,
   "metadata": {
    "id": "2F4QQ1O_0l8m"
   },
   "outputs": [],
   "source": [
    "# 20일치의 데이터로 21일치를 예측하므로 test_data 사용시 이전 20일은 예측하지 않습니다.\n",
    "# 따라서 y_test 데이터에 [20:]로 슬라이싱해주세요.\n",
    "plt.figure(figsize=(12, 9))\n",
    "\n",
    "\n",
    "plt.legend()\n",
    "plt.show()"
   ]
  }
 ],
 "metadata": {
  "accelerator": "GPU",
  "colab": {
   "collapsed_sections": [],
   "name": "[문제] LSTM을 활용해 주가 예측 모델 구현하기",
   "provenance": []
  },
  "kernelspec": {
   "display_name": "Python 3",
   "language": "python",
   "name": "python3"
  },
  "language_info": {
   "codemirror_mode": {
    "name": "ipython",
    "version": 3
   },
   "file_extension": ".py",
   "mimetype": "text/x-python",
   "name": "python",
   "nbconvert_exporter": "python",
   "pygments_lexer": "ipython3",
   "version": "3.9.5"
  }
 },
 "nbformat": 4,
 "nbformat_minor": 1
}
