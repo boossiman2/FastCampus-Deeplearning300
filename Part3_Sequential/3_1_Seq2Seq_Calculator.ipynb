{
 "cells": [
  {
   "cell_type": "markdown",
   "metadata": {
    "id": "oR0VJlz7mi5A"
   },
   "source": [
    "\n",
    "# 주제 : 딥러닝으로 Seq2Seq 계산기 만들기\n",
    "--------------\n",
    "## 실습 가이드\n",
    "    1. 데이터를 다운로드하여 Colab에 불러옵니다.\n",
    "    2. 필요한 라이브러리는 모두 코드로 작성되어 있습니다.\n",
    "    3. 코드는 위에서부터 아래로 순서대로 실행합니다.\n",
    "    4. 전체 문제 구성은 좌측 첫 번째 아이콘을 통해 확인할 수 있습니다.\n",
    "\n",
    "## 데이터 소개\n",
    "    - 이번 주제는 직접 랜덤 생성한 Dataset을 사용합니다.\n",
    "    - 학습 데이터와 정답 데이터는, 각각의 아래와 같습니다.\n",
    "    \n",
    "    1. train_text\n",
    "      23 + 13\n",
    "      1 - 3\n",
    "      32 + 5\n",
    "      1 + 62 ...\n",
    "    \n",
    "    2. train_answer\n",
    "      36\n",
    "      -1\n",
    "      37\n",
    "      63 ...\n",
    "\n",
    "\n",
    "    \n",
    "- 데이터 출처: 없음\n",
    "\n",
    "## 최종 목표\n",
    "    - Seq2Seq 기반 모델의 이해\n",
    "    - word embedding 이해\n",
    "    - 시계열 데이터 학습 이해\n",
    "    \n",
    "  - 출제자 : 손근영 강사\n"
   ]
  },
  {
   "cell_type": "code",
   "execution_count": 3,
   "metadata": {
    "executionInfo": {
     "elapsed": 3861,
     "status": "ok",
     "timestamp": 1621325120483,
     "user": {
      "displayName": "상혁",
      "photoUrl": "https://lh3.googleusercontent.com/a-/AOh14GhbIrRm98j_8TFO0cp-Q8R4GfLfDeQZml3g34kD=s64",
      "userId": "09602093014858836852"
     },
     "user_tz": -540
    },
    "id": "e7kl3hgkikbo"
   },
   "outputs": [],
   "source": [
    "import tensorflow as tf\n",
    "from tensorflow import keras\n",
    "from keras.layers import Dense\n",
    "from keras.models import Sequential\n",
    "\n",
    "import pandas as pd\n",
    "import numpy as np\n",
    "import matplotlib.pyplot as plt\n",
    "import seaborn as sns\n",
    "import warnings \n",
    "from IPython.display import Image\n",
    "\n",
    "warnings.filterwarnings('ignore')\n",
    "%matplotlib inline\n",
    "\n",
    "SEED = 34"
   ]
  },
  {
   "cell_type": "markdown",
   "metadata": {
    "id": "c5uDUVunS1Yk"
   },
   "source": [
    "## Step 1. 도입전 기본 처리"
   ]
  },
  {
   "cell_type": "markdown",
   "metadata": {
    "id": "2Bgf6uZtoBob"
   },
   "source": [
    "### 문제 1. 랜덤 2자리 더하기 데이터와 정답셋 생성"
   ]
  },
  {
   "cell_type": "code",
   "execution_count": 4,
   "metadata": {
    "executionInfo": {
     "elapsed": 4151,
     "status": "ok",
     "timestamp": 1621325120804,
     "user": {
      "displayName": "상혁",
      "photoUrl": "https://lh3.googleusercontent.com/a-/AOh14GhbIrRm98j_8TFO0cp-Q8R4GfLfDeQZml3g34kD=s64",
      "userId": "09602093014858836852"
     },
     "user_tz": -540
    },
    "id": "l2NW5G5nTgsb"
   },
   "outputs": [],
   "source": [
    "# 랜덤 2자리 더하기 데이터와 정답셋을 오만쌍 생성해주세요.\n",
    "def make_raw_text( count = 50000):\n",
    "    train_text = []\n",
    "    train_label = []\n",
    "    for _ in range(count):\n",
    "        t = np.random.randint(0, 3)\n",
    "        if t == 0:\n",
    "            a = np.random.randint(0, 10)\n",
    "        else:\n",
    "            a = np.random.randint(0, 100)\n",
    "\n",
    "        t = np.random.randint(0, 3)\n",
    "        if t == 0:\n",
    "            b = np.random.randint(0, 10)\n",
    "        else:\n",
    "            b = np.random.randint(0, 100)\n",
    "        \n",
    "        if np.random.randint(0, 2) == 0:\n",
    "            train = f'{a} + {b}'\n",
    "            answer = f\"{a+b}\"\n",
    "        else:\n",
    "            train = f'{a} - {b}'\n",
    "            answer = f\"{a-b}\"\n",
    "\n",
    "        train_text.append(train)\n",
    "        train_label.append(answer)\n",
    "    return train_text, train_label\n",
    "\n",
    "train_text, train_label = make_raw_text()\n",
    "# print(len(train_text), len(train_label)) # 50000, 50000"
   ]
  },
  {
   "cell_type": "code",
   "execution_count": 5,
   "metadata": {
    "colab": {
     "base_uri": "https://localhost:8080/"
    },
    "executionInfo": {
     "elapsed": 4029,
     "status": "ok",
     "timestamp": 1621325120804,
     "user": {
      "displayName": "상혁",
      "photoUrl": "https://lh3.googleusercontent.com/a-/AOh14GhbIrRm98j_8TFO0cp-Q8R4GfLfDeQZml3g34kD=s64",
      "userId": "09602093014858836852"
     },
     "user_tz": -540
    },
    "id": "A5nT06xXpcyv",
    "outputId": "61d3787d-d678-4bac-f194-8f20e899bd17"
   },
   "outputs": [
    {
     "data": {
      "text/plain": [
       "('52 + 5', '57')"
      ]
     },
     "execution_count": 5,
     "metadata": {},
     "output_type": "execute_result"
    }
   ],
   "source": [
    "train_text[0], train_label[0]"
   ]
  },
  {
   "cell_type": "markdown",
   "metadata": {
    "id": "eKv9UoZAxTr6"
   },
   "source": [
    "## Step 2. 전처리"
   ]
  },
  {
   "cell_type": "markdown",
   "metadata": {
    "id": "ko4D-BpJTq2r"
   },
   "source": [
    "### 문제 2. train_text, train_anser에서 나오는 모든 token을 map<token, id>형태로 변경"
   ]
  },
  {
   "cell_type": "code",
   "execution_count": 6,
   "metadata": {
    "colab": {
     "base_uri": "https://localhost:8080/"
    },
    "executionInfo": {
     "elapsed": 4011,
     "status": "ok",
     "timestamp": 1621325120805,
     "user": {
      "displayName": "상혁",
      "photoUrl": "https://lh3.googleusercontent.com/a-/AOh14GhbIrRm98j_8TFO0cp-Q8R4GfLfDeQZml3g34kD=s64",
      "userId": "09602093014858836852"
     },
     "user_tz": -540
    },
    "id": "waksbx9aT5tK",
    "outputId": "97b24e8c-cb41-4e5b-ad51-b473da612100"
   },
   "outputs": [
    {
     "data": {
      "text/plain": [
       "{'0': 0,\n",
       " '1': 1,\n",
       " '2': 2,\n",
       " '3': 3,\n",
       " '4': 4,\n",
       " '5': 5,\n",
       " '6': 6,\n",
       " '7': 7,\n",
       " '8': 8,\n",
       " '9': 9,\n",
       " '+': 10,\n",
       " '-': 11,\n",
       " 'PAD': 12,\n",
       " 'EOS': 13}"
      ]
     },
     "execution_count": 6,
     "metadata": {},
     "output_type": "execute_result"
    }
   ],
   "source": [
    "# train_text, train_anser에서 나오는 모든 token을 map<token, id>형태로 변경하세요. (단, + -> 10, PAD -> 12, EOS -> 13)\n",
    "vocab = { str(i):i for i in range(10) }\n",
    "vocab.update ( {\"+\":10, '-':11, 'PAD':12, 'EOS':13})\n",
    "vocab"
   ]
  },
  {
   "cell_type": "markdown",
   "metadata": {
    "id": "eEksTrDQ4cXN"
   },
   "source": [
    "### 문제 3. vacab의 역형태인 map<id, token> 형태도 생성"
   ]
  },
  {
   "cell_type": "code",
   "execution_count": 7,
   "metadata": {
    "executionInfo": {
     "elapsed": 4009,
     "status": "ok",
     "timestamp": 1621325120806,
     "user": {
      "displayName": "상혁",
      "photoUrl": "https://lh3.googleusercontent.com/a-/AOh14GhbIrRm98j_8TFO0cp-Q8R4GfLfDeQZml3g34kD=s64",
      "userId": "09602093014858836852"
     },
     "user_tz": -540
    },
    "id": "xcs9G5IO4r72"
   },
   "outputs": [],
   "source": [
    "# vocab의 역형태인 <id, token>을 생성하세요.\n",
    "invocab = { v:k for k, v in vocab.items() }\n",
    "# for k, v in vocab.items():\n",
    "#     invocab[v] = k\n",
    "# invocab"
   ]
  },
  {
   "cell_type": "markdown",
   "metadata": {
    "id": "hrmQ7HzEUKrz"
   },
   "source": [
    "### 문제 4. train_text와 train_anser를 BOW 형태로 변경"
   ]
  },
  {
   "cell_type": "code",
   "execution_count": 8,
   "metadata": {
    "executionInfo": {
     "elapsed": 4884,
     "status": "ok",
     "timestamp": 1621325121689,
     "user": {
      "displayName": "상혁",
      "photoUrl": "https://lh3.googleusercontent.com/a-/AOh14GhbIrRm98j_8TFO0cp-Q8R4GfLfDeQZml3g34kD=s64",
      "userId": "09602093014858836852"
     },
     "user_tz": -540
    },
    "id": "fVzGHMSYUUKk"
   },
   "outputs": [],
   "source": [
    "# train_text와 train_anser를 BOW 형태로 변경하세요.\n",
    "def plain2bow(text, vocab):\n",
    "    return np.array( [vocab[ch] for word in text.split() for ch in word ]+ [vocab['EOS']] )\n",
    "\n",
    "train_bow_text = [ plain2bow(text,vocab) for text in train_text ]\n",
    "train_bow_label = [ plain2bow(text,vocab) for text in train_label ]\n"
   ]
  },
  {
   "cell_type": "code",
   "execution_count": 9,
   "metadata": {
    "colab": {
     "base_uri": "https://localhost:8080/"
    },
    "executionInfo": {
     "elapsed": 4867,
     "status": "ok",
     "timestamp": 1621325121690,
     "user": {
      "displayName": "상혁",
      "photoUrl": "https://lh3.googleusercontent.com/a-/AOh14GhbIrRm98j_8TFO0cp-Q8R4GfLfDeQZml3g34kD=s64",
      "userId": "09602093014858836852"
     },
     "user_tz": -540
    },
    "id": "vnFXOLTwtVp5",
    "outputId": "9c6f267b-9b27-434e-85d0-b113904d5802"
   },
   "outputs": [
    {
     "data": {
      "text/plain": [
       "(array([ 5,  2, 10,  5, 13]), array([ 5,  7, 13]))"
      ]
     },
     "execution_count": 9,
     "metadata": {},
     "output_type": "execute_result"
    }
   ],
   "source": [
    "train_bow_text[0], train_bow_label[0]"
   ]
  },
  {
   "cell_type": "markdown",
   "metadata": {
    "id": "HaM2PoZpvXJE"
   },
   "source": [
    "### 문제 5. train_bow_text와 train_bow_answer에 padding을 추가하여 완전한 np.array로 변경하세요."
   ]
  },
  {
   "cell_type": "code",
   "execution_count": 10,
   "metadata": {
    "executionInfo": {
     "elapsed": 4865,
     "status": "ok",
     "timestamp": 1621325121692,
     "user": {
      "displayName": "상혁",
      "photoUrl": "https://lh3.googleusercontent.com/a-/AOh14GhbIrRm98j_8TFO0cp-Q8R4GfLfDeQZml3g34kD=s64",
      "userId": "09602093014858836852"
     },
     "user_tz": -540
    },
    "id": "wjZ9MeaAve_J"
   },
   "outputs": [],
   "source": [
    "# train_bow_text와 train_bow_answer에 padding을 추가하여 완전한 np.array로 변경하세요.\n",
    "train_bow_text = tf.keras.preprocessing.sequence.pad_sequences(train_bow_text, value= vocab['PAD'])\n",
    "train_bow_label = tf.keras.preprocessing.sequence.pad_sequences(train_bow_label, padding='post',value= vocab['PAD'])"
   ]
  },
  {
   "cell_type": "code",
   "execution_count": 11,
   "metadata": {
    "colab": {
     "base_uri": "https://localhost:8080/"
    },
    "executionInfo": {
     "elapsed": 4846,
     "status": "ok",
     "timestamp": 1621325121693,
     "user": {
      "displayName": "상혁",
      "photoUrl": "https://lh3.googleusercontent.com/a-/AOh14GhbIrRm98j_8TFO0cp-Q8R4GfLfDeQZml3g34kD=s64",
      "userId": "09602093014858836852"
     },
     "user_tz": -540
    },
    "id": "YSsk6m0-uGBm",
    "outputId": "ec68347e-5737-4479-f110-dc8af39afa85"
   },
   "outputs": [
    {
     "data": {
      "text/plain": [
       "((50000, 6), (50000, 4))"
      ]
     },
     "execution_count": 11,
     "metadata": {},
     "output_type": "execute_result"
    }
   ],
   "source": [
    "train_bow_text.shape, train_bow_label.shape"
   ]
  },
  {
   "cell_type": "markdown",
   "metadata": {
    "id": "ycjd30D5wgBT"
   },
   "source": [
    "### 문제 6. train_bow_text를 train_data_bow, test_data_bow로 (98%, 2%의 개수) 분리해보세요."
   ]
  },
  {
   "cell_type": "code",
   "execution_count": 12,
   "metadata": {
    "executionInfo": {
     "elapsed": 4842,
     "status": "ok",
     "timestamp": 1621325121694,
     "user": {
      "displayName": "상혁",
      "photoUrl": "https://lh3.googleusercontent.com/a-/AOh14GhbIrRm98j_8TFO0cp-Q8R4GfLfDeQZml3g34kD=s64",
      "userId": "09602093014858836852"
     },
     "user_tz": -540
    },
    "id": "dKL09gUixRtL"
   },
   "outputs": [],
   "source": [
    "# train_bow_text를 train_bows, test_bows로 (98%, 2%의 개수) 분리해보세요.\n",
    "def setSplit(data, rate):\n",
    "    return int(len(data)* rate)\n",
    "\n",
    "upper_bound = setSplit(train_bow_text, 0.98)\n",
    "\n",
    "train_data_bow = train_bow_text[:upper_bound]\n",
    "train_label_bow = train_bow_label[:upper_bound]\n",
    "\n",
    "test_data_bow = train_bow_text[upper_bound:]\n",
    "test_label_bow = train_bow_label[upper_bound:]"
   ]
  },
  {
   "cell_type": "code",
   "execution_count": 13,
   "metadata": {
    "colab": {
     "base_uri": "https://localhost:8080/"
    },
    "executionInfo": {
     "elapsed": 4829,
     "status": "ok",
     "timestamp": 1621325121695,
     "user": {
      "displayName": "상혁",
      "photoUrl": "https://lh3.googleusercontent.com/a-/AOh14GhbIrRm98j_8TFO0cp-Q8R4GfLfDeQZml3g34kD=s64",
      "userId": "09602093014858836852"
     },
     "user_tz": -540
    },
    "id": "8MFW1JMkv_4B",
    "outputId": "4bddf276-89dd-43a0-a88b-e60614b357d9"
   },
   "outputs": [
    {
     "name": "stdout",
     "output_type": "stream",
     "text": [
      "(49000, 6) (49000, 4)\n",
      "(1000, 6) (1000, 4)\n"
     ]
    }
   ],
   "source": [
    "print(train_data_bow.shape, train_label_bow.shape)\n",
    "print(test_data_bow.shape, test_label_bow.shape)"
   ]
  },
  {
   "cell_type": "markdown",
   "metadata": {
    "id": "SMyUArry3UhT"
   },
   "source": [
    "## Step 3. 시각화 방법"
   ]
  },
  {
   "cell_type": "markdown",
   "metadata": {
    "id": "vDLHexaGUs17"
   },
   "source": [
    "### 문제 7. train_data_bow에서 등장하는 token의 분포를 출력해보세요."
   ]
  },
  {
   "cell_type": "code",
   "execution_count": 14,
   "metadata": {
    "colab": {
     "base_uri": "https://localhost:8080/",
     "height": 265
    },
    "executionInfo": {
     "elapsed": 4817,
     "status": "ok",
     "timestamp": 1621325121696,
     "user": {
      "displayName": "상혁",
      "photoUrl": "https://lh3.googleusercontent.com/a-/AOh14GhbIrRm98j_8TFO0cp-Q8R4GfLfDeQZml3g34kD=s64",
      "userId": "09602093014858836852"
     },
     "user_tz": -540
    },
    "id": "1NYdCv1yUsKG",
    "outputId": "e95b5947-00be-4e32-ce29-699baf38d137"
   },
   "outputs": [
    {
     "data": {
      "image/png": "[encoded data removed]",
      "text/plain": [
       "<Figure size 432x288 with 1 Axes>"
      ]
     },
     "metadata": {
      "needs_background": "light"
     },
     "output_type": "display_data"
    }
   ],
   "source": [
    "#  train_data_bow에서 등장하는 token의 분포를 출력해보세요.\n",
    "digits, count = np.unique(train_data_bow, return_counts =True)\n",
    "plt.bar(digits, count)\n",
    "plt.show()"
   ]
  },
  {
   "cell_type": "markdown",
   "metadata": {
    "id": "ZVFMAQsqzVu0"
   },
   "source": [
    "### 문제 8. train_answer_bow에서 등장하는 token의 분포를 출력해보세요."
   ]
  },
  {
   "cell_type": "code",
   "execution_count": 15,
   "metadata": {
    "colab": {
     "base_uri": "https://localhost:8080/",
     "height": 265
    },
    "executionInfo": {
     "elapsed": 4800,
     "status": "ok",
     "timestamp": 1621325121697,
     "user": {
      "displayName": "상혁",
      "photoUrl": "https://lh3.googleusercontent.com/a-/AOh14GhbIrRm98j_8TFO0cp-Q8R4GfLfDeQZml3g34kD=s64",
      "userId": "09602093014858836852"
     },
     "user_tz": -540
    },
    "id": "F2a4bsnyzVu1",
    "outputId": "55e3a23b-f998-4e1c-ecc4-d0fb01facf5e"
   },
   "outputs": [
    {
     "data": {
      "image/png": "[encoded data removed]",
      "text/plain": [
       "<Figure size 432x288 with 1 Axes>"
      ]
     },
     "metadata": {
      "needs_background": "light"
     },
     "output_type": "display_data"
    }
   ],
   "source": [
    "#  train_answer_bow에서 등장하는 token의 분포를 출력해보세요.\n",
    "digits, count = np.unique(train_label_bow, return_counts=True)\n",
    "plt.bar(digits, count)\n",
    "plt.show()"
   ]
  },
  {
   "cell_type": "markdown",
   "metadata": {
    "id": "pskeB9JvzNGz"
   },
   "source": [
    "## Step 4. Seq2Seq용 입출력 보정"
   ]
  },
  {
   "cell_type": "markdown",
   "metadata": {
    "id": "SLIaQfQASJdV"
   },
   "source": [
    "### 문제 9. train/test_answer_bow를 한쪽씩 당겨서 decoder에 주입시킬 데이터를 생성해보세요."
   ]
  },
  {
   "cell_type": "code",
   "execution_count": 16,
   "metadata": {
    "executionInfo": {
     "elapsed": 4799,
     "status": "ok",
     "timestamp": 1621325121704,
     "user": {
      "displayName": "상혁",
      "photoUrl": "https://lh3.googleusercontent.com/a-/AOh14GhbIrRm98j_8TFO0cp-Q8R4GfLfDeQZml3g34kD=s64",
      "userId": "09602093014858836852"
     },
     "user_tz": -540
    },
    "id": "tRvYANsEYKF9"
   },
   "outputs": [],
   "source": [
    "# train/test_answer_bow를 한쪽씩 당겨서 decoder에 주입시킬 데이터를 생성해보세요.\n",
    "train_shift_answer_bow = np.concatenate( [np.ones((train_label_bow.shape[0], 1)) * vocab['PAD'], train_label_bow[...,:-1]], axis = 1)\n",
    "test_shift_answer_bow = np.concatenate( [np.ones((test_label_bow.shape[0], 1)) * vocab['PAD'], test_label_bow[...,:-1]], axis = 1)"
   ]
  },
  {
   "cell_type": "code",
   "execution_count": 17,
   "metadata": {
    "colab": {
     "base_uri": "https://localhost:8080/"
    },
    "executionInfo": {
     "elapsed": 4781,
     "status": "ok",
     "timestamp": 1621325121707,
     "user": {
      "displayName": "상혁",
      "photoUrl": "https://lh3.googleusercontent.com/a-/AOh14GhbIrRm98j_8TFO0cp-Q8R4GfLfDeQZml3g34kD=s64",
      "userId": "09602093014858836852"
     },
     "user_tz": -540
    },
    "id": "qtX147iCAdF_",
    "outputId": "b1f39adf-edc6-4f64-8b76-0415043ede70"
   },
   "outputs": [
    {
     "name": "stdout",
     "output_type": "stream",
     "text": [
      "(49000, 4) (49000, 4)\n"
     ]
    }
   ],
   "source": [
    "print(train_label_bow.shape ,train_shift_answer_bow.shape)"
   ]
  },
  {
   "cell_type": "markdown",
   "metadata": {
    "id": "ZFiV1MDxc9Ot"
   },
   "source": [
    "### 문제 10. 정답으로 처리될 train/test_answer_bow를 onehot 인코딩으로 바꾸기"
   ]
  },
  {
   "cell_type": "code",
   "execution_count": 18,
   "metadata": {
    "colab": {
     "base_uri": "https://localhost:8080/"
    },
    "executionInfo": {
     "elapsed": 4754,
     "status": "ok",
     "timestamp": 1621325121709,
     "user": {
      "displayName": "상혁",
      "photoUrl": "https://lh3.googleusercontent.com/a-/AOh14GhbIrRm98j_8TFO0cp-Q8R4GfLfDeQZml3g34kD=s64",
      "userId": "09602093014858836852"
     },
     "user_tz": -540
    },
    "id": "N4SEGuypdFJM",
    "outputId": "7c3fb12f-0a19-4bdb-bfdb-015f933a3d77"
   },
   "outputs": [
    {
     "name": "stdout",
     "output_type": "stream",
     "text": [
      "(49000, 4, 14) (1000, 4, 14)\n"
     ]
    }
   ],
   "source": [
    "# train/test_anser_bow를 onehot으로 바꾸는 코드를 작성하세요\n",
    "train_answer_onehot = tf.keras.utils.to_categorical(train_label_bow, len(vocab))\n",
    "test_answer_onehot = tf.keras.utils.to_categorical(test_label_bow, len(vocab))\n",
    "\n",
    "print(train_answer_onehot.shape, test_answer_onehot.shape)"
   ]
  },
  {
   "cell_type": "markdown",
   "metadata": {
    "id": "ZqAmOsThgojZ"
   },
   "source": [
    "### 문제 11. data_bow, anser_bow, shift_answer_bow, onehot를 1개씩 출력해보세요."
   ]
  },
  {
   "cell_type": "code",
   "execution_count": 19,
   "metadata": {
    "colab": {
     "base_uri": "https://localhost:8080/"
    },
    "executionInfo": {
     "elapsed": 4739,
     "status": "ok",
     "timestamp": 1621325121710,
     "user": {
      "displayName": "상혁",
      "photoUrl": "https://lh3.googleusercontent.com/a-/AOh14GhbIrRm98j_8TFO0cp-Q8R4GfLfDeQZml3g34kD=s64",
      "userId": "09602093014858836852"
     },
     "user_tz": -540
    },
    "id": "3OBuVMqAg876",
    "outputId": "7deb4c3d-1385-43d1-8c0e-3c01fb491531"
   },
   "outputs": [
    {
     "name": "stdout",
     "output_type": "stream",
     "text": [
      "[12  5  2 10  5 13] (49000, 6)\n",
      "[ 5  7 13 12] (49000, 4)\n",
      "[12.  5.  7. 13.] (49000, 4)\n",
      "[[0. 0. 0. 0. 0. 1. 0. 0. 0. 0. 0. 0. 0. 0.]\n",
      " [0. 0. 0. 0. 0. 0. 0. 1. 0. 0. 0. 0. 0. 0.]\n",
      " [0. 0. 0. 0. 0. 0. 0. 0. 0. 0. 0. 0. 0. 1.]\n",
      " [0. 0. 0. 0. 0. 0. 0. 0. 0. 0. 0. 0. 1. 0.]] (49000, 4, 14)\n"
     ]
    }
   ],
   "source": [
    "# data_bow, shift_answer_bow, onehot, answer_bow등을 1개씩 출력해보세요\n",
    "print(train_data_bow[0], train_data_bow.shape)\n",
    "print(train_label_bow[0], train_label_bow.shape)\n",
    "print(train_shift_answer_bow[0], train_shift_answer_bow.shape)\n",
    "print(train_answer_onehot[0], train_answer_onehot.shape)"
   ]
  },
  {
   "cell_type": "markdown",
   "metadata": {
    "id": "k-eV9aAekkPG"
   },
   "source": [
    "### 문제 12. onehot를 readable하게 바꿔주는 함수를 작성해보세요."
   ]
  },
  {
   "cell_type": "code",
   "execution_count": 20,
   "metadata": {
    "colab": {
     "base_uri": "https://localhost:8080/"
    },
    "executionInfo": {
     "elapsed": 4726,
     "status": "ok",
     "timestamp": 1621325121711,
     "user": {
      "displayName": "상혁",
      "photoUrl": "https://lh3.googleusercontent.com/a-/AOh14GhbIrRm98j_8TFO0cp-Q8R4GfLfDeQZml3g34kD=s64",
      "userId": "09602093014858836852"
     },
     "user_tz": -540
    },
    "id": "Mn8HP8nez_n-",
    "outputId": "f44c63d8-16e3-4335-a993-ac8f58694e10"
   },
   "outputs": [
    {
     "name": "stdout",
     "output_type": "stream",
     "text": [
      "57.\n",
      "52 + 5\n"
     ]
    }
   ],
   "source": [
    "# onehot을 readable하게 바꿔주는 함수를 작성해보세요. (단, EOS는 .으로 PAD는 공백으로 전환)\n",
    "def onehot2text(onehot):\n",
    "    return \"\".join(invocab[step.argmax()]for step in onehot).replace('EOS', '.').replace('PAD', '')\n",
    "\n",
    "print(onehot2text(train_answer_onehot[0]))\n",
    "print(train_text[0])"
   ]
  },
  {
   "cell_type": "code",
   "execution_count": 21,
   "metadata": {
    "colab": {
     "base_uri": "https://localhost:8080/"
    },
    "executionInfo": {
     "elapsed": 5727,
     "status": "ok",
     "timestamp": 1621325122724,
     "user": {
      "displayName": "상혁",
      "photoUrl": "https://lh3.googleusercontent.com/a-/AOh14GhbIrRm98j_8TFO0cp-Q8R4GfLfDeQZml3g34kD=s64",
      "userId": "09602093014858836852"
     },
     "user_tz": -540
    },
    "id": "mTL4nh5CGO2s",
    "outputId": "a84d80c4-707b-4613-89bb-c53ac92f1fe3"
   },
   "outputs": [
    {
     "data": {
      "text/plain": [
       "4"
      ]
     },
     "execution_count": 21,
     "metadata": {},
     "output_type": "execute_result"
    }
   ],
   "source": [
    "lst = [1,2,3,4,8,4]\n",
    "lst = np.array(lst)\n",
    "\n",
    "lst.argmax()"
   ]
  },
  {
   "cell_type": "markdown",
   "metadata": {
    "id": "sG5Mc0Kll-LS"
   },
   "source": [
    "### 문제 13. bow를 readable하게 바꿔주는 함수를 작성해보세요."
   ]
  },
  {
   "cell_type": "code",
   "execution_count": 22,
   "metadata": {
    "colab": {
     "base_uri": "https://localhost:8080/"
    },
    "executionInfo": {
     "elapsed": 5712,
     "status": "ok",
     "timestamp": 1621325122725,
     "user": {
      "displayName": "상혁",
      "photoUrl": "https://lh3.googleusercontent.com/a-/AOh14GhbIrRm98j_8TFO0cp-Q8R4GfLfDeQZml3g34kD=s64",
      "userId": "09602093014858836852"
     },
     "user_tz": -540
    },
    "id": "mvYzrYMqmLts",
    "outputId": "c364d5ad-d174-484c-d816-4c6c23789c3f"
   },
   "outputs": [
    {
     "name": "stdout",
     "output_type": "stream",
     "text": [
      "52+5.\n",
      "57.\n",
      "57.\n"
     ]
    }
   ],
   "source": [
    "# bow를 readable하게 바꿔주는 함수를 작성해보세요. (단, EOS는 .으로 PAD는 _으로 전환)\n",
    "def bow2text(bow):\n",
    "    return ''.join(invocab[step] for step in bow).replace(\"EOS\",'.').replace(\"PAD\",'')\n",
    "\n",
    "print(bow2text(train_data_bow[0]))\n",
    "print(bow2text(train_shift_answer_bow[0]))\n",
    "print(bow2text(train_label_bow[0]))"
   ]
  },
  {
   "cell_type": "markdown",
   "metadata": {
    "id": "SS-jypo11pEt"
   },
   "source": [
    "## Step 5. Seq2Seq 모델링"
   ]
  },
  {
   "cell_type": "markdown",
   "metadata": {
    "id": "JEy2Yz2dRt3S"
   },
   "source": [
    "### 문제 14. Seq2Seq 모델 구축"
   ]
  },
  {
   "cell_type": "code",
   "execution_count": 23,
   "metadata": {
    "executionInfo": {
     "elapsed": 5706,
     "status": "ok",
     "timestamp": 1621325122726,
     "user": {
      "displayName": "상혁",
      "photoUrl": "https://lh3.googleusercontent.com/a-/AOh14GhbIrRm98j_8TFO0cp-Q8R4GfLfDeQZml3g34kD=s64",
      "userId": "09602093014858836852"
     },
     "user_tz": -540
    },
    "id": "rDWsD2haRz4y"
   },
   "outputs": [],
   "source": [
    "# seq2seq 모델을 구축하고 학습모델, encoder, decoder를 획득하세요\n",
    "from keras.layers import Input, Embedding, GRU\n",
    "from keras.models import Model\n",
    "def seq2seq(): # 모델, 인코다, 디코더를 반환\n",
    "    # Encoder\n",
    "    inputs_x_bow = Input(shape=(6,)) #input shape\n",
    "    embedding = Embedding(len(vocab), 5)\n",
    "\n",
    "    x = embedding(inputs_x_bow)\n",
    "    z = GRU(16)(x)\n",
    "    # Decoder\n",
    "    inputs_y_bow = Input(shape=(4,))\n",
    "    y = embedding(inputs_y_bow)\n",
    "    gru = GRU(16, return_sequences=True)\n",
    "\n",
    "    y = gru(y, initial_state =z)\n",
    "    softmax = Dense(len(vocab), activation='softmax')\n",
    "\n",
    "    y = softmax(y)\n",
    "    model = Model([inputs_x_bow, inputs_y_bow], y)\n",
    "    model.compile(optimizer ='adam', loss = 'categorical_crossentropy', metrics = ['acc'])\n",
    "    # encoder 분리\n",
    "    encoder = Model(inputs_x_bow, z)\n",
    "    # Decoder 분리\n",
    "    inputs_y_dec = Input(shape=(1,))\n",
    "    y2 = embedding(inputs_y_dec)\n",
    "\n",
    "    inputs_z = Input(shape=(16,)) # context 길이\n",
    "    h2 = gru(y2, initial_state = inputs_z)\n",
    "    y2 = softmax(h2)\n",
    "\n",
    "    decoder = Model([inputs_y_dec, inputs_z], [y2,h2])\n",
    "    return model, encoder, decoder\n"
   ]
  },
  {
   "cell_type": "markdown",
   "metadata": {
    "id": "3ZWybbgyfeh-"
   },
   "source": [
    "### 문제 15. 학습 모델을 생성하고 summary를 출력하세요. "
   ]
  },
  {
   "cell_type": "code",
   "execution_count": 24,
   "metadata": {
    "colab": {
     "base_uri": "https://localhost:8080/"
    },
    "executionInfo": {
     "elapsed": 10713,
     "status": "ok",
     "timestamp": 1621325127761,
     "user": {
      "displayName": "상혁",
      "photoUrl": "https://lh3.googleusercontent.com/a-/AOh14GhbIrRm98j_8TFO0cp-Q8R4GfLfDeQZml3g34kD=s64",
      "userId": "09602093014858836852"
     },
     "user_tz": -540
    },
    "id": "x0IFoo-Yfxfp",
    "outputId": "1a5836fc-04dd-43aa-e4db-290228d1e068"
   },
   "outputs": [
    {
     "name": "stdout",
     "output_type": "stream",
     "text": [
      "Model: \"model\"\n",
      "__________________________________________________________________________________________________\n",
      "Layer (type)                    Output Shape         Param #     Connected to                     \n",
      "==================================================================================================\n",
      "input_2 (InputLayer)            [(None, 4)]          0                                            \n",
      "__________________________________________________________________________________________________\n",
      "input_1 (InputLayer)            [(None, 6)]          0                                            \n",
      "__________________________________________________________________________________________________\n",
      "embedding (Embedding)           multiple             70          input_1[0][0]                    \n",
      "                                                                 input_2[0][0]                    \n",
      "__________________________________________________________________________________________________\n",
      "gru (GRU)                       (None, 16)           1104        embedding[0][0]                  \n",
      "__________________________________________________________________________________________________\n",
      "gru_1 (GRU)                     multiple             1104        embedding[1][0]                  \n",
      "                                                                 gru[0][0]                        \n",
      "__________________________________________________________________________________________________\n",
      "dense (Dense)                   multiple             238         gru_1[0][0]                      \n",
      "==================================================================================================\n",
      "Total params: 2,516\n",
      "Trainable params: 2,516\n",
      "Non-trainable params: 0\n",
      "__________________________________________________________________________________________________\n"
     ]
    }
   ],
   "source": [
    "# 학습 모델을 생성하고 summary를 출력하세요.\n",
    "model, encoder, decoder= seq2seq()\n",
    "model.summary()"
   ]
  },
  {
   "cell_type": "markdown",
   "metadata": {
    "id": "_zJuzRvigNun"
   },
   "source": [
    "### 문제 16. encoder, decoder에 대한 summary를 출력하세요."
   ]
  },
  {
   "cell_type": "code",
   "execution_count": 25,
   "metadata": {
    "colab": {
     "base_uri": "https://localhost:8080/"
    },
    "executionInfo": {
     "elapsed": 10699,
     "status": "ok",
     "timestamp": 1621325127761,
     "user": {
      "displayName": "상혁",
      "photoUrl": "https://lh3.googleusercontent.com/a-/AOh14GhbIrRm98j_8TFO0cp-Q8R4GfLfDeQZml3g34kD=s64",
      "userId": "09602093014858836852"
     },
     "user_tz": -540
    },
    "id": "Xf3tuzWUZCoh",
    "outputId": "f64ffde1-ffa4-457d-cb01-4eed0a9235c5"
   },
   "outputs": [
    {
     "name": "stdout",
     "output_type": "stream",
     "text": [
      "Model: \"model_1\"\n",
      "_________________________________________________________________\n",
      "Layer (type)                 Output Shape              Param #   \n",
      "=================================================================\n",
      "input_1 (InputLayer)         [(None, 6)]               0         \n",
      "_________________________________________________________________\n",
      "embedding (Embedding)        multiple                  70        \n",
      "_________________________________________________________________\n",
      "gru (GRU)                    (None, 16)                1104      \n",
      "=================================================================\n",
      "Total params: 1,174\n",
      "Trainable params: 1,174\n",
      "Non-trainable params: 0\n",
      "_________________________________________________________________\n"
     ]
    }
   ],
   "source": [
    "# encoder, decoder에 대한 summary를 출력하세요.\n",
    "encoder.summary()"
   ]
  },
  {
   "cell_type": "code",
   "execution_count": 26,
   "metadata": {
    "colab": {
     "base_uri": "https://localhost:8080/"
    },
    "executionInfo": {
     "elapsed": 10688,
     "status": "ok",
     "timestamp": 1621325127762,
     "user": {
      "displayName": "상혁",
      "photoUrl": "https://lh3.googleusercontent.com/a-/AOh14GhbIrRm98j_8TFO0cp-Q8R4GfLfDeQZml3g34kD=s64",
      "userId": "09602093014858836852"
     },
     "user_tz": -540
    },
    "id": "rilgQduwgS_m",
    "outputId": "e4adf682-af49-4cf5-9a65-7c2c52243e03"
   },
   "outputs": [
    {
     "name": "stdout",
     "output_type": "stream",
     "text": [
      "Model: \"model_2\"\n",
      "__________________________________________________________________________________________________\n",
      "Layer (type)                    Output Shape         Param #     Connected to                     \n",
      "==================================================================================================\n",
      "input_3 (InputLayer)            [(None, 1)]          0                                            \n",
      "__________________________________________________________________________________________________\n",
      "embedding (Embedding)           multiple             70          input_3[0][0]                    \n",
      "__________________________________________________________________________________________________\n",
      "input_4 (InputLayer)            [(None, 16)]         0                                            \n",
      "__________________________________________________________________________________________________\n",
      "gru_1 (GRU)                     multiple             1104        embedding[2][0]                  \n",
      "                                                                 input_4[0][0]                    \n",
      "__________________________________________________________________________________________________\n",
      "dense (Dense)                   multiple             238         gru_1[1][0]                      \n",
      "==================================================================================================\n",
      "Total params: 1,412\n",
      "Trainable params: 1,412\n",
      "Non-trainable params: 0\n",
      "__________________________________________________________________________________________________\n"
     ]
    }
   ],
   "source": [
    "decoder.summary() "
   ]
  },
  {
   "cell_type": "markdown",
   "metadata": {
    "id": "7OpFGbD6V8Zl"
   },
   "source": [
    "### 문제 17. 학습모델을 학습해보세요."
   ]
  },
  {
   "cell_type": "code",
   "execution_count": 27,
   "metadata": {
    "colab": {
     "base_uri": "https://localhost:8080/"
    },
    "executionInfo": {
     "elapsed": 488656,
     "status": "ok",
     "timestamp": 1621325605745,
     "user": {
      "displayName": "상혁",
      "photoUrl": "https://lh3.googleusercontent.com/a-/AOh14GhbIrRm98j_8TFO0cp-Q8R4GfLfDeQZml3g34kD=s64",
      "userId": "09602093014858836852"
     },
     "user_tz": -540
    },
    "id": "sFOJNRTvYo7d",
    "outputId": "9dc69c94-ddfe-4fc0-ee75-2cc6f71ad882",
    "scrolled": true
   },
   "outputs": [
    {
     "name": "stdout",
     "output_type": "stream",
     "text": [
      "Epoch 1/60\n",
      "1532/1532 [==============================] - 30s 5ms/step - loss: 1.6923 - acc: 0.4470 - val_loss: 1.2270 - val_acc: 0.5790\n",
      "Epoch 2/60\n",
      "1532/1532 [==============================] - 7s 4ms/step - loss: 1.1595 - acc: 0.5861 - val_loss: 1.0667 - val_acc: 0.6010\n",
      "Epoch 3/60\n",
      "1532/1532 [==============================] - 7s 5ms/step - loss: 1.0364 - acc: 0.6094 - val_loss: 0.9563 - val_acc: 0.6525\n",
      "Epoch 4/60\n",
      "1532/1532 [==============================] - 7s 5ms/step - loss: 0.9286 - acc: 0.6613 - val_loss: 0.8662 - val_acc: 0.6740\n",
      "Epoch 5/60\n",
      "1532/1532 [==============================] - 7s 5ms/step - loss: 0.8394 - acc: 0.6957 - val_loss: 0.7902 - val_acc: 0.7178\n",
      "Epoch 6/60\n",
      "1532/1532 [==============================] - 7s 5ms/step - loss: 0.7630 - acc: 0.7332 - val_loss: 0.7291 - val_acc: 0.7495\n",
      "Epoch 7/60\n",
      "1532/1532 [==============================] - 7s 5ms/step - loss: 0.7101 - acc: 0.7575 - val_loss: 0.6803 - val_acc: 0.7703\n",
      "Epoch 8/60\n",
      "1532/1532 [==============================] - 8s 5ms/step - loss: 0.6623 - acc: 0.7748 - val_loss: 0.6417 - val_acc: 0.7795\n",
      "Epoch 9/60\n",
      "1532/1532 [==============================] - 8s 5ms/step - loss: 0.6199 - acc: 0.7881 - val_loss: 0.6103 - val_acc: 0.7837\n",
      "Epoch 10/60\n",
      "1532/1532 [==============================] - 7s 5ms/step - loss: 0.5861 - acc: 0.7970 - val_loss: 0.5762 - val_acc: 0.7915\n",
      "Epoch 11/60\n",
      "1532/1532 [==============================] - 7s 5ms/step - loss: 0.5578 - acc: 0.8038 - val_loss: 0.5547 - val_acc: 0.7990\n",
      "Epoch 12/60\n",
      "1532/1532 [==============================] - 7s 5ms/step - loss: 0.5326 - acc: 0.8114 - val_loss: 0.5360 - val_acc: 0.8058\n",
      "Epoch 13/60\n",
      "1532/1532 [==============================] - 7s 5ms/step - loss: 0.5117 - acc: 0.8189 - val_loss: 0.5057 - val_acc: 0.8175\n",
      "Epoch 14/60\n",
      "1532/1532 [==============================] - 7s 5ms/step - loss: 0.4930 - acc: 0.8238 - val_loss: 0.4855 - val_acc: 0.8300\n",
      "Epoch 15/60\n",
      "1532/1532 [==============================] - 7s 5ms/step - loss: 0.4752 - acc: 0.8311 - val_loss: 0.4807 - val_acc: 0.8265\n",
      "Epoch 16/60\n",
      "1532/1532 [==============================] - 7s 5ms/step - loss: 0.4621 - acc: 0.8339 - val_loss: 0.4600 - val_acc: 0.8410\n",
      "Epoch 17/60\n",
      "1532/1532 [==============================] - 7s 5ms/step - loss: 0.4484 - acc: 0.8404 - val_loss: 0.4614 - val_acc: 0.8250\n",
      "Epoch 18/60\n",
      "1532/1532 [==============================] - 7s 5ms/step - loss: 0.4363 - acc: 0.8424 - val_loss: 0.4262 - val_acc: 0.8465\n",
      "Epoch 19/60\n",
      "1532/1532 [==============================] - 7s 5ms/step - loss: 0.4252 - acc: 0.8472 - val_loss: 0.4196 - val_acc: 0.8520\n",
      "Epoch 20/60\n",
      "1532/1532 [==============================] - 7s 5ms/step - loss: 0.4122 - acc: 0.8529 - val_loss: 0.4103 - val_acc: 0.8505\n",
      "Epoch 21/60\n",
      "1532/1532 [==============================] - 7s 5ms/step - loss: 0.4053 - acc: 0.8550 - val_loss: 0.4095 - val_acc: 0.8460\n",
      "Epoch 22/60\n",
      "1532/1532 [==============================] - 7s 5ms/step - loss: 0.3982 - acc: 0.8572 - val_loss: 0.3982 - val_acc: 0.8622\n",
      "Epoch 23/60\n",
      "1532/1532 [==============================] - 7s 5ms/step - loss: 0.3905 - acc: 0.8572 - val_loss: 0.3822 - val_acc: 0.8720\n",
      "Epoch 24/60\n",
      "1532/1532 [==============================] - 7s 5ms/step - loss: 0.3809 - acc: 0.8626 - val_loss: 0.3808 - val_acc: 0.8585\n",
      "Epoch 25/60\n",
      "1532/1532 [==============================] - 7s 5ms/step - loss: 0.3756 - acc: 0.8653 - val_loss: 0.4135 - val_acc: 0.8407\n",
      "Epoch 26/60\n",
      "1532/1532 [==============================] - 7s 5ms/step - loss: 0.3668 - acc: 0.8681 - val_loss: 0.3664 - val_acc: 0.8680\n",
      "Epoch 27/60\n",
      "1532/1532 [==============================] - 7s 5ms/step - loss: 0.3638 - acc: 0.8685 - val_loss: 0.4097 - val_acc: 0.8328\n",
      "Epoch 28/60\n",
      "1532/1532 [==============================] - 7s 5ms/step - loss: 0.3585 - acc: 0.8716 - val_loss: 0.3728 - val_acc: 0.8490\n",
      "Epoch 29/60\n",
      "1532/1532 [==============================] - 7s 5ms/step - loss: 0.3489 - acc: 0.8771 - val_loss: 0.3584 - val_acc: 0.8715\n",
      "Epoch 30/60\n",
      "1532/1532 [==============================] - 7s 5ms/step - loss: 0.3455 - acc: 0.8763 - val_loss: 0.3533 - val_acc: 0.8748\n",
      "Epoch 31/60\n",
      "1532/1532 [==============================] - 7s 5ms/step - loss: 0.3414 - acc: 0.8769 - val_loss: 0.3467 - val_acc: 0.8727\n",
      "Epoch 32/60\n",
      "1532/1532 [==============================] - 7s 5ms/step - loss: 0.3358 - acc: 0.8814 - val_loss: 0.3290 - val_acc: 0.8888\n",
      "Epoch 33/60\n",
      "1532/1532 [==============================] - 7s 5ms/step - loss: 0.3310 - acc: 0.8815 - val_loss: 0.3365 - val_acc: 0.8737\n",
      "Epoch 34/60\n",
      "1532/1532 [==============================] - 7s 5ms/step - loss: 0.3284 - acc: 0.8828 - val_loss: 0.3268 - val_acc: 0.8795\n",
      "Epoch 35/60\n",
      "1532/1532 [==============================] - 7s 5ms/step - loss: 0.3171 - acc: 0.8896 - val_loss: 0.3236 - val_acc: 0.8810\n",
      "Epoch 36/60\n",
      "1532/1532 [==============================] - 7s 5ms/step - loss: 0.3171 - acc: 0.8873 - val_loss: 0.3520 - val_acc: 0.8505\n",
      "Epoch 37/60\n",
      "1532/1532 [==============================] - 7s 5ms/step - loss: 0.3176 - acc: 0.8862 - val_loss: 0.3081 - val_acc: 0.8970\n",
      "Epoch 38/60\n",
      "1532/1532 [==============================] - 7s 4ms/step - loss: 0.3074 - acc: 0.8939 - val_loss: 0.3307 - val_acc: 0.8687\n",
      "Epoch 39/60\n",
      "1532/1532 [==============================] - 7s 5ms/step - loss: 0.3042 - acc: 0.8935 - val_loss: 0.3213 - val_acc: 0.8752\n",
      "Epoch 40/60\n",
      "1532/1532 [==============================] - 7s 5ms/step - loss: 0.3051 - acc: 0.8926 - val_loss: 0.3278 - val_acc: 0.8737\n",
      "Epoch 41/60\n",
      "1532/1532 [==============================] - 7s 5ms/step - loss: 0.3028 - acc: 0.8936 - val_loss: 0.3137 - val_acc: 0.8785\n",
      "Epoch 42/60\n",
      "1532/1532 [==============================] - 7s 5ms/step - loss: 0.2983 - acc: 0.8947 - val_loss: 0.2959 - val_acc: 0.8963\n",
      "Epoch 43/60\n",
      "1532/1532 [==============================] - 7s 5ms/step - loss: 0.2919 - acc: 0.8977 - val_loss: 0.2829 - val_acc: 0.9115\n",
      "Epoch 44/60\n",
      "1532/1532 [==============================] - 7s 5ms/step - loss: 0.2921 - acc: 0.8972 - val_loss: 0.3167 - val_acc: 0.8825\n",
      "Epoch 45/60\n",
      "1532/1532 [==============================] - 7s 5ms/step - loss: 0.2865 - acc: 0.9002 - val_loss: 0.3019 - val_acc: 0.8800\n",
      "Epoch 46/60\n",
      "1532/1532 [==============================] - 7s 5ms/step - loss: 0.2876 - acc: 0.8986 - val_loss: 0.2880 - val_acc: 0.8957\n",
      "Epoch 47/60\n",
      "1532/1532 [==============================] - 7s 5ms/step - loss: 0.2803 - acc: 0.9029 - val_loss: 0.3046 - val_acc: 0.8785\n",
      "Epoch 48/60\n",
      "1532/1532 [==============================] - 7s 5ms/step - loss: 0.2797 - acc: 0.9014 - val_loss: 0.2744 - val_acc: 0.9128\n",
      "Epoch 49/60\n",
      "1532/1532 [==============================] - 7s 4ms/step - loss: 0.2765 - acc: 0.9040 - val_loss: 0.2936 - val_acc: 0.8860\n",
      "Epoch 50/60\n",
      "1532/1532 [==============================] - 7s 4ms/step - loss: 0.2768 - acc: 0.9024 - val_loss: 0.3361 - val_acc: 0.8702\n",
      "Epoch 51/60\n",
      "1532/1532 [==============================] - 7s 5ms/step - loss: 0.2775 - acc: 0.9012 - val_loss: 0.2789 - val_acc: 0.9035\n",
      "Epoch 52/60\n",
      "1532/1532 [==============================] - 7s 5ms/step - loss: 0.2697 - acc: 0.9060 - val_loss: 0.3462 - val_acc: 0.8587\n",
      "Epoch 53/60\n",
      "1532/1532 [==============================] - 7s 5ms/step - loss: 0.2697 - acc: 0.9082 - val_loss: 0.2703 - val_acc: 0.9105\n",
      "Epoch 54/60\n",
      "1532/1532 [==============================] - 7s 5ms/step - loss: 0.2659 - acc: 0.9073 - val_loss: 0.2756 - val_acc: 0.8923\n",
      "Epoch 55/60\n",
      "1532/1532 [==============================] - 7s 4ms/step - loss: 0.2692 - acc: 0.9043 - val_loss: 0.3288 - val_acc: 0.8572\n",
      "Epoch 56/60\n",
      "1532/1532 [==============================] - 7s 5ms/step - loss: 0.2603 - acc: 0.9097 - val_loss: 0.2771 - val_acc: 0.8905\n",
      "Epoch 57/60\n",
      "1532/1532 [==============================] - 7s 5ms/step - loss: 0.2578 - acc: 0.9124 - val_loss: 0.3067 - val_acc: 0.8733\n",
      "Epoch 58/60\n",
      "1532/1532 [==============================] - 7s 5ms/step - loss: 0.2655 - acc: 0.9081 - val_loss: 0.3274 - val_acc: 0.8518\n",
      "Epoch 59/60\n",
      "1532/1532 [==============================] - 7s 5ms/step - loss: 0.2624 - acc: 0.9077 - val_loss: 0.2572 - val_acc: 0.9128\n",
      "Epoch 60/60\n",
      "1532/1532 [==============================] - 7s 5ms/step - loss: 0.2611 - acc: 0.9073 - val_loss: 0.2563 - val_acc: 0.9128\n"
     ]
    }
   ],
   "source": [
    "# 학습모델을 학습해보세요.\n",
    "hist = model.fit( [train_data_bow, train_shift_answer_bow], train_answer_onehot,\n",
    "          validation_data = ([test_data_bow, test_shift_answer_bow], test_answer_onehot),\n",
    "          verbose = 1, epochs=60\n",
    "          )"
   ]
  },
  {
   "cell_type": "markdown",
   "metadata": {
    "id": "-2fgZVGdNU6a"
   },
   "source": [
    "### 문제 18. 학습 진행 사항을 plt으로 출력하세요."
   ]
  },
  {
   "cell_type": "code",
   "execution_count": 28,
   "metadata": {
    "colab": {
     "base_uri": "https://localhost:8080/",
     "height": 265
    },
    "executionInfo": {
     "elapsed": 488647,
     "status": "ok",
     "timestamp": 1621325605748,
     "user": {
      "displayName": "상혁",
      "photoUrl": "https://lh3.googleusercontent.com/a-/AOh14GhbIrRm98j_8TFO0cp-Q8R4GfLfDeQZml3g34kD=s64",
      "userId": "09602093014858836852"
     },
     "user_tz": -540
    },
    "id": "W4IStqFmNU6a",
    "outputId": "58010057-13e7-4594-cee1-c7db5ec013fe"
   },
   "outputs": [
    {
     "data": {
      "image/png": "[encoded data removed]",
      "text/plain": [
       "<Figure size 432x288 with 1 Axes>"
      ]
     },
     "metadata": {
      "needs_background": "light"
     },
     "output_type": "display_data"
    }
   ],
   "source": [
    "# hist의 accuracy와 loss를 plt의 plot을 이용하여 출력하는 코드를 작성하세요.\n",
    "plt.plot(hist.history['acc'], label='acc')\n",
    "plt.plot(hist.history['val_acc'], label='val_acc')\n",
    "plt.plot(hist.history['loss'], label='loss')\n",
    "plt.plot(hist.history['val_loss'], label='val_loss')\n",
    "plt.legend(loc='lower left')\n",
    "plt.show()"
   ]
  },
  {
   "cell_type": "markdown",
   "metadata": {
    "id": "ZNI00Lzv1y4S"
   },
   "source": [
    "## Step 6. 모델 결과 확인"
   ]
  },
  {
   "cell_type": "markdown",
   "metadata": {
    "id": "W_xsByHegZhh"
   },
   "source": [
    "### 문제 19. plain2bow를 이용하여 encoder에 bow를 주입하고 z를 받아보세요."
   ]
  },
  {
   "cell_type": "code",
   "execution_count": 29,
   "metadata": {
    "colab": {
     "base_uri": "https://localhost:8080/"
    },
    "executionInfo": {
     "elapsed": 1284,
     "status": "ok",
     "timestamp": 1621325609803,
     "user": {
      "displayName": "상혁",
      "photoUrl": "https://lh3.googleusercontent.com/a-/AOh14GhbIrRm98j_8TFO0cp-Q8R4GfLfDeQZml3g34kD=s64",
      "userId": "09602093014858836852"
     },
     "user_tz": -540
    },
    "id": "Y88qmAVChg_Z",
    "outputId": "c4e62b40-f295-4c4a-8c75-c3d14ffbd80c"
   },
   "outputs": [
    {
     "name": "stdout",
     "output_type": "stream",
     "text": [
      "(1, 6) [[ 1  1 10  1  1 13]]\n"
     ]
    }
   ],
   "source": [
    "# plain2bow를 이용하여 encoder에 bow를 주입하고 z를 받아보세요. \n",
    "bow = plain2bow(\"11 + 11\", vocab)\n",
    "bow = tf.keras.preprocessing.sequence.pad_sequences(bow[np.newaxis, :],value= vocab['PAD'], maxlen = 6)\n",
    "z = encoder(bow) \n",
    "\n",
    "print(bow.shape, bow)"
   ]
  },
  {
   "cell_type": "code",
   "execution_count": 30,
   "metadata": {
    "colab": {
     "base_uri": "https://localhost:8080/"
    },
    "executionInfo": {
     "elapsed": 843,
     "status": "ok",
     "timestamp": 1621325611297,
     "user": {
      "displayName": "상혁",
      "photoUrl": "https://lh3.googleusercontent.com/a-/AOh14GhbIrRm98j_8TFO0cp-Q8R4GfLfDeQZml3g34kD=s64",
      "userId": "09602093014858836852"
     },
     "user_tz": -540
    },
    "id": "JdDPnvUvhzNK",
    "outputId": "cbeb4df8-117d-4e80-d4e5-bb1a40b9dd05"
   },
   "outputs": [
    {
     "data": {
      "text/plain": [
       "TensorShape([1, 16])"
      ]
     },
     "execution_count": 30,
     "metadata": {},
     "output_type": "execute_result"
    }
   ],
   "source": [
    "z.shape"
   ]
  },
  {
   "cell_type": "markdown",
   "metadata": {
    "id": "zQgQKKCTpv99"
   },
   "source": [
    "### 문제 20. z와 PAD를 이용하여 첫번째 decoder 값을 획득해보세요."
   ]
  },
  {
   "cell_type": "code",
   "execution_count": 31,
   "metadata": {
    "colab": {
     "base_uri": "https://localhost:8080/"
    },
    "executionInfo": {
     "elapsed": 574,
     "status": "ok",
     "timestamp": 1621325697189,
     "user": {
      "displayName": "상혁",
      "photoUrl": "https://lh3.googleusercontent.com/a-/AOh14GhbIrRm98j_8TFO0cp-Q8R4GfLfDeQZml3g34kD=s64",
      "userId": "09602093014858836852"
     },
     "user_tz": -540
    },
    "id": "7TqsGxqogZI0",
    "outputId": "ba2c4025-9a92-4d17-8344-914c4f4dd188"
   },
   "outputs": [
    {
     "name": "stdout",
     "output_type": "stream",
     "text": [
      "tf.Tensor(\n",
      "[[[ 0.9610696  -0.99999905  1.          0.5132397   0.9260987\n",
      "    0.9999913  -0.97634965 -0.99999994  0.9763277   0.9984808\n",
      "   -0.8920915   0.78053343  0.40215164 -0.99336404  0.99999994\n",
      "    0.98032   ]]], shape=(1, 1, 16), dtype=float32)\n"
     ]
    }
   ],
   "source": [
    "# z와 PAD를 이용하여 첫번째 decoder 값을 획득해보세요.\n",
    "init = np.array([vocab[\"PAD\"]])\n",
    "first_pred, first_z  = decoder([init, z])\n",
    "\n",
    "print(first_z)"
   ]
  },
  {
   "cell_type": "code",
   "execution_count": 32,
   "metadata": {
    "colab": {
     "base_uri": "https://localhost:8080/"
    },
    "executionInfo": {
     "elapsed": 831,
     "status": "ok",
     "timestamp": 1621325723312,
     "user": {
      "displayName": "상혁",
      "photoUrl": "https://lh3.googleusercontent.com/a-/AOh14GhbIrRm98j_8TFO0cp-Q8R4GfLfDeQZml3g34kD=s64",
      "userId": "09602093014858836852"
     },
     "user_tz": -540
    },
    "id": "Ge2REV-Nixtl",
    "outputId": "fd5f7553-0e2b-4f6f-98d1-5eecf99dd57d"
   },
   "outputs": [
    {
     "name": "stdout",
     "output_type": "stream",
     "text": [
      "tf.Tensor(\n",
      "[[[3.0135897e-15 4.4720426e-02 9.5490009e-01 3.7814307e-04 6.8659475e-08\n",
      "   1.1372535e-11 4.2926090e-13 1.2806749e-10 3.7135997e-08 1.2154537e-06\n",
      "   3.0737878e-16 4.2861178e-22 8.7307181e-25 4.4107762e-26]]], shape=(1, 1, 14), dtype=float32)\n"
     ]
    }
   ],
   "source": [
    "print(first_pred)"
   ]
  },
  {
   "cell_type": "markdown",
   "metadata": {
    "id": "WFZcoocOuUGz"
   },
   "source": [
    "### 문제 21. first_pred에 값이 가장 큰 index를 이용하여 문자로 decoding 하세요."
   ]
  },
  {
   "cell_type": "code",
   "execution_count": 33,
   "metadata": {
    "colab": {
     "base_uri": "https://localhost:8080/"
    },
    "executionInfo": {
     "elapsed": 962,
     "status": "ok",
     "timestamp": 1621325832299,
     "user": {
      "displayName": "상혁",
      "photoUrl": "https://lh3.googleusercontent.com/a-/AOh14GhbIrRm98j_8TFO0cp-Q8R4GfLfDeQZml3g34kD=s64",
      "userId": "09602093014858836852"
     },
     "user_tz": -540
    },
    "id": "ah10xq-vudTi",
    "outputId": "d0600f62-f8a2-4a04-96e7-09d28e7cf30b"
   },
   "outputs": [
    {
     "name": "stdout",
     "output_type": "stream",
     "text": [
      "2\n"
     ]
    }
   ],
   "source": [
    "# first_pred에 값이 가장 큰 index를 이용하여 문자로 decoding 하세요.\n",
    "print(first_pred.numpy().argmax()) # 11 + 11 = 2???"
   ]
  },
  {
   "cell_type": "markdown",
   "metadata": {
    "id": "ZlWVzDUirkrQ"
   },
   "source": [
    "### 문제 22. first_z와 first_pred를 이용해서 second_pred를 획득하고 문자로 decoding 해보세요."
   ]
  },
  {
   "cell_type": "code",
   "execution_count": 34,
   "metadata": {
    "colab": {
     "base_uri": "https://localhost:8080/",
     "height": 35
    },
    "executionInfo": {
     "elapsed": 1109,
     "status": "ok",
     "timestamp": 1621326057016,
     "user": {
      "displayName": "상혁",
      "photoUrl": "https://lh3.googleusercontent.com/a-/AOh14GhbIrRm98j_8TFO0cp-Q8R4GfLfDeQZml3g34kD=s64",
      "userId": "09602093014858836852"
     },
     "user_tz": -540
    },
    "id": "bGy2_g97rwhK",
    "outputId": "c1259fa8-2fc1-46d3-89f6-3f166bf4ea2b"
   },
   "outputs": [
    {
     "data": {
      "text/plain": [
       "'2'"
      ]
     },
     "execution_count": 34,
     "metadata": {},
     "output_type": "execute_result"
    }
   ],
   "source": [
    "# first_z와 first_pred를 이용해서 second_pred를 획득하고 문자로 decoding 해보세요.\n",
    "second_pred, second_z = decoder([ np.array([first_pred.numpy().argmax()]), first_z[0] ])\n",
    "\n",
    "invocab[second_pred.numpy().argmax()]"
   ]
  },
  {
   "cell_type": "code",
   "execution_count": 35,
   "metadata": {
    "colab": {
     "base_uri": "https://localhost:8080/",
     "height": 35
    },
    "executionInfo": {
     "elapsed": 562,
     "status": "ok",
     "timestamp": 1621326173735,
     "user": {
      "displayName": "상혁",
      "photoUrl": "https://lh3.googleusercontent.com/a-/AOh14GhbIrRm98j_8TFO0cp-Q8R4GfLfDeQZml3g34kD=s64",
      "userId": "09602093014858836852"
     },
     "user_tz": -540
    },
    "id": "G5zrhmzlkP2M",
    "outputId": "19066a16-de96-4725-88be-13ae93d2ed99"
   },
   "outputs": [
    {
     "data": {
      "text/plain": [
       "'EOS'"
      ]
     },
     "execution_count": 35,
     "metadata": {},
     "output_type": "execute_result"
    }
   ],
   "source": [
    "third_pred, third_z = decoder([ np.array([second_pred.numpy().argmax()]), second_z[0] ])\n",
    "\n",
    "invocab[third_pred.numpy().argmax()]"
   ]
  },
  {
   "cell_type": "markdown",
   "metadata": {
    "id": "9iIJK2qsfevX"
   },
   "source": [
    "### 문제 23. 입력 text가 주어지면 bow로 바꾼뒤 pad가 나올 때까지 문자를 decoding하는 함수를 만드세요.\n"
   ]
  },
  {
   "cell_type": "code",
   "execution_count": 36,
   "metadata": {
    "executionInfo": {
     "elapsed": 1165,
     "status": "ok",
     "timestamp": 1621326498128,
     "user": {
      "displayName": "상혁",
      "photoUrl": "https://lh3.googleusercontent.com/a-/AOh14GhbIrRm98j_8TFO0cp-Q8R4GfLfDeQZml3g34kD=s64",
      "userId": "09602093014858836852"
     },
     "user_tz": -540
    },
    "id": "SV2A6JZBf7Ku"
   },
   "outputs": [],
   "source": [
    "# z와 pad가 주어지면 pad가 나올 때까지 문자를 decoding하는 함수를 만드세요.\n",
    "def decoding(text):\n",
    "    bow = plain2bow(text, vocab)\n",
    "    bow = tf.keras.preprocessing.sequence.pad_sequences(bow[np.newaxis, :],value= vocab['PAD'], maxlen = 6)\n",
    "\n",
    "    z = encoder(bow)\n",
    "    word_vec = np.array([vocab[\"PAD\"]])\n",
    "    res = []\n",
    "    while True:\n",
    "        word_vec, z = decoder([word_vec, z])\n",
    "        word = invocab[word_vec.numpy().argmax()]\n",
    "        if word in ['EOS', 'PAD'] : break\n",
    "        res.append(word)\n",
    "\n",
    "        word_vec = np.array([word_vec.numpy().argmax()])\n",
    "        z = z[0]\n",
    "    answer = ''.join(res)\n",
    "    print(f\"{text} = {answer}\")"
   ]
  },
  {
   "cell_type": "markdown",
   "metadata": {
    "id": "G70ccEAt6XL9"
   },
   "source": [
    "### 문제 24. decoding으로 몇가지 산술 연산을 테스트해보세요."
   ]
  },
  {
   "cell_type": "code",
   "execution_count": 37,
   "metadata": {
    "colab": {
     "base_uri": "https://localhost:8080/"
    },
    "executionInfo": {
     "elapsed": 1379,
     "status": "ok",
     "timestamp": 1621326535616,
     "user": {
      "displayName": "상혁",
      "photoUrl": "https://lh3.googleusercontent.com/a-/AOh14GhbIrRm98j_8TFO0cp-Q8R4GfLfDeQZml3g34kD=s64",
      "userId": "09602093014858836852"
     },
     "user_tz": -540
    },
    "id": "TNimTOWX6iEe",
    "outputId": "516dd7aa-e963-4a44-86ca-39b5f3eed32e"
   },
   "outputs": [
    {
     "name": "stdout",
     "output_type": "stream",
     "text": [
      "12 + 5 = 17\n"
     ]
    }
   ],
   "source": [
    "# decoding으로 몇가지 산술 연산을 테스트해보세요\n",
    "decoding(\"12 + 5\")"
   ]
  },
  {
   "cell_type": "markdown",
   "metadata": {
    "id": "gX8JH97njNNr"
   },
   "source": [
    "### 문제 25. 모델을 평가해보세요."
   ]
  },
  {
   "cell_type": "code",
   "execution_count": 38,
   "metadata": {
    "colab": {
     "base_uri": "https://localhost:8080/"
    },
    "executionInfo": {
     "elapsed": 622,
     "status": "ok",
     "timestamp": 1621326685441,
     "user": {
      "displayName": "상혁",
      "photoUrl": "https://lh3.googleusercontent.com/a-/AOh14GhbIrRm98j_8TFO0cp-Q8R4GfLfDeQZml3g34kD=s64",
      "userId": "09602093014858836852"
     },
     "user_tz": -540
    },
    "id": "bxRhMcaKk3Pa",
    "outputId": "c4573a6f-2672-4d59-fd80-36bf05720476"
   },
   "outputs": [
    {
     "name": "stdout",
     "output_type": "stream",
     "text": [
      "32/32 [==============================] - 0s 2ms/step - loss: 0.2563 - acc: 0.9128\n"
     ]
    },
    {
     "data": {
      "text/plain": [
       "[0.25634700059890747, 0.9127500057220459]"
      ]
     },
     "execution_count": 38,
     "metadata": {},
     "output_type": "execute_result"
    }
   ],
   "source": [
    "# 모델을 평가해보세요.\n",
    "model.evaluate([test_data_bow, test_shift_answer_bow], test_answer_onehot, verbose = 1)"
   ]
  },
  {
   "cell_type": "markdown",
   "metadata": {
    "id": "7FQT89oqrdkA"
   },
   "source": [
    "## Step 7. 모델 저장 및 로드, 다운"
   ]
  },
  {
   "cell_type": "markdown",
   "metadata": {
    "id": "c2GZFvCAzFNl"
   },
   "source": [
    "### 문제 26. 모델을 저장하세요."
   ]
  },
  {
   "cell_type": "code",
   "execution_count": 39,
   "metadata": {
    "executionInfo": {
     "elapsed": 655,
     "status": "ok",
     "timestamp": 1621326762485,
     "user": {
      "displayName": "상혁",
      "photoUrl": "https://lh3.googleusercontent.com/a-/AOh14GhbIrRm98j_8TFO0cp-Q8R4GfLfDeQZml3g34kD=s64",
      "userId": "09602093014858836852"
     },
     "user_tz": -540
    },
    "id": "YjuCVTNbriVJ"
   },
   "outputs": [
    {
     "name": "stdout",
     "output_type": "stream",
     "text": [
      "WARNING:tensorflow:Compiled the loaded model, but the compiled metrics have yet to be built. `model.compile_metrics` will be empty until you train or evaluate the model.\n",
      "WARNING:tensorflow:Compiled the loaded model, but the compiled metrics have yet to be built. `model.compile_metrics` will be empty until you train or evaluate the model.\n"
     ]
    }
   ],
   "source": [
    "# 모델을 저장하는 코드를 작성하세요.\n",
    "model.save('./lecture009.h5')\n",
    "encoder.save('./lecture009-encoder.h5')\n",
    "decoder.save('./lecture009-decoder.h5')"
   ]
  },
  {
   "cell_type": "markdown",
   "metadata": {
    "id": "Bj4P3DdzzhyC"
   },
   "source": [
    "### 문제 27. 모델 파일을 새로운 모델에 로드하세요."
   ]
  },
  {
   "cell_type": "code",
   "execution_count": 40,
   "metadata": {
    "executionInfo": {
     "elapsed": 1285,
     "status": "ok",
     "timestamp": 1621326783615,
     "user": {
      "displayName": "상혁",
      "photoUrl": "https://lh3.googleusercontent.com/a-/AOh14GhbIrRm98j_8TFO0cp-Q8R4GfLfDeQZml3g34kD=s64",
      "userId": "09602093014858836852"
     },
     "user_tz": -540
    },
    "id": "xuRAnBR8zY-X"
   },
   "outputs": [],
   "source": [
    "# 모델을 로드하는 코드를 작성하세요.\n",
    "new_model = tf.keras.models.load_model('./lecture009.h5')"
   ]
  },
  {
   "cell_type": "markdown",
   "metadata": {
    "id": "ta1I5ZEY1FBR"
   },
   "source": [
    "### 문제 28. 로드한 모델을 test 데이터로 평가해보세요.\n"
   ]
  },
  {
   "cell_type": "code",
   "execution_count": 41,
   "metadata": {
    "colab": {
     "base_uri": "https://localhost:8080/"
    },
    "executionInfo": {
     "elapsed": 1926,
     "status": "ok",
     "timestamp": 1621326820508,
     "user": {
      "displayName": "상혁",
      "photoUrl": "https://lh3.googleusercontent.com/a-/AOh14GhbIrRm98j_8TFO0cp-Q8R4GfLfDeQZml3g34kD=s64",
      "userId": "09602093014858836852"
     },
     "user_tz": -540
    },
    "id": "ALrVf_lm0_Bc",
    "outputId": "6125732d-ac93-4abe-c622-1c1a9b004a20"
   },
   "outputs": [
    {
     "name": "stdout",
     "output_type": "stream",
     "text": [
      "32/32 [==============================] - 0s 3ms/step - loss: 0.2563 - acc: 0.9128\n"
     ]
    },
    {
     "data": {
      "text/plain": [
       "[0.25634700059890747, 0.9127500057220459]"
      ]
     },
     "execution_count": 41,
     "metadata": {},
     "output_type": "execute_result"
    }
   ],
   "source": [
    "# 로드한 모델을 test 데이터로 평가해보세요.\n",
    "new_model.evaluate([test_data_bow, test_shift_answer_bow], test_answer_onehot, verbose=1)"
   ]
  },
  {
   "cell_type": "code",
   "execution_count": null,
   "metadata": {},
   "outputs": [],
   "source": []
  }
 ],
 "metadata": {
  "accelerator": "GPU",
  "colab": {
   "collapsed_sections": [],
   "name": "[실습]Part3_Ch01_시계열 분석 - 딥러닝으로 Seq2Seq 계산기 만들기.ipynb",
   "provenance": [
    {
     "file_id": "1yRY9f_TyYIZmW1di-2hKpLRsR2xsyYx_",
     "timestamp": 1611280639023
    },
    {
     "file_id": "1CWpkpSohxoJedXHyMrny8vJ0xIScMHlK",
     "timestamp": 1606023394954
    },
    {
     "file_id": "1OevQ5s8yBDddaUMZX1rfZZYrnTT52RAO",
     "timestamp": 1605956410768
    }
   ]
  },
  "kernelspec": {
   "display_name": "Python 3",
   "language": "python",
   "name": "python3"
  },
  "language_info": {
   "codemirror_mode": {
    "name": "ipython",
    "version": 3
   },
   "file_extension": ".py",
   "mimetype": "text/x-python",
   "name": "python",
   "nbconvert_exporter": "python",
   "pygments_lexer": "ipython3",
   "version": "3.9.5"
  }
 },
 "nbformat": 4,
 "nbformat_minor": 1
}
