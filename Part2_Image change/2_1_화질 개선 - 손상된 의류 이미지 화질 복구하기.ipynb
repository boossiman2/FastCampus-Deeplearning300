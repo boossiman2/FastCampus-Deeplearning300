{
 "cells": [
  {
   "cell_type": "markdown",
   "metadata": {
    "id": "oR0VJlz7mi5A"
   },
   "source": [
    "\n",
    "# 주제 : 화질 개선 - 손상된 의류 이미지 화질 복구하기\n",
    "--------------\n",
    "## 실습 가이드\n",
    "    1. 데이터를 다운로드하여 Colab에 불러옵니다.\n",
    "    2. 필요한 라이브러리는 모두 코드로 작성되어 있습니다.\n",
    "    3. 코드는 위에서부터 아래로 순서대로 실행합니다.\n",
    "    4. 전체 문제 구성은 좌측 첫 번째 아이콘을 통해 확인할 수 있습니다.\n",
    "\n",
    "## 데이터 소개\n",
    "     - 이번 주제의 데이터는 너무나 유명한 fashion MNIST 데이터를 사용합니다.\n",
    "  ![fashion mnist 이미지](https://rviews.rstudio.com/post/2019-10-31-a-comparison-of-methods-for-predicting-clothing-classes-using-the-fashion-mnist-dataset-in-rstudio-and-python-part-1/index_files/figure-html/unnamed-chunk-8-1.png)\n",
    "\n",
    "      위의 이미지는 다음과 같은 것을 보여줍니다.  \n",
    "      (a) 28x28의 배열에서 의류들이 어떻게 모사되는지   \n",
    "      (b) 각 셔츠, 바지, 풀오버, 드레스 등 다양한 의류 그림의 모습들\n",
    "\n",
    "\n",
    "- 데이터 출처: [fashionmnist](https://www.kaggle.com/zalando-research/fashionmnist)\n",
    "\n",
    "## 최종 목표\n",
    "\n",
    "    - noisy가 있는 fashion MNIST 이미지 원래대로 복원하기\n",
    "    - 흑백 이미지와 칼라 이미지의 차이\n",
    "    - 이미지에 Noisy를 추가하는 방법\n",
    "    - 이미지에 대한 오토인코더식 접근 방법\n",
    "\n",
    "- 출제자 : 손근영 강사\n",
    "---\n"
   ]
  },
  {
   "cell_type": "code",
   "execution_count": 1,
   "metadata": {
    "id": "e7kl3hgkikbo"
   },
   "outputs": [],
   "source": [
    "import tensorflow as tf\n",
    "from tensorflow import keras\n",
    "from keras.layers import Dense\n",
    "from keras.models import Sequential\n",
    "\n",
    "import pandas as pd\n",
    "import numpy as np\n",
    "import matplotlib.pyplot as plt\n",
    "import seaborn as sns\n",
    "import warnings \n",
    "from IPython.display import Image\n",
    "\n",
    "warnings.filterwarnings('ignore')\n",
    "%matplotlib inline\n",
    "\n",
    "SEED = 34"
   ]
  },
  {
   "cell_type": "markdown",
   "metadata": {
    "id": "c5uDUVunS1Yk"
   },
   "source": [
    "## Step 1. 도입전 기본 처리"
   ]
  },
  {
   "cell_type": "markdown",
   "metadata": {
    "id": "2Bgf6uZtoBob"
   },
   "source": [
    "### 문제 1. fashion mnist 데이터 살펴보기"
   ]
  },
  {
   "cell_type": "code",
   "execution_count": 2,
   "metadata": {
    "id": "l2NW5G5nTgsb"
   },
   "outputs": [
    {
     "name": "stdout",
     "output_type": "stream",
     "text": [
      "Downloading data from https://storage.googleapis.com/tensorflow/tf-keras-datasets/train-labels-idx1-ubyte.gz\n",
      "32768/29515 [=================================] - 0s 0us/step\n",
      "Downloading data from https://storage.googleapis.com/tensorflow/tf-keras-datasets/train-images-idx3-ubyte.gz\n",
      "26427392/26421880 [==============================] - 1s 0us/step\n",
      "Downloading data from https://storage.googleapis.com/tensorflow/tf-keras-datasets/t10k-labels-idx1-ubyte.gz\n",
      "8192/5148 [===============================================] - 0s 0s/step\n",
      "Downloading data from https://storage.googleapis.com/tensorflow/tf-keras-datasets/t10k-images-idx3-ubyte.gz\n",
      "4423680/4422102 [==============================] - 0s 0us/step\n"
     ]
    }
   ],
   "source": [
    "# 데이터를 불러오는 코드를 작성해주세요.\n",
    "fashion_mnist = keras.datasets.fashion_mnist\n",
    "(train_images, train_labels),(test_images, test_labels) = fashion_mnist.load_data()"
   ]
  },
  {
   "cell_type": "markdown",
   "metadata": {
    "id": "ko4D-BpJTq2r"
   },
   "source": [
    "### 문제 2. train_images/labels와 test_images/labes의 shape을 출력해보세요."
   ]
  },
  {
   "cell_type": "code",
   "execution_count": 3,
   "metadata": {
    "id": "waksbx9aT5tK"
   },
   "outputs": [
    {
     "name": "stdout",
     "output_type": "stream",
     "text": [
      "(60000, 28, 28) (60000,)\n",
      "(10000, 28, 28) (10000,)\n"
     ]
    }
   ],
   "source": [
    "# 데이터의 크기를 shape 함수를 통해 출력해주세요.\n",
    "print(train_images.shape, train_labels.shape)\n",
    "print(test_images.shape, test_labels.shape)"
   ]
  },
  {
   "cell_type": "markdown",
   "metadata": {
    "id": "hrmQ7HzEUKrz"
   },
   "source": [
    "### 문제 3. (28, 28) 형태의 이미지를 plt을 이용하여 출력해보세요."
   ]
  },
  {
   "cell_type": "code",
   "execution_count": 5,
   "metadata": {
    "id": "fVzGHMSYUUKk"
   },
   "outputs": [
    {
     "data": {
      "image/png": "[encoded data removed]",
      "text/plain": [
       "<Figure size 432x288 with 1 Axes>"
      ]
     },
     "metadata": {
      "needs_background": "light"
     },
     "output_type": "display_data"
    }
   ],
   "source": [
    "# 28x28의 흑백 이미지를 plt를 이용하여 출력하는 코드를 작성해보세요\n",
    "plt.imshow(train_images[0], cmap='gray')\n",
    "plt.show()"
   ]
  },
  {
   "cell_type": "markdown",
   "metadata": {
    "id": "vDLHexaGUs17"
   },
   "source": [
    "### 문제 4. train_images에서 0이 아닌 값들을 출력해보세요."
   ]
  },
  {
   "cell_type": "code",
   "execution_count": 6,
   "metadata": {
    "id": "1NYdCv1yUsKG"
   },
   "outputs": [
    {
     "name": "stdout",
     "output_type": "stream",
     "text": [
      "[  1  13  73   1   4   1   1   3  36 136]\n"
     ]
    }
   ],
   "source": [
    "# 하나의 이미지에 대한 모든 0이 아닌 값을 출력하는 코드를 작성하세요\n",
    "print(train_images[train_images != 0][:10])"
   ]
  },
  {
   "cell_type": "markdown",
   "metadata": {
    "id": "CZOhbFOFU_jr"
   },
   "source": [
    "### 문제 5. train_images의 dtype을 출력해보세요."
   ]
  },
  {
   "cell_type": "code",
   "execution_count": 7,
   "metadata": {
    "id": "nVc4kjgAVNl7"
   },
   "outputs": [
    {
     "name": "stdout",
     "output_type": "stream",
     "text": [
      "uint8\n"
     ]
    }
   ],
   "source": [
    "# dtype을 이용하여 이미지의 np array type을 확인해보세요.\n",
    "print(train_images.dtype)\n",
    "#0 T-shirt/top\n",
    "#1 Trouser/pants\n",
    "#2 Pullover shirt\n",
    "#3 Dress\n",
    "#4 Coat\n",
    "#5 Sandal\n",
    "#6 Shirt\n",
    "#7 Sneaker\n",
    "#8 Bag\n",
    "#9 Ankle boot"
   ]
  },
  {
   "cell_type": "markdown",
   "metadata": {
    "id": "eKv9UoZAxTr6"
   },
   "source": [
    "## Step 2. 전처리"
   ]
  },
  {
   "cell_type": "markdown",
   "metadata": {
    "id": "UTXpP1Imyaad"
   },
   "source": [
    "### 문제 6. train/test 이미지 데이터의 범위 확인"
   ]
  },
  {
   "cell_type": "code",
   "execution_count": null,
   "metadata": {
    "id": "Ji6XLxvRy5eJ"
   },
   "outputs": [],
   "source": [
    "# test_images의 shape과 dtype, 0이 아닌 숫자를 출력하는 코드를 작성하세요."
   ]
  },
  {
   "cell_type": "markdown",
   "metadata": {
    "id": "7OpFGbD6V8Zl"
   },
   "source": [
    "### 문제 7. train/test 이미지 데이터의 최소/최대값을 출력"
   ]
  },
  {
   "cell_type": "code",
   "execution_count": null,
   "metadata": {
    "id": "sFOJNRTvYo7d"
   },
   "outputs": [],
   "source": [
    "# train/test 전체 데이터에서 각 images, labels의 min, max를 출력하는 코드를 작성하세요."
   ]
  },
  {
   "cell_type": "markdown",
   "metadata": {
    "id": "W_xsByHegZhh"
   },
   "source": [
    "### 문제 8. 정수형을 실수형으로 변경 후 dtype으로 비교"
   ]
  },
  {
   "cell_type": "code",
   "execution_count": null,
   "metadata": {
    "id": "Y88qmAVChg_Z"
   },
   "outputs": [],
   "source": [
    "# train/test 데이터의 타입을 dtype으로 확인해보고 실수형으로 전환하는 코드를 작성하세요."
   ]
  },
  {
   "cell_type": "markdown",
   "metadata": {
    "id": "9iIJK2qsfevX"
   },
   "source": [
    "### 문제 9. 데이터 0-1 노말라이즈 수행\n"
   ]
  },
  {
   "cell_type": "markdown",
   "metadata": {
    "id": "L0f__zuBfotM"
   },
   "source": [
    "#### 힌트\n",
    "\n",
    "일반적으로 0-1사의의 값을 가지게 하기 위해서는 다음 수식을 사용합니다.\n",
    "\n",
    "$$normalize(x) = \\frac{x - 최소값}{최대값 - 최소값}$$\n",
    "\n",
    "이 경우 최소값이 0이기 떄문에 다음과 같이 간편하게 구할 수 있습니다.\n",
    "\n",
    "$$normalize(x) = \\frac{x}{최대값}$$"
   ]
  },
  {
   "cell_type": "code",
   "execution_count": null,
   "metadata": {
    "id": "SV2A6JZBf7Ku"
   },
   "outputs": [],
   "source": [
    "# images의 값이 0-1사이의 값을 같도록 코드를 작성해보세요."
   ]
  },
  {
   "cell_type": "markdown",
   "metadata": {
    "id": "8QqqdPzDiC3F"
   },
   "source": [
    "### 문제 10. 0-1 노말라이즈 후 데이터의 값이 변경되었는지 문제 6, 7의 방법을 이용하여 확인하세요."
   ]
  },
  {
   "cell_type": "code",
   "execution_count": null,
   "metadata": {
    "id": "t-ZKXRKO2rBE"
   },
   "outputs": [],
   "source": [
    "# 노말라이즈 후 min/max, shape, 0이 아닌 값, dtype 등을 확인하는 코드를 작성해보세요. "
   ]
  },
  {
   "cell_type": "markdown",
   "metadata": {
    "id": "Pu5zWPW1GJPe"
   },
   "source": [
    "### 문제 11. 흑백 이미지를 칼라 이미지의 shape으로 변경하세요."
   ]
  },
  {
   "cell_type": "code",
   "execution_count": null,
   "metadata": {
    "id": "vv8b7LZGGdxi"
   },
   "outputs": [],
   "source": [
    "# (배치, 28, 28)의 흑백 shape을 (배치, 28, 28, 3)의 칼라 shape의 영역으로 확대하는 코드를 추가하세요."
   ]
  },
  {
   "cell_type": "markdown",
   "metadata": {
    "id": "SMyUArry3UhT"
   },
   "source": [
    "## Step 3. 시각화 방법"
   ]
  },
  {
   "cell_type": "markdown",
   "metadata": {
    "id": "UFga-Bbo6L0E"
   },
   "source": [
    "### 문제 12. train_image의 이미지를 5장 획득하여 (5, 28, 28, 3)의 shape을 출력하세요."
   ]
  },
  {
   "cell_type": "code",
   "execution_count": null,
   "metadata": {
    "id": "cLaqqwz4i_7D"
   },
   "outputs": [],
   "source": [
    "# (60000, 28, 28, 3)인 train_images에서 (5, 28, 28, 3)을 획득하는 코드를 작성하세요."
   ]
  },
  {
   "cell_type": "markdown",
   "metadata": {
    "id": "gX8JH97njNNr"
   },
   "source": [
    "### 문제 13. 획득한 5장의 의미지를 (28, 28 * 5, 3)의 shape으로 변경해보세요."
   ]
  },
  {
   "cell_type": "code",
   "execution_count": null,
   "metadata": {
    "id": "bxRhMcaKk3Pa"
   },
   "outputs": [],
   "source": [
    "# np.hstack은 height 방향의 배열을 풀어서 width 방향으로 연결해줍니다.\n",
    "# 해당 기능을 쓰면 (height, image_height, image_width, color)의 shape을 (image_height, image_width * height, color)으로 바꿔 줄 수 있습니다.\n",
    "# 코드를 작성해보세요. (정답)"
   ]
  },
  {
   "cell_type": "markdown",
   "metadata": {
    "id": "xqyaO-5bk-sj"
   },
   "source": [
    "### 문제 14. np.hstack은 tensorflow에서 제공하는 방법이 아니므로 transpose 함수를 이용하여 (28, 28 * 5, 3)로 shape을 변경해보세요."
   ]
  },
  {
   "cell_type": "code",
   "execution_count": null,
   "metadata": {
    "id": "SqmKdjlGlqLJ"
   },
   "outputs": [],
   "source": [
    "# transpose는 tensor의 axis를 섞는 기능을 합니다.\n",
    "# 해당 기능을 이용해서 (28, 140)을 작성하는 코드를 작성해보세요."
   ]
  },
  {
   "cell_type": "markdown",
   "metadata": {
    "id": "T0oaToP6l0Pd"
   },
   "source": [
    "### 문제 15. (28, 140, 3)이 된 tensor를 plt로 출력해보세요."
   ]
  },
  {
   "cell_type": "code",
   "execution_count": null,
   "metadata": {
    "id": "ToUpk3oBmIr1"
   },
   "outputs": [],
   "source": [
    "# (28, 140, 3)의 이미지를 plt로 출력해보세요."
   ]
  },
  {
   "cell_type": "markdown",
   "metadata": {
    "id": "Kz3kWteP8Kap"
   },
   "source": [
    "## Step 4. Data augmentation - Noise 추가 방법"
   ]
  },
  {
   "cell_type": "markdown",
   "metadata": {
    "id": "fesKKJqio--a"
   },
   "source": [
    "### 문제 16. np.random.random 함수를 이용하여 0-1 사이의 랜덤값을 3회 print로 출력해보시오."
   ]
  },
  {
   "cell_type": "code",
   "execution_count": null,
   "metadata": {
    "id": "Jsmh1keWpODx"
   },
   "outputs": [],
   "source": [
    "# np.random.ranodm을 이용해서 0-1 사의의 랜덤값을 3회 출력하는 코드를 작성하시오."
   ]
  },
  {
   "cell_type": "markdown",
   "metadata": {
    "id": "_1NMpB6LqIB5"
   },
   "source": [
    "### 문제 17. np.random.random 함수와 shape 파라매터를 (28, 28, 3)의 칼라 랜덤 노이즈를 생성해보세요."
   ]
  },
  {
   "cell_type": "code",
   "execution_count": null,
   "metadata": {
    "id": "U9-NlbEhqhCx"
   },
   "outputs": [],
   "source": [
    "# np.random.randpm 함수와 shape 파라매터를 이용하여 (28, 28, 3)의 랜덤 노이즈를 생성하는 코드를 작성하시오."
   ]
  },
  {
   "cell_type": "markdown",
   "metadata": {
    "id": "JLSYLZr0qvGI"
   },
   "source": [
    "### 문제 18. 생성된 random (28, 28, 3) 노이즈를 plt를 통하여 확인해보세요."
   ]
  },
  {
   "cell_type": "code",
   "execution_count": null,
   "metadata": {
    "id": "EsgmHRFSrDX4"
   },
   "outputs": [],
   "source": [
    "# plt를 통하여 random (28, 28, 3) 노이즈를 2회 출력하는 코드를 작성하시고, 이미지가 다른지 확인하세요."
   ]
  },
  {
   "cell_type": "markdown",
   "metadata": {
    "id": "nWy8FKR1AYJU"
   },
   "source": [
    "### 문제 19. 가우시안 노이즈 함수를 사용하여 평균 0, 표준편차 0.1, 사이즈 1로 랜덤 값을 3번 출력하세요. (np.random.normal)"
   ]
  },
  {
   "cell_type": "code",
   "execution_count": null,
   "metadata": {
    "id": "ENpSWYu_stHp"
   },
   "outputs": [],
   "source": [
    "# 가우시안 노이즈 함수를 이용하여 mu 0.1 std 0.1 size 1인 랜덤값을 3번 출력하는 코드를 작성하세요."
   ]
  },
  {
   "cell_type": "markdown",
   "metadata": {
    "id": "OQPItJ4zBWTt"
   },
   "source": [
    "### 문제 20. 가우시안 노이즈 함수의 옵션을 문제 17과 동일하지만 평균이 3.0인 경우, 표준 편차가 0.01인 경우로 각각 3회씩 출력해보세요."
   ]
  },
  {
   "cell_type": "code",
   "execution_count": null,
   "metadata": {
    "id": "CuvUg3SmtRrx"
   },
   "outputs": [],
   "source": [
    "# 가우시안 노이즈 함수 mu = 3.0, std = 0.1, size = 1을 3 회 출력, mu = 0.0, std = 0.01, size = 1을 3회 출력하는 코드를 작성해보세요."
   ]
  },
  {
   "cell_type": "markdown",
   "metadata": {
    "id": "ef1qyJ8HtZfu"
   },
   "source": [
    "### 문제 21. 가우시안 노이즈 함수를 size를 (28, 28, 3)로 생성 후 plt로 출력해보세요. 범위는 0-1의 사이로 고정해야합니다."
   ]
  },
  {
   "cell_type": "code",
   "execution_count": null,
   "metadata": {
    "id": "kh_v1QZYt0kJ"
   },
   "outputs": [],
   "source": [
    "# 가우시안 노이즈 함수를 문제 17의 옵션으로 size를 (28, 28, 3)로 생성 후 plt로 출력하는 코드를 작성해보세요. 단, std = 0.01"
   ]
  },
  {
   "cell_type": "markdown",
   "metadata": {
    "id": "MUdBACZuCDfA"
   },
   "source": [
    "### 문제 22. train_images의 5번째 이미지와 가우시안 노이즈 (28, 28, 3)를 생성 한 뒤 각각 tensor를 더한 뒤 noisy_image 변수에 할당 해보세요."
   ]
  },
  {
   "cell_type": "code",
   "execution_count": null,
   "metadata": {
    "id": "pWia41PbumMX"
   },
   "outputs": [],
   "source": [
    "# train_images[5]와 가우시안 노이즈 (28, 28, 3)을 더한 뒤 noisy_image 변수에 할당하는 코드를 작성하세요. mu = 0.5, std = 0.05"
   ]
  },
  {
   "cell_type": "markdown",
   "metadata": {
    "id": "WsA0v_tNuv7Z"
   },
   "source": [
    "### 문제 23. noisy_image를 plt를 통해서 출력해보세요."
   ]
  },
  {
   "cell_type": "code",
   "execution_count": null,
   "metadata": {
    "id": "SMLTjkltv4g3"
   },
   "outputs": [],
   "source": [
    "# noisy_image를 plt로 출력하는 코드를 작성해보세요."
   ]
  },
  {
   "cell_type": "markdown",
   "metadata": {
    "id": "-ZGNiCnuxQTO"
   },
   "source": [
    "### 문제 24. 위의 방법을 전부 활용하여 train_images와 test_images 데이터에 랜덤 노이즈를 추가한 train_noisy_images와 test_noisy_images를 생성해보세요."
   ]
  },
  {
   "cell_type": "code",
   "execution_count": null,
   "metadata": {
    "id": "c7292i2CMFCz"
   },
   "outputs": [],
   "source": [
    "# train_noisy_image와 test_nosiy_images를 생성하는 코드를 작성하세요."
   ]
  },
  {
   "cell_type": "markdown",
   "metadata": {
    "id": "O3AC9vjYN5xL"
   },
   "source": [
    "### 문제 25. 노이즈가 추가된 train_noisy_images에서 5장을 plt으로 출력해보세요."
   ]
  },
  {
   "cell_type": "code",
   "execution_count": null,
   "metadata": {
    "id": "_0JMOVKhOFOi"
   },
   "outputs": [],
   "source": [
    "# 노이즈가 추가된 train_noisy_images에서 5장을 plt으로 출력하는 코드를 작성하세요."
   ]
  },
  {
   "cell_type": "markdown",
   "metadata": {
    "id": "z67dTPu0xJSu"
   },
   "source": [
    "## Step 5. 모델링"
   ]
  },
  {
   "cell_type": "markdown",
   "metadata": {
    "id": "20iJHg2gXrC2"
   },
   "source": [
    "### 문제 26. 해당 학습셋을 처리하는 이미지 디노이징 모델을 작성하세요."
   ]
  },
  {
   "cell_type": "code",
   "execution_count": null,
   "metadata": {
    "id": "1Q1XtFoxX0eN"
   },
   "outputs": [],
   "source": [
    "# input (28, 28, 3), output (28, 28, 3)을 처리할 수 있는 모래시계 모양의 모델을 작성하세요."
   ]
  },
  {
   "cell_type": "markdown",
   "metadata": {
    "id": "svYCsKxOyJzt"
   },
   "source": [
    "### 문제 27. 모델 요약 정보를 출력해보세요."
   ]
  },
  {
   "cell_type": "code",
   "execution_count": null,
   "metadata": {
    "id": "d4qnTxHpyN37"
   },
   "outputs": [],
   "source": [
    "# 모델 요약 정보를 출력해보세요."
   ]
  },
  {
   "cell_type": "markdown",
   "metadata": {
    "id": "PkOrDR1yam4a"
   },
   "source": [
    "### 문제 28. 만든 모델에 로스와 옵티마이저, 메트릭을 설정하세요."
   ]
  },
  {
   "cell_type": "code",
   "execution_count": null,
   "metadata": {
    "id": "nufi0CMyazsF"
   },
   "outputs": [],
   "source": [
    "# 만든 모델에 loss는 mse, optimizer는 adam 매트릭은 accuracy으로 설정하는 코드를 작성하세요."
   ]
  },
  {
   "cell_type": "markdown",
   "metadata": {
    "id": "IZRqZC50ZoaE"
   },
   "source": [
    "### 문제 29. 만든 모델에 train_noisy_images를 학습시켜 보세요."
   ]
  },
  {
   "cell_type": "code",
   "execution_count": null,
   "metadata": {
    "id": "PtpJp3fmaRuA"
   },
   "outputs": [],
   "source": [
    "# train_noisy_images를 학습시키고 5 epochs을 돌리고 그 진행 사항을 hist에 저장하는 코드를 작성하세요"
   ]
  },
  {
   "cell_type": "markdown",
   "metadata": {
    "id": "hU3-Lm7Ma_97"
   },
   "source": [
    "### 문제 30. 학습 진행 사항을 plt으로 출력하세요."
   ]
  },
  {
   "cell_type": "code",
   "execution_count": null,
   "metadata": {
    "id": "B6pKz5o3bPIT"
   },
   "outputs": [],
   "source": [
    "# hist의 accuracy plt의 plot을 이용하여 출력하는 코드를 작성하세요."
   ]
  },
  {
   "cell_type": "markdown",
   "metadata": {
    "id": "bfxPsEKTrKBq"
   },
   "source": [
    "## Step 6. 결과 확인"
   ]
  },
  {
   "cell_type": "markdown",
   "metadata": {
    "id": "J6nvDS4yOSCD"
   },
   "source": [
    "### 문제 31. 완성된 모델에서 test_noisy_image를 1장 넣고 결과를 res 변수에 저정하세요."
   ]
  },
  {
   "cell_type": "code",
   "execution_count": null,
   "metadata": {
    "id": "uKFAu5z4QRjR"
   },
   "outputs": [],
   "source": [
    "# 모델에 test_noisy_images 중 1장을 넣고 결과를 받는 코드를 작성하세요."
   ]
  },
  {
   "cell_type": "markdown",
   "metadata": {
    "id": "KMHHUTQfQcU0"
   },
   "source": [
    "### 문제 32. res와 test_noisy_images[0], test_images[0]를 width 방향으로 결합하여 plt로 출력하세요."
   ]
  },
  {
   "cell_type": "code",
   "execution_count": null,
   "metadata": {
    "id": "L0t-FO9qRfoK"
   },
   "outputs": [],
   "source": [
    "# res와 test_noisy_images[0], test_images[0]를 width 방향으로 결합하여 (28, 28 * 3, 3) 의 이미지를 만들어 plt로 출력하는 코드를 작성하세요."
   ]
  },
  {
   "cell_type": "markdown",
   "metadata": {
    "id": "pKj9nU4kSIJJ"
   },
   "source": [
    "### 문제 33. 5장의 test_noisy_images를 모델에 넣은 뒤 결과를 31번의 방식으로 비교하세요."
   ]
  },
  {
   "cell_type": "code",
   "execution_count": null,
   "metadata": {
    "id": "u8aIlyMnRioF"
   },
   "outputs": [],
   "source": [
    "# 5장의 이미지를 모델에 넣고 결과를 31번과 같은 방식으로 비교하는 코드를 작성하세요"
   ]
  },
  {
   "cell_type": "markdown",
   "metadata": {
    "id": "YrMEsa5oDvfm"
   },
   "source": [
    "## Step 7. 모델 저장 및 로드, 다운"
   ]
  },
  {
   "cell_type": "markdown",
   "metadata": {
    "id": "c2GZFvCAzFNl"
   },
   "source": [
    "### 문제 34. 모델을 저장하세요."
   ]
  },
  {
   "cell_type": "code",
   "execution_count": null,
   "metadata": {
    "id": "YjuCVTNbriVJ"
   },
   "outputs": [],
   "source": [
    "# 모델을 저장하는 코드를 작성하세요."
   ]
  },
  {
   "cell_type": "markdown",
   "metadata": {
    "id": "Bj4P3DdzzhyC"
   },
   "source": [
    "### 문제 35. 모델 파일을 새로운 모델에 로드하세요."
   ]
  },
  {
   "cell_type": "code",
   "execution_count": null,
   "metadata": {
    "id": "xuRAnBR8zY-X"
   },
   "outputs": [],
   "source": [
    "# 모델을 로드하는 코드를 작성하세요."
   ]
  },
  {
   "cell_type": "markdown",
   "metadata": {
    "id": "ta1I5ZEY1FBR"
   },
   "source": [
    "### 문제 36. 로드한 모델을 test 데이터로 평가해보세요.\n"
   ]
  },
  {
   "cell_type": "code",
   "execution_count": null,
   "metadata": {
    "id": "ALrVf_lm0_Bc"
   },
   "outputs": [],
   "source": [
    "# 로드한 모델을 test 데이터로 평가해보세요."
   ]
  },
  {
   "cell_type": "markdown",
   "metadata": {
    "id": "gfEgY1Vr1T1v"
   },
   "source": [
    "### 문제 37. 모델을 내 컴퓨터에 저장해보세요"
   ]
  },
  {
   "cell_type": "code",
   "execution_count": null,
   "metadata": {
    "id": "ASkJv_Ui1RGv"
   },
   "outputs": [],
   "source": [
    "# 모델을 내 컴퓨터에 저장해보세요."
   ]
  },
  {
   "cell_type": "code",
   "execution_count": null,
   "metadata": {
    "id": "yIfaOqbJQ__X"
   },
   "outputs": [],
   "source": []
  }
 ],
 "metadata": {
  "colab": {
   "authorship_tag": "ABX9TyPF9VBvqmueOudp4tSNxucA",
   "collapsed_sections": [],
   "name": "[실습]Part2_Ch01_화질 개선 - 손상된 의류 이미지 화질 복구하기",
   "provenance": [
    {
     "file_id": "1OevQ5s8yBDddaUMZX1rfZZYrnTT52RAO",
     "timestamp": 1606910315105
    }
   ],
   "toc_visible": true
  },
  "kernelspec": {
   "display_name": "Python 3",
   "language": "python",
   "name": "python3"
  },
  "language_info": {
   "codemirror_mode": {
    "name": "ipython",
    "version": 3
   },
   "file_extension": ".py",
   "mimetype": "text/x-python",
   "name": "python",
   "nbconvert_exporter": "python",
   "pygments_lexer": "ipython3",
   "version": "3.9.5"
  }
 },
 "nbformat": 4,
 "nbformat_minor": 1
}
